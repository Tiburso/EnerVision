{
 "cells": [
  {
   "cell_type": "code",
   "execution_count": 1,
   "metadata": {},
   "outputs": [],
   "source": [
    "from shapely.geometry import Polygon\n",
    "import pandas as pd\n",
    "\n",
    "# Import imageloader\n",
    "import rasterio\n",
    "import cv2\n",
    "\n",
    "import matplotlib.pyplot as plt\n",
    "import numpy as np\n",
    "\n",
    "from ipywidgets import interact, interactive, fixed, interact_manual\n",
    "\n",
    "import os\n",
    "\n",
    "%matplotlib inline\n",
    "%reload_ext autoreload"
   ]
  },
  {
   "cell_type": "markdown",
   "metadata": {},
   "source": [
    "## Read the dataset"
   ]
  },
  {
   "cell_type": "code",
   "execution_count": 3,
   "metadata": {},
   "outputs": [
    {
     "ename": "ImportError",
     "evalue": "cannot import name 'polygon_to_bounding_box' from 'image_helpers' (/home/manuel/TuE/InterdisciplinaryProject/image_helpers.py)",
     "output_type": "error",
     "traceback": [
      "\u001b[0;31m---------------------------------------------------------------------------\u001b[0m",
      "\u001b[0;31mImportError\u001b[0m                               Traceback (most recent call last)",
      "Cell \u001b[0;32mIn[3], line 1\u001b[0m\n\u001b[0;32m----> 1\u001b[0m \u001b[38;5;28;01mfrom\u001b[39;00m \u001b[38;5;21;01mdataloaders\u001b[39;00m\u001b[38;5;21;01m.\u001b[39;00m\u001b[38;5;21;01mgermany_dataset\u001b[39;00m \u001b[38;5;28;01mimport\u001b[39;00m load_image_and_labels\n\u001b[1;32m      2\u001b[0m \u001b[38;5;28;01mfrom\u001b[39;00m \u001b[38;5;21;01mimage_helpers\u001b[39;00m \u001b[38;5;28;01mimport\u001b[39;00m polygons_to_bounding_box, polygons_to_mask\n",
      "File \u001b[0;32m~/TuE/InterdisciplinaryProject/dataloaders/germany_dataset.py:8\u001b[0m\n\u001b[1;32m      5\u001b[0m \u001b[38;5;28;01mfrom\u001b[39;00m \u001b[38;5;21;01mshapely\u001b[39;00m\u001b[38;5;21;01m.\u001b[39;00m\u001b[38;5;21;01mgeometry\u001b[39;00m \u001b[38;5;28;01mimport\u001b[39;00m Polygon\n\u001b[1;32m      6\u001b[0m \u001b[38;5;28;01mfrom\u001b[39;00m \u001b[38;5;21;01mtorch\u001b[39;00m\u001b[38;5;21;01m.\u001b[39;00m\u001b[38;5;21;01mutils\u001b[39;00m\u001b[38;5;21;01m.\u001b[39;00m\u001b[38;5;21;01mdata\u001b[39;00m \u001b[38;5;28;01mimport\u001b[39;00m Dataset\n\u001b[0;32m----> 8\u001b[0m \u001b[38;5;28;01mfrom\u001b[39;00m \u001b[38;5;21;01mimage_helpers\u001b[39;00m \u001b[38;5;28;01mimport\u001b[39;00m polygons_to_mask, polygon_to_bounding_box\n\u001b[1;32m     11\u001b[0m \u001b[38;5;28;01mdef\u001b[39;00m \u001b[38;5;21mload_image_and_labels\u001b[39m(file):\n\u001b[1;32m     12\u001b[0m     labels \u001b[38;5;241m=\u001b[39m pd\u001b[38;5;241m.\u001b[39mread_csv(\u001b[38;5;124m\"\u001b[39m\u001b[38;5;124mgermany_dataset/labels/\u001b[39m\u001b[38;5;124m\"\u001b[39m \u001b[38;5;241m+\u001b[39m file, sep\u001b[38;5;241m=\u001b[39m\u001b[38;5;124m\"\u001b[39m\u001b[38;5;124m \u001b[39m\u001b[38;5;124m\"\u001b[39m, header\u001b[38;5;241m=\u001b[39m\u001b[38;5;28;01mNone\u001b[39;00m)\n",
      "\u001b[0;31mImportError\u001b[0m: cannot import name 'polygon_to_bounding_box' from 'image_helpers' (/home/manuel/TuE/InterdisciplinaryProject/image_helpers.py)"
     ]
    }
   ],
   "source": [
    "from dataloaders.germany_dataset import load_image_and_labels\n",
    "from image_helpers import polygons_to_bounding_boxes, polygons_to_mask"
   ]
  },
  {
   "cell_type": "code",
   "execution_count": null,
   "metadata": {},
   "outputs": [],
   "source": [
    "file = os.listdir('germany_dataset/labels')[0]\n",
    "image, polygons = load_image_and_labels(file)\n",
    "\n",
    "# Plot the image with the polygons drawn in\n",
    "def plot_image_and_labels(image, polygons):\n",
    "    # Convert the image to a numpy array\n",
    "    image = np.array(image)\n",
    "\n",
    "    for polygon in polygons:\n",
    "        x, y = polygon.exterior.xy\n",
    "        plt.plot(x, y, c='r')\n",
    "        \n",
    "    # Plot the image\n",
    "    plt.imshow(image)\n",
    "    plt.show()\n",
    "    \n",
    "plot_image_and_labels(image, polygons)"
   ]
  },
  {
   "cell_type": "code",
   "execution_count": null,
   "metadata": {},
   "outputs": [],
   "source": [
    "# Plot the mask and the images in the same plot\n",
    "mask = polygons_to_mask(polygons)\n",
    "bounding_boxes = polygons_to_bounding_boxes(polygons)\n",
    "\n",
    "def plot_image_and_mask(image, mask):\n",
    "    \n",
    "    # Convert the image to a numpy array\n",
    "    image = np.array(image)\n",
    "\n",
    "    plt.imshow(image)\n",
    "    plt.imshow(mask, alpha=0.5)\n",
    "    \n",
    "    plt.show()\n",
    "    \n",
    "plot_image_and_mask(image, mask)"
   ]
  },
  {
   "cell_type": "markdown",
   "metadata": {},
   "source": [
    "### Load the dataset"
   ]
  },
  {
   "cell_type": "code",
   "execution_count": null,
   "metadata": {},
   "outputs": [],
   "source": [
    "import torch\n",
    "from torch.utils.data import DataLoader\n",
    "from sklearn.model_selection import train_test_split\n",
    "from dataloaders.germany_dataset import GermanyDataset"
   ]
  },
  {
   "cell_type": "code",
   "execution_count": null,
   "metadata": {},
   "outputs": [],
   "source": [
    "# From the dataset, create a train and test set\n",
    "dataset = os.listdir('germany_dataset/labels')\n",
    "\n",
    "train, test = train_test_split(dataset, test_size=0.2)\n",
    "\n",
    "train_dataset = GermanyDataset(train)\n",
    "test_dataset = GermanyDataset(test)\n",
    "\n",
    "train_loader = DataLoader(train_dataset, batch_size=1, shuffle=True)\n",
    "test_loader = DataLoader(test_dataset, batch_size=1, shuffle=False)"
   ]
  },
  {
   "cell_type": "markdown",
   "metadata": {},
   "source": [
    "### Train the model"
   ]
  },
  {
   "cell_type": "code",
   "execution_count": null,
   "metadata": {},
   "outputs": [],
   "source": [
    "import pytorch_lightning as pl\n",
    "from models.base import BaseModel\n",
    "from models.architectures.deep_lab import DeepLabModel\n",
    "from models.architectures.mask_rcnn import MaskRCNNModel\n",
    "from models.architectures.unet import UNetModel"
   ]
  },
  {
   "cell_type": "code",
   "execution_count": null,
   "metadata": {},
   "outputs": [],
   "source": [
    "# model = DeepLabModel(input_size=832, num_classes=2)\n",
    "# model = UNetModel(n_channels=3, n_classes=2)\n",
    "\n",
    "model = MaskRCNNModel(num_classes=2)\n",
    "\n",
    "loss_fn = torch.nn.CrossEntropyLoss()\n",
    "optimizer = torch.optim.Adam(model.parameters(), lr=0.001)\n",
    "\n",
    "base_model = BaseModel(model, loss_fn, optimizer)\n",
    "trainer = pl.Trainer(max_epochs=10, min_epochs=5)"
   ]
  },
  {
   "cell_type": "code",
   "execution_count": null,
   "metadata": {},
   "outputs": [],
   "source": [
    "for image, label in train_loader:\n",
    "    # Print the size of the image and label\n",
    "    print(image.size(), label.size())  \n",
    "    break"
   ]
  },
  {
   "cell_type": "code",
   "execution_count": null,
   "metadata": {},
   "outputs": [],
   "source": [
    "# trainer.fit(base_model, train_loader, )"
   ]
  },
  {
   "cell_type": "code",
   "execution_count": null,
   "metadata": {},
   "outputs": [],
   "source": [
    "# Estimate the model on the test set\n",
    "model.eval()\n",
    "with torch.no_grad():\n",
    "    for image, label in test_loader:\n",
    "        print(image.size(), label.size())\n",
    "        \n",
    "        output = model(image)\n",
    "                \n",
    "        # Convert the output to a polygon\n",
    "        polygons = mask_to_polygons(output.numpy())\n",
    "        \n",
    "        # Plot the image and the polygons\n",
    "        plot_image_and_labels(file)\n",
    "        \n",
    "        break\n",
    "        "
   ]
  }
 ],
 "metadata": {
  "kernelspec": {
   "display_name": ".venv",
   "language": "python",
   "name": "python3"
  },
  "language_info": {
   "codemirror_mode": {
    "name": "ipython",
    "version": 3
   },
   "file_extension": ".py",
   "mimetype": "text/x-python",
   "name": "python",
   "nbconvert_exporter": "python",
   "pygments_lexer": "ipython3",
   "version": "3.11.8"
  }
 },
 "nbformat": 4,
 "nbformat_minor": 2
}
