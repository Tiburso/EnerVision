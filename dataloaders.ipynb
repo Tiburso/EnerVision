{
 "cells": [
  {
   "cell_type": "code",
   "execution_count": null,
   "metadata": {},
   "outputs": [],
   "source": [
    "from shapely.geometry import Polygon\n",
    "import pandas as pd\n",
    "\n",
    "# Import imageloader\n",
    "import rasterio\n",
    "import cv2\n",
    "\n",
    "import matplotlib.pyplot as plt\n",
    "import numpy as np\n",
    "\n",
    "from ipywidgets import interact, interactive, fixed, interact_manual\n",
    "\n",
    "import os\n",
    "\n",
    "%matplotlib inline\n",
    "%reload_ext autoreload"
   ]
  },
  {
   "cell_type": "markdown",
   "metadata": {},
   "source": [
    "## Read the dataset"
   ]
  },
  {
   "cell_type": "code",
   "execution_count": null,
   "metadata": {},
   "outputs": [],
   "source": [
    "# labels: germany_dataset/labels\n",
    "# images: germany_dataset/images\n",
    "\n",
    "# For every image, there is a corresponding label file with the same name\n",
    "\n",
    "# The labels file is a space separated file with the following columns:\n",
    "# 1. category\n",
    "# 2. x-center\n",
    "# 3. y-center\n",
    "# 4. x-width\n",
    "# 5. y-width\n",
    "def load_image_and_labels(file):\n",
    "    labels = pd.read_csv('germany_dataset/labels/' + file, sep=' ', header=None)\n",
    "    labels.columns = ['category', 'x_center', 'y_center', 'x_width', 'y_width']\n",
    "    \n",
    "    # Load the image\n",
    "    image_name = file.replace('txt', 'tif')\n",
    "    image = cv2.imread('germany_dataset/images/' + image_name)\n",
    "\n",
    "    # image size = 832 x 832\n",
    "    # The x-center and y-center are in the range [0, 1]\n",
    "\n",
    "    # Create a list of polygons\n",
    "    polygons = []\n",
    "    for i in range(labels.shape[0]):\n",
    "        x_center = labels.iloc[i, 1]\n",
    "        y_center = labels.iloc[i, 2]\n",
    "        x_width = labels.iloc[i, 3]\n",
    "        y_width = labels.iloc[i, 4]\n",
    "\n",
    "        x1 = (x_center - x_width / 2) * 832\n",
    "        x2 = (x_center + x_width / 2) * 832\n",
    "        y1 = (y_center - y_width / 2) * 832\n",
    "        y2 = (y_center + y_width / 2) * 832\n",
    "\n",
    "        polygons.append(Polygon([(x1, y1), (x2, y1), (x2, y2), (x1, y2)]))\n",
    "        \n",
    "    return image, polygons"
   ]
  },
  {
   "cell_type": "code",
   "execution_count": null,
   "metadata": {},
   "outputs": [],
   "source": [
    "file = os.listdir('germany_dataset/labels')[0]\n",
    "image, polygons = load_image_and_labels(file)\n",
    "\n",
    "# Plot the image with the polygons drawn in\n",
    "def plot_image_and_labels(image, polygons):\n",
    "    # Convert the image to a numpy array\n",
    "    image = np.array(image)\n",
    "\n",
    "    for polygon in polygons:\n",
    "        x, y = polygon.exterior.xy\n",
    "        plt.plot(x, y, c='r')\n",
    "        \n",
    "    # Plot the image\n",
    "    plt.imshow(image)\n",
    "    plt.show()\n",
    "    \n",
    "plot_image_and_labels(image, polygons)"
   ]
  },
  {
   "cell_type": "code",
   "execution_count": null,
   "metadata": {},
   "outputs": [],
   "source": [
    "# Convert the polygons to a mask to be used in the model\n",
    "# The mask will be a 832 x 832 x 1 array\n",
    "def polygons_to_mask(polygons):\n",
    "    mask = np.zeros((832, 832, 1))\n",
    "    for polygon in polygons:\n",
    "        x, y = polygon.exterior.xy\n",
    "        x = np.array(x, dtype=np.int32)\n",
    "        y = np.array(y, dtype=np.int32)\n",
    "        mask = cv2.fillPoly(mask, [np.column_stack((x, y))], (255))\n",
    "    return mask\n",
    "\n",
    "# Convert the mask to a polygon\n",
    "def mask_to_polygons(mask):\n",
    "    mask = mask.astype(np.uint8)\n",
    "    contours, _ = cv2.findContours(mask, cv2.RETR_EXTERNAL, cv2.CHAIN_APPROX_SIMPLE)\n",
    "    polygons = []\n",
    "    for contour in contours:\n",
    "        x, y, w, h = cv2.boundingRect(contour)\n",
    "        polygons.append(Polygon([(x, y), (x + w, y), (x + w, y + h), (x, y + h)]))\n",
    "    return polygons"
   ]
  },
  {
   "cell_type": "code",
   "execution_count": null,
   "metadata": {},
   "outputs": [],
   "source": [
    "# Plot the mask and the images in the same plot\n",
    "mask = polygons_to_mask(polygons)\n",
    "\n",
    "def plot_image_and_mask(image, mask):\n",
    "    \n",
    "    # Convert the image to a numpy array\n",
    "    image = np.array(image)\n",
    "\n",
    "    plt.imshow(image)\n",
    "    plt.imshow(mask, alpha=0.5)\n",
    "    \n",
    "    plt.show()\n",
    "    \n",
    "plot_image_and_mask(image, mask)"
   ]
  },
  {
   "cell_type": "markdown",
   "metadata": {},
   "source": [
    "### Load the dataset"
   ]
  },
  {
   "cell_type": "code",
   "execution_count": null,
   "metadata": {},
   "outputs": [],
   "source": [
    "import torch\n",
    "from torch.utils.data import Dataset, DataLoader"
   ]
  },
  {
   "cell_type": "code",
   "execution_count": null,
   "metadata": {},
   "outputs": [],
   "source": [
    "dataset = os.listdir('germany_dataset/labels')\n",
    "\n",
    "class ImageLoader(Dataset):\n",
    "    def __init__(self, dataset):\n",
    "        self.dataset = dataset\n",
    "        \n",
    "    def __len__(self):\n",
    "        return len(self.dataset)\n",
    "    \n",
    "    def __getitem__(self, idx):\n",
    "        image, polygons = load_image_and_labels(self.dataset[idx])\n",
    "        mask = polygons_to_mask(polygons)\n",
    "        \n",
    "        return torch.tensor(image, dtype=torch.float32).view(3, 832, 832), torch.tensor(mask, dtype=torch.float32).view(1, 832, 832)"
   ]
  },
  {
   "cell_type": "code",
   "execution_count": null,
   "metadata": {},
   "outputs": [],
   "source": [
    "# From the dataset, create a train and test set\n",
    "from sklearn.model_selection import train_test_split\n",
    "\n",
    "train, test = train_test_split(dataset, test_size=0.2)\n",
    "\n",
    "train_dataset = ImageLoader(train)\n",
    "test_dataset = ImageLoader(test)\n",
    "\n",
    "train_loader = DataLoader(train_dataset, batch_size=1, shuffle=True)\n",
    "test_loader = DataLoader(test_dataset, batch_size=1, shuffle=False)"
   ]
  },
  {
   "cell_type": "markdown",
   "metadata": {},
   "source": [
    "### Train the model"
   ]
  },
  {
   "cell_type": "code",
   "execution_count": null,
   "metadata": {},
   "outputs": [],
   "source": [
    "import pytorch_lightning as pl\n",
    "from models.base import BaseModel\n",
    "from models.architectures.deep_lab import DeepLabModel\n",
    "from models.architectures.mask_rcnn import MaskRCNNModel"
   ]
  },
  {
   "cell_type": "code",
   "execution_count": null,
   "metadata": {},
   "outputs": [],
   "source": [
    "model = DeepLabModel(input_size=832, num_classes=1)\n",
    "\n",
    "# model = MaskRCNNModel(num_classes=2)\n",
    "loss_fn = torch.nn.CrossEntropyLoss()\n",
    "optimizer = torch.optim.Adam(model.parameters(), lr=0.001)\n",
    "\n",
    "base_model = BaseModel(model, loss_fn, optimizer)\n",
    "trainer = pl.Trainer(max_epochs=10, min_epochs=5)"
   ]
  },
  {
   "cell_type": "code",
   "execution_count": null,
   "metadata": {},
   "outputs": [],
   "source": [
    "for image, label in train_loader:\n",
    "    # Print the size of the image and label\n",
    "    print(image.size(), label.size())  \n",
    "    break"
   ]
  },
  {
   "cell_type": "code",
   "execution_count": null,
   "metadata": {},
   "outputs": [],
   "source": [
    "trainer.fit(base_model, train_loader, )"
   ]
  },
  {
   "cell_type": "code",
   "execution_count": null,
   "metadata": {},
   "outputs": [],
   "source": [
    "# Estimate the model on the test set\n",
    "with torch.no_grad():\n",
    "    for image, label in test_loader:\n",
    "        output = model(image)\n",
    "                \n",
    "        # Convert the output to a polygon\n",
    "        polygons = mask_to_polygons(output.numpy())\n",
    "        \n",
    "        # Plot the image and the polygons\n",
    "        plot_image_and_labels(file)\n",
    "        \n",
    "        break\n",
    "        "
   ]
  }
 ],
 "metadata": {
  "kernelspec": {
   "display_name": ".venv",
   "language": "python",
   "name": "python3"
  },
  "language_info": {
   "codemirror_mode": {
    "name": "ipython",
    "version": 3
   },
   "file_extension": ".py",
   "mimetype": "text/x-python",
   "name": "python",
   "nbconvert_exporter": "python",
   "pygments_lexer": "ipython3",
   "version": "3.11.8"
  }
 },
 "nbformat": 4,
 "nbformat_minor": 2
}
