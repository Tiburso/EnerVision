{
 "cells": [
  {
   "cell_type": "code",
   "execution_count": null,
   "metadata": {},
   "outputs": [],
   "source": [
    "import torch\n",
    "\n",
    "import matplotlib.pyplot as plt\n",
    "import numpy as np\n",
    "\n",
    "from ipywidgets import interact, interactive, fixed, interact_manual\n",
    "\n",
    "import os"
   ]
  },
  {
   "cell_type": "markdown",
   "metadata": {},
   "source": [
    "## Read the dataset"
   ]
  },
  {
   "cell_type": "code",
   "execution_count": null,
   "metadata": {},
   "outputs": [],
   "source": [
    "from dataloaders.germany_dataset import load_image_and_labels\n",
    "from image_helpers import polygons_to_bounding_boxes, polygons_to_masks, mask_to_polygons\n",
    "from torchvision.utils import draw_segmentation_masks, draw_bounding_boxes\n",
    "from torchvision.tv_tensors import BoundingBoxes, Mask"
   ]
  },
  {
   "cell_type": "code",
   "execution_count": null,
   "metadata": {},
   "outputs": [],
   "source": [
    "def plot_image_and_mask(image, masks):\n",
    "    # Convert images to uint8\n",
    "    image = (image * 255).byte()\n",
    "    \n",
    "    # Convert masks to bool\n",
    "    masks = masks.bool()\n",
    "    \n",
    "    # Draw the masks on the image\n",
    "    image_with_masks = draw_segmentation_masks(image, masks)\n",
    "    \n",
    "    # Convert to PIL image\n",
    "    image_with_masks = image_with_masks.permute(1, 2, 0).numpy()\n",
    "    \n",
    "    # Plot the image\n",
    "    plt.imshow(image_with_masks)\n",
    "    plt.show()\n",
    "    "
   ]
  },
  {
   "cell_type": "code",
   "execution_count": null,
   "metadata": {},
   "outputs": [],
   "source": [
    "from dataloaders.solar_dk_dataset import SolarDKDataset\n",
    "import torchvision.transforms.v2 as transforms\n",
    "\n",
    "train_folder = \"data/solardk_dataset_neurips_v2/gentofte_trainval/train\"\n",
    "validation_folder = \"data/solardk_dataset_neurips_v2/gentofte_trainval/val\"\n",
    "\n",
    "transform = transforms.Compose(    [\n",
    "        transforms.ToDtype(torch.float32),\n",
    "        transforms.Normalize(mean=[0.485, 0.456, 0.406], std=[0.229, 0.224, 0.225]),\n",
    "])\n",
    "\n",
    "train_dataset = SolarDKDataset(train_folder, transform=transform)\n",
    "validation_dataset = SolarDKDataset(validation_folder, transform=transform)"
   ]
  },
  {
   "cell_type": "code",
   "execution_count": null,
   "metadata": {},
   "outputs": [],
   "source": [
    "image, mask = train_dataset[10698]\n",
    "plot_image_and_mask(image, mask)"
   ]
  },
  {
   "cell_type": "markdown",
   "metadata": {},
   "source": [
    "### Load the dataset"
   ]
  },
  {
   "cell_type": "code",
   "execution_count": null,
   "metadata": {},
   "outputs": [],
   "source": [
    "from torch.utils.data import DataLoader\n",
    "\n",
    "train_dataloader = DataLoader(train_dataset, batch_size=4, shuffle=True, num_workers=4)\n",
    "validation_dataset = DataLoader(validation_dataset, batch_size=4, shuffle=False, num_workers=4)"
   ]
  },
  {
   "cell_type": "markdown",
   "metadata": {},
   "source": [
    "### Train the model"
   ]
  },
  {
   "cell_type": "code",
   "execution_count": null,
   "metadata": {},
   "outputs": [],
   "source": [
    "import pytorch_lightning as pl\n",
    "from models.base import BaseModel\n",
    "from models.architectures.deep_lab import DeepLabModel\n",
    "# from models.architectures.mask_rcnn import MaskRCNNModel\n",
    "from models.architectures.unet import UNetModel"
   ]
  },
  {
   "cell_type": "code",
   "execution_count": null,
   "metadata": {},
   "outputs": [],
   "source": [
    "model = DeepLabModel(num_classes=1)\n",
    "# model = UNetModel(n_channels=3, n_classes=1)\n",
    "\n",
    "# model = MaskRCNNModel(num_classes=1)\n",
    "\n",
    "loss_fn = torch.nn.BCELoss()\n",
    "optimizer = torch.optim.Adam(model.parameters(), lr=0.001)\n",
    "\n",
    "base_model = BaseModel(model, loss_fn, optimizer)\n",
    "trainer = pl.Trainer(max_epochs=10, min_epochs=5)"
   ]
  },
  {
   "cell_type": "code",
   "execution_count": null,
   "metadata": {},
   "outputs": [],
   "source": [
    "for image, label in train_dataloader:\n",
    "    # Print the size of the image and label\n",
    "    print(image.size(), label.size())  \n",
    "    break"
   ]
  },
  {
   "cell_type": "code",
   "execution_count": null,
   "metadata": {},
   "outputs": [],
   "source": [
    "# trainer.fit(base_model, train_dataloaders=train_dataloader, val_dataloaders=validation_dataset)"
   ]
  },
  {
   "cell_type": "code",
   "execution_count": 49,
   "metadata": {},
   "outputs": [
    {
     "name": "stdout",
     "output_type": "stream",
     "text": [
      "tensor([[[-222838.0625, -222838.0625, -222838.0625,  ..., -255428.9531, -255428.9531, -255428.9531],\n",
      "         [-222838.0625, -222838.0625, -222838.0625,  ..., -255428.9531, -255428.9531, -255428.9531],\n",
      "         [-222838.0625, -222838.0625, -222838.0625,  ..., -255428.9531, -255428.9531, -255428.9531],\n",
      "         ...,\n",
      "         [-209577.6250, -209577.6250, -209577.6250,  ..., -249373.7812, -249373.7812, -249373.7812],\n",
      "         [-209577.6250, -209577.6250, -209577.6250,  ..., -249373.7812, -249373.7812, -249373.7812],\n",
      "         [-209577.6250, -209577.6250, -209577.6250,  ..., -249373.7812, -249373.7812, -249373.7812]]])\n",
      "tensor([[False, False, False,  ..., False, False, False],\n",
      "        [False, False, False,  ..., False, False, False],\n",
      "        [False, False, False,  ..., False, False, False],\n",
      "        ...,\n",
      "        [False, False, False,  ..., False, False, False],\n",
      "        [False, False, False,  ..., False, False, False],\n",
      "        [False, False, False,  ..., False, False, False]])\n"
     ]
    },
    {
     "data": {
      "image/png": "[encoded data removed]",
      "text/plain": [
       "<Figure size 640x480 with 2 Axes>"
      ]
     },
     "metadata": {},
     "output_type": "display_data"
    }
   ],
   "source": [
    "import torch\n",
    "import torchvision.transforms.v2 as transforms\n",
    "import matplotlib.pyplot as plt\n",
    "from PIL import Image\n",
    "\n",
    "test_folder = \"data/solardk_dataset_neurips_v2/herlev_test/test\"\n",
    "\n",
    "model = BaseModel.load_from_checkpoint(\"lightning_logs/version_204950/checkpoints/epoch=9-step=1680.ckpt\")\n",
    "\n",
    "transform = transforms.Compose(\n",
    "    [\n",
    "        transforms.ToDtype(torch.float32),\n",
    "        transforms.Normalize(mean=[0.485, 0.456, 0.406], std=[0.229, 0.224, 0.225]),\n",
    "    ]\n",
    ")\n",
    "\n",
    "test_dataset = SolarDKDataset(test_folder, transform=transform)\n",
    "test_loader = DataLoader(test_dataset, batch_size=4, shuffle=False)\n",
    "\n",
    "# Estimate the model on the test set\n",
    "model.eval()\n",
    "with torch.no_grad():\n",
    "    for image, label in test_loader:\n",
    "        output = model(image)[0]\n",
    "    \n",
    "        print(output)\n",
    "    \n",
    "        # output_predictions = output.argmax(0)\n",
    "        output_predictions = (output < -400000).squeeze()\n",
    "        \n",
    "        print(output_predictions)\n",
    "        \n",
    "        label = label[0].squeeze()\n",
    "        \n",
    "        plt.subplot(1, 3, 2)\n",
    "        plt.imshow(label, cmap=\"gray\")\n",
    "        plt.title(\"Label\")\n",
    "        \n",
    "        plt.subplot(1, 3, 3)\n",
    "        r = Image.fromarray(output_predictions.byte().cpu().numpy())\n",
    "        plt.imshow(r, cmap=\"gray\")\n",
    "        plt.title(\"Output\")\n",
    "        \n",
    "        plt.show()\n",
    "        \n",
    "        break\n",
    "        "
   ]
  }
 ],
 "metadata": {
  "kernelspec": {
   "display_name": ".venv",
   "language": "python",
   "name": "python3"
  },
  "language_info": {
   "codemirror_mode": {
    "name": "ipython",
    "version": 3
   },
   "file_extension": ".py",
   "mimetype": "text/x-python",
   "name": "python",
   "nbconvert_exporter": "python",
   "pygments_lexer": "ipython3",
   "version": "3.11.3"
  }
 },
 "nbformat": 4,
 "nbformat_minor": 2
}
