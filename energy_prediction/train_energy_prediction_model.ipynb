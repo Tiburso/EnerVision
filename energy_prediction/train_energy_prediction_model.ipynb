{
 "cells": [
  {
   "cell_type": "markdown",
   "metadata": {},
   "source": [
    "### 0. Import libraries"
   ]
  },
  {
   "cell_type": "code",
   "execution_count": 1,
   "metadata": {},
   "outputs": [
    {
     "name": "stderr",
     "output_type": "stream",
     "text": [
      "C:\\Users\\denni\\AppData\\Local\\Temp\\ipykernel_19944\\777256687.py:23: DeprecationWarning: \n",
      "Pyarrow will become a required dependency of pandas in the next major release of pandas (pandas 3.0),\n",
      "(to allow more performant data types, such as the Arrow string type, and better interoperability with other libraries)\n",
      "but was not found to be installed on your system.\n",
      "If this would cause problems for you,\n",
      "please provide us feedback at https://github.com/pandas-dev/pandas/issues/54466\n",
      "        \n",
      "  import pandas as pd\n"
     ]
    }
   ],
   "source": [
    "# Torch and Torchlightning imports\n",
    "import torch\n",
    "import torch.nn as nn\n",
    "import torch.optim as optim\n",
    "from torch.utils.data import DataLoader, Dataset, Subset, random_split\n",
    "from torch.nn.utils.rnn import pad_sequence\n",
    "\n",
    "# Import Pytorch modules\n",
    "import pytorch_lightning as pl\n",
    "from pytorch_lightning.loggers import TensorBoardLogger,CSVLogger\n",
    "from pytorch_lightning import Trainer\n",
    "from pytorch_lightning.callbacks import ModelCheckpoint\n",
    "\n",
    "from torch.utils.tensorboard import SummaryWriter\n",
    "\n",
    "# pytorch model summary \n",
    "from pytorch_model_summary import summary\n",
    "\n",
    "# Sklearn for onehote encoding\n",
    "from sklearn.preprocessing import LabelEncoder\n",
    "\n",
    "# pandas\n",
    "import pandas as pd\n",
    "\n",
    "# save data values \n",
    "import pickle\n",
    "\n",
    "#Plotting tools \n",
    "import matplotlib.pyplot as plt\n",
    "\n",
    "# some other utility modules\n",
    "import random\n",
    "import ast\n",
    "import os\n",
    "\n",
    "# Imports for SandiaPV\n",
    "from pvlib import irradiance, temperature, pvsystem\n",
    "\n",
    "from sandiapv_energy_prediction import *\n",
    "import optuna\n"
   ]
  },
  {
   "cell_type": "markdown",
   "metadata": {},
   "source": [
    "## 1. Define model"
   ]
  },
  {
   "cell_type": "code",
   "execution_count": 246,
   "metadata": {},
   "outputs": [],
   "source": [
    "class EnergyPredictionModel(nn.Module):\n",
    "    \"\"\" Energy Prediction Model \"\"\"\n",
    "    def __init__(self, dynamic_feature_size, static_feature_size, hidden_size,fc_size, dropout_rate=0.1,dataset_values= None):\n",
    "        super(EnergyPredictionModel, self).__init__()\n",
    "        self.dynamic_rnn1 = nn.LSTM(input_size=dynamic_feature_size, hidden_size=hidden_size, batch_first=True)\n",
    "        #self.dynamic_rnn2 = nn.LSTM(input_size=hidden_size, hidden_size=hidden_size, batch_first=True)\n",
    "        \n",
    "        # Increased depth in fully connected layers\n",
    "        self.fc1 = nn.Linear(hidden_size + static_feature_size, 2*fc_size)  \n",
    "        self.fc2 = nn.Linear(2*fc_size, fc_size)\n",
    "        self.fc3 = nn.Linear(fc_size, 24)\n",
    "        \n",
    "        self.gelu = nn.ReLU()\n",
    "        self.dropout = nn.Dropout(dropout_rate)\n",
    "        self.sigmoid = nn.Sigmoid() \n",
    "\n",
    "        # Initialize weights\n",
    "        nn.init.xavier_uniform_(self.fc1.weight)\n",
    "        nn.init.zeros_(self.fc1.bias)\n",
    "        nn.init.xavier_uniform_(self.fc2.weight)\n",
    "        nn.init.zeros_(self.fc2.bias)\n",
    "        nn.init.xavier_uniform_(self.fc3.weight)\n",
    "        nn.init.zeros_(self.fc3.bias)\n",
    "\n",
    "        # Load dataset values\n",
    "        self.dynamic_cols = dynamic_feature_size\n",
    "\n",
    "        # values for inference\n",
    "        self.mean = dataset_values['mean']\n",
    "        self.std = dataset_values['std']\n",
    "        self.min = dataset_values['output_mins']\n",
    "        self.max = dataset_values['output_maxs']\n",
    "            \n",
    "    def forward(self, dynamic_features, static_features):\n",
    "        \"\"\" Forward pass of the model \"\"\"\n",
    "        # Two or one lstm layer\n",
    "        output,(h_n,_)  = self.dynamic_rnn1(dynamic_features)\n",
    "        #output, (h_n, _) = self.dynamic_rnn2(output)\n",
    "        h_n = h_n.squeeze(0)\n",
    "        \n",
    "        concatenated_features = torch.cat((h_n, static_features), dim=1)\n",
    "        \n",
    "        x = self.fc1(concatenated_features)\n",
    "        x = self.gelu(x)\n",
    "        x = self.dropout(x)\n",
    "        x = self.fc2(x)\n",
    "        x = self.gelu(x)\n",
    "        x = self.dropout(x)\n",
    "        x = self.fc3(x)\n",
    "\n",
    "        # Sigmoid activation function for values between 0-1 \n",
    "        output =  self.sigmoid(x)\n",
    "        \n",
    "        return output\n",
    "    \n",
    "    def predict(self, x_dynamic, x_static):\n",
    "        \"\"\" Perform inference on a single sample\"\"\"\n",
    "        # Get the number of static features\n",
    "        static_dim = x_static.shape[1] -1\n",
    "        \n",
    "        # Ensure x_static and x_dynamic are torch tensors and are of correct type\n",
    "        x_static = torch.tensor(x_static, dtype=torch.float32)\n",
    "        x_dynamic = torch.tensor(x_dynamic, dtype=torch.float32)\n",
    "        \n",
    "        # Normalize static features\n",
    "        static_mean = torch.tensor(self.mean[:static_dim] + [0], dtype=torch.float32)\n",
    "        static_std = torch.tensor(self.std[:static_dim] + [1], dtype=torch.float32)\n",
    "        x_static_norm = (x_static - static_mean) / static_std\n",
    "        \n",
    "        # Normalize dynamic features\n",
    "        dynamic_mean = torch.tensor(self.mean[static_dim:], dtype=torch.float32).reshape(1, -1)\n",
    "        dynamic_std = torch.tensor(self.std[static_dim:], dtype=torch.float32).reshape(1, -1)\n",
    "        x_dynamic_norm = (x_dynamic - dynamic_mean) / dynamic_std\n",
    "\n",
    "        # Switch model to evaluation mode\n",
    "        self.eval()\n",
    "\n",
    "        # Perform inference\n",
    "        with torch.no_grad():\n",
    "            normalized_output = self.forward(x_dynamic_norm, x_static_norm)\n",
    "\n",
    "        # Denormalize the output if needed\n",
    "        denormalized_output = normalized_output * (self.max - self.min) + self.min\n",
    "        return denormalized_output"
   ]
  },
  {
   "cell_type": "markdown",
   "metadata": {},
   "source": [
    "## 2. Define training class\n"
   ]
  },
  {
   "cell_type": "code",
   "execution_count": 247,
   "metadata": {},
   "outputs": [],
   "source": [
    "class TrainEnergyPrediction(pl.LightningModule):\n",
    "    \"\"\" Training Class for Energy Prediction Model \"\"\"\t\n",
    "    def __init__(self, dynamic_feature_size, static_feature_size, hidden_size,fc_size, learning_rate, loss_type='mse',dataset_values= None):\n",
    "        super().__init__()\n",
    "        # Save hyperparameters\n",
    "        self.save_hyperparameters()\n",
    "\n",
    "        # Initialize model\n",
    "        self.model = EnergyPredictionModel(dynamic_feature_size, static_feature_size, hidden_size,fc_size, dropout_rate=0.1,dataset_values= dataset_values)\n",
    "\n",
    "        # Initialize loss function\n",
    "        if loss_type == 'mse':\n",
    "            self.loss_fn = nn.MSELoss(reduction='sum')\n",
    "        elif loss_type == 'l1':\n",
    "            self.loss_fn = nn.L1Loss(reduction='sum')\n",
    "        elif loss_type == 'huber':\n",
    "            self.loss_fn = nn.HuberLoss(reduction='sum', delta=1.0)\n",
    "        else:\n",
    "            raise ValueError(\"Unsupported loss type. Choose from 'mse', 'l1', 'huber'.\")\n",
    "\n",
    "        # Initialize lists to store losses and evaluation metrics\n",
    "        self.train_losses = []\n",
    "        self.validation_losses = []\n",
    "        self.test_losses = []\n",
    "        self.train_auc = []\n",
    "        self.validation_auc = []\n",
    "        self.train_mape = []\n",
    "        self.val_mape = []\n",
    "\n",
    "        # Save learning rate\n",
    "        self.learning_rate = learning_rate\n",
    "        \n",
    "    def forward(self, x_dynamic, x_static):\n",
    "        \"\"\"\" Forward pass of the model \"\"\"\n",
    "        return self.model(x_dynamic, x_static)\n",
    "\n",
    "    def training_step(self, batch, batch_idx):\n",
    "        \"\"\" Training step \n",
    "\n",
    "        Parameters:\n",
    "        batch : tuple\n",
    "            A tuple containing the dynamic features, static features, and target values.\n",
    "        batch_idx : int\n",
    "            The index of the batch.\n",
    "        \n",
    "        Returns: \n",
    "        train_loss : float\n",
    "            The total loss for the training step.\"\"\"\t\n",
    "        \n",
    "        # Get the batch\n",
    "        x_dynamic, x_static, y_true = batch\n",
    "\n",
    "        # Perform forward pass\n",
    "        y_pred = self(x_dynamic, x_static)\n",
    " \n",
    "        # Calculate loss\n",
    "        train_loss = self.loss_fn(y_pred, y_true)\n",
    "        self.train_losses.append(train_loss.item())\n",
    "        \n",
    "        # Calculate L1 loss\n",
    "        sum_loss = nn.L1Loss(reduction='sum')(y_pred, y_true)\n",
    "            \n",
    "        # Calculate AUC for predictions and ground truth\n",
    "        auc_pred = self.calculate_auc(y_pred)\n",
    "        auc_gt = self.calculate_auc(y_true)\n",
    "        auc_ratio = auc_pred / auc_gt if auc_gt != 0 else 0\n",
    "        self.train_auc.append(auc_ratio.item())\n",
    "\n",
    "        # Calculate MAPE score\n",
    "        mape = self.calculate_mape(y_true, y_pred)\n",
    "        self.train_mape.append(mape.item())\n",
    "\n",
    "        # Log metrics   \n",
    "        self.log('train_auc', auc_ratio, on_step=True, on_epoch=True, logger=True)\n",
    "        self.log('train_loss', train_loss, on_step=True, on_epoch=True,  logger=True)\n",
    "        self.log('train_l1_sum', sum_loss, on_step=False, on_epoch=True,  logger=True)\n",
    "        self.log('train_mape_score', mape, on_step=True, on_epoch=True)\n",
    "        \n",
    "        return train_loss\n",
    "\n",
    "    def validation_step(self, batch, batch_idx):\n",
    "        \"\"\" Validation step \n",
    "        \n",
    "        parameters:\n",
    "        batch : tuple\n",
    "            A tuple containing the dynamic features, static features, and target values.\n",
    "        batch_idx : int\n",
    "            The index of the batch.\n",
    "        \n",
    "        Returns:\n",
    "        val_eval_metric : float\n",
    "            The evaluation metric for the validation step. \"\"\"\n",
    "        \n",
    "        # Get the batch\n",
    "        x_dynamic, x_static, y_true = batch\n",
    "        \n",
    "        # Perform forward pass\n",
    "        y_pred = self(x_dynamic, x_static)\n",
    "\n",
    "        # Calculate loss\n",
    "        val_loss = self.loss_fn(y_pred, y_true)\n",
    "        self.validation_losses.append(val_loss.item()) \n",
    "        \n",
    "        # Calculate L1 loss\n",
    "        val_eval_metric = nn.L1Loss(reduction='mean')(y_pred, y_true)\n",
    "        \n",
    "        # Calculate AUC for predictions and ground truth\n",
    "        auc_pred = self.calculate_auc(y_pred)\n",
    "        auc_gt = self.calculate_auc(y_true)\n",
    "        auc_ratio = auc_pred / auc_gt if auc_gt != 0 else 0\n",
    "        self.validation_auc.append(auc_ratio.item())\n",
    "\n",
    "        # Calculate MAPE score\n",
    "        mape = self.calculate_mape(y_true, y_pred)\n",
    "        self.val_mape.append(mape.item())\n",
    "\n",
    "        # Log metrics\n",
    "        self.log('validation_auc', auc_ratio, on_step=True, on_epoch=True, logger=True)\n",
    "        self.log('val_train_loss', val_loss, on_step=False, on_epoch=True, logger=True)\n",
    "        self.log('val_evaluation_metric', val_eval_metric, on_step=False, on_epoch=True,  logger=True) \n",
    "        self.log('val_mape_score', mape, on_step=True, on_epoch=True)\n",
    "\n",
    "        return val_eval_metric\n",
    "    \n",
    "    def test_step(self, batch, batch_idx, dataloader_idx=0):\n",
    "        \"\"\" Test step \n",
    "\n",
    "        Parameters:\n",
    "        batch : tuple\n",
    "            A tuple containing the dynamic features, static features, and target values.\n",
    "        batch_idx : int\n",
    "            The index of the batch.\n",
    "        dataloader_idx : int\n",
    "            The index of the dataloader.\n",
    "\n",
    "        Returns:\n",
    "        test_loss : float\n",
    "            The total loss for the test step.\"\"\"\n",
    "        \n",
    "        # Get the batch\n",
    "        x_dynamic, x_static, y_true = batch\n",
    "\n",
    "        # Perform forward pass\n",
    "        y_pred = self(x_dynamic, x_static)\n",
    "\n",
    "        # Calculate loss\n",
    "        test_loss = self.loss_fn(y_pred, y_true)\n",
    "\n",
    "        # Calculate L1 loss\n",
    "        sum_loss = nn.L1Loss(reduction='sum')(y_pred, y_true)\n",
    "        \n",
    "        # Calculate AUC for predictions and ground truth\n",
    "        auc_pred = self.calculate_auc(y_pred)\n",
    "        auc_gt = self.calculate_auc(y_true)\n",
    "        auc_ratio = auc_pred / auc_gt if auc_gt != 0 else 0\n",
    "\n",
    "        # Calculate MAPE score\n",
    "        mape = self.calculate_mape(y_true, y_pred)\n",
    "\n",
    "        # Log metrics\n",
    "        self.log(f'Total test_loss', test_loss)\n",
    "        self.log(f'Total L1 loss', sum_loss)\n",
    "        self.log(f'Total auc_ratio', auc_ratio)\n",
    "        self.log('test_mape_score', mape)\n",
    "        self.test_losses.append(test_loss.item())\n",
    "        \n",
    "        return {\n",
    "            'test_loss': test_loss,\n",
    "            'sum_l1_loss': sum_loss,\n",
    "            'auc_ratio': auc_ratio,\n",
    "            'test_mape_score': mape,\n",
    "        }\n",
    "\n",
    "    def configure_optimizers(self):\n",
    "        \"\"\" Configure optimizer \"\"\"\t\n",
    "        optimizer = torch.optim.Adam(self.model.parameters(), lr=self.learning_rate)\n",
    "        return optimizer\n",
    "    \n",
    "    def calculate_auc(self, y_values):\n",
    "        \"\"\" Calculate AUC \n",
    "        \n",
    "        Parameters:\n",
    "        y_values : array-like of shape (n_samples,) or (n_samples, n_outputs)\n",
    "            Estimated target values from the model.\n",
    "        \n",
    "        Returns:\n",
    "        auc : float\n",
    "            The area under the curve (AUC) \n",
    "        \"\"\"\n",
    "        \t\n",
    "        y_values = y_values.detach().numpy()\n",
    "        auc = np.trapz(y_values, axis=1)\n",
    "        return np.mean(auc)\n",
    "\n",
    "    def calculate_mape(self, y_true, y_pred):\n",
    "        \"\"\" Calculate MAPE \n",
    "        \n",
    "        Parameters:\n",
    "        y_true : array-like of shape (n_samples,) or (n_samples, n_outputs)\n",
    "            Ground truth (correct) target values.\n",
    "        y_pred : array-like of shape (n_samples,) or (n_samples, n_outputs)\n",
    "            Estimated target values from the model.\n",
    "        \n",
    "        Returns:\n",
    "        mape : float\n",
    "            The mean absolute percentage error (MAPE) score. A lower MAPE indicates better performance.\"\"\"\n",
    "        \n",
    "        # Filter out zero values\n",
    "        y_true_filtered = y_true +0.1 # FOR NUMERICAL STABILITY\n",
    "        y_pred_filtered = y_pred +0.1 # FOR NUMERICAL STABILITY\n",
    "\n",
    "        # Calculate MAPE\n",
    "        mape = torch.mean(torch.abs((y_true_filtered - y_pred_filtered) / y_true_filtered)) * 100\n",
    "        return mape\n",
    "    \n",
    "    def calculate_rmse(self, y_true, y_pred):\n",
    "        \"\"\" Calculate RMSE \n",
    "        \n",
    "        Parameters:\n",
    "        y_true : array-like of shape (n_samples,) or (n_samples, n_outputs)\n",
    "            Ground truth (correct) target values.\n",
    "        y_pred : array-like of shape (n_samples,) or (n_samples, n_outputs)\n",
    "            Estimated target values from the model.\n",
    "\n",
    "        Returns:\n",
    "        rmse : float\n",
    "            The root mean squared error (RMSE) score. A lower RMSE indicates better performance.    \n",
    "        \"\"\"\n",
    "        mse = nn.MSELoss(reduction='mean')(y_pred, y_true)\n",
    "        rmse = torch.sqrt(mse)\n",
    "        return rmse\n",
    "\n",
    "    \n",
    "\n",
    "    def r2_score(y_true, y_pred):\n",
    "        \"\"\"\n",
    "        Calculate the R-squared score, a measure of how well the model predictions approximate the true values.\n",
    "        \n",
    "        Parameters:\n",
    "        y_true : array-like of shape (n_samples,) or (n_samples, n_outputs)\n",
    "            Ground truth (correct) target values.\n",
    "        y_pred : array-like of shape (n_samples,) or (n_samples, n_outputs)\n",
    "            Estimated target values from the model.\n",
    "\n",
    "        Returns:\n",
    "        r_squared : float\n",
    "            The R-squared score. A value of 1 indicates perfect prediction, \n",
    "            and a value of 0 indicates that the model performs as well as a model \n",
    "            that always predicts the mean of the target values, regardless of the input features.\n",
    "        \"\"\"\n",
    "        # Calculate the residual sum of squares\n",
    "        ss_res = ((y_true - y_pred) ** 2).sum()\n",
    "        # Calculate the total sum of squares\n",
    "        ss_tot = ((y_true - y_true.mean()) ** 2).sum()\n",
    "        # Calculate the R-squared score\n",
    "        r_squared = 1 - (ss_res / ss_tot)\n",
    "        return r_squared"
   ]
  },
  {
   "cell_type": "markdown",
   "metadata": {},
   "source": [
    "\n",
    "<style>\n",
    "div.cell, div.input_area, div.output_area {\n",
    "    background-color: #f0f0f0; /* Light grey color */\n",
    "}\n",
    "</style>\n",
    "\n",
    "## 3. Load dataset"
   ]
  },
  {
   "cell_type": "code",
   "execution_count": 248,
   "metadata": {},
   "outputs": [],
   "source": [
    "CONVERTER = {\n",
    "    'temperature_sequence': ast.literal_eval, \n",
    "    'wind_speed_sequence': ast.literal_eval, \n",
    "    'dni_sequence': ast.literal_eval, \n",
    "    'dhi_sequence': ast.literal_eval, \n",
    "    'global_irradiance_sequence': ast.literal_eval,\n",
    "    'energy_data': ast.literal_eval,\n",
    "}\n",
    "\n",
    "class SolarPanelDataset(Dataset):\n",
    "    \"\"\" Solar Panel Dataset\n",
    "\n",
    "    Returns:\n",
    "    dynamic_features : torch.tensor\n",
    "        The dynamic features for the model.\n",
    "    static_features : torch.tensor\n",
    "        The static features for the model.\n",
    "    outputs : torch.tensor\n",
    "        The target values for the model.\"\"\"\t\n",
    "\n",
    "    def __init__(self, synthetic_csv, measurement_csv, transform=None, sequence_length=24):\n",
    "        \"\"\" Initialize the SolarPanelDataset class\n",
    "         \n",
    "        Parameters:\n",
    "        synthetic_csv : str\n",
    "            The path to the synthetic data CSV file.\n",
    "        measurement_csv : str\n",
    "            The path to the measurement data CSV file.\n",
    "        transform : callable, optional\n",
    "            A function/transform to apply to the data.\n",
    "        sequence_length : int, optional\n",
    "            The length of the sequences. \"\"\"\t\n",
    "        \n",
    "        # Save sequence length\n",
    "        self.sequence_length = sequence_length\n",
    "\n",
    "        # Initialize mean and std lists\n",
    "        self.mean = []\n",
    "        self.std =[]\n",
    "\n",
    "        # Initialize dynamic and static columns\n",
    "        self.dynamic_cols = ['temperature_sequence', 'wind_speed_sequence', 'dni_sequence', 'dhi_sequence', 'global_irradiance_sequence']\n",
    "        self.static_cols = ['tilt', 'azimuth','module_type']   \n",
    "        self.features = self.dynamic_cols + self.static_cols \n",
    "        \n",
    "        # Load data from both CSVs\n",
    "        self.synthetic_data = pd.read_csv(synthetic_csv, converters=CONVERTER)  \n",
    "        self.measurement_data = pd.read_csv(measurement_csv, converters=CONVERTER) \n",
    "        \n",
    "        # Optionally apply transformations/pre-processing\n",
    "        self.transform = transform\n",
    "        \n",
    "        # Combine data for easy shuffling and splitting\n",
    "        self.synthetic_data['data_type'] = 'synthetic'\n",
    "        self.measurement_data['data_type'] = 'measurement'\n",
    "        self.data_frame = pd.concat([self.synthetic_data, self.measurement_data], ignore_index=True)\n",
    "        \n",
    "        # Encode string to int\n",
    "        self.data_frame['module_type'] = LabelEncoder().fit_transform(self.data_frame['module_type'])\n",
    "        \n",
    "        # Ensure all sequences are of the same length\n",
    "        self.pad_or_truncate_sequences()\n",
    "\n",
    "        # Normalize features and outputs\n",
    "        self.normalize_features()\n",
    "        self.normalize_outputs()\n",
    "\n",
    "    def pad_or_truncate_sequences(self):\n",
    "        \"\"\"Ensure all sequences are of the same length by padding or truncating them.\"\"\"\n",
    "        dynamic_cols = ['temperature_sequence', 'wind_speed_sequence', 'dni_sequence', 'dhi_sequence', 'global_irradiance_sequence']\n",
    "        for col in dynamic_cols:\n",
    "            self.data_frame[col] = self.data_frame[col].apply(self.pad_or_truncate)\n",
    "\n",
    "    def pad_or_truncate(self, sequence):\n",
    "        \"\"\"Pad or truncate a sequence to the desired length.\"\"\"\n",
    "\n",
    "        # Pad or truncate sequence\n",
    "        if len(sequence) > self.sequence_length:\n",
    "            return sequence[:self.sequence_length]\n",
    "        # Pad sequence with zeros\n",
    "        elif len(sequence) < self.sequence_length:\n",
    "            return sequence + [0.0] * (self.sequence_length - len(sequence))\n",
    "        return sequence\n",
    "\n",
    "    def denormalize_output(self, normalized_output):\n",
    "        \"\"\" Denormalize the output using min-max scaling.\"\"\"\n",
    "        denormalized_output = normalized_output * (self.output_maxs - self.output_mins) + self.output_mins\n",
    "        return denormalized_output\n",
    "    \n",
    "    def normalize_features(self):\n",
    "        \"\"\"Normalize features\"\"\"\n",
    "\n",
    "        # Normalizing static features\n",
    "        for feature in self.static_cols:\n",
    "            mean = self.data_frame[feature].mean()\n",
    "            self.mean.append(mean)\n",
    "            std = self.data_frame[feature].std()\n",
    "            self.std.append(std)\n",
    "            if std > 0:\n",
    "                self.data_frame[feature] = (self.data_frame[feature] - mean) / std\n",
    "            else:\n",
    "                self.data_frame[feature] = 0  \n",
    "\n",
    "        # Normalizing dynamic features\n",
    "        for col in self.dynamic_cols:\n",
    "            col_data = np.concatenate(self.data_frame[col].values)\n",
    "            mean = col_data.mean()\n",
    "            self.mean.append(mean)\n",
    "            std = col_data.std()\n",
    "            self.std.append(std)\n",
    "            if std > 0:\n",
    "                self.data_frame[col] = self.data_frame[col].apply(lambda x: (np.array(x) - mean) / std)\n",
    "            else:\n",
    "                self.data_frame[col] = self.data_frame[col].apply(lambda x: np.zeros_like(x))  \n",
    "\n",
    "    def normalize_outputs(self):\n",
    "        \"\"\" Normalize outputs using min-max scaling.\"\"\"\n",
    "\n",
    "        # retrieve energy_data\n",
    "        energy_array = np.array(self.data_frame['energy_data'].tolist())\n",
    "\n",
    "        # Save min and max values for denormalization\n",
    "        self.output_mins = energy_array.min(axis=0)\n",
    "        self.output_maxs = energy_array.max(axis=0)\n",
    "\n",
    "        # Avoid division by zero in case max == min\n",
    "        range = self.output_maxs - self.output_mins\n",
    "        range[range == 0] = 1 \n",
    "\n",
    "        # Normalize energy data\n",
    "        normalized_energy_data = (energy_array - self.output_mins) / range\n",
    "        self.data_frame['energy_data'] = list(normalized_energy_data)\n",
    "\n",
    "    def __len__(self):\n",
    "        return len(self.data_frame)\n",
    "\n",
    "    def __getitem__(self, idx):\n",
    "        \"\"\" Get item from the dataset\n",
    "        \n",
    "        Returns:\n",
    "        dynamic_features : torch.tensor\n",
    "            The dynamic features for the model.\n",
    "        static_features : torch.tensor\n",
    "            The static features for the model.\n",
    "        outputs : torch.tensor\n",
    "            The target values for the model.\n",
    "        \"\"\"\n",
    "\n",
    "        # Get the data at the specified index\n",
    "        if torch.is_tensor(idx):\n",
    "            idx = idx.tolist()\n",
    "\n",
    "        # Static features\n",
    "        static_features = self.data_frame.iloc[idx][['tilt', 'azimuth', 'module_type']].astype(np.float32).to_numpy()\n",
    "        static_features = torch.tensor(static_features, dtype=torch.float32)\n",
    "        \n",
    "        # Dynamic features\n",
    "        dynamic_features = np.array([\n",
    "            self.data_frame.iloc[idx]['temperature_sequence'],\n",
    "            self.data_frame.iloc[idx]['wind_speed_sequence'],\n",
    "            self.data_frame.iloc[idx]['dni_sequence'],\n",
    "            self.data_frame.iloc[idx]['dhi_sequence'],\n",
    "            self.data_frame.iloc[idx]['global_irradiance_sequence']\n",
    "        ]).astype(np.float32)\n",
    "        dynamic_features = torch.tensor(dynamic_features, dtype=torch.float32)\n",
    "\n",
    "        # Transpose to get shape (sequence_length, number_of_features)\n",
    "        dynamic_features = dynamic_features.T\n",
    "\n",
    "        # Outputs\n",
    "        outputs = torch.tensor(self.data_frame.iloc[idx]['energy_data'], dtype=torch.float32)\n",
    "\n",
    "        return dynamic_features, static_features, outputs"
   ]
  },
  {
   "cell_type": "code",
   "execution_count": 249,
   "metadata": {},
   "outputs": [],
   "source": [
    "def create_data_loaders(dataset, synthetic_sampling_ratio, measured_split_ratio, synthetic_split_ratio, val_ratio, batch_size):\n",
    "      \"\"\" Create data loaders for training, validation, and testing.\n",
    "    \n",
    "      Parameters:\n",
    "      dataset : Dataset\n",
    "            The dataset object containing the data.\n",
    "      synthetic_sampling_ratio : float\n",
    "            The ratio of synthetic data to sample.\n",
    "      measured_split_ratio : float\n",
    "            The ratio of measured data to split.\n",
    "      synthetic_split_ratio : float\n",
    "            The ratio of synthetic data to split.\n",
    "      val_ratio : float\n",
    "            The ratio of validation data to split.\n",
    "      batch_size : int\n",
    "            The batch size for the data loaders.\n",
    "\n",
    "      Returns:\n",
    "      train_loader : DataLoader\n",
    "            The data loader for the training set.\n",
    "      val_loader : DataLoader\n",
    "            The data loader for the validation set.\n",
    "      test_synthetic_loader : DataLoader\n",
    "            The data loader for the synthetic test set.\n",
    "      test_measurement_loader : DataLoader\n",
    "            The data loader for the measured test set.\n",
    "      \"\"\"\t\n",
    "\n",
    "      # Split dataset into synthetic and measured data\n",
    "      synthetic_indices = [i for i in range(len(dataset)) if dataset.data_frame.iloc[i]['data_type'] == 'synthetic']\n",
    "      measured_indices = [i for i in range(len(dataset)) if dataset.data_frame.iloc[i]['data_type'] == 'measurement']\n",
    "\n",
    "      # Print dataset sizes\n",
    "      print('size of the total dataset:', len(dataset), '\\n'\n",
    "            'size of synthetic data:', len(synthetic_indices), f'= {len(synthetic_indices)/len(dataset):.2f}\\n' \n",
    "            'size of the measured data:', len(measured_indices), f'= {len(measured_indices)/len(dataset):.2f}\\n')\n",
    "      \n",
    "      # Subsample synthetic data\n",
    "      total_synthetic_count = int(synthetic_sampling_ratio * len(synthetic_indices))\n",
    "      total_measured_count = len(measured_indices)\n",
    "\n",
    "      # Print subsampled dataset sizes\n",
    "      print('size of the total dataset after subsampling:', total_synthetic_count + total_measured_count, '\\n',\n",
    "            'Size of synthetic data:', total_synthetic_count, f'= {total_synthetic_count / (total_synthetic_count + total_measured_count):.2f} \\n', \n",
    "            'Size of the measured data:', total_measured_count, f'= {total_measured_count / (total_synthetic_count + total_measured_count):.2f} \\n',\n",
    "            '________________________________________________________\\n')\n",
    "      \n",
    "      # Split data into synthetic and measured\n",
    "      synthetic_data = Subset(dataset, synthetic_indices[:total_synthetic_count])\n",
    "      measured_data = Subset(dataset, measured_indices[:total_measured_count])\n",
    "\n",
    "      # Split synthetic data into training, validation, and testing\n",
    "      synthetic_train_count = int(synthetic_split_ratio * total_synthetic_count)\n",
    "      synthetic_val_count = int(val_ratio * synthetic_train_count)\n",
    "      synthetic_train_count -= synthetic_val_count\n",
    "      synthetic_test_count = total_synthetic_count - synthetic_train_count - synthetic_val_count\n",
    "\n",
    "      # Split synthetic data\n",
    "      synthetic_train_data, synthetic_val_data, synthetic_test_data = random_split(\n",
    "            synthetic_data, [synthetic_train_count, synthetic_val_count, synthetic_test_count])\n",
    "\n",
    "      # Split measured data into training, validation, and testing\n",
    "      measured_train_count = int(measured_split_ratio * total_measured_count)\n",
    "      measured_val_count = int(val_ratio * measured_train_count)\n",
    "      measured_train_count -= measured_val_count\n",
    "      measured_test_count = total_measured_count - measured_train_count - measured_val_count\n",
    "\n",
    "      # Split measured data\n",
    "      measured_train_data, measured_val_data, measured_test_data = random_split(\n",
    "            measured_data, [measured_train_count, measured_val_count, measured_test_count])\n",
    "\n",
    "      # Combine training and validation data\n",
    "      train_data = measured_train_data + synthetic_train_data\n",
    "      val_data = measured_val_data + synthetic_val_data\n",
    "\n",
    "      # Print dataset sizes\n",
    "      print('Training set size (synthetic):', synthetic_train_count, \n",
    "            f'= {synthetic_train_count / total_synthetic_count:.2f} of synthetic data')\n",
    "      print('Training set size (measured):', measured_train_count, \n",
    "            f'= {measured_train_count / total_measured_count:.2f} of measured data \\n')\n",
    "      print('Validation set size (synthetic):', synthetic_val_count, \n",
    "            f'= {synthetic_val_count / total_synthetic_count:.2f} of synthetic data')\n",
    "      print('Validation set size (measured):', measured_val_count, \n",
    "            f'= {measured_val_count / total_measured_count:.2f} of measured data \\n')\n",
    "      print('Test set size (synthetic):', synthetic_test_count, \n",
    "            f'= {synthetic_test_count / total_synthetic_count:.2f} of synthetic data')\n",
    "      print('Test set size (measured):', measured_test_count, \n",
    "            f'= {measured_test_count / total_measured_count:.2f} of measured data \\n')\n",
    "\n",
    "      # Create data loaders\n",
    "      train_loader = DataLoader(train_data, batch_size=batch_size, shuffle=True, num_workers=0)\n",
    "      val_loader = DataLoader(val_data, batch_size=batch_size, shuffle=False, num_workers=0)\n",
    "      test_synthetic_loader = DataLoader(synthetic_test_data, batch_size=batch_size, shuffle=False, num_workers=0)\n",
    "      test_measurement_loader = DataLoader(measured_test_data, batch_size=batch_size, shuffle=False, num_workers=0)\n",
    "\n",
    "      return train_loader, val_loader, test_synthetic_loader, test_measurement_loader "
   ]
  },
  {
   "cell_type": "code",
   "execution_count": 250,
   "metadata": {},
   "outputs": [
    {
     "name": "stdout",
     "output_type": "stream",
     "text": [
      "size of the total dataset: 13839 \n",
      "size of synthetic data: 12497 = 0.90\n",
      "size of the measured data: 1342 = 0.10\n",
      "\n",
      "size of the total dataset after subsampling: 13839 \n",
      " Size of synthetic data: 12497 = 0.90 \n",
      " Size of the measured data: 1342 = 0.10 \n",
      " ________________________________________________________\n",
      "\n",
      "Training set size (synthetic): 6998 = 0.56 of synthetic data\n",
      "Training set size (measured): 644 = 0.48 of measured data \n",
      "\n",
      "Validation set size (synthetic): 1749 = 0.14 of synthetic data\n",
      "Validation set size (measured): 161 = 0.12 of measured data \n",
      "\n",
      "Test set size (synthetic): 3750 = 0.30 of synthetic data\n",
      "Test set size (measured): 537 = 0.40 of measured data \n",
      "\n",
      "shapes, dynamic,static,outputs: torch.Size([64, 24, 5]) torch.Size([64, 3]) torch.Size([64, 24])\n",
      "Static Inputs: tensor([[-3.8922e-01, -1.1468e+00,  1.7735e+00],\n",
      "        [-1.0795e+00, -1.3735e+00, -5.2092e-01],\n",
      "        [ 1.6682e+00,  8.9735e-03, -5.2092e-01],\n",
      "        [-1.0433e-01, -6.9639e-01, -5.2092e-01],\n",
      "        [ 1.2465e+00,  6.2322e-01,  1.7735e+00],\n",
      "        [-1.0651e+00, -1.5289e+00, -5.2092e-01],\n",
      "        [ 8.5661e-01,  5.3859e-01, -5.2092e-01],\n",
      "        [-2.1017e+00,  1.6685e-02, -5.2092e-01],\n",
      "        [ 1.1750e-01,  1.4234e+00, -5.2092e-01],\n",
      "        [-4.3324e-01,  9.3020e-02, -5.2092e-01],\n",
      "        [-1.8972e+00, -1.1595e+00, -5.2092e-01],\n",
      "        [-1.5478e+00, -2.3003e-01, -5.2092e-01],\n",
      "        [-6.3170e-01, -1.5720e+00, -5.2092e-01],\n",
      "        [ 1.1139e+00,  4.1410e-03,  1.7735e+00],\n",
      "        [ 8.2904e-01, -1.2469e+00,  1.7735e+00],\n",
      "        [ 2.4787e-01, -7.2713e-01, -5.2092e-01],\n",
      "        [ 7.2941e-01,  4.3993e-01, -5.2092e-01],\n",
      "        [-4.4008e-01, -2.3003e-01,  4.0679e+00],\n",
      "        [ 3.4095e-01, -7.9871e-02, -5.2092e-01],\n",
      "        [-7.1702e-01, -1.4636e+00, -5.2092e-01],\n",
      "        [ 1.5688e+00,  5.1252e-01, -5.2092e-01],\n",
      "        [ 1.3995e+00,  1.0121e+00,  1.7735e+00],\n",
      "        [ 3.4095e-01, -7.9871e-02, -5.2092e-01],\n",
      "        [ 1.3275e+00,  2.5513e-01, -5.2092e-01],\n",
      "        [-3.6403e-01, -4.3777e-01, -5.2092e-01],\n",
      "        [-3.7386e-01,  7.5602e-01, -5.2092e-01],\n",
      "        [ 5.5607e-01, -1.6523e+00, -5.2092e-01],\n",
      "        [ 6.5560e-01,  1.6126e+00, -5.2092e-01],\n",
      "        [-1.4153e+00, -1.3590e+00, -5.2092e-01],\n",
      "        [-1.9680e+00, -6.9612e-01, -5.2092e-01],\n",
      "        [-1.7663e+00, -6.8716e-01,  1.7735e+00],\n",
      "        [-1.0795e+00, -1.3735e+00, -5.2092e-01],\n",
      "        [-1.5478e+00, -2.3003e-01, -5.2092e-01],\n",
      "        [-7.8288e-01, -4.3212e-01, -5.2092e-01],\n",
      "        [-1.2799e+00,  7.2421e-02, -5.2092e-01],\n",
      "        [ 1.2099e+00,  1.4498e+00,  1.7735e+00],\n",
      "        [ 2.1172e+00,  6.9602e-04,  1.7735e+00],\n",
      "        [ 8.5019e-01,  1.5684e+00,  1.7735e+00],\n",
      "        [ 6.0290e-01,  1.8708e+00, -5.2092e-01],\n",
      "        [ 8.2960e-01,  2.8364e-01,  1.7735e+00],\n",
      "        [-5.2756e-01, -5.0495e-01, -5.2092e-01],\n",
      "        [-1.6087e-01,  1.1263e+00, -5.2092e-01],\n",
      "        [-5.6502e-01, -1.1916e+00, -5.2092e-01],\n",
      "        [-1.9680e+00, -6.9612e-01, -5.2092e-01],\n",
      "        [ 1.3950e+00, -6.5294e-01,  1.7735e+00],\n",
      "        [ 4.0615e-01,  3.4122e-01,  1.7735e+00],\n",
      "        [ 1.1348e-01, -7.8940e-01, -5.2092e-01],\n",
      "        [ 3.9610e-01,  8.7147e-01, -5.2092e-01],\n",
      "        [-3.6820e-01, -1.5581e-01, -5.2092e-01],\n",
      "        [-7.7738e-01,  1.9009e+00, -5.2092e-01],\n",
      "        [ 4.2679e-01,  2.0510e+00, -5.2092e-01],\n",
      "        [ 1.0938e+00, -5.5250e-01,  1.7735e+00],\n",
      "        [ 1.3275e+00,  2.5513e-01, -5.2092e-01],\n",
      "        [-4.5827e-01, -7.5719e-01, -5.2092e-01],\n",
      "        [ 8.5017e-01, -8.8742e-01, -5.2092e-01],\n",
      "        [-1.6314e-01,  7.3537e-01, -5.2092e-01],\n",
      "        [-6.2686e-01,  4.0791e-01, -5.2092e-01],\n",
      "        [ 3.4774e-01,  5.8384e-01, -5.2092e-01],\n",
      "        [-2.3104e+00,  1.1956e+00, -5.2092e-01],\n",
      "        [ 4.0678e-01, -1.6275e+00, -5.2092e-01],\n",
      "        [ 1.1849e+00,  1.3878e+00, -5.2092e-01],\n",
      "        [-1.3010e+00,  1.3371e+00,  1.7735e+00],\n",
      "        [-1.3817e+00,  3.7066e-01, -5.2092e-01],\n",
      "        [-6.1328e-01, -7.8738e-01, -5.2092e-01]])\n",
      "Dynamic Inputs Shape: torch.Size([64, 24, 5])\n",
      "Outputs: tensor([[0.2689, 0.2817, 0.3282,  ..., 0.0083, 0.1569, 0.2736],\n",
      "        [0.2270, 0.2369, 0.2794,  ..., 0.0072, 0.1376, 0.2396],\n",
      "        [0.3672, 0.3845, 0.4377,  ..., 0.0175, 0.3220, 0.6113],\n",
      "        ...,\n",
      "        [0.2181, 0.2321, 0.2777,  ..., 0.0066, 0.1279, 0.2188],\n",
      "        [0.1590, 0.1685, 0.2199,  ..., 0.0046, 0.0922, 0.1542],\n",
      "        [0.3040, 0.3127, 0.3575,  ..., 0.0080, 0.1420, 0.2480]])\n",
      "shapes, dynamic,static,outputs: torch.Size([64, 24, 5]) torch.Size([64, 3]) torch.Size([64, 24])\n",
      "Static Inputs: tensor([[ 0.0532, -1.4875, -0.5209],\n",
      "        [ 1.1849,  1.3878, -0.5209],\n",
      "        [-0.2291,  1.6983, -0.5209],\n",
      "        [-0.5308, -1.6231, -0.5209],\n",
      "        [-0.0100, -1.1632, -0.5209],\n",
      "        [-1.8972, -1.1595, -0.5209],\n",
      "        [-0.5308, -1.6231, -0.5209],\n",
      "        [-2.6002,  0.2527, -0.5209],\n",
      "        [ 0.0584, -0.2300,  1.7735],\n",
      "        [ 0.9920,  0.4811, -0.5209],\n",
      "        [-1.0344, -0.1224, -0.5209],\n",
      "        [ 0.0853, -1.6490, -0.5209],\n",
      "        [ 0.9619,  0.3413, -0.5209],\n",
      "        [-0.6278,  0.2759,  1.7735],\n",
      "        [-0.8013,  0.2298,  1.7735],\n",
      "        [-1.2639, -1.0523, -0.5209],\n",
      "        [ 0.2079, -0.0804, -0.5209],\n",
      "        [ 0.6954, -1.2710, -0.5209],\n",
      "        [ 0.2335, -0.5092, -0.5209],\n",
      "        [-0.0167,  1.1062, -0.5209],\n",
      "        [-1.2639, -1.0523, -0.5209],\n",
      "        [-1.0368,  1.5679,  1.7735],\n",
      "        [-0.3567,  0.8916, -0.5209],\n",
      "        [ 0.9873, -0.4659,  1.7735],\n",
      "        [-0.4401,  1.2181, -0.5209],\n",
      "        [ 0.4842,  0.6129, -0.5209],\n",
      "        [ 0.8705,  1.5400, -0.5209],\n",
      "        [-0.1043, -0.6964, -0.5209],\n",
      "        [ 0.8566,  0.5386, -0.5209],\n",
      "        [-0.5154,  1.8937, -0.5209],\n",
      "        [ 0.5793,  0.0276, -0.5209],\n",
      "        [ 1.3394,  0.9882, -0.5209],\n",
      "        [-0.3739,  0.7560, -0.5209],\n",
      "        [-0.7575, -0.2897,  1.7735],\n",
      "        [ 0.5109, -0.1018, -0.5209],\n",
      "        [ 1.3950, -0.6529,  1.7735],\n",
      "        [ 0.6813, -1.3106, -0.5209],\n",
      "        [-0.5935, -1.4641, -0.5209],\n",
      "        [-0.2277, -0.1567, -0.5209],\n",
      "        [-0.5958,  0.7848, -0.5209],\n",
      "        [-0.4401,  1.2181, -0.5209],\n",
      "        [ 0.6954, -1.2710, -0.5209],\n",
      "        [-1.0554, -0.2501, -0.5209],\n",
      "        [-0.2608, -1.3216,  1.7735],\n",
      "        [ 0.2079, -0.0804, -0.5209],\n",
      "        [-0.4401, -0.2300,  4.0679],\n",
      "        [ 1.4692,  1.1357,  1.7735],\n",
      "        [-1.2853, -0.5710, -0.5209],\n",
      "        [-0.7575, -0.2897,  1.7735],\n",
      "        [ 0.1461, -0.4351, -0.5209],\n",
      "        [ 0.5516, -1.2898, -0.5209],\n",
      "        [-0.1555, -0.8430,  1.7735],\n",
      "        [-0.2291,  1.6983, -0.5209],\n",
      "        [-0.6524, -0.6030, -0.5209],\n",
      "        [ 0.8290, -1.2469,  1.7735],\n",
      "        [ 0.1374,  0.9344,  1.7735],\n",
      "        [ 0.2826,  1.0767,  1.7735],\n",
      "        [-0.5670,  1.6746, -0.5209],\n",
      "        [-0.2755,  0.2310, -0.5209],\n",
      "        [ 0.3535,  1.4115,  1.7735],\n",
      "        [-1.2853, -0.5710, -0.5209],\n",
      "        [-0.1234, -0.5117, -0.5209],\n",
      "        [ 2.0901,  0.2900, -0.5209],\n",
      "        [ 1.0293, -0.9692, -0.5209]])\n",
      "Dynamic Inputs Shape: torch.Size([64, 24, 5])\n",
      "Outputs: tensor([[0.3152, 0.3282, 0.3779,  ..., 0.0081, 0.1541, 0.2745],\n",
      "        [0.3773, 0.4014, 0.4470,  ..., 0.0123, 0.2255, 0.4020],\n",
      "        [0.2598, 0.2594, 0.3076,  ..., 0.0080, 0.1507, 0.2630],\n",
      "        ...,\n",
      "        [0.2483, 0.2595, 0.3040,  ..., 0.0067, 0.1235, 0.2075],\n",
      "        [0.8709, 0.8389, 0.8422,  ..., 0.0204, 0.3877, 0.7494],\n",
      "        [0.5996, 0.5978, 0.6270,  ..., 0.0185, 0.3335, 0.6034]])\n"
     ]
    }
   ],
   "source": [
    "# Load the dataset\n",
    "dataset = SolarPanelDataset('energy_data/dataset_to_train_model2.csv', 'energy_data/merged_solar_weather_data2.csv')\n",
    "\n",
    "# define batchsize\n",
    "BATCHSIZE = 64\n",
    "\n",
    "# Assuming dataset is already defined\n",
    "train_loader, val_loader, test_synthetic_loader, test_measurement_loader = create_data_loaders(\n",
    "    dataset,\n",
    "    synthetic_sampling_ratio=1,    # 100% of the synthetic dataset being used\n",
    "    measured_split_ratio=0.6,      # 60% of the measured dataset for training\n",
    "    synthetic_split_ratio=0.7,     # 70% of the synthetic dataset for training\n",
    "    val_ratio=0.2,                 # 20% of the training data for validation (20% of the total dataset, so both synthetic and measured)\n",
    "    batch_size=BATCHSIZE)\n",
    "\n",
    "# Example of iterating through the train loader\n",
    "for i, data in enumerate(train_loader):\n",
    "    if i > 1:\n",
    "        break\n",
    "    dynamic_inputs, static_inputs, outputs = data\n",
    "    print('shapes, dynamic,static,outputs:', dynamic_inputs.shape, static_inputs.shape, outputs.shape)\n",
    "    print(\"Static Inputs:\", static_inputs) # Panel type, tilt, azimuth, module type\n",
    "    print(\"Dynamic Inputs Shape:\", dynamic_inputs.shape) # Temperature, Wind, dni, dhi, global irradiance\n",
    "    print(\"Outputs:\", outputs) # 24 hour energy output"
   ]
  },
  {
   "cell_type": "markdown",
   "metadata": {},
   "source": [
    "## 4. Train model"
   ]
  },
  {
   "cell_type": "code",
   "execution_count": 251,
   "metadata": {},
   "outputs": [
    {
     "name": "stdout",
     "output_type": "stream",
     "text": [
      "EnergyPredictionModel(\n",
      "  (dynamic_rnn1): LSTM(5, 8, batch_first=True)\n",
      "  (fc1): Linear(in_features=11, out_features=256, bias=True)\n",
      "  (fc2): Linear(in_features=256, out_features=128, bias=True)\n",
      "  (fc3): Linear(in_features=128, out_features=24, bias=True)\n",
      "  (gelu): ReLU()\n",
      "  (dropout): Dropout(p=0.1, inplace=False)\n",
      "  (sigmoid): Sigmoid()\n",
      ")\n"
     ]
    }
   ],
   "source": [
    "# Define the size of the dynamic and static features\n",
    "dynamic_feature_size = 5\n",
    "static_feature_size = 3\n",
    "\n",
    "# Define hyperparameters (currently output of hyperparam search)\n",
    "hidden_size = 8\n",
    "fc_size = 128 \n",
    "learning_rate = 0.001070528640534469\n",
    "loss_type = 'huber' \n",
    "epochs = 10\n",
    "\n",
    "# Save dataset values used for inference\n",
    "dataset_values = {'mean': dataset.mean,\n",
    "                'std': dataset.std,\n",
    "                'output_mins': dataset.output_mins,\n",
    "                 'output_maxs': dataset.output_maxs}\n",
    "\n",
    "\n",
    "# Initialize the training module\n",
    "train_module = TrainEnergyPrediction(dynamic_feature_size,static_feature_size,hidden_size,fc_size, learning_rate, loss_type=loss_type,dataset_values=dataset_values)\n",
    "model = train_module.model \n",
    "print(model)"
   ]
  },
  {
   "cell_type": "code",
   "execution_count": 252,
   "metadata": {},
   "outputs": [
    {
     "name": "stderr",
     "output_type": "stream",
     "text": [
      "GPU available: False, used: False\n",
      "TPU available: False, using: 0 TPU cores\n",
      "IPU available: False, using: 0 IPUs\n",
      "HPU available: False, using: 0 HPUs\n",
      "\n",
      "  | Name    | Type                  | Params\n",
      "--------------------------------------------------\n",
      "0 | model   | EnergyPredictionModel | 39.5 K\n",
      "1 | loss_fn | HuberLoss             | 0     \n",
      "--------------------------------------------------\n",
      "39.5 K    Trainable params\n",
      "0         Non-trainable params\n",
      "39.5 K    Total params\n",
      "0.158     Total estimated model params size (MB)\n"
     ]
    },
    {
     "data": {
      "application/vnd.jupyter.widget-view+json": {
       "model_id": "a6b95cc23fd2471cb73163c9bc625bef",
       "version_major": 2,
       "version_minor": 0
      },
      "text/plain": [
       "Sanity Checking: |          | 0/? [00:00<?, ?it/s]"
      ]
     },
     "metadata": {},
     "output_type": "display_data"
    },
    {
     "name": "stderr",
     "output_type": "stream",
     "text": [
      "c:\\Users\\denni\\anaconda3\\envs\\5ARIP\\Lib\\site-packages\\pytorch_lightning\\trainer\\connectors\\data_connector.py:441: The 'val_dataloader' does not have many workers which may be a bottleneck. Consider increasing the value of the `num_workers` argument` to `num_workers=15` in the `DataLoader` to improve performance.\n",
      "c:\\Users\\denni\\anaconda3\\envs\\5ARIP\\Lib\\site-packages\\pytorch_lightning\\trainer\\connectors\\data_connector.py:441: The 'train_dataloader' does not have many workers which may be a bottleneck. Consider increasing the value of the `num_workers` argument` to `num_workers=15` in the `DataLoader` to improve performance.\n"
     ]
    },
    {
     "data": {
      "application/vnd.jupyter.widget-view+json": {
       "model_id": "219f79b4c7cf473abb71772be54abf72",
       "version_major": 2,
       "version_minor": 0
      },
      "text/plain": [
       "Training: |          | 0/? [00:00<?, ?it/s]"
      ]
     },
     "metadata": {},
     "output_type": "display_data"
    },
    {
     "name": "stdout",
     "output_type": "stream",
     "text": [
      "mape tensor(250.6516, grad_fn=<MulBackward0>)\n",
      "mean mape tensor(250.6516, grad_fn=<MeanBackward0>)\n",
      "mape tensor(243.2849, grad_fn=<MulBackward0>)\n",
      "mean mape tensor(243.2849, grad_fn=<MeanBackward0>)\n",
      "mape tensor(227.9704, grad_fn=<MulBackward0>)\n",
      "mean mape tensor(227.9704, grad_fn=<MeanBackward0>)\n",
      "mape tensor(235.8995, grad_fn=<MulBackward0>)\n",
      "mean mape tensor(235.8995, grad_fn=<MeanBackward0>)\n",
      "mape tensor(232.2130, grad_fn=<MulBackward0>)\n",
      "mean mape tensor(232.2130, grad_fn=<MeanBackward0>)\n",
      "mape tensor(219.2809, grad_fn=<MulBackward0>)\n",
      "mean mape tensor(219.2809, grad_fn=<MeanBackward0>)\n",
      "mape tensor(222.8137, grad_fn=<MulBackward0>)\n",
      "mean mape tensor(222.8137, grad_fn=<MeanBackward0>)\n",
      "mape tensor(199.6914, grad_fn=<MulBackward0>)\n",
      "mean mape tensor(199.6914, grad_fn=<MeanBackward0>)\n",
      "mape tensor(197.8930, grad_fn=<MulBackward0>)\n",
      "mean mape tensor(197.8930, grad_fn=<MeanBackward0>)\n",
      "mape tensor(202.9938, grad_fn=<MulBackward0>)\n",
      "mean mape tensor(202.9938, grad_fn=<MeanBackward0>)\n",
      "mape tensor(203.3213, grad_fn=<MulBackward0>)\n",
      "mean mape tensor(203.3213, grad_fn=<MeanBackward0>)\n",
      "mape tensor(170.9034, grad_fn=<MulBackward0>)\n",
      "mean mape tensor(170.9034, grad_fn=<MeanBackward0>)\n",
      "mape tensor(175.1964, grad_fn=<MulBackward0>)\n",
      "mean mape tensor(175.1964, grad_fn=<MeanBackward0>)\n",
      "mape tensor(165.8635, grad_fn=<MulBackward0>)\n",
      "mean mape tensor(165.8635, grad_fn=<MeanBackward0>)\n",
      "mape tensor(143.7186, grad_fn=<MulBackward0>)\n",
      "mean mape tensor(143.7186, grad_fn=<MeanBackward0>)\n",
      "mape tensor(142.9569, grad_fn=<MulBackward0>)\n",
      "mean mape tensor(142.9569, grad_fn=<MeanBackward0>)\n",
      "mape tensor(129.2571, grad_fn=<MulBackward0>)\n",
      "mean mape tensor(129.2571, grad_fn=<MeanBackward0>)\n",
      "mape tensor(122.0399, grad_fn=<MulBackward0>)\n",
      "mean mape tensor(122.0399, grad_fn=<MeanBackward0>)\n",
      "mape tensor(103.8354, grad_fn=<MulBackward0>)\n",
      "mean mape tensor(103.8354, grad_fn=<MeanBackward0>)\n",
      "mape tensor(107.3176, grad_fn=<MulBackward0>)\n",
      "mean mape tensor(107.3176, grad_fn=<MeanBackward0>)\n",
      "mape tensor(94.4915, grad_fn=<MulBackward0>)\n",
      "mean mape tensor(94.4915, grad_fn=<MeanBackward0>)\n",
      "mape tensor(78.4256, grad_fn=<MulBackward0>)\n",
      "mean mape tensor(78.4256, grad_fn=<MeanBackward0>)\n",
      "mape tensor(79.2126, grad_fn=<MulBackward0>)\n",
      "mean mape tensor(79.2126, grad_fn=<MeanBackward0>)\n",
      "mape tensor(69.0374, grad_fn=<MulBackward0>)\n",
      "mean mape tensor(69.0374, grad_fn=<MeanBackward0>)\n",
      "mape tensor(60.6120, grad_fn=<MulBackward0>)\n",
      "mean mape tensor(60.6120, grad_fn=<MeanBackward0>)\n",
      "mape tensor(56.2559, grad_fn=<MulBackward0>)\n",
      "mean mape tensor(56.2559, grad_fn=<MeanBackward0>)\n",
      "mape tensor(50.3641, grad_fn=<MulBackward0>)\n",
      "mean mape tensor(50.3641, grad_fn=<MeanBackward0>)\n",
      "mape tensor(48.6318, grad_fn=<MulBackward0>)\n",
      "mean mape tensor(48.6318, grad_fn=<MeanBackward0>)\n",
      "mape tensor(40.5456, grad_fn=<MulBackward0>)\n",
      "mean mape tensor(40.5456, grad_fn=<MeanBackward0>)\n",
      "mape tensor(39.8051, grad_fn=<MulBackward0>)\n",
      "mean mape tensor(39.8051, grad_fn=<MeanBackward0>)\n",
      "mape tensor(36.5008, grad_fn=<MulBackward0>)\n",
      "mean mape tensor(36.5008, grad_fn=<MeanBackward0>)\n",
      "mape tensor(35.1580, grad_fn=<MulBackward0>)\n",
      "mean mape tensor(35.1580, grad_fn=<MeanBackward0>)\n",
      "mape tensor(32.3383, grad_fn=<MulBackward0>)\n",
      "mean mape tensor(32.3383, grad_fn=<MeanBackward0>)\n",
      "mape tensor(33.9394, grad_fn=<MulBackward0>)\n",
      "mean mape tensor(33.9394, grad_fn=<MeanBackward0>)\n",
      "mape tensor(33.8976, grad_fn=<MulBackward0>)\n",
      "mean mape tensor(33.8976, grad_fn=<MeanBackward0>)\n",
      "mape tensor(31.1142, grad_fn=<MulBackward0>)\n",
      "mean mape tensor(31.1142, grad_fn=<MeanBackward0>)\n",
      "mape tensor(33.0674, grad_fn=<MulBackward0>)\n",
      "mean mape tensor(33.0674, grad_fn=<MeanBackward0>)\n",
      "mape tensor(32.5479, grad_fn=<MulBackward0>)\n",
      "mean mape tensor(32.5479, grad_fn=<MeanBackward0>)\n",
      "mape tensor(29.2587, grad_fn=<MulBackward0>)\n",
      "mean mape tensor(29.2587, grad_fn=<MeanBackward0>)\n",
      "mape tensor(28.0039, grad_fn=<MulBackward0>)\n",
      "mean mape tensor(28.0039, grad_fn=<MeanBackward0>)\n",
      "mape tensor(31.1486, grad_fn=<MulBackward0>)\n",
      "mean mape tensor(31.1486, grad_fn=<MeanBackward0>)\n",
      "mape tensor(30.2563, grad_fn=<MulBackward0>)\n",
      "mean mape tensor(30.2563, grad_fn=<MeanBackward0>)\n",
      "mape tensor(30.4111, grad_fn=<MulBackward0>)\n",
      "mean mape tensor(30.4111, grad_fn=<MeanBackward0>)\n",
      "mape tensor(28.8894, grad_fn=<MulBackward0>)\n",
      "mean mape tensor(28.8894, grad_fn=<MeanBackward0>)\n",
      "mape tensor(33.1553, grad_fn=<MulBackward0>)\n",
      "mean mape tensor(33.1553, grad_fn=<MeanBackward0>)\n",
      "mape tensor(33.2178, grad_fn=<MulBackward0>)\n",
      "mean mape tensor(33.2178, grad_fn=<MeanBackward0>)\n",
      "mape tensor(29.5253, grad_fn=<MulBackward0>)\n",
      "mean mape tensor(29.5253, grad_fn=<MeanBackward0>)\n",
      "mape tensor(34.1422, grad_fn=<MulBackward0>)\n",
      "mean mape tensor(34.1422, grad_fn=<MeanBackward0>)\n",
      "mape tensor(31.6300, grad_fn=<MulBackward0>)\n",
      "mean mape tensor(31.6300, grad_fn=<MeanBackward0>)\n",
      "mape tensor(31.7040, grad_fn=<MulBackward0>)\n",
      "mean mape tensor(31.7040, grad_fn=<MeanBackward0>)\n",
      "mape tensor(28.6929, grad_fn=<MulBackward0>)\n",
      "mean mape tensor(28.6929, grad_fn=<MeanBackward0>)\n",
      "mape tensor(30.9276, grad_fn=<MulBackward0>)\n",
      "mean mape tensor(30.9276, grad_fn=<MeanBackward0>)\n",
      "mape tensor(31.4931, grad_fn=<MulBackward0>)\n",
      "mean mape tensor(31.4931, grad_fn=<MeanBackward0>)\n",
      "mape tensor(32.3984, grad_fn=<MulBackward0>)\n",
      "mean mape tensor(32.3984, grad_fn=<MeanBackward0>)\n",
      "mape tensor(36.1372, grad_fn=<MulBackward0>)\n",
      "mean mape tensor(36.1372, grad_fn=<MeanBackward0>)\n",
      "mape tensor(32.0649, grad_fn=<MulBackward0>)\n",
      "mean mape tensor(32.0649, grad_fn=<MeanBackward0>)\n",
      "mape tensor(34.6835, grad_fn=<MulBackward0>)\n",
      "mean mape tensor(34.6835, grad_fn=<MeanBackward0>)\n",
      "mape tensor(34.3464, grad_fn=<MulBackward0>)\n",
      "mean mape tensor(34.3464, grad_fn=<MeanBackward0>)\n",
      "mape tensor(34.6808, grad_fn=<MulBackward0>)\n",
      "mean mape tensor(34.6808, grad_fn=<MeanBackward0>)\n",
      "mape tensor(35.9573, grad_fn=<MulBackward0>)\n",
      "mean mape tensor(35.9573, grad_fn=<MeanBackward0>)\n",
      "mape tensor(32.9665, grad_fn=<MulBackward0>)\n",
      "mean mape tensor(32.9665, grad_fn=<MeanBackward0>)\n",
      "mape tensor(34.8689, grad_fn=<MulBackward0>)\n",
      "mean mape tensor(34.8689, grad_fn=<MeanBackward0>)\n",
      "mape tensor(33.9846, grad_fn=<MulBackward0>)\n",
      "mean mape tensor(33.9846, grad_fn=<MeanBackward0>)\n",
      "mape tensor(33.9568, grad_fn=<MulBackward0>)\n",
      "mean mape tensor(33.9568, grad_fn=<MeanBackward0>)\n",
      "mape tensor(31.1575, grad_fn=<MulBackward0>)\n",
      "mean mape tensor(31.1575, grad_fn=<MeanBackward0>)\n",
      "mape tensor(30.6664, grad_fn=<MulBackward0>)\n",
      "mean mape tensor(30.6664, grad_fn=<MeanBackward0>)\n",
      "mape tensor(30.4792, grad_fn=<MulBackward0>)\n",
      "mean mape tensor(30.4792, grad_fn=<MeanBackward0>)\n",
      "mape tensor(34.2918, grad_fn=<MulBackward0>)\n",
      "mean mape tensor(34.2918, grad_fn=<MeanBackward0>)\n",
      "mape tensor(36.1499, grad_fn=<MulBackward0>)\n",
      "mean mape tensor(36.1499, grad_fn=<MeanBackward0>)\n",
      "mape tensor(29.3763, grad_fn=<MulBackward0>)\n",
      "mean mape tensor(29.3763, grad_fn=<MeanBackward0>)\n",
      "mape tensor(30.8861, grad_fn=<MulBackward0>)\n",
      "mean mape tensor(30.8861, grad_fn=<MeanBackward0>)\n",
      "mape tensor(34.2263, grad_fn=<MulBackward0>)\n",
      "mean mape tensor(34.2263, grad_fn=<MeanBackward0>)\n",
      "mape tensor(33.6004, grad_fn=<MulBackward0>)\n",
      "mean mape tensor(33.6004, grad_fn=<MeanBackward0>)\n",
      "mape tensor(30.4251, grad_fn=<MulBackward0>)\n",
      "mean mape tensor(30.4251, grad_fn=<MeanBackward0>)\n",
      "mape tensor(32.5869, grad_fn=<MulBackward0>)\n",
      "mean mape tensor(32.5869, grad_fn=<MeanBackward0>)\n",
      "mape tensor(31.5281, grad_fn=<MulBackward0>)\n",
      "mean mape tensor(31.5281, grad_fn=<MeanBackward0>)\n",
      "mape tensor(33.8589, grad_fn=<MulBackward0>)\n",
      "mean mape tensor(33.8589, grad_fn=<MeanBackward0>)\n",
      "mape tensor(33.4566, grad_fn=<MulBackward0>)\n",
      "mean mape tensor(33.4566, grad_fn=<MeanBackward0>)\n",
      "mape tensor(29.6783, grad_fn=<MulBackward0>)\n",
      "mean mape tensor(29.6783, grad_fn=<MeanBackward0>)\n",
      "mape tensor(32.5550, grad_fn=<MulBackward0>)\n",
      "mean mape tensor(32.5550, grad_fn=<MeanBackward0>)\n",
      "mape tensor(32.2711, grad_fn=<MulBackward0>)\n",
      "mean mape tensor(32.2711, grad_fn=<MeanBackward0>)\n",
      "mape tensor(31.6800, grad_fn=<MulBackward0>)\n",
      "mean mape tensor(31.6800, grad_fn=<MeanBackward0>)\n",
      "mape tensor(30.3665, grad_fn=<MulBackward0>)\n",
      "mean mape tensor(30.3665, grad_fn=<MeanBackward0>)\n",
      "mape tensor(29.6585, grad_fn=<MulBackward0>)\n",
      "mean mape tensor(29.6585, grad_fn=<MeanBackward0>)\n",
      "mape tensor(30.9913, grad_fn=<MulBackward0>)\n",
      "mean mape tensor(30.9913, grad_fn=<MeanBackward0>)\n",
      "mape tensor(29.4559, grad_fn=<MulBackward0>)\n",
      "mean mape tensor(29.4559, grad_fn=<MeanBackward0>)\n",
      "mape tensor(31.6519, grad_fn=<MulBackward0>)\n",
      "mean mape tensor(31.6519, grad_fn=<MeanBackward0>)\n",
      "mape tensor(32.7528, grad_fn=<MulBackward0>)\n",
      "mean mape tensor(32.7528, grad_fn=<MeanBackward0>)\n",
      "mape tensor(31.6337, grad_fn=<MulBackward0>)\n",
      "mean mape tensor(31.6337, grad_fn=<MeanBackward0>)\n",
      "mape tensor(31.4052, grad_fn=<MulBackward0>)\n",
      "mean mape tensor(31.4052, grad_fn=<MeanBackward0>)\n",
      "mape tensor(32.7761, grad_fn=<MulBackward0>)\n",
      "mean mape tensor(32.7761, grad_fn=<MeanBackward0>)\n",
      "mape tensor(34.5595, grad_fn=<MulBackward0>)\n",
      "mean mape tensor(34.5595, grad_fn=<MeanBackward0>)\n",
      "mape tensor(33.3215, grad_fn=<MulBackward0>)\n",
      "mean mape tensor(33.3215, grad_fn=<MeanBackward0>)\n",
      "mape tensor(31.3333, grad_fn=<MulBackward0>)\n",
      "mean mape tensor(31.3333, grad_fn=<MeanBackward0>)\n",
      "mape tensor(30.7710, grad_fn=<MulBackward0>)\n",
      "mean mape tensor(30.7710, grad_fn=<MeanBackward0>)\n",
      "mape tensor(31.2789, grad_fn=<MulBackward0>)\n",
      "mean mape tensor(31.2789, grad_fn=<MeanBackward0>)\n",
      "mape tensor(31.0857, grad_fn=<MulBackward0>)\n",
      "mean mape tensor(31.0857, grad_fn=<MeanBackward0>)\n",
      "mape tensor(30.1676, grad_fn=<MulBackward0>)\n",
      "mean mape tensor(30.1676, grad_fn=<MeanBackward0>)\n",
      "mape tensor(31.5163, grad_fn=<MulBackward0>)\n",
      "mean mape tensor(31.5163, grad_fn=<MeanBackward0>)\n",
      "mape tensor(30.5257, grad_fn=<MulBackward0>)\n",
      "mean mape tensor(30.5257, grad_fn=<MeanBackward0>)\n",
      "mape tensor(29.9828, grad_fn=<MulBackward0>)\n",
      "mean mape tensor(29.9828, grad_fn=<MeanBackward0>)\n",
      "mape tensor(28.8392, grad_fn=<MulBackward0>)\n",
      "mean mape tensor(28.8392, grad_fn=<MeanBackward0>)\n",
      "mape tensor(31.1010, grad_fn=<MulBackward0>)\n",
      "mean mape tensor(31.1010, grad_fn=<MeanBackward0>)\n",
      "mape tensor(29.2179, grad_fn=<MulBackward0>)\n",
      "mean mape tensor(29.2179, grad_fn=<MeanBackward0>)\n",
      "mape tensor(29.1744, grad_fn=<MulBackward0>)\n",
      "mean mape tensor(29.1744, grad_fn=<MeanBackward0>)\n",
      "mape tensor(30.3130, grad_fn=<MulBackward0>)\n",
      "mean mape tensor(30.3130, grad_fn=<MeanBackward0>)\n",
      "mape tensor(30.9104, grad_fn=<MulBackward0>)\n",
      "mean mape tensor(30.9104, grad_fn=<MeanBackward0>)\n",
      "mape tensor(34.5690, grad_fn=<MulBackward0>)\n",
      "mean mape tensor(34.5690, grad_fn=<MeanBackward0>)\n",
      "mape tensor(35.4060, grad_fn=<MulBackward0>)\n",
      "mean mape tensor(35.4060, grad_fn=<MeanBackward0>)\n",
      "mape tensor(32.9936, grad_fn=<MulBackward0>)\n",
      "mean mape tensor(32.9936, grad_fn=<MeanBackward0>)\n",
      "mape tensor(28.7188, grad_fn=<MulBackward0>)\n",
      "mean mape tensor(28.7188, grad_fn=<MeanBackward0>)\n",
      "mape tensor(28.0593, grad_fn=<MulBackward0>)\n",
      "mean mape tensor(28.0593, grad_fn=<MeanBackward0>)\n",
      "mape tensor(31.4963, grad_fn=<MulBackward0>)\n",
      "mean mape tensor(31.4963, grad_fn=<MeanBackward0>)\n",
      "mape tensor(29.2222, grad_fn=<MulBackward0>)\n",
      "mean mape tensor(29.2222, grad_fn=<MeanBackward0>)\n",
      "mape tensor(32.3465, grad_fn=<MulBackward0>)\n",
      "mean mape tensor(32.3465, grad_fn=<MeanBackward0>)\n",
      "mape tensor(31.0002, grad_fn=<MulBackward0>)\n",
      "mean mape tensor(31.0002, grad_fn=<MeanBackward0>)\n",
      "mape tensor(31.5309, grad_fn=<MulBackward0>)\n",
      "mean mape tensor(31.5309, grad_fn=<MeanBackward0>)\n",
      "mape tensor(27.5989, grad_fn=<MulBackward0>)\n",
      "mean mape tensor(27.5989, grad_fn=<MeanBackward0>)\n",
      "mape tensor(31.4225, grad_fn=<MulBackward0>)\n",
      "mean mape tensor(31.4225, grad_fn=<MeanBackward0>)\n",
      "mape tensor(33.3545, grad_fn=<MulBackward0>)\n",
      "mean mape tensor(33.3545, grad_fn=<MeanBackward0>)\n"
     ]
    },
    {
     "data": {
      "application/vnd.jupyter.widget-view+json": {
       "model_id": "09e1efdf0cca417794f9b15f0845100c",
       "version_major": 2,
       "version_minor": 0
      },
      "text/plain": [
       "Validation: |          | 0/? [00:00<?, ?it/s]"
      ]
     },
     "metadata": {},
     "output_type": "display_data"
    },
    {
     "name": "stdout",
     "output_type": "stream",
     "text": [
      "mape tensor(26.7817, grad_fn=<MulBackward0>)\n",
      "mean mape tensor(26.7817, grad_fn=<MeanBackward0>)\n",
      "mape tensor(29.3799, grad_fn=<MulBackward0>)\n",
      "mean mape tensor(29.3799, grad_fn=<MeanBackward0>)\n",
      "mape tensor(25.9246, grad_fn=<MulBackward0>)\n",
      "mean mape tensor(25.9246, grad_fn=<MeanBackward0>)\n",
      "mape tensor(26.5592, grad_fn=<MulBackward0>)\n",
      "mean mape tensor(26.5592, grad_fn=<MeanBackward0>)\n",
      "mape tensor(28.7461, grad_fn=<MulBackward0>)\n",
      "mean mape tensor(28.7461, grad_fn=<MeanBackward0>)\n",
      "mape tensor(27.7297, grad_fn=<MulBackward0>)\n",
      "mean mape tensor(27.7297, grad_fn=<MeanBackward0>)\n",
      "mape tensor(29.9202, grad_fn=<MulBackward0>)\n",
      "mean mape tensor(29.9202, grad_fn=<MeanBackward0>)\n",
      "mape tensor(29.4855, grad_fn=<MulBackward0>)\n",
      "mean mape tensor(29.4855, grad_fn=<MeanBackward0>)\n",
      "mape tensor(28.0101, grad_fn=<MulBackward0>)\n",
      "mean mape tensor(28.0101, grad_fn=<MeanBackward0>)\n",
      "mape tensor(29.8173, grad_fn=<MulBackward0>)\n",
      "mean mape tensor(29.8173, grad_fn=<MeanBackward0>)\n",
      "mape tensor(28.2921, grad_fn=<MulBackward0>)\n",
      "mean mape tensor(28.2921, grad_fn=<MeanBackward0>)\n",
      "mape tensor(27.7926, grad_fn=<MulBackward0>)\n",
      "mean mape tensor(27.7926, grad_fn=<MeanBackward0>)\n",
      "mape tensor(25.1671, grad_fn=<MulBackward0>)\n",
      "mean mape tensor(25.1671, grad_fn=<MeanBackward0>)\n",
      "mape tensor(26.5729, grad_fn=<MulBackward0>)\n",
      "mean mape tensor(26.5729, grad_fn=<MeanBackward0>)\n",
      "mape tensor(31.1090, grad_fn=<MulBackward0>)\n",
      "mean mape tensor(31.1090, grad_fn=<MeanBackward0>)\n",
      "mape tensor(28.2013, grad_fn=<MulBackward0>)\n",
      "mean mape tensor(28.2013, grad_fn=<MeanBackward0>)\n",
      "mape tensor(29.3211, grad_fn=<MulBackward0>)\n",
      "mean mape tensor(29.3211, grad_fn=<MeanBackward0>)\n",
      "mape tensor(29.3302, grad_fn=<MulBackward0>)\n",
      "mean mape tensor(29.3302, grad_fn=<MeanBackward0>)\n",
      "mape tensor(30.7777, grad_fn=<MulBackward0>)\n",
      "mean mape tensor(30.7777, grad_fn=<MeanBackward0>)\n",
      "mape tensor(27.2261, grad_fn=<MulBackward0>)\n",
      "mean mape tensor(27.2261, grad_fn=<MeanBackward0>)\n",
      "mape tensor(29.1081, grad_fn=<MulBackward0>)\n",
      "mean mape tensor(29.1081, grad_fn=<MeanBackward0>)\n",
      "mape tensor(31.7680, grad_fn=<MulBackward0>)\n",
      "mean mape tensor(31.7680, grad_fn=<MeanBackward0>)\n",
      "mape tensor(27.7106, grad_fn=<MulBackward0>)\n",
      "mean mape tensor(27.7106, grad_fn=<MeanBackward0>)\n",
      "mape tensor(26.9456, grad_fn=<MulBackward0>)\n",
      "mean mape tensor(26.9456, grad_fn=<MeanBackward0>)\n",
      "mape tensor(28.2494, grad_fn=<MulBackward0>)\n",
      "mean mape tensor(28.2494, grad_fn=<MeanBackward0>)\n",
      "mape tensor(27.3375, grad_fn=<MulBackward0>)\n",
      "mean mape tensor(27.3375, grad_fn=<MeanBackward0>)\n",
      "mape tensor(28.6550, grad_fn=<MulBackward0>)\n",
      "mean mape tensor(28.6550, grad_fn=<MeanBackward0>)\n",
      "mape tensor(28.7403, grad_fn=<MulBackward0>)\n",
      "mean mape tensor(28.7403, grad_fn=<MeanBackward0>)\n",
      "mape tensor(32.0625, grad_fn=<MulBackward0>)\n",
      "mean mape tensor(32.0625, grad_fn=<MeanBackward0>)\n",
      "mape tensor(26.6691, grad_fn=<MulBackward0>)\n",
      "mean mape tensor(26.6691, grad_fn=<MeanBackward0>)\n",
      "mape tensor(29.1534, grad_fn=<MulBackward0>)\n",
      "mean mape tensor(29.1534, grad_fn=<MeanBackward0>)\n",
      "mape tensor(29.6343, grad_fn=<MulBackward0>)\n",
      "mean mape tensor(29.6343, grad_fn=<MeanBackward0>)\n",
      "mape tensor(28.1336, grad_fn=<MulBackward0>)\n",
      "mean mape tensor(28.1336, grad_fn=<MeanBackward0>)\n",
      "mape tensor(26.8890, grad_fn=<MulBackward0>)\n",
      "mean mape tensor(26.8890, grad_fn=<MeanBackward0>)\n",
      "mape tensor(30.4029, grad_fn=<MulBackward0>)\n",
      "mean mape tensor(30.4029, grad_fn=<MeanBackward0>)\n",
      "mape tensor(28.6763, grad_fn=<MulBackward0>)\n",
      "mean mape tensor(28.6763, grad_fn=<MeanBackward0>)\n",
      "mape tensor(28.1847, grad_fn=<MulBackward0>)\n",
      "mean mape tensor(28.1847, grad_fn=<MeanBackward0>)\n",
      "mape tensor(27.7150, grad_fn=<MulBackward0>)\n",
      "mean mape tensor(27.7150, grad_fn=<MeanBackward0>)\n",
      "mape tensor(27.4443, grad_fn=<MulBackward0>)\n",
      "mean mape tensor(27.4443, grad_fn=<MeanBackward0>)\n",
      "mape tensor(28.7278, grad_fn=<MulBackward0>)\n",
      "mean mape tensor(28.7278, grad_fn=<MeanBackward0>)\n",
      "mape tensor(28.4978, grad_fn=<MulBackward0>)\n",
      "mean mape tensor(28.4978, grad_fn=<MeanBackward0>)\n",
      "mape tensor(27.4217, grad_fn=<MulBackward0>)\n",
      "mean mape tensor(27.4217, grad_fn=<MeanBackward0>)\n",
      "mape tensor(28.7622, grad_fn=<MulBackward0>)\n",
      "mean mape tensor(28.7622, grad_fn=<MeanBackward0>)\n",
      "mape tensor(27.3187, grad_fn=<MulBackward0>)\n",
      "mean mape tensor(27.3187, grad_fn=<MeanBackward0>)\n",
      "mape tensor(27.9339, grad_fn=<MulBackward0>)\n",
      "mean mape tensor(27.9339, grad_fn=<MeanBackward0>)\n",
      "mape tensor(26.7930, grad_fn=<MulBackward0>)\n",
      "mean mape tensor(26.7930, grad_fn=<MeanBackward0>)\n",
      "mape tensor(26.0954, grad_fn=<MulBackward0>)\n",
      "mean mape tensor(26.0954, grad_fn=<MeanBackward0>)\n",
      "mape tensor(25.8457, grad_fn=<MulBackward0>)\n",
      "mean mape tensor(25.8457, grad_fn=<MeanBackward0>)\n",
      "mape tensor(28.2587, grad_fn=<MulBackward0>)\n",
      "mean mape tensor(28.2587, grad_fn=<MeanBackward0>)\n",
      "mape tensor(27.6401, grad_fn=<MulBackward0>)\n",
      "mean mape tensor(27.6401, grad_fn=<MeanBackward0>)\n",
      "mape tensor(31.3730, grad_fn=<MulBackward0>)\n",
      "mean mape tensor(31.3730, grad_fn=<MeanBackward0>)\n",
      "mape tensor(27.5961, grad_fn=<MulBackward0>)\n",
      "mean mape tensor(27.5961, grad_fn=<MeanBackward0>)\n",
      "mape tensor(27.5105, grad_fn=<MulBackward0>)\n",
      "mean mape tensor(27.5105, grad_fn=<MeanBackward0>)\n",
      "mape tensor(29.2949, grad_fn=<MulBackward0>)\n",
      "mean mape tensor(29.2949, grad_fn=<MeanBackward0>)\n",
      "mape tensor(30.3771, grad_fn=<MulBackward0>)\n",
      "mean mape tensor(30.3771, grad_fn=<MeanBackward0>)\n",
      "mape tensor(28.4212, grad_fn=<MulBackward0>)\n",
      "mean mape tensor(28.4212, grad_fn=<MeanBackward0>)\n",
      "mape tensor(28.3186, grad_fn=<MulBackward0>)\n",
      "mean mape tensor(28.3186, grad_fn=<MeanBackward0>)\n",
      "mape tensor(29.9224, grad_fn=<MulBackward0>)\n",
      "mean mape tensor(29.9224, grad_fn=<MeanBackward0>)\n",
      "mape tensor(28.7038, grad_fn=<MulBackward0>)\n",
      "mean mape tensor(28.7038, grad_fn=<MeanBackward0>)\n",
      "mape tensor(28.4859, grad_fn=<MulBackward0>)\n",
      "mean mape tensor(28.4859, grad_fn=<MeanBackward0>)\n",
      "mape tensor(25.3238, grad_fn=<MulBackward0>)\n",
      "mean mape tensor(25.3238, grad_fn=<MeanBackward0>)\n",
      "mape tensor(25.9260, grad_fn=<MulBackward0>)\n",
      "mean mape tensor(25.9260, grad_fn=<MeanBackward0>)\n",
      "mape tensor(28.9768, grad_fn=<MulBackward0>)\n",
      "mean mape tensor(28.9768, grad_fn=<MeanBackward0>)\n",
      "mape tensor(27.2507, grad_fn=<MulBackward0>)\n",
      "mean mape tensor(27.2507, grad_fn=<MeanBackward0>)\n",
      "mape tensor(25.6965, grad_fn=<MulBackward0>)\n",
      "mean mape tensor(25.6965, grad_fn=<MeanBackward0>)\n",
      "mape tensor(24.2526, grad_fn=<MulBackward0>)\n",
      "mean mape tensor(24.2526, grad_fn=<MeanBackward0>)\n",
      "mape tensor(25.2515, grad_fn=<MulBackward0>)\n",
      "mean mape tensor(25.2515, grad_fn=<MeanBackward0>)\n",
      "mape tensor(26.5453, grad_fn=<MulBackward0>)\n",
      "mean mape tensor(26.5453, grad_fn=<MeanBackward0>)\n",
      "mape tensor(25.4401, grad_fn=<MulBackward0>)\n",
      "mean mape tensor(25.4401, grad_fn=<MeanBackward0>)\n",
      "mape tensor(25.3318, grad_fn=<MulBackward0>)\n",
      "mean mape tensor(25.3318, grad_fn=<MeanBackward0>)\n",
      "mape tensor(24.7030, grad_fn=<MulBackward0>)\n",
      "mean mape tensor(24.7030, grad_fn=<MeanBackward0>)\n",
      "mape tensor(25.2162, grad_fn=<MulBackward0>)\n",
      "mean mape tensor(25.2162, grad_fn=<MeanBackward0>)\n",
      "mape tensor(26.7646, grad_fn=<MulBackward0>)\n",
      "mean mape tensor(26.7646, grad_fn=<MeanBackward0>)\n",
      "mape tensor(25.5168, grad_fn=<MulBackward0>)\n",
      "mean mape tensor(25.5168, grad_fn=<MeanBackward0>)\n",
      "mape tensor(29.4881, grad_fn=<MulBackward0>)\n",
      "mean mape tensor(29.4881, grad_fn=<MeanBackward0>)\n",
      "mape tensor(27.5309, grad_fn=<MulBackward0>)\n",
      "mean mape tensor(27.5309, grad_fn=<MeanBackward0>)\n",
      "mape tensor(29.4192, grad_fn=<MulBackward0>)\n",
      "mean mape tensor(29.4192, grad_fn=<MeanBackward0>)\n",
      "mape tensor(25.2460, grad_fn=<MulBackward0>)\n",
      "mean mape tensor(25.2460, grad_fn=<MeanBackward0>)\n",
      "mape tensor(25.6876, grad_fn=<MulBackward0>)\n",
      "mean mape tensor(25.6876, grad_fn=<MeanBackward0>)\n",
      "mape tensor(25.7412, grad_fn=<MulBackward0>)\n",
      "mean mape tensor(25.7412, grad_fn=<MeanBackward0>)\n",
      "mape tensor(24.0924, grad_fn=<MulBackward0>)\n",
      "mean mape tensor(24.0924, grad_fn=<MeanBackward0>)\n",
      "mape tensor(27.6946, grad_fn=<MulBackward0>)\n",
      "mean mape tensor(27.6946, grad_fn=<MeanBackward0>)\n",
      "mape tensor(27.9912, grad_fn=<MulBackward0>)\n",
      "mean mape tensor(27.9912, grad_fn=<MeanBackward0>)\n",
      "mape tensor(24.5245, grad_fn=<MulBackward0>)\n",
      "mean mape tensor(24.5245, grad_fn=<MeanBackward0>)\n",
      "mape tensor(28.0713, grad_fn=<MulBackward0>)\n",
      "mean mape tensor(28.0713, grad_fn=<MeanBackward0>)\n",
      "mape tensor(25.8577, grad_fn=<MulBackward0>)\n",
      "mean mape tensor(25.8577, grad_fn=<MeanBackward0>)\n",
      "mape tensor(29.0486, grad_fn=<MulBackward0>)\n",
      "mean mape tensor(29.0486, grad_fn=<MeanBackward0>)\n",
      "mape tensor(27.8686, grad_fn=<MulBackward0>)\n",
      "mean mape tensor(27.8686, grad_fn=<MeanBackward0>)\n",
      "mape tensor(28.2224, grad_fn=<MulBackward0>)\n",
      "mean mape tensor(28.2224, grad_fn=<MeanBackward0>)\n",
      "mape tensor(24.6786, grad_fn=<MulBackward0>)\n",
      "mean mape tensor(24.6786, grad_fn=<MeanBackward0>)\n",
      "mape tensor(26.3002, grad_fn=<MulBackward0>)\n",
      "mean mape tensor(26.3002, grad_fn=<MeanBackward0>)\n",
      "mape tensor(25.2018, grad_fn=<MulBackward0>)\n",
      "mean mape tensor(25.2018, grad_fn=<MeanBackward0>)\n",
      "mape tensor(23.8553, grad_fn=<MulBackward0>)\n",
      "mean mape tensor(23.8553, grad_fn=<MeanBackward0>)\n",
      "mape tensor(25.0393, grad_fn=<MulBackward0>)\n",
      "mean mape tensor(25.0393, grad_fn=<MeanBackward0>)\n",
      "mape tensor(25.4159, grad_fn=<MulBackward0>)\n",
      "mean mape tensor(25.4159, grad_fn=<MeanBackward0>)\n",
      "mape tensor(25.8289, grad_fn=<MulBackward0>)\n",
      "mean mape tensor(25.8289, grad_fn=<MeanBackward0>)\n",
      "mape tensor(25.2792, grad_fn=<MulBackward0>)\n",
      "mean mape tensor(25.2792, grad_fn=<MeanBackward0>)\n",
      "mape tensor(26.7591, grad_fn=<MulBackward0>)\n",
      "mean mape tensor(26.7591, grad_fn=<MeanBackward0>)\n",
      "mape tensor(27.8838, grad_fn=<MulBackward0>)\n",
      "mean mape tensor(27.8838, grad_fn=<MeanBackward0>)\n",
      "mape tensor(25.6794, grad_fn=<MulBackward0>)\n",
      "mean mape tensor(25.6794, grad_fn=<MeanBackward0>)\n",
      "mape tensor(26.6302, grad_fn=<MulBackward0>)\n",
      "mean mape tensor(26.6302, grad_fn=<MeanBackward0>)\n",
      "mape tensor(24.8634, grad_fn=<MulBackward0>)\n",
      "mean mape tensor(24.8634, grad_fn=<MeanBackward0>)\n",
      "mape tensor(26.5432, grad_fn=<MulBackward0>)\n",
      "mean mape tensor(26.5432, grad_fn=<MeanBackward0>)\n",
      "mape tensor(27.0822, grad_fn=<MulBackward0>)\n",
      "mean mape tensor(27.0822, grad_fn=<MeanBackward0>)\n",
      "mape tensor(25.5660, grad_fn=<MulBackward0>)\n",
      "mean mape tensor(25.5660, grad_fn=<MeanBackward0>)\n",
      "mape tensor(24.3808, grad_fn=<MulBackward0>)\n",
      "mean mape tensor(24.3808, grad_fn=<MeanBackward0>)\n",
      "mape tensor(25.3277, grad_fn=<MulBackward0>)\n",
      "mean mape tensor(25.3277, grad_fn=<MeanBackward0>)\n",
      "mape tensor(24.2073, grad_fn=<MulBackward0>)\n",
      "mean mape tensor(24.2073, grad_fn=<MeanBackward0>)\n",
      "mape tensor(28.9440, grad_fn=<MulBackward0>)\n",
      "mean mape tensor(28.9440, grad_fn=<MeanBackward0>)\n",
      "mape tensor(28.0634, grad_fn=<MulBackward0>)\n",
      "mean mape tensor(28.0634, grad_fn=<MeanBackward0>)\n",
      "mape tensor(25.2471, grad_fn=<MulBackward0>)\n",
      "mean mape tensor(25.2471, grad_fn=<MeanBackward0>)\n",
      "mape tensor(27.1121, grad_fn=<MulBackward0>)\n",
      "mean mape tensor(27.1121, grad_fn=<MeanBackward0>)\n",
      "mape tensor(23.0731, grad_fn=<MulBackward0>)\n",
      "mean mape tensor(23.0731, grad_fn=<MeanBackward0>)\n",
      "mape tensor(21.3947, grad_fn=<MulBackward0>)\n",
      "mean mape tensor(21.3947, grad_fn=<MeanBackward0>)\n",
      "mape tensor(24.7694, grad_fn=<MulBackward0>)\n",
      "mean mape tensor(24.7694, grad_fn=<MeanBackward0>)\n",
      "mape tensor(26.4393, grad_fn=<MulBackward0>)\n",
      "mean mape tensor(26.4393, grad_fn=<MeanBackward0>)\n",
      "mape tensor(25.6342, grad_fn=<MulBackward0>)\n",
      "mean mape tensor(25.6342, grad_fn=<MeanBackward0>)\n",
      "mape tensor(24.3067, grad_fn=<MulBackward0>)\n",
      "mean mape tensor(24.3067, grad_fn=<MeanBackward0>)\n",
      "mape tensor(23.9613, grad_fn=<MulBackward0>)\n",
      "mean mape tensor(23.9613, grad_fn=<MeanBackward0>)\n",
      "mape tensor(27.2912, grad_fn=<MulBackward0>)\n",
      "mean mape tensor(27.2912, grad_fn=<MeanBackward0>)\n"
     ]
    },
    {
     "data": {
      "application/vnd.jupyter.widget-view+json": {
       "model_id": "557ecde89d8f4dad9dc674a63b7e3f44",
       "version_major": 2,
       "version_minor": 0
      },
      "text/plain": [
       "Validation: |          | 0/? [00:00<?, ?it/s]"
      ]
     },
     "metadata": {},
     "output_type": "display_data"
    },
    {
     "name": "stdout",
     "output_type": "stream",
     "text": [
      "mape tensor(23.8858, grad_fn=<MulBackward0>)\n",
      "mean mape tensor(23.8858, grad_fn=<MeanBackward0>)\n",
      "mape tensor(24.8234, grad_fn=<MulBackward0>)\n",
      "mean mape tensor(24.8234, grad_fn=<MeanBackward0>)\n",
      "mape tensor(24.2163, grad_fn=<MulBackward0>)\n",
      "mean mape tensor(24.2163, grad_fn=<MeanBackward0>)\n",
      "mape tensor(24.2048, grad_fn=<MulBackward0>)\n",
      "mean mape tensor(24.2048, grad_fn=<MeanBackward0>)\n",
      "mape tensor(23.9369, grad_fn=<MulBackward0>)\n",
      "mean mape tensor(23.9369, grad_fn=<MeanBackward0>)\n",
      "mape tensor(24.6417, grad_fn=<MulBackward0>)\n",
      "mean mape tensor(24.6417, grad_fn=<MeanBackward0>)\n",
      "mape tensor(27.5997, grad_fn=<MulBackward0>)\n",
      "mean mape tensor(27.5997, grad_fn=<MeanBackward0>)\n",
      "mape tensor(28.2749, grad_fn=<MulBackward0>)\n",
      "mean mape tensor(28.2749, grad_fn=<MeanBackward0>)\n",
      "mape tensor(22.6707, grad_fn=<MulBackward0>)\n",
      "mean mape tensor(22.6707, grad_fn=<MeanBackward0>)\n",
      "mape tensor(27.4799, grad_fn=<MulBackward0>)\n",
      "mean mape tensor(27.4799, grad_fn=<MeanBackward0>)\n",
      "mape tensor(28.9053, grad_fn=<MulBackward0>)\n",
      "mean mape tensor(28.9053, grad_fn=<MeanBackward0>)\n",
      "mape tensor(24.7412, grad_fn=<MulBackward0>)\n",
      "mean mape tensor(24.7412, grad_fn=<MeanBackward0>)\n",
      "mape tensor(24.1081, grad_fn=<MulBackward0>)\n",
      "mean mape tensor(24.1081, grad_fn=<MeanBackward0>)\n",
      "mape tensor(24.7325, grad_fn=<MulBackward0>)\n",
      "mean mape tensor(24.7325, grad_fn=<MeanBackward0>)\n",
      "mape tensor(24.7596, grad_fn=<MulBackward0>)\n",
      "mean mape tensor(24.7596, grad_fn=<MeanBackward0>)\n",
      "mape tensor(23.8600, grad_fn=<MulBackward0>)\n",
      "mean mape tensor(23.8600, grad_fn=<MeanBackward0>)\n",
      "mape tensor(22.2174, grad_fn=<MulBackward0>)\n",
      "mean mape tensor(22.2174, grad_fn=<MeanBackward0>)\n",
      "mape tensor(22.5277, grad_fn=<MulBackward0>)\n",
      "mean mape tensor(22.5277, grad_fn=<MeanBackward0>)\n",
      "mape tensor(22.5557, grad_fn=<MulBackward0>)\n",
      "mean mape tensor(22.5557, grad_fn=<MeanBackward0>)\n",
      "mape tensor(24.6570, grad_fn=<MulBackward0>)\n",
      "mean mape tensor(24.6570, grad_fn=<MeanBackward0>)\n",
      "mape tensor(23.2998, grad_fn=<MulBackward0>)\n",
      "mean mape tensor(23.2998, grad_fn=<MeanBackward0>)\n",
      "mape tensor(23.9036, grad_fn=<MulBackward0>)\n",
      "mean mape tensor(23.9036, grad_fn=<MeanBackward0>)\n",
      "mape tensor(23.8145, grad_fn=<MulBackward0>)\n",
      "mean mape tensor(23.8145, grad_fn=<MeanBackward0>)\n",
      "mape tensor(21.9558, grad_fn=<MulBackward0>)\n",
      "mean mape tensor(21.9558, grad_fn=<MeanBackward0>)\n",
      "mape tensor(22.9716, grad_fn=<MulBackward0>)\n",
      "mean mape tensor(22.9716, grad_fn=<MeanBackward0>)\n",
      "mape tensor(23.4966, grad_fn=<MulBackward0>)\n",
      "mean mape tensor(23.4966, grad_fn=<MeanBackward0>)\n",
      "mape tensor(23.3094, grad_fn=<MulBackward0>)\n",
      "mean mape tensor(23.3094, grad_fn=<MeanBackward0>)\n",
      "mape tensor(24.9939, grad_fn=<MulBackward0>)\n",
      "mean mape tensor(24.9939, grad_fn=<MeanBackward0>)\n",
      "mape tensor(26.2416, grad_fn=<MulBackward0>)\n",
      "mean mape tensor(26.2416, grad_fn=<MeanBackward0>)\n",
      "mape tensor(22.5005, grad_fn=<MulBackward0>)\n",
      "mean mape tensor(22.5005, grad_fn=<MeanBackward0>)\n",
      "mape tensor(24.3076, grad_fn=<MulBackward0>)\n",
      "mean mape tensor(24.3076, grad_fn=<MeanBackward0>)\n",
      "mape tensor(22.6700, grad_fn=<MulBackward0>)\n",
      "mean mape tensor(22.6700, grad_fn=<MeanBackward0>)\n",
      "mape tensor(22.8611, grad_fn=<MulBackward0>)\n",
      "mean mape tensor(22.8611, grad_fn=<MeanBackward0>)\n",
      "mape tensor(22.3251, grad_fn=<MulBackward0>)\n",
      "mean mape tensor(22.3251, grad_fn=<MeanBackward0>)\n",
      "mape tensor(21.8415, grad_fn=<MulBackward0>)\n",
      "mean mape tensor(21.8415, grad_fn=<MeanBackward0>)\n",
      "mape tensor(26.5009, grad_fn=<MulBackward0>)\n",
      "mean mape tensor(26.5009, grad_fn=<MeanBackward0>)\n",
      "mape tensor(23.8796, grad_fn=<MulBackward0>)\n",
      "mean mape tensor(23.8796, grad_fn=<MeanBackward0>)\n",
      "mape tensor(24.1625, grad_fn=<MulBackward0>)\n",
      "mean mape tensor(24.1625, grad_fn=<MeanBackward0>)\n",
      "mape tensor(19.9716, grad_fn=<MulBackward0>)\n",
      "mean mape tensor(19.9716, grad_fn=<MeanBackward0>)\n",
      "mape tensor(23.1531, grad_fn=<MulBackward0>)\n",
      "mean mape tensor(23.1531, grad_fn=<MeanBackward0>)\n",
      "mape tensor(27.3914, grad_fn=<MulBackward0>)\n",
      "mean mape tensor(27.3914, grad_fn=<MeanBackward0>)\n",
      "mape tensor(21.4707, grad_fn=<MulBackward0>)\n",
      "mean mape tensor(21.4707, grad_fn=<MeanBackward0>)\n",
      "mape tensor(23.1111, grad_fn=<MulBackward0>)\n",
      "mean mape tensor(23.1111, grad_fn=<MeanBackward0>)\n",
      "mape tensor(21.8896, grad_fn=<MulBackward0>)\n",
      "mean mape tensor(21.8896, grad_fn=<MeanBackward0>)\n",
      "mape tensor(25.2858, grad_fn=<MulBackward0>)\n",
      "mean mape tensor(25.2858, grad_fn=<MeanBackward0>)\n",
      "mape tensor(22.7799, grad_fn=<MulBackward0>)\n",
      "mean mape tensor(22.7799, grad_fn=<MeanBackward0>)\n",
      "mape tensor(23.8538, grad_fn=<MulBackward0>)\n",
      "mean mape tensor(23.8538, grad_fn=<MeanBackward0>)\n",
      "mape tensor(24.5041, grad_fn=<MulBackward0>)\n",
      "mean mape tensor(24.5041, grad_fn=<MeanBackward0>)\n",
      "mape tensor(22.6857, grad_fn=<MulBackward0>)\n",
      "mean mape tensor(22.6857, grad_fn=<MeanBackward0>)\n",
      "mape tensor(23.3565, grad_fn=<MulBackward0>)\n",
      "mean mape tensor(23.3565, grad_fn=<MeanBackward0>)\n",
      "mape tensor(21.9243, grad_fn=<MulBackward0>)\n",
      "mean mape tensor(21.9243, grad_fn=<MeanBackward0>)\n",
      "mape tensor(21.5853, grad_fn=<MulBackward0>)\n",
      "mean mape tensor(21.5853, grad_fn=<MeanBackward0>)\n",
      "mape tensor(24.1176, grad_fn=<MulBackward0>)\n",
      "mean mape tensor(24.1176, grad_fn=<MeanBackward0>)\n",
      "mape tensor(23.3873, grad_fn=<MulBackward0>)\n",
      "mean mape tensor(23.3873, grad_fn=<MeanBackward0>)\n",
      "mape tensor(22.6649, grad_fn=<MulBackward0>)\n",
      "mean mape tensor(22.6649, grad_fn=<MeanBackward0>)\n",
      "mape tensor(24.3505, grad_fn=<MulBackward0>)\n",
      "mean mape tensor(24.3505, grad_fn=<MeanBackward0>)\n",
      "mape tensor(21.9979, grad_fn=<MulBackward0>)\n",
      "mean mape tensor(21.9979, grad_fn=<MeanBackward0>)\n",
      "mape tensor(20.9471, grad_fn=<MulBackward0>)\n",
      "mean mape tensor(20.9471, grad_fn=<MeanBackward0>)\n",
      "mape tensor(21.4799, grad_fn=<MulBackward0>)\n",
      "mean mape tensor(21.4799, grad_fn=<MeanBackward0>)\n",
      "mape tensor(20.2802, grad_fn=<MulBackward0>)\n",
      "mean mape tensor(20.2802, grad_fn=<MeanBackward0>)\n",
      "mape tensor(21.2290, grad_fn=<MulBackward0>)\n",
      "mean mape tensor(21.2290, grad_fn=<MeanBackward0>)\n",
      "mape tensor(19.0385, grad_fn=<MulBackward0>)\n",
      "mean mape tensor(19.0385, grad_fn=<MeanBackward0>)\n",
      "mape tensor(20.7695, grad_fn=<MulBackward0>)\n",
      "mean mape tensor(20.7695, grad_fn=<MeanBackward0>)\n",
      "mape tensor(21.0294, grad_fn=<MulBackward0>)\n",
      "mean mape tensor(21.0294, grad_fn=<MeanBackward0>)\n",
      "mape tensor(21.4649, grad_fn=<MulBackward0>)\n",
      "mean mape tensor(21.4649, grad_fn=<MeanBackward0>)\n",
      "mape tensor(22.8321, grad_fn=<MulBackward0>)\n",
      "mean mape tensor(22.8321, grad_fn=<MeanBackward0>)\n",
      "mape tensor(24.9296, grad_fn=<MulBackward0>)\n",
      "mean mape tensor(24.9296, grad_fn=<MeanBackward0>)\n",
      "mape tensor(23.1178, grad_fn=<MulBackward0>)\n",
      "mean mape tensor(23.1178, grad_fn=<MeanBackward0>)\n",
      "mape tensor(20.2303, grad_fn=<MulBackward0>)\n",
      "mean mape tensor(20.2303, grad_fn=<MeanBackward0>)\n",
      "mape tensor(23.1031, grad_fn=<MulBackward0>)\n",
      "mean mape tensor(23.1031, grad_fn=<MeanBackward0>)\n",
      "mape tensor(21.8482, grad_fn=<MulBackward0>)\n",
      "mean mape tensor(21.8482, grad_fn=<MeanBackward0>)\n",
      "mape tensor(22.9960, grad_fn=<MulBackward0>)\n",
      "mean mape tensor(22.9960, grad_fn=<MeanBackward0>)\n",
      "mape tensor(21.8637, grad_fn=<MulBackward0>)\n",
      "mean mape tensor(21.8637, grad_fn=<MeanBackward0>)\n",
      "mape tensor(21.3808, grad_fn=<MulBackward0>)\n",
      "mean mape tensor(21.3808, grad_fn=<MeanBackward0>)\n",
      "mape tensor(21.1353, grad_fn=<MulBackward0>)\n",
      "mean mape tensor(21.1353, grad_fn=<MeanBackward0>)\n",
      "mape tensor(21.1286, grad_fn=<MulBackward0>)\n",
      "mean mape tensor(21.1286, grad_fn=<MeanBackward0>)\n",
      "mape tensor(20.4259, grad_fn=<MulBackward0>)\n",
      "mean mape tensor(20.4259, grad_fn=<MeanBackward0>)\n",
      "mape tensor(21.4195, grad_fn=<MulBackward0>)\n",
      "mean mape tensor(21.4195, grad_fn=<MeanBackward0>)\n",
      "mape tensor(23.7192, grad_fn=<MulBackward0>)\n",
      "mean mape tensor(23.7192, grad_fn=<MeanBackward0>)\n",
      "mape tensor(22.5081, grad_fn=<MulBackward0>)\n",
      "mean mape tensor(22.5081, grad_fn=<MeanBackward0>)\n",
      "mape tensor(23.5051, grad_fn=<MulBackward0>)\n",
      "mean mape tensor(23.5051, grad_fn=<MeanBackward0>)\n",
      "mape tensor(22.8193, grad_fn=<MulBackward0>)\n",
      "mean mape tensor(22.8193, grad_fn=<MeanBackward0>)\n",
      "mape tensor(21.3889, grad_fn=<MulBackward0>)\n",
      "mean mape tensor(21.3889, grad_fn=<MeanBackward0>)\n",
      "mape tensor(21.4362, grad_fn=<MulBackward0>)\n",
      "mean mape tensor(21.4362, grad_fn=<MeanBackward0>)\n",
      "mape tensor(20.8606, grad_fn=<MulBackward0>)\n",
      "mean mape tensor(20.8606, grad_fn=<MeanBackward0>)\n",
      "mape tensor(19.5982, grad_fn=<MulBackward0>)\n",
      "mean mape tensor(19.5982, grad_fn=<MeanBackward0>)\n",
      "mape tensor(20.1312, grad_fn=<MulBackward0>)\n",
      "mean mape tensor(20.1312, grad_fn=<MeanBackward0>)\n",
      "mape tensor(20.7055, grad_fn=<MulBackward0>)\n",
      "mean mape tensor(20.7055, grad_fn=<MeanBackward0>)\n",
      "mape tensor(21.8868, grad_fn=<MulBackward0>)\n",
      "mean mape tensor(21.8868, grad_fn=<MeanBackward0>)\n",
      "mape tensor(22.0437, grad_fn=<MulBackward0>)\n",
      "mean mape tensor(22.0437, grad_fn=<MeanBackward0>)\n",
      "mape tensor(20.2440, grad_fn=<MulBackward0>)\n",
      "mean mape tensor(20.2440, grad_fn=<MeanBackward0>)\n",
      "mape tensor(24.9474, grad_fn=<MulBackward0>)\n",
      "mean mape tensor(24.9474, grad_fn=<MeanBackward0>)\n",
      "mape tensor(22.9483, grad_fn=<MulBackward0>)\n",
      "mean mape tensor(22.9483, grad_fn=<MeanBackward0>)\n",
      "mape tensor(22.1004, grad_fn=<MulBackward0>)\n",
      "mean mape tensor(22.1004, grad_fn=<MeanBackward0>)\n",
      "mape tensor(21.1503, grad_fn=<MulBackward0>)\n",
      "mean mape tensor(21.1503, grad_fn=<MeanBackward0>)\n",
      "mape tensor(22.2305, grad_fn=<MulBackward0>)\n",
      "mean mape tensor(22.2305, grad_fn=<MeanBackward0>)\n",
      "mape tensor(21.8934, grad_fn=<MulBackward0>)\n",
      "mean mape tensor(21.8934, grad_fn=<MeanBackward0>)\n",
      "mape tensor(21.9200, grad_fn=<MulBackward0>)\n",
      "mean mape tensor(21.9200, grad_fn=<MeanBackward0>)\n",
      "mape tensor(21.7478, grad_fn=<MulBackward0>)\n",
      "mean mape tensor(21.7478, grad_fn=<MeanBackward0>)\n",
      "mape tensor(20.2625, grad_fn=<MulBackward0>)\n",
      "mean mape tensor(20.2625, grad_fn=<MeanBackward0>)\n",
      "mape tensor(20.8911, grad_fn=<MulBackward0>)\n",
      "mean mape tensor(20.8911, grad_fn=<MeanBackward0>)\n",
      "mape tensor(24.8540, grad_fn=<MulBackward0>)\n",
      "mean mape tensor(24.8540, grad_fn=<MeanBackward0>)\n",
      "mape tensor(22.7115, grad_fn=<MulBackward0>)\n",
      "mean mape tensor(22.7115, grad_fn=<MeanBackward0>)\n",
      "mape tensor(18.8941, grad_fn=<MulBackward0>)\n",
      "mean mape tensor(18.8941, grad_fn=<MeanBackward0>)\n",
      "mape tensor(19.4558, grad_fn=<MulBackward0>)\n",
      "mean mape tensor(19.4558, grad_fn=<MeanBackward0>)\n",
      "mape tensor(20.1540, grad_fn=<MulBackward0>)\n",
      "mean mape tensor(20.1540, grad_fn=<MeanBackward0>)\n",
      "mape tensor(20.1826, grad_fn=<MulBackward0>)\n",
      "mean mape tensor(20.1826, grad_fn=<MeanBackward0>)\n",
      "mape tensor(19.2213, grad_fn=<MulBackward0>)\n",
      "mean mape tensor(19.2213, grad_fn=<MeanBackward0>)\n",
      "mape tensor(20.3553, grad_fn=<MulBackward0>)\n",
      "mean mape tensor(20.3553, grad_fn=<MeanBackward0>)\n",
      "mape tensor(20.3193, grad_fn=<MulBackward0>)\n",
      "mean mape tensor(20.3193, grad_fn=<MeanBackward0>)\n",
      "mape tensor(23.2695, grad_fn=<MulBackward0>)\n",
      "mean mape tensor(23.2695, grad_fn=<MeanBackward0>)\n",
      "mape tensor(20.0506, grad_fn=<MulBackward0>)\n",
      "mean mape tensor(20.0506, grad_fn=<MeanBackward0>)\n",
      "mape tensor(21.7838, grad_fn=<MulBackward0>)\n",
      "mean mape tensor(21.7838, grad_fn=<MeanBackward0>)\n",
      "mape tensor(20.8214, grad_fn=<MulBackward0>)\n",
      "mean mape tensor(20.8214, grad_fn=<MeanBackward0>)\n",
      "mape tensor(21.8233, grad_fn=<MulBackward0>)\n",
      "mean mape tensor(21.8233, grad_fn=<MeanBackward0>)\n",
      "mape tensor(21.3300, grad_fn=<MulBackward0>)\n",
      "mean mape tensor(21.3300, grad_fn=<MeanBackward0>)\n",
      "mape tensor(21.5293, grad_fn=<MulBackward0>)\n",
      "mean mape tensor(21.5293, grad_fn=<MeanBackward0>)\n",
      "mape tensor(21.7995, grad_fn=<MulBackward0>)\n",
      "mean mape tensor(21.7995, grad_fn=<MeanBackward0>)\n",
      "mape tensor(21.0179, grad_fn=<MulBackward0>)\n",
      "mean mape tensor(21.0179, grad_fn=<MeanBackward0>)\n",
      "mape tensor(21.4511, grad_fn=<MulBackward0>)\n",
      "mean mape tensor(21.4511, grad_fn=<MeanBackward0>)\n"
     ]
    },
    {
     "data": {
      "application/vnd.jupyter.widget-view+json": {
       "model_id": "75400c2a321e4233b8fb829380608a8f",
       "version_major": 2,
       "version_minor": 0
      },
      "text/plain": [
       "Validation: |          | 0/? [00:00<?, ?it/s]"
      ]
     },
     "metadata": {},
     "output_type": "display_data"
    },
    {
     "name": "stdout",
     "output_type": "stream",
     "text": [
      "mape tensor(21.5638, grad_fn=<MulBackward0>)\n",
      "mean mape tensor(21.5638, grad_fn=<MeanBackward0>)\n",
      "mape tensor(20.0271, grad_fn=<MulBackward0>)\n",
      "mean mape tensor(20.0271, grad_fn=<MeanBackward0>)\n",
      "mape tensor(18.9448, grad_fn=<MulBackward0>)\n",
      "mean mape tensor(18.9448, grad_fn=<MeanBackward0>)\n",
      "mape tensor(22.2391, grad_fn=<MulBackward0>)\n",
      "mean mape tensor(22.2391, grad_fn=<MeanBackward0>)\n",
      "mape tensor(20.6790, grad_fn=<MulBackward0>)\n",
      "mean mape tensor(20.6790, grad_fn=<MeanBackward0>)\n",
      "mape tensor(19.2909, grad_fn=<MulBackward0>)\n",
      "mean mape tensor(19.2909, grad_fn=<MeanBackward0>)\n",
      "mape tensor(19.8704, grad_fn=<MulBackward0>)\n",
      "mean mape tensor(19.8704, grad_fn=<MeanBackward0>)\n",
      "mape tensor(19.4634, grad_fn=<MulBackward0>)\n",
      "mean mape tensor(19.4634, grad_fn=<MeanBackward0>)\n",
      "mape tensor(18.2766, grad_fn=<MulBackward0>)\n",
      "mean mape tensor(18.2766, grad_fn=<MeanBackward0>)\n",
      "mape tensor(20.0698, grad_fn=<MulBackward0>)\n",
      "mean mape tensor(20.0698, grad_fn=<MeanBackward0>)\n",
      "mape tensor(20.8123, grad_fn=<MulBackward0>)\n",
      "mean mape tensor(20.8123, grad_fn=<MeanBackward0>)\n",
      "mape tensor(21.4040, grad_fn=<MulBackward0>)\n",
      "mean mape tensor(21.4040, grad_fn=<MeanBackward0>)\n",
      "mape tensor(20.4994, grad_fn=<MulBackward0>)\n",
      "mean mape tensor(20.4994, grad_fn=<MeanBackward0>)\n",
      "mape tensor(23.8859, grad_fn=<MulBackward0>)\n",
      "mean mape tensor(23.8859, grad_fn=<MeanBackward0>)\n",
      "mape tensor(21.3073, grad_fn=<MulBackward0>)\n",
      "mean mape tensor(21.3073, grad_fn=<MeanBackward0>)\n",
      "mape tensor(22.5314, grad_fn=<MulBackward0>)\n",
      "mean mape tensor(22.5314, grad_fn=<MeanBackward0>)\n",
      "mape tensor(21.1708, grad_fn=<MulBackward0>)\n",
      "mean mape tensor(21.1708, grad_fn=<MeanBackward0>)\n",
      "mape tensor(19.6132, grad_fn=<MulBackward0>)\n",
      "mean mape tensor(19.6132, grad_fn=<MeanBackward0>)\n",
      "mape tensor(19.6636, grad_fn=<MulBackward0>)\n",
      "mean mape tensor(19.6636, grad_fn=<MeanBackward0>)\n",
      "mape tensor(21.7329, grad_fn=<MulBackward0>)\n",
      "mean mape tensor(21.7329, grad_fn=<MeanBackward0>)\n",
      "mape tensor(17.3689, grad_fn=<MulBackward0>)\n",
      "mean mape tensor(17.3689, grad_fn=<MeanBackward0>)\n",
      "mape tensor(17.8109, grad_fn=<MulBackward0>)\n",
      "mean mape tensor(17.8109, grad_fn=<MeanBackward0>)\n",
      "mape tensor(19.3352, grad_fn=<MulBackward0>)\n",
      "mean mape tensor(19.3352, grad_fn=<MeanBackward0>)\n",
      "mape tensor(19.7505, grad_fn=<MulBackward0>)\n",
      "mean mape tensor(19.7505, grad_fn=<MeanBackward0>)\n",
      "mape tensor(20.5326, grad_fn=<MulBackward0>)\n",
      "mean mape tensor(20.5326, grad_fn=<MeanBackward0>)\n",
      "mape tensor(19.8319, grad_fn=<MulBackward0>)\n",
      "mean mape tensor(19.8319, grad_fn=<MeanBackward0>)\n",
      "mape tensor(20.2729, grad_fn=<MulBackward0>)\n",
      "mean mape tensor(20.2729, grad_fn=<MeanBackward0>)\n",
      "mape tensor(21.1881, grad_fn=<MulBackward0>)\n",
      "mean mape tensor(21.1881, grad_fn=<MeanBackward0>)\n",
      "mape tensor(20.6891, grad_fn=<MulBackward0>)\n",
      "mean mape tensor(20.6891, grad_fn=<MeanBackward0>)\n",
      "mape tensor(18.7992, grad_fn=<MulBackward0>)\n",
      "mean mape tensor(18.7992, grad_fn=<MeanBackward0>)\n",
      "mape tensor(20.9080, grad_fn=<MulBackward0>)\n",
      "mean mape tensor(20.9080, grad_fn=<MeanBackward0>)\n",
      "mape tensor(22.8358, grad_fn=<MulBackward0>)\n",
      "mean mape tensor(22.8358, grad_fn=<MeanBackward0>)\n",
      "mape tensor(22.5222, grad_fn=<MulBackward0>)\n",
      "mean mape tensor(22.5222, grad_fn=<MeanBackward0>)\n",
      "mape tensor(21.6962, grad_fn=<MulBackward0>)\n",
      "mean mape tensor(21.6962, grad_fn=<MeanBackward0>)\n",
      "mape tensor(19.7157, grad_fn=<MulBackward0>)\n",
      "mean mape tensor(19.7157, grad_fn=<MeanBackward0>)\n",
      "mape tensor(20.3920, grad_fn=<MulBackward0>)\n",
      "mean mape tensor(20.3920, grad_fn=<MeanBackward0>)\n",
      "mape tensor(21.6780, grad_fn=<MulBackward0>)\n",
      "mean mape tensor(21.6780, grad_fn=<MeanBackward0>)\n",
      "mape tensor(22.6267, grad_fn=<MulBackward0>)\n",
      "mean mape tensor(22.6267, grad_fn=<MeanBackward0>)\n",
      "mape tensor(22.5911, grad_fn=<MulBackward0>)\n",
      "mean mape tensor(22.5911, grad_fn=<MeanBackward0>)\n",
      "mape tensor(20.8601, grad_fn=<MulBackward0>)\n",
      "mean mape tensor(20.8601, grad_fn=<MeanBackward0>)\n",
      "mape tensor(22.0193, grad_fn=<MulBackward0>)\n",
      "mean mape tensor(22.0193, grad_fn=<MeanBackward0>)\n",
      "mape tensor(23.3628, grad_fn=<MulBackward0>)\n",
      "mean mape tensor(23.3628, grad_fn=<MeanBackward0>)\n",
      "mape tensor(19.5312, grad_fn=<MulBackward0>)\n",
      "mean mape tensor(19.5312, grad_fn=<MeanBackward0>)\n",
      "mape tensor(19.5810, grad_fn=<MulBackward0>)\n",
      "mean mape tensor(19.5810, grad_fn=<MeanBackward0>)\n",
      "mape tensor(19.7916, grad_fn=<MulBackward0>)\n",
      "mean mape tensor(19.7916, grad_fn=<MeanBackward0>)\n",
      "mape tensor(21.7179, grad_fn=<MulBackward0>)\n",
      "mean mape tensor(21.7179, grad_fn=<MeanBackward0>)\n",
      "mape tensor(19.5521, grad_fn=<MulBackward0>)\n",
      "mean mape tensor(19.5521, grad_fn=<MeanBackward0>)\n",
      "mape tensor(21.4412, grad_fn=<MulBackward0>)\n",
      "mean mape tensor(21.4412, grad_fn=<MeanBackward0>)\n",
      "mape tensor(21.5021, grad_fn=<MulBackward0>)\n",
      "mean mape tensor(21.5021, grad_fn=<MeanBackward0>)\n",
      "mape tensor(19.8198, grad_fn=<MulBackward0>)\n",
      "mean mape tensor(19.8198, grad_fn=<MeanBackward0>)\n",
      "mape tensor(19.4578, grad_fn=<MulBackward0>)\n",
      "mean mape tensor(19.4578, grad_fn=<MeanBackward0>)\n",
      "mape tensor(19.7587, grad_fn=<MulBackward0>)\n",
      "mean mape tensor(19.7587, grad_fn=<MeanBackward0>)\n",
      "mape tensor(20.6381, grad_fn=<MulBackward0>)\n",
      "mean mape tensor(20.6381, grad_fn=<MeanBackward0>)\n",
      "mape tensor(19.8269, grad_fn=<MulBackward0>)\n",
      "mean mape tensor(19.8269, grad_fn=<MeanBackward0>)\n",
      "mape tensor(20.6146, grad_fn=<MulBackward0>)\n",
      "mean mape tensor(20.6146, grad_fn=<MeanBackward0>)\n",
      "mape tensor(20.2116, grad_fn=<MulBackward0>)\n",
      "mean mape tensor(20.2116, grad_fn=<MeanBackward0>)\n",
      "mape tensor(21.7137, grad_fn=<MulBackward0>)\n",
      "mean mape tensor(21.7137, grad_fn=<MeanBackward0>)\n",
      "mape tensor(19.3065, grad_fn=<MulBackward0>)\n",
      "mean mape tensor(19.3065, grad_fn=<MeanBackward0>)\n",
      "mape tensor(18.3440, grad_fn=<MulBackward0>)\n",
      "mean mape tensor(18.3440, grad_fn=<MeanBackward0>)\n",
      "mape tensor(20.1683, grad_fn=<MulBackward0>)\n",
      "mean mape tensor(20.1683, grad_fn=<MeanBackward0>)\n",
      "mape tensor(18.1675, grad_fn=<MulBackward0>)\n",
      "mean mape tensor(18.1675, grad_fn=<MeanBackward0>)\n",
      "mape tensor(21.6210, grad_fn=<MulBackward0>)\n",
      "mean mape tensor(21.6210, grad_fn=<MeanBackward0>)\n",
      "mape tensor(20.9083, grad_fn=<MulBackward0>)\n",
      "mean mape tensor(20.9083, grad_fn=<MeanBackward0>)\n",
      "mape tensor(18.7409, grad_fn=<MulBackward0>)\n",
      "mean mape tensor(18.7409, grad_fn=<MeanBackward0>)\n",
      "mape tensor(20.7428, grad_fn=<MulBackward0>)\n",
      "mean mape tensor(20.7428, grad_fn=<MeanBackward0>)\n",
      "mape tensor(18.4064, grad_fn=<MulBackward0>)\n",
      "mean mape tensor(18.4064, grad_fn=<MeanBackward0>)\n",
      "mape tensor(18.2421, grad_fn=<MulBackward0>)\n",
      "mean mape tensor(18.2421, grad_fn=<MeanBackward0>)\n",
      "mape tensor(19.8644, grad_fn=<MulBackward0>)\n",
      "mean mape tensor(19.8644, grad_fn=<MeanBackward0>)\n",
      "mape tensor(18.6492, grad_fn=<MulBackward0>)\n",
      "mean mape tensor(18.6492, grad_fn=<MeanBackward0>)\n",
      "mape tensor(20.3889, grad_fn=<MulBackward0>)\n",
      "mean mape tensor(20.3889, grad_fn=<MeanBackward0>)\n",
      "mape tensor(21.9290, grad_fn=<MulBackward0>)\n",
      "mean mape tensor(21.9290, grad_fn=<MeanBackward0>)\n",
      "mape tensor(20.2450, grad_fn=<MulBackward0>)\n",
      "mean mape tensor(20.2450, grad_fn=<MeanBackward0>)\n",
      "mape tensor(19.4220, grad_fn=<MulBackward0>)\n",
      "mean mape tensor(19.4220, grad_fn=<MeanBackward0>)\n",
      "mape tensor(19.2502, grad_fn=<MulBackward0>)\n",
      "mean mape tensor(19.2502, grad_fn=<MeanBackward0>)\n",
      "mape tensor(20.2118, grad_fn=<MulBackward0>)\n",
      "mean mape tensor(20.2118, grad_fn=<MeanBackward0>)\n",
      "mape tensor(20.5389, grad_fn=<MulBackward0>)\n",
      "mean mape tensor(20.5389, grad_fn=<MeanBackward0>)\n",
      "mape tensor(20.8196, grad_fn=<MulBackward0>)\n",
      "mean mape tensor(20.8196, grad_fn=<MeanBackward0>)\n",
      "mape tensor(20.5085, grad_fn=<MulBackward0>)\n",
      "mean mape tensor(20.5085, grad_fn=<MeanBackward0>)\n",
      "mape tensor(19.4828, grad_fn=<MulBackward0>)\n",
      "mean mape tensor(19.4828, grad_fn=<MeanBackward0>)\n",
      "mape tensor(19.2323, grad_fn=<MulBackward0>)\n",
      "mean mape tensor(19.2323, grad_fn=<MeanBackward0>)\n",
      "mape tensor(18.2804, grad_fn=<MulBackward0>)\n",
      "mean mape tensor(18.2804, grad_fn=<MeanBackward0>)\n",
      "mape tensor(21.4965, grad_fn=<MulBackward0>)\n",
      "mean mape tensor(21.4965, grad_fn=<MeanBackward0>)\n",
      "mape tensor(19.8302, grad_fn=<MulBackward0>)\n",
      "mean mape tensor(19.8302, grad_fn=<MeanBackward0>)\n",
      "mape tensor(18.0431, grad_fn=<MulBackward0>)\n",
      "mean mape tensor(18.0431, grad_fn=<MeanBackward0>)\n",
      "mape tensor(19.9219, grad_fn=<MulBackward0>)\n",
      "mean mape tensor(19.9219, grad_fn=<MeanBackward0>)\n",
      "mape tensor(17.6656, grad_fn=<MulBackward0>)\n",
      "mean mape tensor(17.6656, grad_fn=<MeanBackward0>)\n",
      "mape tensor(21.1900, grad_fn=<MulBackward0>)\n",
      "mean mape tensor(21.1900, grad_fn=<MeanBackward0>)\n",
      "mape tensor(19.2502, grad_fn=<MulBackward0>)\n",
      "mean mape tensor(19.2502, grad_fn=<MeanBackward0>)\n",
      "mape tensor(19.2964, grad_fn=<MulBackward0>)\n",
      "mean mape tensor(19.2964, grad_fn=<MeanBackward0>)\n",
      "mape tensor(19.5089, grad_fn=<MulBackward0>)\n",
      "mean mape tensor(19.5089, grad_fn=<MeanBackward0>)\n",
      "mape tensor(19.5904, grad_fn=<MulBackward0>)\n",
      "mean mape tensor(19.5904, grad_fn=<MeanBackward0>)\n",
      "mape tensor(18.9156, grad_fn=<MulBackward0>)\n",
      "mean mape tensor(18.9156, grad_fn=<MeanBackward0>)\n",
      "mape tensor(18.0454, grad_fn=<MulBackward0>)\n",
      "mean mape tensor(18.0454, grad_fn=<MeanBackward0>)\n",
      "mape tensor(20.6291, grad_fn=<MulBackward0>)\n",
      "mean mape tensor(20.6291, grad_fn=<MeanBackward0>)\n",
      "mape tensor(21.1053, grad_fn=<MulBackward0>)\n",
      "mean mape tensor(21.1053, grad_fn=<MeanBackward0>)\n",
      "mape tensor(19.3370, grad_fn=<MulBackward0>)\n",
      "mean mape tensor(19.3370, grad_fn=<MeanBackward0>)\n",
      "mape tensor(19.9136, grad_fn=<MulBackward0>)\n",
      "mean mape tensor(19.9136, grad_fn=<MeanBackward0>)\n",
      "mape tensor(20.5250, grad_fn=<MulBackward0>)\n",
      "mean mape tensor(20.5250, grad_fn=<MeanBackward0>)\n",
      "mape tensor(19.6526, grad_fn=<MulBackward0>)\n",
      "mean mape tensor(19.6526, grad_fn=<MeanBackward0>)\n",
      "mape tensor(19.1023, grad_fn=<MulBackward0>)\n",
      "mean mape tensor(19.1023, grad_fn=<MeanBackward0>)\n",
      "mape tensor(18.6368, grad_fn=<MulBackward0>)\n",
      "mean mape tensor(18.6368, grad_fn=<MeanBackward0>)\n",
      "mape tensor(18.6507, grad_fn=<MulBackward0>)\n",
      "mean mape tensor(18.6507, grad_fn=<MeanBackward0>)\n",
      "mape tensor(19.5404, grad_fn=<MulBackward0>)\n",
      "mean mape tensor(19.5404, grad_fn=<MeanBackward0>)\n",
      "mape tensor(19.7995, grad_fn=<MulBackward0>)\n",
      "mean mape tensor(19.7995, grad_fn=<MeanBackward0>)\n",
      "mape tensor(19.9997, grad_fn=<MulBackward0>)\n",
      "mean mape tensor(19.9997, grad_fn=<MeanBackward0>)\n",
      "mape tensor(19.0629, grad_fn=<MulBackward0>)\n",
      "mean mape tensor(19.0629, grad_fn=<MeanBackward0>)\n",
      "mape tensor(20.3627, grad_fn=<MulBackward0>)\n",
      "mean mape tensor(20.3627, grad_fn=<MeanBackward0>)\n",
      "mape tensor(20.5583, grad_fn=<MulBackward0>)\n",
      "mean mape tensor(20.5583, grad_fn=<MeanBackward0>)\n",
      "mape tensor(19.5505, grad_fn=<MulBackward0>)\n",
      "mean mape tensor(19.5505, grad_fn=<MeanBackward0>)\n",
      "mape tensor(18.0722, grad_fn=<MulBackward0>)\n",
      "mean mape tensor(18.0722, grad_fn=<MeanBackward0>)\n",
      "mape tensor(20.6782, grad_fn=<MulBackward0>)\n",
      "mean mape tensor(20.6782, grad_fn=<MeanBackward0>)\n",
      "mape tensor(19.3961, grad_fn=<MulBackward0>)\n",
      "mean mape tensor(19.3961, grad_fn=<MeanBackward0>)\n",
      "mape tensor(19.1516, grad_fn=<MulBackward0>)\n",
      "mean mape tensor(19.1516, grad_fn=<MeanBackward0>)\n",
      "mape tensor(18.1075, grad_fn=<MulBackward0>)\n",
      "mean mape tensor(18.1075, grad_fn=<MeanBackward0>)\n",
      "mape tensor(17.6417, grad_fn=<MulBackward0>)\n",
      "mean mape tensor(17.6417, grad_fn=<MeanBackward0>)\n",
      "mape tensor(18.4112, grad_fn=<MulBackward0>)\n",
      "mean mape tensor(18.4112, grad_fn=<MeanBackward0>)\n",
      "mape tensor(20.9643, grad_fn=<MulBackward0>)\n",
      "mean mape tensor(20.9643, grad_fn=<MeanBackward0>)\n",
      "mape tensor(19.1804, grad_fn=<MulBackward0>)\n",
      "mean mape tensor(19.1804, grad_fn=<MeanBackward0>)\n",
      "mape tensor(18.3189, grad_fn=<MulBackward0>)\n",
      "mean mape tensor(18.3189, grad_fn=<MeanBackward0>)\n",
      "mape tensor(17.4533, grad_fn=<MulBackward0>)\n",
      "mean mape tensor(17.4533, grad_fn=<MeanBackward0>)\n"
     ]
    },
    {
     "data": {
      "application/vnd.jupyter.widget-view+json": {
       "model_id": "9d670d6da353487eb3c576a580178571",
       "version_major": 2,
       "version_minor": 0
      },
      "text/plain": [
       "Validation: |          | 0/? [00:00<?, ?it/s]"
      ]
     },
     "metadata": {},
     "output_type": "display_data"
    },
    {
     "name": "stdout",
     "output_type": "stream",
     "text": [
      "mape tensor(18.3327, grad_fn=<MulBackward0>)\n",
      "mean mape tensor(18.3327, grad_fn=<MeanBackward0>)\n",
      "mape tensor(18.4216, grad_fn=<MulBackward0>)\n",
      "mean mape tensor(18.4216, grad_fn=<MeanBackward0>)\n",
      "mape tensor(18.5765, grad_fn=<MulBackward0>)\n",
      "mean mape tensor(18.5765, grad_fn=<MeanBackward0>)\n",
      "mape tensor(18.7501, grad_fn=<MulBackward0>)\n",
      "mean mape tensor(18.7501, grad_fn=<MeanBackward0>)\n",
      "mape tensor(18.7835, grad_fn=<MulBackward0>)\n",
      "mean mape tensor(18.7835, grad_fn=<MeanBackward0>)\n",
      "mape tensor(19.0299, grad_fn=<MulBackward0>)\n",
      "mean mape tensor(19.0299, grad_fn=<MeanBackward0>)\n",
      "mape tensor(17.0595, grad_fn=<MulBackward0>)\n",
      "mean mape tensor(17.0595, grad_fn=<MeanBackward0>)\n",
      "mape tensor(18.3458, grad_fn=<MulBackward0>)\n",
      "mean mape tensor(18.3458, grad_fn=<MeanBackward0>)\n",
      "mape tensor(19.2624, grad_fn=<MulBackward0>)\n",
      "mean mape tensor(19.2624, grad_fn=<MeanBackward0>)\n",
      "mape tensor(17.8507, grad_fn=<MulBackward0>)\n",
      "mean mape tensor(17.8507, grad_fn=<MeanBackward0>)\n",
      "mape tensor(19.3004, grad_fn=<MulBackward0>)\n",
      "mean mape tensor(19.3004, grad_fn=<MeanBackward0>)\n",
      "mape tensor(18.9537, grad_fn=<MulBackward0>)\n",
      "mean mape tensor(18.9537, grad_fn=<MeanBackward0>)\n",
      "mape tensor(17.7420, grad_fn=<MulBackward0>)\n",
      "mean mape tensor(17.7420, grad_fn=<MeanBackward0>)\n",
      "mape tensor(18.4133, grad_fn=<MulBackward0>)\n",
      "mean mape tensor(18.4133, grad_fn=<MeanBackward0>)\n",
      "mape tensor(20.1291, grad_fn=<MulBackward0>)\n",
      "mean mape tensor(20.1291, grad_fn=<MeanBackward0>)\n",
      "mape tensor(18.6044, grad_fn=<MulBackward0>)\n",
      "mean mape tensor(18.6044, grad_fn=<MeanBackward0>)\n",
      "mape tensor(20.4541, grad_fn=<MulBackward0>)\n",
      "mean mape tensor(20.4541, grad_fn=<MeanBackward0>)\n",
      "mape tensor(18.3775, grad_fn=<MulBackward0>)\n",
      "mean mape tensor(18.3775, grad_fn=<MeanBackward0>)\n",
      "mape tensor(18.5147, grad_fn=<MulBackward0>)\n",
      "mean mape tensor(18.5147, grad_fn=<MeanBackward0>)\n",
      "mape tensor(18.5119, grad_fn=<MulBackward0>)\n",
      "mean mape tensor(18.5119, grad_fn=<MeanBackward0>)\n",
      "mape tensor(18.5466, grad_fn=<MulBackward0>)\n",
      "mean mape tensor(18.5466, grad_fn=<MeanBackward0>)\n",
      "mape tensor(19.3312, grad_fn=<MulBackward0>)\n",
      "mean mape tensor(19.3312, grad_fn=<MeanBackward0>)\n",
      "mape tensor(20.3829, grad_fn=<MulBackward0>)\n",
      "mean mape tensor(20.3829, grad_fn=<MeanBackward0>)\n",
      "mape tensor(20.3111, grad_fn=<MulBackward0>)\n",
      "mean mape tensor(20.3111, grad_fn=<MeanBackward0>)\n",
      "mape tensor(20.2507, grad_fn=<MulBackward0>)\n",
      "mean mape tensor(20.2507, grad_fn=<MeanBackward0>)\n",
      "mape tensor(19.7055, grad_fn=<MulBackward0>)\n",
      "mean mape tensor(19.7055, grad_fn=<MeanBackward0>)\n",
      "mape tensor(19.1285, grad_fn=<MulBackward0>)\n",
      "mean mape tensor(19.1285, grad_fn=<MeanBackward0>)\n",
      "mape tensor(19.1531, grad_fn=<MulBackward0>)\n",
      "mean mape tensor(19.1531, grad_fn=<MeanBackward0>)\n",
      "mape tensor(19.0685, grad_fn=<MulBackward0>)\n",
      "mean mape tensor(19.0685, grad_fn=<MeanBackward0>)\n",
      "mape tensor(20.0981, grad_fn=<MulBackward0>)\n",
      "mean mape tensor(20.0981, grad_fn=<MeanBackward0>)\n",
      "mape tensor(19.0362, grad_fn=<MulBackward0>)\n",
      "mean mape tensor(19.0362, grad_fn=<MeanBackward0>)\n",
      "mape tensor(17.1775, grad_fn=<MulBackward0>)\n",
      "mean mape tensor(17.1775, grad_fn=<MeanBackward0>)\n",
      "mape tensor(18.2086, grad_fn=<MulBackward0>)\n",
      "mean mape tensor(18.2086, grad_fn=<MeanBackward0>)\n",
      "mape tensor(18.4925, grad_fn=<MulBackward0>)\n",
      "mean mape tensor(18.4925, grad_fn=<MeanBackward0>)\n",
      "mape tensor(18.4829, grad_fn=<MulBackward0>)\n",
      "mean mape tensor(18.4829, grad_fn=<MeanBackward0>)\n",
      "mape tensor(18.2672, grad_fn=<MulBackward0>)\n",
      "mean mape tensor(18.2672, grad_fn=<MeanBackward0>)\n",
      "mape tensor(18.6013, grad_fn=<MulBackward0>)\n",
      "mean mape tensor(18.6013, grad_fn=<MeanBackward0>)\n",
      "mape tensor(18.4666, grad_fn=<MulBackward0>)\n",
      "mean mape tensor(18.4666, grad_fn=<MeanBackward0>)\n",
      "mape tensor(19.7375, grad_fn=<MulBackward0>)\n",
      "mean mape tensor(19.7375, grad_fn=<MeanBackward0>)\n",
      "mape tensor(17.8852, grad_fn=<MulBackward0>)\n",
      "mean mape tensor(17.8852, grad_fn=<MeanBackward0>)\n",
      "mape tensor(17.1847, grad_fn=<MulBackward0>)\n",
      "mean mape tensor(17.1847, grad_fn=<MeanBackward0>)\n",
      "mape tensor(17.5435, grad_fn=<MulBackward0>)\n",
      "mean mape tensor(17.5435, grad_fn=<MeanBackward0>)\n",
      "mape tensor(18.2382, grad_fn=<MulBackward0>)\n",
      "mean mape tensor(18.2382, grad_fn=<MeanBackward0>)\n",
      "mape tensor(21.0863, grad_fn=<MulBackward0>)\n",
      "mean mape tensor(21.0863, grad_fn=<MeanBackward0>)\n",
      "mape tensor(20.1040, grad_fn=<MulBackward0>)\n",
      "mean mape tensor(20.1040, grad_fn=<MeanBackward0>)\n",
      "mape tensor(18.1598, grad_fn=<MulBackward0>)\n",
      "mean mape tensor(18.1598, grad_fn=<MeanBackward0>)\n",
      "mape tensor(20.3351, grad_fn=<MulBackward0>)\n",
      "mean mape tensor(20.3351, grad_fn=<MeanBackward0>)\n",
      "mape tensor(20.9238, grad_fn=<MulBackward0>)\n",
      "mean mape tensor(20.9238, grad_fn=<MeanBackward0>)\n",
      "mape tensor(16.9990, grad_fn=<MulBackward0>)\n",
      "mean mape tensor(16.9990, grad_fn=<MeanBackward0>)\n",
      "mape tensor(18.6977, grad_fn=<MulBackward0>)\n",
      "mean mape tensor(18.6977, grad_fn=<MeanBackward0>)\n",
      "mape tensor(17.8421, grad_fn=<MulBackward0>)\n",
      "mean mape tensor(17.8421, grad_fn=<MeanBackward0>)\n",
      "mape tensor(18.7219, grad_fn=<MulBackward0>)\n",
      "mean mape tensor(18.7219, grad_fn=<MeanBackward0>)\n",
      "mape tensor(18.1390, grad_fn=<MulBackward0>)\n",
      "mean mape tensor(18.1390, grad_fn=<MeanBackward0>)\n",
      "mape tensor(18.6526, grad_fn=<MulBackward0>)\n",
      "mean mape tensor(18.6526, grad_fn=<MeanBackward0>)\n",
      "mape tensor(20.3723, grad_fn=<MulBackward0>)\n",
      "mean mape tensor(20.3723, grad_fn=<MeanBackward0>)\n",
      "mape tensor(18.2443, grad_fn=<MulBackward0>)\n",
      "mean mape tensor(18.2443, grad_fn=<MeanBackward0>)\n",
      "mape tensor(18.1612, grad_fn=<MulBackward0>)\n",
      "mean mape tensor(18.1612, grad_fn=<MeanBackward0>)\n",
      "mape tensor(18.2085, grad_fn=<MulBackward0>)\n",
      "mean mape tensor(18.2085, grad_fn=<MeanBackward0>)\n",
      "mape tensor(19.8579, grad_fn=<MulBackward0>)\n",
      "mean mape tensor(19.8579, grad_fn=<MeanBackward0>)\n",
      "mape tensor(17.3128, grad_fn=<MulBackward0>)\n",
      "mean mape tensor(17.3128, grad_fn=<MeanBackward0>)\n",
      "mape tensor(16.7482, grad_fn=<MulBackward0>)\n",
      "mean mape tensor(16.7482, grad_fn=<MeanBackward0>)\n",
      "mape tensor(18.5858, grad_fn=<MulBackward0>)\n",
      "mean mape tensor(18.5858, grad_fn=<MeanBackward0>)\n",
      "mape tensor(18.8577, grad_fn=<MulBackward0>)\n",
      "mean mape tensor(18.8577, grad_fn=<MeanBackward0>)\n",
      "mape tensor(20.0777, grad_fn=<MulBackward0>)\n",
      "mean mape tensor(20.0777, grad_fn=<MeanBackward0>)\n",
      "mape tensor(19.3449, grad_fn=<MulBackward0>)\n",
      "mean mape tensor(19.3449, grad_fn=<MeanBackward0>)\n",
      "mape tensor(19.0673, grad_fn=<MulBackward0>)\n",
      "mean mape tensor(19.0673, grad_fn=<MeanBackward0>)\n",
      "mape tensor(17.7329, grad_fn=<MulBackward0>)\n",
      "mean mape tensor(17.7329, grad_fn=<MeanBackward0>)\n",
      "mape tensor(18.7436, grad_fn=<MulBackward0>)\n",
      "mean mape tensor(18.7436, grad_fn=<MeanBackward0>)\n",
      "mape tensor(18.6608, grad_fn=<MulBackward0>)\n",
      "mean mape tensor(18.6608, grad_fn=<MeanBackward0>)\n",
      "mape tensor(18.5318, grad_fn=<MulBackward0>)\n",
      "mean mape tensor(18.5318, grad_fn=<MeanBackward0>)\n",
      "mape tensor(18.5075, grad_fn=<MulBackward0>)\n",
      "mean mape tensor(18.5075, grad_fn=<MeanBackward0>)\n",
      "mape tensor(18.0849, grad_fn=<MulBackward0>)\n",
      "mean mape tensor(18.0849, grad_fn=<MeanBackward0>)\n",
      "mape tensor(20.0325, grad_fn=<MulBackward0>)\n",
      "mean mape tensor(20.0325, grad_fn=<MeanBackward0>)\n",
      "mape tensor(19.7778, grad_fn=<MulBackward0>)\n",
      "mean mape tensor(19.7778, grad_fn=<MeanBackward0>)\n",
      "mape tensor(19.3644, grad_fn=<MulBackward0>)\n",
      "mean mape tensor(19.3644, grad_fn=<MeanBackward0>)\n",
      "mape tensor(19.6032, grad_fn=<MulBackward0>)\n",
      "mean mape tensor(19.6032, grad_fn=<MeanBackward0>)\n",
      "mape tensor(19.6217, grad_fn=<MulBackward0>)\n",
      "mean mape tensor(19.6217, grad_fn=<MeanBackward0>)\n",
      "mape tensor(17.4901, grad_fn=<MulBackward0>)\n",
      "mean mape tensor(17.4901, grad_fn=<MeanBackward0>)\n",
      "mape tensor(18.1200, grad_fn=<MulBackward0>)\n",
      "mean mape tensor(18.1200, grad_fn=<MeanBackward0>)\n",
      "mape tensor(17.4655, grad_fn=<MulBackward0>)\n",
      "mean mape tensor(17.4655, grad_fn=<MeanBackward0>)\n",
      "mape tensor(17.4838, grad_fn=<MulBackward0>)\n",
      "mean mape tensor(17.4838, grad_fn=<MeanBackward0>)\n",
      "mape tensor(20.0259, grad_fn=<MulBackward0>)\n",
      "mean mape tensor(20.0259, grad_fn=<MeanBackward0>)\n",
      "mape tensor(19.0499, grad_fn=<MulBackward0>)\n",
      "mean mape tensor(19.0499, grad_fn=<MeanBackward0>)\n",
      "mape tensor(17.7886, grad_fn=<MulBackward0>)\n",
      "mean mape tensor(17.7886, grad_fn=<MeanBackward0>)\n",
      "mape tensor(18.2909, grad_fn=<MulBackward0>)\n",
      "mean mape tensor(18.2909, grad_fn=<MeanBackward0>)\n",
      "mape tensor(18.5283, grad_fn=<MulBackward0>)\n",
      "mean mape tensor(18.5283, grad_fn=<MeanBackward0>)\n",
      "mape tensor(17.0105, grad_fn=<MulBackward0>)\n",
      "mean mape tensor(17.0105, grad_fn=<MeanBackward0>)\n",
      "mape tensor(17.4967, grad_fn=<MulBackward0>)\n",
      "mean mape tensor(17.4967, grad_fn=<MeanBackward0>)\n",
      "mape tensor(19.2725, grad_fn=<MulBackward0>)\n",
      "mean mape tensor(19.2725, grad_fn=<MeanBackward0>)\n",
      "mape tensor(17.2369, grad_fn=<MulBackward0>)\n",
      "mean mape tensor(17.2369, grad_fn=<MeanBackward0>)\n",
      "mape tensor(17.3833, grad_fn=<MulBackward0>)\n",
      "mean mape tensor(17.3833, grad_fn=<MeanBackward0>)\n",
      "mape tensor(19.1797, grad_fn=<MulBackward0>)\n",
      "mean mape tensor(19.1797, grad_fn=<MeanBackward0>)\n",
      "mape tensor(17.3829, grad_fn=<MulBackward0>)\n",
      "mean mape tensor(17.3829, grad_fn=<MeanBackward0>)\n",
      "mape tensor(18.7267, grad_fn=<MulBackward0>)\n",
      "mean mape tensor(18.7267, grad_fn=<MeanBackward0>)\n",
      "mape tensor(17.8898, grad_fn=<MulBackward0>)\n",
      "mean mape tensor(17.8898, grad_fn=<MeanBackward0>)\n",
      "mape tensor(19.0155, grad_fn=<MulBackward0>)\n",
      "mean mape tensor(19.0155, grad_fn=<MeanBackward0>)\n",
      "mape tensor(16.9358, grad_fn=<MulBackward0>)\n",
      "mean mape tensor(16.9358, grad_fn=<MeanBackward0>)\n",
      "mape tensor(17.4511, grad_fn=<MulBackward0>)\n",
      "mean mape tensor(17.4511, grad_fn=<MeanBackward0>)\n",
      "mape tensor(18.8459, grad_fn=<MulBackward0>)\n",
      "mean mape tensor(18.8459, grad_fn=<MeanBackward0>)\n",
      "mape tensor(19.2011, grad_fn=<MulBackward0>)\n",
      "mean mape tensor(19.2011, grad_fn=<MeanBackward0>)\n",
      "mape tensor(19.4044, grad_fn=<MulBackward0>)\n",
      "mean mape tensor(19.4044, grad_fn=<MeanBackward0>)\n",
      "mape tensor(18.7632, grad_fn=<MulBackward0>)\n",
      "mean mape tensor(18.7632, grad_fn=<MeanBackward0>)\n",
      "mape tensor(19.6926, grad_fn=<MulBackward0>)\n",
      "mean mape tensor(19.6926, grad_fn=<MeanBackward0>)\n",
      "mape tensor(18.1689, grad_fn=<MulBackward0>)\n",
      "mean mape tensor(18.1689, grad_fn=<MeanBackward0>)\n",
      "mape tensor(16.5848, grad_fn=<MulBackward0>)\n",
      "mean mape tensor(16.5848, grad_fn=<MeanBackward0>)\n",
      "mape tensor(17.0215, grad_fn=<MulBackward0>)\n",
      "mean mape tensor(17.0215, grad_fn=<MeanBackward0>)\n",
      "mape tensor(17.8990, grad_fn=<MulBackward0>)\n",
      "mean mape tensor(17.8990, grad_fn=<MeanBackward0>)\n",
      "mape tensor(17.4502, grad_fn=<MulBackward0>)\n",
      "mean mape tensor(17.4502, grad_fn=<MeanBackward0>)\n",
      "mape tensor(16.1449, grad_fn=<MulBackward0>)\n",
      "mean mape tensor(16.1449, grad_fn=<MeanBackward0>)\n",
      "mape tensor(17.8038, grad_fn=<MulBackward0>)\n",
      "mean mape tensor(17.8038, grad_fn=<MeanBackward0>)\n",
      "mape tensor(18.5458, grad_fn=<MulBackward0>)\n",
      "mean mape tensor(18.5458, grad_fn=<MeanBackward0>)\n",
      "mape tensor(19.1005, grad_fn=<MulBackward0>)\n",
      "mean mape tensor(19.1005, grad_fn=<MeanBackward0>)\n",
      "mape tensor(16.5788, grad_fn=<MulBackward0>)\n",
      "mean mape tensor(16.5788, grad_fn=<MeanBackward0>)\n",
      "mape tensor(19.4309, grad_fn=<MulBackward0>)\n",
      "mean mape tensor(19.4309, grad_fn=<MeanBackward0>)\n",
      "mape tensor(19.5684, grad_fn=<MulBackward0>)\n",
      "mean mape tensor(19.5684, grad_fn=<MeanBackward0>)\n",
      "mape tensor(17.9252, grad_fn=<MulBackward0>)\n",
      "mean mape tensor(17.9252, grad_fn=<MeanBackward0>)\n",
      "mape tensor(18.3911, grad_fn=<MulBackward0>)\n",
      "mean mape tensor(18.3911, grad_fn=<MeanBackward0>)\n",
      "mape tensor(19.0822, grad_fn=<MulBackward0>)\n",
      "mean mape tensor(19.0822, grad_fn=<MeanBackward0>)\n",
      "mape tensor(18.6370, grad_fn=<MulBackward0>)\n",
      "mean mape tensor(18.6370, grad_fn=<MeanBackward0>)\n",
      "mape tensor(18.4764, grad_fn=<MulBackward0>)\n",
      "mean mape tensor(18.4764, grad_fn=<MeanBackward0>)\n"
     ]
    },
    {
     "data": {
      "application/vnd.jupyter.widget-view+json": {
       "model_id": "b2c034a7d7be4e999e96e5cea08c4282",
       "version_major": 2,
       "version_minor": 0
      },
      "text/plain": [
       "Validation: |          | 0/? [00:00<?, ?it/s]"
      ]
     },
     "metadata": {},
     "output_type": "display_data"
    },
    {
     "name": "stderr",
     "output_type": "stream",
     "text": [
      "`Trainer.fit` stopped: `max_epochs=5` reached.\n"
     ]
    }
   ],
   "source": [
    "# Set up TensorBoard logger\n",
    "log_dir = \"tb_logs/my_model\"\n",
    "#print(\"Log directory contents:\", os.listdir(log_dir))\n",
    "logger = TensorBoardLogger(\"tb_logs\", name=\"my_model\")\n",
    "\n",
    "# Initialize the Lightning Trainer\n",
    "trainer = pl.Trainer(max_epochs=epochs, \n",
    "                     logger =logger,)\n",
    "\n",
    "# Fit the model to the training data\n",
    "trainer.fit(train_module, \n",
    "            train_dataloaders=train_loader,\n",
    "            val_dataloaders=val_loader,\n",
    "            )\n",
    "trained_model = train_module.model"
   ]
  },
  {
   "cell_type": "markdown",
   "metadata": {},
   "source": [
    "## 5. Inspect performance"
   ]
  },
  {
   "cell_type": "code",
   "execution_count": 253,
   "metadata": {},
   "outputs": [
    {
     "name": "stdout",
     "output_type": "stream",
     "text": [
      "[116.58164978027344, 110.89232635498047, 103.87272644042969, 103.69490051269531, 99.92013549804688, 92.70875549316406, 91.73868560791016, 81.14977264404297, 77.92276000976562, 76.29220581054688, 74.74878692626953, 60.74714660644531, 59.46159362792969, 52.80885314941406, 44.65790557861328, 43.57329559326172, 37.74225616455078, 34.82405090332031, 27.040014266967773, 29.041030883789062, 23.597530364990234, 19.56719970703125, 20.26397705078125, 15.557611465454102, 14.302974700927734, 13.057747840881348, 16.217498779296875, 15.119011878967285, 13.18062686920166, 13.602422714233398, 15.39437484741211, 12.862317085266113, 10.927821159362793, 17.50563621520996, 13.841882705688477, 13.84074592590332, 11.189001083374023, 13.21837329864502, 15.602889060974121, 11.338647842407227, 13.497802734375, 9.821696281433105, 13.426193237304688, 13.237988471984863, 9.077667236328125, 12.866752624511719, 11.706751823425293, 11.506364822387695, 13.105539321899414, 11.503758430480957, 10.849082946777344, 11.702960014343262, 8.998723983764648, 10.085959434509277, 11.904611587524414, 8.368980407714844, 11.972346305847168, 14.918708801269531, 14.37606430053711, 13.05230712890625, 10.706650733947754, 8.592066764831543, 8.877077102661133, 10.539148330688477, 10.519749641418457, 9.679959297180176, 10.170452117919922, 10.30242919921875, 11.188788414001465, 8.735987663269043, 8.576147079467773, 9.241283416748047, 10.107989311218262, 7.335039138793945, 9.141071319580078, 9.695801734924316, 10.989189147949219, 8.233193397521973, 9.00847339630127, 8.772477149963379, 9.754036903381348, 14.059980392456055, 11.321634292602539, 9.275419235229492, 9.74792766571045, 6.857949256896973, 8.929195404052734, 8.884506225585938, 9.321914672851562, 10.444245338439941, 9.515166282653809, 10.074929237365723, 7.063985347747803, 10.552216529846191, 9.122926712036133, 9.430730819702148, 7.587378025054932, 8.650115013122559, 8.41135025024414, 8.426528930664062, 12.47037124633789, 9.67780876159668, 9.585428237915039, 9.348904609680176, 6.431111812591553, 8.302051544189453, 8.580514907836914, 13.339752197265625, 10.215206146240234, 9.272509574890137, 7.280142784118652, 6.005903720855713, 8.599607467651367, 7.732460975646973, 9.390568733215332, 6.41586446762085, 9.119733810424805, 10.019521713256836, 6.965801239013672, 3.97426176071167, 7.951285362243652, 6.91308069229126, 9.81814193725586, 6.304166793823242, 12.156570434570312, 8.716606140136719, 10.969348907470703, 9.513956069946289, 6.809977054595947, 8.974884033203125, 7.566409111022949, 8.268575668334961, 6.662967681884766, 6.907706260681152, 10.551970481872559, 8.54261302947998, 5.973901271820068, 7.405066967010498, 8.1004638671875, 9.079893112182617, 7.726271152496338, 13.58623218536377, 7.119356155395508, 7.296913146972656, 7.201059341430664, 6.686193466186523, 5.945805072784424, 9.508157730102539, 7.803919792175293, 6.0686845779418945, 6.609142780303955, 7.703286170959473, 7.270256042480469, 7.306456565856934, 10.752558708190918, 8.349869728088379, 6.975856781005859, 9.05007553100586, 6.786675453186035, 6.602005958557129, 9.31773853302002, 8.51577091217041, 8.890273094177246, 6.779667377471924, 10.278350830078125, 8.945873260498047, 7.296026229858398, 8.474287033081055, 7.65057897567749, 7.5623626708984375, 7.8013691902160645, 8.453104972839355, 6.812352657318115, 7.0460686683654785, 7.2643585205078125, 9.030662536621094, 6.996743679046631, 9.149815559387207, 5.548458576202393, 6.285506725311279, 6.044852256774902, 6.423425674438477, 7.213525772094727, 5.881000995635986, 9.215527534484863, 6.085148811340332, 7.868574619293213, 6.721510410308838, 6.2467756271362305, 6.957005023956299, 6.598410129547119, 6.742039203643799, 6.713605880737305, 6.149665355682373, 7.832247734069824, 8.875977516174316, 7.50053596496582, 5.611813545227051, 6.544447422027588, 6.085702896118164, 6.852470397949219, 8.696586608886719, 7.080117225646973, 5.668999195098877, 8.101673126220703, 7.453073024749756, 6.33980655670166, 9.867530822753906, 8.854537963867188, 5.844120979309082, 7.391348838806152, 8.523270606994629, 4.764408588409424, 5.645859718322754, 6.329461097717285, 6.2750935554504395, 6.999934673309326, 7.936127662658691, 8.547064781188965, 10.392877578735352, 6.2118120193481445, 7.1565656661987305, 7.834548473358154, 6.713527679443359, 7.186336040496826, 5.935454368591309, 4.847815036773682, 6.038929462432861, 5.201193332672119, 12.334939956665039, 5.198904037475586, 6.78145170211792, 5.682879447937012, 4.682572841644287, 6.613179683685303, 6.7509765625, 6.655102252960205, 6.803970813751221, 6.580285549163818, 2.743320941925049, 8.952291488647461, 8.415630340576172, 5.897812843322754, 5.327226638793945, 4.78843879699707, 5.281133651733398, 5.223900318145752, 6.410769462585449, 4.037012100219727, 7.219420909881592, 6.730401039123535, 4.816257476806641, 6.28774356842041, 5.923131465911865, 6.270661354064941, 6.270834445953369, 4.681435585021973, 4.7249345779418945, 4.783585071563721, 5.187323570251465, 6.270014762878418, 6.540770530700684, 4.7857208251953125, 5.287324905395508, 5.933992385864258, 5.0010986328125, 5.914191722869873, 7.526922225952148, 6.6014227867126465, 4.991182327270508, 4.7147746086120605, 5.44521951675415, 6.339058876037598, 4.763329982757568, 4.655514717102051, 6.91718053817749, 6.003358840942383, 5.958361625671387, 4.291689872741699, 5.706164360046387, 4.858000755310059, 5.08402156829834, 5.845170021057129, 6.015577793121338, 8.251070022583008, 5.125121116638184, 5.670526504516602, 6.435324668884277, 4.257474422454834, 5.913090229034424, 4.468581199645996, 5.392701148986816, 5.357946395874023, 6.318242073059082, 4.682806968688965, 7.287761211395264, 4.055552005767822, 4.586007595062256, 4.773210525512695, 4.424677848815918, 5.356996059417725, 3.750680923461914, 4.7914323806762695, 4.304957866668701, 5.2075395584106445, 4.923314571380615, 6.272210597991943, 4.426211833953857, 4.040886402130127, 5.23860502243042, 5.127748966217041, 5.317713737487793, 5.135314464569092, 4.288763046264648, 4.810098648071289, 5.162206649780273, 3.9096503257751465, 5.095239639282227, 6.3980712890625, 4.519742965698242, 5.54433536529541, 3.944591760635376, 4.307894706726074, 4.783413887023926, 6.412107944488525, 3.847184658050537, 4.188847064971924, 7.1255974769592285, 5.565581321716309, 4.990617275238037, 5.020959377288818, 5.131645202636719, 5.008546352386475, 5.06636905670166, 5.726835250854492, 4.876343250274658, 5.255302906036377, 4.996366500854492, 5.6304216384887695, 3.8174238204956055, 4.437999248504639, 6.46142578125, 4.730070114135742, 3.3594918251037598, 4.267411231994629, 4.2395429611206055, 4.173877239227295, 4.028019428253174, 4.299118995666504, 4.93610143661499, 5.873928070068359, 4.631002426147461, 4.581982135772705, 4.124283790588379, 3.66864275932312, 6.1728925704956055, 4.830355644226074, 6.075594902038574, 4.577945232391357, 1.8354419469833374, 3.883725166320801, 3.5220370292663574, 4.187819957733154, 4.445654392242432, 5.226429462432861, 3.9193177223205566, 5.376335144042969, 4.50728702545166, 3.0955166816711426, 4.389572620391846, 4.290936470031738, 4.7098774909973145, 3.844440460205078, 4.511378765106201, 3.670041084289551, 6.053284168243408, 4.152666091918945, 3.7717812061309814, 5.157594680786133, 4.4616265296936035, 3.432685613632202, 3.735307455062866, 4.468357086181641, 4.871036052703857, 3.373438596725464, 4.2724504470825195, 5.385719299316406, 5.013886451721191, 6.545897483825684, 4.383375644683838, 4.55981969833374, 4.970345497131348, 5.011911869049072, 4.086605072021484, 4.199702739715576, 4.943609237670898, 5.975313663482666, 4.69085693359375, 5.610141754150391, 4.181210517883301, 5.567920684814453, 4.991815567016602, 4.066708564758301, 4.397496223449707, 4.533931255340576, 5.392089366912842, 4.614044666290283, 4.254575252532959, 4.6069135665893555, 5.789434432983398, 4.281999588012695, 3.938699245452881, 4.555703639984131, 5.671494007110596, 4.629002571105957, 4.39461612701416, 6.944331169128418, 3.4209728240966797, 3.5679097175598145, 4.1002960205078125, 3.9569826126098633, 5.213282585144043, 4.172623157501221, 4.844398498535156, 3.9263663291931152, 3.5873115062713623, 3.449704647064209, 3.7128562927246094, 2.9766571521759033, 3.4689321517944336, 4.125150203704834, 4.773375034332275, 4.676111221313477, 5.195150375366211, 4.459297180175781, 4.477579593658447, 3.687915802001953, 4.027196884155273, 4.092883586883545, 3.934954881668091, 2.762495517730713, 4.976338863372803, 4.011648654937744, 3.8046622276306152, 4.686364650726318, 3.152015209197998, 5.346977233886719, 3.615032434463501, 3.437990665435791, 3.7482526302337646, 5.55630350112915, 4.698984146118164, 3.8552658557891846, 4.971433162689209, 5.4701972007751465, 2.793365478515625, 4.2964019775390625, 3.895306348800659, 3.648146152496338, 3.7288734912872314, 3.933631658554077, 4.499328136444092, 4.601572513580322, 3.5600335597991943, 3.799246072769165, 4.17075252532959, 4.05416202545166, 4.225368022918701, 4.371006011962891, 3.2717010974884033, 4.359845161437988, 4.628086566925049, 3.60335636138916, 3.7366528511047363, 3.465235710144043, 3.8885083198547363, 4.2636613845825195, 3.8372209072113037, 4.520708084106445, 1.194256067276001, 4.1410064697265625, 3.820432186126709, 3.5548362731933594, 4.223147869110107, 4.251185894012451, 3.6807706356048584, 2.2583465576171875, 3.229574203491211, 3.8362560272216797, 3.127579927444458, 3.945324420928955, 3.7003393173217773, 3.1379873752593994, 3.7645721435546875, 3.730882406234741, 3.4649877548217773, 5.406805038452148, 3.7086968421936035, 3.646146297454834, 3.434757947921753, 3.992696762084961, 3.8855044841766357, 4.206261157989502, 5.242249011993408, 4.7471795082092285, 3.4299702644348145, 4.203774452209473, 4.23012638092041, 3.782595634460449, 4.786063194274902, 4.341862201690674, 4.031050682067871, 3.8794455528259277, 3.5035061836242676, 3.633327007293701, 4.3770036697387695, 3.6453657150268555, 3.737900733947754, 3.990062952041626, 3.533936023712158, 3.897660255432129, 3.6576762199401855, 2.630263566970825, 4.2718610763549805, 3.9496586322784424, 4.109397888183594, 3.979639768600464, 4.409037113189697, 3.374096393585205, 4.570984363555908, 3.15912127494812, 4.247499465942383, 4.583970546722412, 3.3437135219573975, 4.535183429718018, 3.2178714275360107, 3.797299861907959, 4.20495080947876, 5.2391252517700195, 3.7052295207977295, 4.022940158843994, 3.510791063308716, 3.8694610595703125, 4.546340465545654, 3.2900376319885254, 4.185571193695068, 3.8360610008239746, 3.43852162361145, 3.1383488178253174, 3.4860639572143555, 3.7744531631469727, 3.3945727348327637, 5.001368999481201, 3.9732589721679688, 3.647024154663086, 4.293587684631348, 5.350651741027832, 3.3039729595184326, 3.334357261657715, 3.755441904067993, 2.7836310863494873, 4.45298433303833, 3.534179210662842, 3.794724225997925, 3.549046754837036, 3.5507423877716064, 2.903446674346924, 3.3937249183654785, 4.540215015411377, 3.545989513397217, 3.014648675918579, 4.148666858673096, 4.834380626678467, 4.795117378234863, 4.306499481201172, 4.286264896392822, 2.9392876625061035, 3.1154708862304688, 4.308605194091797, 4.099290370941162, 4.023095607757568, 3.3271713256835938, 4.142269134521484, 3.2448525428771973, 3.052476167678833, 3.473163366317749, 4.668008804321289, 3.5316178798675537, 3.411004066467285, 4.145709991455078, 4.239126682281494, 3.9998903274536133, 3.775010824203491, 4.296084880828857, 3.9515936374664307, 2.9780125617980957, 3.888030529022217, 3.798905849456787, 3.625684976577759, 1.8400793075561523]\n"
     ]
    },
    {
     "data": {
      "image/png": "[encoded data removed]",
      "text/plain": [
       "<Figure size 1000x500 with 1 Axes>"
      ]
     },
     "metadata": {},
     "output_type": "display_data"
    }
   ],
   "source": [
    "# plot the training loss    \n",
    "plt.figure(figsize=(10, 5))\n",
    "plt.plot(train_module.train_losses, label='Training Loss')\n",
    "plt.xlabel('Epoch')\n",
    "plt.ylabel('Loss')\n",
    "plt.title('Training Loss Over Epochs')\n",
    "plt.legend()\n",
    "plt.show()\n"
   ]
  },
  {
   "cell_type": "code",
   "execution_count": 254,
   "metadata": {},
   "outputs": [
    {
     "name": "stdout",
     "output_type": "stream",
     "text": [
      "152 600\n",
      "[0, 3, 7, 11, 15, 19, 23, 27, 31, 35, 39, 43, 47, 51, 55, 59, 63, 67, 71, 75, 78, 82, 86, 90, 94, 98, 102, 106, 110, 114, 118, 122, 126, 130, 134, 138, 142, 146, 150, 153, 157, 161, 165, 169, 173, 177, 181, 185, 189, 193, 197, 201, 205, 209, 213, 217, 221, 225, 228, 232, 236, 240, 244, 248, 252, 256, 260, 264, 268, 272, 276, 280, 284, 288, 292, 296, 300, 303, 307, 311, 315, 319, 323, 327, 331, 335, 339, 343, 347, 351, 355, 359, 363, 367, 371, 375, 378, 382, 386, 390, 394, 398, 402, 406, 410, 414, 418, 422, 426, 430, 434, 438, 442, 446, 450, 453, 457, 461, 465, 469, 473, 477, 481, 485, 489, 493, 497, 501, 505, 509, 513, 517, 521, 525, 528, 532, 536, 540, 544, 548, 552, 556, 560, 564, 568, 572, 576, 580, 584, 588, 592, 596]\n",
      "[20.884666991233825, 7.45388043721517, 5.252525002757708, 4.315067215760549, 3.838244072596232]\n",
      "120\n"
     ]
    },
    {
     "data": {
      "image/png": "[encoded data removed]",
      "text/plain": [
       "<Figure size 1000x500 with 1 Axes>"
      ]
     },
     "metadata": {},
     "output_type": "display_data"
    },
    {
     "name": "stdout",
     "output_type": "stream",
     "text": [
      "[116.58164978027344, 110.89232635498047, 103.87272644042969, 103.69490051269531, 99.92013549804688, 92.70875549316406, 91.73868560791016, 81.14977264404297, 77.92276000976562, 76.29220581054688, 74.74878692626953, 60.74714660644531, 59.46159362792969, 52.80885314941406, 44.65790557861328, 43.57329559326172, 37.74225616455078, 34.82405090332031, 27.040014266967773, 29.041030883789062, 23.597530364990234, 19.56719970703125, 20.26397705078125, 15.557611465454102, 14.302974700927734, 13.057747840881348, 16.217498779296875, 15.119011878967285, 13.18062686920166, 13.602422714233398, 15.39437484741211, 12.862317085266113, 10.927821159362793, 17.50563621520996, 13.841882705688477, 13.84074592590332, 11.189001083374023, 13.21837329864502, 15.602889060974121, 11.338647842407227, 13.497802734375, 9.821696281433105, 13.426193237304688, 13.237988471984863, 9.077667236328125, 12.866752624511719, 11.706751823425293, 11.506364822387695, 13.105539321899414, 11.503758430480957, 10.849082946777344, 11.702960014343262, 8.998723983764648, 10.085959434509277, 11.904611587524414, 8.368980407714844, 11.972346305847168, 14.918708801269531, 14.37606430053711, 13.05230712890625, 10.706650733947754, 8.592066764831543, 8.877077102661133, 10.539148330688477, 10.519749641418457, 9.679959297180176, 10.170452117919922, 10.30242919921875, 11.188788414001465, 8.735987663269043, 8.576147079467773, 9.241283416748047, 10.107989311218262, 7.335039138793945, 9.141071319580078, 9.695801734924316, 10.989189147949219, 8.233193397521973, 9.00847339630127, 8.772477149963379, 9.754036903381348, 14.059980392456055, 11.321634292602539, 9.275419235229492, 9.74792766571045, 6.857949256896973, 8.929195404052734, 8.884506225585938, 9.321914672851562, 10.444245338439941, 9.515166282653809, 10.074929237365723, 7.063985347747803, 10.552216529846191, 9.122926712036133, 9.430730819702148, 7.587378025054932, 8.650115013122559, 8.41135025024414, 8.426528930664062, 12.47037124633789, 9.67780876159668, 9.585428237915039, 9.348904609680176, 6.431111812591553, 8.302051544189453, 8.580514907836914, 13.339752197265625, 10.215206146240234, 9.272509574890137, 7.280142784118652, 6.005903720855713, 8.599607467651367, 7.732460975646973, 9.390568733215332, 6.41586446762085, 9.119733810424805, 10.019521713256836, 6.965801239013672, 3.97426176071167, 7.951285362243652, 6.91308069229126, 9.81814193725586, 6.304166793823242, 12.156570434570312, 8.716606140136719, 10.969348907470703, 9.513956069946289, 6.809977054595947, 8.974884033203125, 7.566409111022949, 8.268575668334961, 6.662967681884766, 6.907706260681152, 10.551970481872559, 8.54261302947998, 5.973901271820068, 7.405066967010498, 8.1004638671875, 9.079893112182617, 7.726271152496338, 13.58623218536377, 7.119356155395508, 7.296913146972656, 7.201059341430664, 6.686193466186523, 5.945805072784424, 9.508157730102539, 7.803919792175293, 6.0686845779418945, 6.609142780303955, 7.703286170959473, 7.270256042480469, 7.306456565856934, 10.752558708190918, 8.349869728088379, 6.975856781005859, 9.05007553100586, 6.786675453186035, 6.602005958557129, 9.31773853302002, 8.51577091217041, 8.890273094177246, 6.779667377471924, 10.278350830078125, 8.945873260498047, 7.296026229858398, 8.474287033081055, 7.65057897567749, 7.5623626708984375, 7.8013691902160645, 8.453104972839355, 6.812352657318115, 7.0460686683654785, 7.2643585205078125, 9.030662536621094, 6.996743679046631, 9.149815559387207, 5.548458576202393, 6.285506725311279, 6.044852256774902, 6.423425674438477, 7.213525772094727, 5.881000995635986, 9.215527534484863, 6.085148811340332, 7.868574619293213, 6.721510410308838, 6.2467756271362305, 6.957005023956299, 6.598410129547119, 6.742039203643799, 6.713605880737305, 6.149665355682373, 7.832247734069824, 8.875977516174316, 7.50053596496582, 5.611813545227051, 6.544447422027588, 6.085702896118164, 6.852470397949219, 8.696586608886719, 7.080117225646973, 5.668999195098877, 8.101673126220703, 7.453073024749756, 6.33980655670166, 9.867530822753906, 8.854537963867188, 5.844120979309082, 7.391348838806152, 8.523270606994629, 4.764408588409424, 5.645859718322754, 6.329461097717285, 6.2750935554504395, 6.999934673309326, 7.936127662658691, 8.547064781188965, 10.392877578735352, 6.2118120193481445, 7.1565656661987305, 7.834548473358154, 6.713527679443359, 7.186336040496826, 5.935454368591309, 4.847815036773682, 6.038929462432861, 5.201193332672119, 12.334939956665039, 5.198904037475586, 6.78145170211792, 5.682879447937012, 4.682572841644287, 6.613179683685303, 6.7509765625, 6.655102252960205, 6.803970813751221, 6.580285549163818, 2.743320941925049, 8.952291488647461, 8.415630340576172, 5.897812843322754, 5.327226638793945, 4.78843879699707, 5.281133651733398, 5.223900318145752, 6.410769462585449, 4.037012100219727, 7.219420909881592, 6.730401039123535, 4.816257476806641, 6.28774356842041, 5.923131465911865, 6.270661354064941, 6.270834445953369, 4.681435585021973, 4.7249345779418945, 4.783585071563721, 5.187323570251465, 6.270014762878418, 6.540770530700684, 4.7857208251953125, 5.287324905395508, 5.933992385864258, 5.0010986328125, 5.914191722869873, 7.526922225952148, 6.6014227867126465, 4.991182327270508, 4.7147746086120605, 5.44521951675415, 6.339058876037598, 4.763329982757568, 4.655514717102051, 6.91718053817749, 6.003358840942383, 5.958361625671387, 4.291689872741699, 5.706164360046387, 4.858000755310059, 5.08402156829834, 5.845170021057129, 6.015577793121338, 8.251070022583008, 5.125121116638184, 5.670526504516602, 6.435324668884277, 4.257474422454834, 5.913090229034424, 4.468581199645996, 5.392701148986816, 5.357946395874023, 6.318242073059082, 4.682806968688965, 7.287761211395264, 4.055552005767822, 4.586007595062256, 4.773210525512695, 4.424677848815918, 5.356996059417725, 3.750680923461914, 4.7914323806762695, 4.304957866668701, 5.2075395584106445, 4.923314571380615, 6.272210597991943, 4.426211833953857, 4.040886402130127, 5.23860502243042, 5.127748966217041, 5.317713737487793, 5.135314464569092, 4.288763046264648, 4.810098648071289, 5.162206649780273, 3.9096503257751465, 5.095239639282227, 6.3980712890625, 4.519742965698242, 5.54433536529541, 3.944591760635376, 4.307894706726074, 4.783413887023926, 6.412107944488525, 3.847184658050537, 4.188847064971924, 7.1255974769592285, 5.565581321716309, 4.990617275238037, 5.020959377288818, 5.131645202636719, 5.008546352386475, 5.06636905670166, 5.726835250854492, 4.876343250274658, 5.255302906036377, 4.996366500854492, 5.6304216384887695, 3.8174238204956055, 4.437999248504639, 6.46142578125, 4.730070114135742, 3.3594918251037598, 4.267411231994629, 4.2395429611206055, 4.173877239227295, 4.028019428253174, 4.299118995666504, 4.93610143661499, 5.873928070068359, 4.631002426147461, 4.581982135772705, 4.124283790588379, 3.66864275932312, 6.1728925704956055, 4.830355644226074, 6.075594902038574, 4.577945232391357, 1.8354419469833374, 3.883725166320801, 3.5220370292663574, 4.187819957733154, 4.445654392242432, 5.226429462432861, 3.9193177223205566, 5.376335144042969, 4.50728702545166, 3.0955166816711426, 4.389572620391846, 4.290936470031738, 4.7098774909973145, 3.844440460205078, 4.511378765106201, 3.670041084289551, 6.053284168243408, 4.152666091918945, 3.7717812061309814, 5.157594680786133, 4.4616265296936035, 3.432685613632202, 3.735307455062866, 4.468357086181641, 4.871036052703857, 3.373438596725464, 4.2724504470825195, 5.385719299316406, 5.013886451721191, 6.545897483825684, 4.383375644683838, 4.55981969833374, 4.970345497131348, 5.011911869049072, 4.086605072021484, 4.199702739715576, 4.943609237670898, 5.975313663482666, 4.69085693359375, 5.610141754150391, 4.181210517883301, 5.567920684814453, 4.991815567016602, 4.066708564758301, 4.397496223449707, 4.533931255340576, 5.392089366912842, 4.614044666290283, 4.254575252532959, 4.6069135665893555, 5.789434432983398, 4.281999588012695, 3.938699245452881, 4.555703639984131, 5.671494007110596, 4.629002571105957, 4.39461612701416, 6.944331169128418, 3.4209728240966797, 3.5679097175598145, 4.1002960205078125, 3.9569826126098633, 5.213282585144043, 4.172623157501221, 4.844398498535156, 3.9263663291931152, 3.5873115062713623, 3.449704647064209, 3.7128562927246094, 2.9766571521759033, 3.4689321517944336, 4.125150203704834, 4.773375034332275, 4.676111221313477, 5.195150375366211, 4.459297180175781, 4.477579593658447, 3.687915802001953, 4.027196884155273, 4.092883586883545, 3.934954881668091, 2.762495517730713, 4.976338863372803, 4.011648654937744, 3.8046622276306152, 4.686364650726318, 3.152015209197998, 5.346977233886719, 3.615032434463501, 3.437990665435791, 3.7482526302337646, 5.55630350112915, 4.698984146118164, 3.8552658557891846, 4.971433162689209, 5.4701972007751465, 2.793365478515625, 4.2964019775390625, 3.895306348800659, 3.648146152496338, 3.7288734912872314, 3.933631658554077, 4.499328136444092, 4.601572513580322, 3.5600335597991943, 3.799246072769165, 4.17075252532959, 4.05416202545166, 4.225368022918701, 4.371006011962891, 3.2717010974884033, 4.359845161437988, 4.628086566925049, 3.60335636138916, 3.7366528511047363, 3.465235710144043, 3.8885083198547363, 4.2636613845825195, 3.8372209072113037, 4.520708084106445, 1.194256067276001, 4.1410064697265625, 3.820432186126709, 3.5548362731933594, 4.223147869110107, 4.251185894012451, 3.6807706356048584, 2.2583465576171875, 3.229574203491211, 3.8362560272216797, 3.127579927444458, 3.945324420928955, 3.7003393173217773, 3.1379873752593994, 3.7645721435546875, 3.730882406234741, 3.4649877548217773, 5.406805038452148, 3.7086968421936035, 3.646146297454834, 3.434757947921753, 3.992696762084961, 3.8855044841766357, 4.206261157989502, 5.242249011993408, 4.7471795082092285, 3.4299702644348145, 4.203774452209473, 4.23012638092041, 3.782595634460449, 4.786063194274902, 4.341862201690674, 4.031050682067871, 3.8794455528259277, 3.5035061836242676, 3.633327007293701, 4.3770036697387695, 3.6453657150268555, 3.737900733947754, 3.990062952041626, 3.533936023712158, 3.897660255432129, 3.6576762199401855, 2.630263566970825, 4.2718610763549805, 3.9496586322784424, 4.109397888183594, 3.979639768600464, 4.409037113189697, 3.374096393585205, 4.570984363555908, 3.15912127494812, 4.247499465942383, 4.583970546722412, 3.3437135219573975, 4.535183429718018, 3.2178714275360107, 3.797299861907959, 4.20495080947876, 5.2391252517700195, 3.7052295207977295, 4.022940158843994, 3.510791063308716, 3.8694610595703125, 4.546340465545654, 3.2900376319885254, 4.185571193695068, 3.8360610008239746, 3.43852162361145, 3.1383488178253174, 3.4860639572143555, 3.7744531631469727, 3.3945727348327637, 5.001368999481201, 3.9732589721679688, 3.647024154663086, 4.293587684631348, 5.350651741027832, 3.3039729595184326, 3.334357261657715, 3.755441904067993, 2.7836310863494873, 4.45298433303833, 3.534179210662842, 3.794724225997925, 3.549046754837036, 3.5507423877716064, 2.903446674346924, 3.3937249183654785, 4.540215015411377, 3.545989513397217, 3.014648675918579, 4.148666858673096, 4.834380626678467, 4.795117378234863, 4.306499481201172, 4.286264896392822, 2.9392876625061035, 3.1154708862304688, 4.308605194091797, 4.099290370941162, 4.023095607757568, 3.3271713256835938, 4.142269134521484, 3.2448525428771973, 3.052476167678833, 3.473163366317749, 4.668008804321289, 3.5316178798675537, 3.411004066467285, 4.145709991455078, 4.239126682281494, 3.9998903274536133, 3.775010824203491, 4.296084880828857, 3.9515936374664307, 2.9780125617980957, 3.888030529022217, 3.798905849456787, 3.625684976577759]\n"
     ]
    }
   ],
   "source": [
    "# Plot training and validation losses per epoch\n",
    "def plot_losses_per_epoch(train_losses, val_losses, num_epochs=5, log_scale=False):\n",
    "    \"\"\" Plot training and validation losses per epoch.\"\"\"\n",
    "    ig, ax = plt.subplots(figsize=(10, 5))\n",
    "\n",
    "    # Get the lengths of the training and validation losses\n",
    "    len_val_losses = len(val_losses)\n",
    "    len_train_losess = len(train_losses)\n",
    "    range_train_loses = range(len_train_losess)\n",
    "\n",
    "    # Get the range of validation losses\n",
    "    range_val_loses = [x *len_train_losess // len_val_losses for x in range(len_val_losses) ]\n",
    "\n",
    "    # Set the x-ticks\n",
    "    tick_positions  = [(i + 1) * len_train_losess//5 for i in range(5)]\n",
    "    tick_labels =  [str(i + 1) for i in range(num_epochs)]\n",
    "    ax.set_xticks(tick_positions)\n",
    "    ax.set_xticklabels(tick_labels)\n",
    "\n",
    "    ax.plot(range_train_loses,train_losses, label='Training Loss', color='b')\n",
    "    ax.plot(range_val_loses, val_losses, label='Validation Loss', color='r')\n",
    "    ax.set_xlabel('Epochs')\n",
    "    ax.set_ylabel('Loss')\n",
    "    ax.set_title('Training and Validation Losses Per Epoch')\n",
    "    ax.legend()\n",
    "\n",
    "    \n",
    "    if log_scale:\n",
    "        ax.set_yscale('log')\n",
    "\n",
    "    plt.tight_layout()\n",
    "    plt.show()\n",
    "\n",
    "plot_losses_per_epoch(train_module.train_losses, train_module.validation_losses)\n",
    "\n",
    "print(train_module.train_losses[:-1])"
   ]
  },
  {
   "cell_type": "code",
   "execution_count": 255,
   "metadata": {},
   "outputs": [
    {
     "name": "stdout",
     "output_type": "stream",
     "text": [
      "152 600\n",
      "[0, 3, 7, 11, 15, 19, 23, 27, 31, 35, 39, 43, 47, 51, 55, 59, 63, 67, 71, 75, 78, 82, 86, 90, 94, 98, 102, 106, 110, 114, 118, 122, 126, 130, 134, 138, 142, 146, 150, 153, 157, 161, 165, 169, 173, 177, 181, 185, 189, 193, 197, 201, 205, 209, 213, 217, 221, 225, 228, 232, 236, 240, 244, 248, 252, 256, 260, 264, 268, 272, 276, 280, 284, 288, 292, 296, 300, 303, 307, 311, 315, 319, 323, 327, 331, 335, 339, 343, 347, 351, 355, 359, 363, 367, 371, 375, 378, 382, 386, 390, 394, 398, 402, 406, 410, 414, 418, 422, 426, 430, 434, 438, 442, 446, 450, 453, 457, 461, 465, 469, 473, 477, 481, 485, 489, 493, 497, 501, 505, 509, 513, 517, 521, 525, 528, 532, 536, 540, 544, 548, 552, 556, 560, 564, 568, 572, 576, 580, 584, 588, 592, 596]\n",
      "[1.2935841391483942, 1.0009399111072221, 1.0022792249917984, 0.9997756977876028, 0.9978229845563571]\n",
      "120\n"
     ]
    },
    {
     "data": {
      "image/png": "[encoded data removed]",
      "text/plain": [
       "<Figure size 1000x500 with 1 Axes>"
      ]
     },
     "metadata": {},
     "output_type": "display_data"
    },
    {
     "name": "stdout",
     "output_type": "stream",
     "text": [
      "[3.5543859004974365, 3.598276376724243, 3.167407274246216, 3.443009376525879, 3.4675071239471436, 3.1892008781433105, 3.5490448474884033, 2.960035562515259, 3.0384674072265625, 3.0659425258636475, 3.275247097015381, 2.597060203552246, 2.9069106578826904, 2.7760910987854004, 2.395667791366577, 2.370776414871216, 2.2397074699401855, 2.0307061672210693, 1.903704285621643, 1.803216814994812, 1.7279731035232544, 1.4940822124481201, 1.4677889347076416, 1.4271284341812134, 1.2810883522033691, 1.1842719316482544, 1.015255331993103, 0.974361002445221, 0.8879041075706482, 0.8449451923370361, 0.7890456914901733, 0.7921193242073059, 0.7863406538963318, 0.6971830725669861, 0.7627419233322144, 0.7614290118217468, 0.8520297408103943, 0.8453977108001709, 0.7303743362426758, 0.7905460596084595, 0.800094485282898, 0.8900197148323059, 0.7404335737228394, 0.790109395980835, 0.9660934805870056, 0.8829390406608582, 0.8060006499290466, 0.9643499255180359, 0.8166819214820862, 0.8533791303634644, 0.835819661617279, 0.8710376024246216, 0.9748407006263733, 0.9382245540618896, 0.9772480726242065, 0.9795843362808228, 0.9882515668869019, 0.8568594455718994, 0.8699262738227844, 0.9377219676971436, 0.9761698246002197, 1.035528540611267, 1.0631507635116577, 0.9303876757621765, 0.923003077507019, 0.9695363640785217, 0.9407374858856201, 1.0173431634902954, 1.0249110460281372, 0.952191948890686, 0.9837092161178589, 1.0579169988632202, 1.0377678871154785, 0.9911304712295532, 1.0313810110092163, 0.9614635109901428, 0.9938876628875732, 1.0888671875, 0.9676960110664368, 1.0321635007858276, 0.9946740865707397, 0.898753821849823, 0.9235353469848633, 0.9552624821662903, 0.9655396938323975, 1.0515389442443848, 1.014747142791748, 1.0344427824020386, 1.0396169424057007, 0.9401617050170898, 1.0275318622589111, 1.0179272890090942, 1.122118353843689, 0.9683789610862732, 1.0015878677368164, 1.0200754404067993, 1.0377321243286133, 0.9453480839729309, 1.0113718509674072, 0.9880397319793701, 0.882845938205719, 0.9353349208831787, 0.9741900563240051, 0.9517284035682678, 1.0107965469360352, 1.012171983718872, 1.054496169090271, 0.9686634540557861, 1.038651704788208, 1.020362377166748, 1.0119187831878662, 1.028346061706543, 1.035571575164795, 1.0151691436767578, 1.041813611984253, 1.0748733282089233, 1.045724868774414, 0.9117888808250427, 1.0846099853515625, 1.0097241401672363, 0.9576721787452698, 1.0617763996124268, 0.9107627272605896, 1.0057263374328613, 0.9287134408950806, 0.9554163217544556, 0.9393522143363953, 0.9685004353523254, 1.0154861211776733, 0.9859591126441956, 0.9990786910057068, 1.025301218032837, 0.9885243773460388, 0.9727779030799866, 0.9566847681999207, 0.991381824016571, 1.090683937072754, 0.9936226606369019, 1.034127116203308, 0.9457510113716125, 1.027290940284729, 0.9438244700431824, 1.0154244899749756, 0.9853531718254089, 1.0010899305343628, 1.021130084991455, 1.0791895389556885, 0.9798812866210938, 1.0776615142822266, 1.033725619316101, 1.0160999298095703, 1.0205717086791992, 1.0125722885131836, 0.9986753463745117, 0.9410450458526611, 0.9573782086372375, 0.9653763771057129, 0.9478579163551331, 1.0491456985473633, 1.09036386013031, 0.9829631447792053, 0.9941975474357605, 0.9868546724319458, 1.0249208211898804, 0.9366688132286072, 0.9293374419212341, 0.9422038793563843, 0.9564718008041382, 1.0583094358444214, 1.019442081451416, 1.1089941263198853, 0.9479778409004211, 1.0218944549560547, 1.0565838813781738, 1.0612963438034058, 0.9488549828529358, 1.0401321649551392, 1.0286202430725098, 1.119075059890747, 1.0705149173736572, 1.0266199111938477, 0.9842195510864258, 0.9918901324272156, 1.025810956954956, 0.9290984272956848, 0.9552148580551147, 0.9257490038871765, 1.023418664932251, 0.956002950668335, 0.9804469347000122, 0.9803664088249207, 0.9816615581512451, 1.0393528938293457, 1.0348578691482544, 1.0227084159851074, 0.9543448090553284, 1.0572171211242676, 1.066494107246399, 1.0006461143493652, 1.0057337284088135, 0.9947786927223206, 1.0322651863098145, 1.028792142868042, 1.0311999320983887, 1.0023066997528076, 0.984368085861206, 1.1185849905014038, 0.9206598401069641, 1.0049172639846802, 1.01385498046875, 0.9854521155357361, 0.932741105556488, 1.0285117626190186, 1.0184636116027832, 1.01690673828125, 1.0570049285888672, 0.9775475859642029, 1.0202641487121582, 0.9826180338859558, 0.9045567512512207, 1.007163166999817, 0.9920110106468201, 0.9995222687721252, 1.0329508781433105, 0.9801084399223328, 1.0037673711776733, 1.0621802806854248, 1.0166621208190918, 1.1318881511688232, 0.9385020732879639, 1.0630344152450562, 1.0283137559890747, 0.9403068423271179, 0.9804338812828064, 0.966040849685669, 0.9904618859291077, 0.9976933002471924, 0.9438896179199219, 0.959841787815094, 0.9540983438491821, 0.9255090355873108, 0.9361332654953003, 0.9950776696205139, 1.020343542098999, 1.0296047925949097, 1.0406341552734375, 1.1409988403320312, 1.0926053524017334, 1.0479100942611694, 1.0471080541610718, 1.0869407653808594, 1.0498589277267456, 0.9825091361999512, 1.0276975631713867, 0.9446244835853577, 0.975757360458374, 0.9793099164962769, 0.9922314882278442, 0.9867790341377258, 0.99518221616745, 0.982309103012085, 0.9760941863059998, 1.046199917793274, 0.9928702712059021, 0.9554731845855713, 1.0172380208969116, 0.9675089120864868, 0.99235999584198, 1.02625572681427, 0.9843030571937561, 1.041205883026123, 0.9767865538597107, 1.0007978677749634, 1.0019766092300415, 1.0211987495422363, 1.049799919128418, 0.9987121224403381, 1.0130934715270996, 0.9867567420005798, 1.0069559812545776, 1.089879035949707, 0.9750077128410339, 0.9490740895271301, 0.9540255069732666, 0.9577122926712036, 0.971332848072052, 1.020337462425232, 1.0102921724319458, 1.041853904724121, 1.0153015851974487, 1.0237075090408325, 1.008474349975586, 1.0661404132843018, 0.9886838793754578, 1.0313962697982788, 0.970401406288147, 1.0307308435440063, 0.9158509969711304, 0.9643946290016174, 0.9657696485519409, 0.9337639212608337, 0.9848105907440186, 0.9938604235649109, 0.9965306520462036, 1.0334587097167969, 1.0469247102737427, 1.0654929876327515, 1.0581374168395996, 1.0341174602508545, 0.9919437170028687, 1.0107613801956177, 0.9717572331428528, 0.9396369457244873, 0.997662365436554, 0.9786569476127625, 0.9975557923316956, 0.9996230602264404, 1.0042232275009155, 0.9998577237129211, 1.01255464553833, 1.018187403678894, 1.0685629844665527, 0.9810311198234558, 0.953075110912323, 0.9788976311683655, 0.985001266002655, 0.9620338678359985, 0.9398963451385498, 1.00958251953125, 1.0107585191726685, 0.9898483753204346, 1.0355219841003418, 1.0231293439865112, 1.010276436805725, 0.9878662824630737, 1.0274953842163086, 1.025315284729004, 1.0009247064590454, 0.9902446269989014, 1.0446467399597168, 1.0006920099258423, 1.0036171674728394, 1.0159919261932373, 1.0044822692871094, 0.9333872199058533, 0.960706889629364, 0.9968474507331848, 0.9426208138465881, 0.9633032083511353, 0.9736358523368835, 0.9964076280593872, 0.9686437249183655, 1.0191963911056519, 1.0093016624450684, 1.0431650876998901, 0.9943060278892517, 1.0428433418273926, 1.0149924755096436, 1.0010251998901367, 1.0096362829208374, 1.035927176475525, 1.029406189918518, 0.9587492942810059, 1.0330110788345337, 0.9615076184272766, 0.9748701453208923, 0.9387649297714233, 0.9550384283065796, 0.960273027420044, 0.9777326583862305, 0.9885728359222412, 1.025262475013733, 1.04141104221344, 1.1055374145507812, 1.0553555488586426, 1.0233091115951538, 1.0185693502426147, 1.0277634859085083, 0.9653113484382629, 1.0235856771469116, 0.9755871295928955, 0.9672833681106567, 0.9455536007881165, 0.952423632144928, 1.0337878465652466, 1.0006170272827148, 0.9609842300415039, 0.980320930480957, 0.9426732063293457, 0.9619943499565125, 0.9925588965415955, 1.0450958013534546, 1.0145494937896729, 1.0485432147979736, 0.9666505455970764, 0.9880414009094238, 0.9767674207687378, 1.0032861232757568, 1.0296432971954346, 1.0437570810317993, 1.0103484392166138, 1.0996233224868774, 1.0098530054092407, 0.9962463974952698, 0.9776808023452759, 0.9713062644004822, 0.986624002456665, 1.0612213611602783, 1.023404836654663, 0.943696916103363, 0.9696927666664124, 1.0108425617218018, 1.0238630771636963, 0.9556246995925903, 1.0162123441696167, 0.988973081111908, 0.9961371421813965, 1.0075751543045044, 1.0045133829116821, 1.0132569074630737, 0.9673928618431091, 1.005179762840271, 0.9963586926460266, 0.9733065962791443, 1.0077487230300903, 0.9964169859886169, 1.0089117288589478, 1.0181732177734375, 0.9832906723022461, 1.0330936908721924, 1.04519522190094, 0.9943991303443909, 0.933830738067627, 0.9540596604347229, 1.0049618482589722, 1.0076050758361816, 1.0458849668502808, 1.0140101909637451, 0.9825358986854553, 1.002496361732483, 1.0314327478408813, 1.0397175550460815, 1.0034241676330566, 0.9439675807952881, 0.9590007662773132, 0.9883915781974792, 0.9825823307037354, 0.995704710483551, 1.003058910369873, 1.0121948719024658, 0.951659083366394, 0.9533082246780396, 1.0069067478179932, 0.9913643598556519, 0.9999029636383057, 1.088973879814148, 1.037703514099121, 1.0217499732971191, 1.0046766996383667, 0.985702633857727, 0.9599142670631409, 0.9424048066139221, 0.9912053942680359, 1.0128742456436157, 1.0077142715454102, 1.0093804597854614, 1.0291939973831177, 1.0580309629440308, 1.0140225887298584, 0.9680964350700378, 1.0265408754348755, 1.0105319023132324, 0.9809480309486389, 0.988551914691925, 0.9980810880661011, 1.0037363767623901, 1.0266364812850952, 0.9814367890357971, 0.9807908535003662, 1.0099427700042725, 0.9885401129722595, 0.9758952260017395, 0.9764190316200256, 0.9712466597557068, 0.9691046476364136, 1.0111770629882812, 0.9982225894927979, 1.0049378871917725, 1.011989712715149, 0.9940659999847412, 1.0113513469696045, 0.9882801175117493, 1.013353943824768, 0.9876142144203186, 1.0194741487503052, 0.9706933498382568, 0.9607263803482056, 0.9818657636642456, 1.0230320692062378, 1.0137256383895874, 1.0249887704849243, 1.0207501649856567, 1.0084184408187866, 0.9865957498550415, 0.9781592488288879, 1.0519193410873413, 0.9846575856208801, 0.9578890800476074, 1.0013129711151123, 0.9955033659934998, 1.0039429664611816, 0.9501049518585205, 0.9761723279953003, 1.0022361278533936, 1.0148272514343262, 0.9746047854423523, 1.0059664249420166, 1.0294431447982788, 1.012431025505066, 1.0007407665252686, 0.9462372064590454, 0.9643679857254028, 1.032002329826355, 1.0249885320663452, 1.0388779640197754, 0.9761866927146912, 1.0556683540344238, 1.0185730457305908, 0.9725168347358704, 1.0062150955200195, 0.9930737614631653, 0.9978601932525635, 0.9563319683074951, 1.050308346748352, 0.9825201034545898, 1.0442153215408325, 0.9865458011627197, 0.9905993342399597, 0.9910824298858643, 0.9688736200332642, 1.0021406412124634, 1.0145823955535889, 1.037801742553711, 0.9931721091270447, 0.9945111870765686, 0.9905754327774048, 0.9435473680496216, 1.002392292022705, 0.9924959540367126, 1.0287312269210815, 1.0114343166351318, 0.9825106859207153, 0.9987955689430237, 1.0176085233688354, 1.0251257419586182, 1.0121678113937378, 0.9886347651481628, 0.9701328277587891, 1.0072028636932373, 0.983887255191803, 1.0109221935272217, 0.9934234619140625, 0.9967675805091858, 1.0011298656463623, 1.0325840711593628, 1.0205966234207153, 0.9717987179756165, 0.9933784008026123, 1.041588544845581, 0.9913533329963684, 0.9699210524559021, 0.9758086800575256, 0.9527062177658081, 0.9981622099876404, 0.9514868259429932, 0.9835639595985413, 0.9816352128982544, 1.0250798463821411, 0.9750975966453552, 1.0204752683639526, 1.0097676515579224, 1.0318834781646729, 1.042677879333496, 1.0164291858673096, 0.9606080651283264, 0.9727863073348999, 0.9577751755714417, 0.9738777875900269, 0.9643380641937256, 0.9764677286148071, 1.0169812440872192, 0.9873287081718445, 0.980716347694397, 1.024930477142334, 1.039954423904419, 1.032787799835205, 1.0187573432922363, 1.0288442373275757, 1.0112640857696533]\n"
     ]
    }
   ],
   "source": [
    "def plot_aucs(train_losses, val_losses, num_epochs=5, log_scale=False):\n",
    "    \"\"\" Plot training and validation aucs per epoch.\"\"\"\n",
    "    ig, ax = plt.subplots(figsize=(10, 5))\n",
    "\n",
    "    # Get the lengths of the training and validation losses\n",
    "    len_val_losses = len(val_losses)\n",
    "    len_train_losess = len(train_losses)\n",
    "    range_train_loses = range(len_train_losess)\n",
    "\n",
    "    # Get the range of validation losses\n",
    "    range_val_loses = [x *len_train_losess // len_val_losses for x in range(len_val_losses) ]\n",
    "\n",
    "    # Set the x-ticks\n",
    "    tick_positions  = [(i + 1) * len_train_losess//5 for i in range(5)]\n",
    "    tick_labels =  [str(i + 1) for i in range(num_epochs)]\n",
    "    ax.set_xticks(tick_positions)\n",
    "    ax.set_xticklabels(tick_labels)\n",
    "\n",
    "    ax.plot(range_train_loses,train_losses, label='Training aucs', color='b')\n",
    "    ax.plot(range_val_loses, val_losses, label='Validation aucs', color='r')\n",
    "    ax.set_xlabel('Epochs')\n",
    "    ax.set_ylabel('auc')\n",
    "    ax.set_title('Training and Validation aucs Per Epoch')\n",
    "    ax.legend()\n",
    "\n",
    "    \n",
    "    if log_scale:\n",
    "        ax.set_yscale('log')\n",
    "\n",
    "    plt.tight_layout()\n",
    "    plt.show()\n",
    "\n",
    "plot_aucs(train_module.train_auc, train_module.validation_auc)\n",
    "\n",
    "print(train_module.train_auc[:-1]  )"
   ]
  },
  {
   "cell_type": "code",
   "execution_count": 256,
   "metadata": {},
   "outputs": [
    {
     "name": "stdout",
     "output_type": "stream",
     "text": [
      "152 600\n",
      "[0, 3, 7, 11, 15, 19, 23, 27, 31, 35, 39, 43, 47, 51, 55, 59, 63, 67, 71, 75, 78, 82, 86, 90, 94, 98, 102, 106, 110, 114, 118, 122, 126, 130, 134, 138, 142, 146, 150, 153, 157, 161, 165, 169, 173, 177, 181, 185, 189, 193, 197, 201, 205, 209, 213, 217, 221, 225, 228, 232, 236, 240, 244, 248, 252, 256, 260, 264, 268, 272, 276, 280, 284, 288, 292, 296, 300, 303, 307, 311, 315, 319, 323, 327, 331, 335, 339, 343, 347, 351, 355, 359, 363, 367, 371, 375, 378, 382, 386, 390, 394, 398, 402, 406, 410, 414, 418, 422, 426, 430, 434, 438, 442, 446, 450, 453, 457, 461, 465, 469, 473, 477, 481, 485, 489, 493, 497, 501, 505, 509, 513, 517, 521, 525, 528, 532, 536, 540, 544, 548, 552, 556, 560, 564, 568, 572, 576, 580, 584, 588, 592, 596]\n",
      "[59.85776610374451, 27.203006585439045, 22.616067298253377, 20.0418186823527, 18.598453267415366]\n",
      "120\n"
     ]
    },
    {
     "data": {
      "image/png": "[encoded data removed]",
      "text/plain": [
       "<Figure size 1000x500 with 1 Axes>"
      ]
     },
     "metadata": {},
     "output_type": "display_data"
    },
    {
     "name": "stdout",
     "output_type": "stream",
     "text": [
      "sdgsdgsd [250.65162658691406, 243.2848663330078, 227.9703826904297, 235.89952087402344, 232.21304321289062, 219.2809295654297, 222.813720703125, 199.69137573242188, 197.89300537109375, 202.9937744140625, 203.3212890625, 170.90335083007812, 175.1963653564453, 165.8634796142578, 143.7185821533203, 142.9569091796875, 129.257080078125, 122.0399398803711, 103.83538055419922, 107.31758117675781, 94.4914779663086, 78.42562866210938, 79.21256256103516, 69.03736877441406, 60.612022399902344, 56.255943298339844, 50.3641357421875, 48.63178634643555, 40.5456428527832, 39.805110931396484, 36.50082015991211, 35.15798568725586, 32.33829879760742, 33.939449310302734, 33.897552490234375, 31.114187240600586, 33.06739044189453, 32.54790115356445, 29.25870132446289, 28.00389289855957, 31.14861297607422, 30.256336212158203, 30.4111328125, 28.889387130737305, 33.155330657958984, 33.2177619934082, 29.525339126586914, 34.1422119140625, 31.630023956298828, 31.70395278930664, 28.692869186401367, 30.92757225036621, 31.49310302734375, 32.398380279541016, 36.13719177246094, 32.06486892700195, 34.68351364135742, 34.34640884399414, 34.68075942993164, 35.957279205322266, 32.96650314331055, 34.86888122558594, 33.984615325927734, 33.95684814453125, 31.157461166381836, 30.666440963745117, 30.479162216186523, 34.29182052612305, 36.149879455566406, 29.3763427734375, 30.886083602905273, 34.22634506225586, 33.60036849975586, 30.42512321472168, 32.58692932128906, 31.528087615966797, 33.85889434814453, 33.45661163330078, 29.678281784057617, 32.554988861083984, 32.27113723754883, 31.679990768432617, 30.36653709411621, 29.658546447753906, 30.99126434326172, 29.455875396728516, 31.651866912841797, 32.75283432006836, 31.633668899536133, 31.405231475830078, 32.776065826416016, 34.55949783325195, 33.321475982666016, 31.333267211914062, 30.771034240722656, 31.278947830200195, 31.08574104309082, 30.167591094970703, 31.516281127929688, 30.52571678161621, 29.982769012451172, 28.839197158813477, 31.1009578704834, 29.217884063720703, 29.17441177368164, 30.313047409057617, 30.910429000854492, 34.569034576416016, 35.40604019165039, 32.99364471435547, 28.718795776367188, 28.05931854248047, 31.496349334716797, 29.22220230102539, 32.34648895263672, 31.00019073486328, 31.5308837890625, 27.598861694335938, 31.422536849975586, 33.354549407958984, 26.7817325592041, 29.3798770904541, 25.924551010131836, 26.559219360351562, 28.746095657348633, 27.729679107666016, 29.92024803161621, 29.485502243041992, 28.01012420654297, 29.81732749938965, 28.292078018188477, 27.792606353759766, 25.16712760925293, 26.572885513305664, 31.108989715576172, 28.201282501220703, 29.321115493774414, 29.330181121826172, 30.77768325805664, 27.226110458374023, 29.108074188232422, 31.76803970336914, 27.710575103759766, 26.945568084716797, 28.24935531616211, 27.337488174438477, 28.65503692626953, 28.74028968811035, 32.06248092651367, 26.669109344482422, 29.15342140197754, 29.634323120117188, 28.133562088012695, 26.88898468017578, 30.402883529663086, 28.676342010498047, 28.18472671508789, 27.715036392211914, 27.444339752197266, 28.727807998657227, 28.497774124145508, 27.421688079833984, 28.76216697692871, 27.31866455078125, 27.93389320373535, 26.79297637939453, 26.09536361694336, 25.845664978027344, 28.258726119995117, 27.640066146850586, 31.372970581054688, 27.596050262451172, 27.51050567626953, 29.294893264770508, 30.377134323120117, 28.42116355895996, 28.318605422973633, 29.922422409057617, 28.703752517700195, 28.48586082458496, 25.3238468170166, 25.926008224487305, 28.976770401000977, 27.250703811645508, 25.696491241455078, 24.252582550048828, 25.251453399658203, 26.545312881469727, 25.440105438232422, 25.33184814453125, 24.703001022338867, 25.216150283813477, 26.764572143554688, 25.51677894592285, 29.48810386657715, 27.53089714050293, 29.419204711914062, 25.246044158935547, 25.687572479248047, 25.741191864013672, 24.092449188232422, 27.69460105895996, 27.991247177124023, 24.524452209472656, 28.071260452270508, 25.8576602935791, 29.048559188842773, 27.868616104125977, 28.22236442565918, 24.678558349609375, 26.3001766204834, 25.20177459716797, 23.85528564453125, 25.039323806762695, 25.415882110595703, 25.82887077331543, 25.279245376586914, 26.75908851623535, 27.883827209472656, 25.679420471191406, 26.6302490234375, 24.86336898803711, 26.54323959350586, 27.0821533203125, 25.566001892089844, 24.380783081054688, 25.327672958374023, 24.207286834716797, 28.9439640045166, 28.06344985961914, 25.247112274169922, 27.11208152770996, 23.073131561279297, 21.394683837890625, 24.769432067871094, 26.439342498779297, 25.63418960571289, 24.306655883789062, 23.961301803588867, 27.291181564331055, 23.88578224182129, 24.82337188720703, 24.21634292602539, 24.204750061035156, 23.93694305419922, 24.64167594909668, 27.5997257232666, 28.2749080657959, 22.67068862915039, 27.479907989501953, 28.90531349182129, 24.741186141967773, 24.108095169067383, 24.732519149780273, 24.75957679748535, 23.860000610351562, 22.21742820739746, 22.527711868286133, 22.555728912353516, 24.657018661499023, 23.299848556518555, 23.90357780456543, 23.814516067504883, 21.955793380737305, 22.971622467041016, 23.496610641479492, 23.309356689453125, 24.993947982788086, 26.24159812927246, 22.500516891479492, 24.30764389038086, 22.670032501220703, 22.861059188842773, 22.3250675201416, 21.841468811035156, 26.500886917114258, 23.879623413085938, 24.16245460510254, 19.97157859802246, 23.153148651123047, 27.39144515991211, 21.470659255981445, 23.111141204833984, 21.88962745666504, 25.285812377929688, 22.779937744140625, 23.85381507873535, 24.50407600402832, 22.68568992614746, 23.356494903564453, 21.92426300048828, 21.5853214263916, 24.11758804321289, 23.387264251708984, 22.664905548095703, 24.350543975830078, 21.997936248779297, 20.947147369384766, 21.479909896850586, 20.28016471862793, 21.22903823852539, 19.038536071777344, 20.769453048706055, 21.02941131591797, 21.464908599853516, 22.83207893371582, 24.929607391357422, 23.11783790588379, 20.23033905029297, 23.103090286254883, 21.84818458557129, 22.996044158935547, 21.86366844177246, 21.380834579467773, 21.13525390625, 21.128572463989258, 20.425914764404297, 21.4195499420166, 23.71917724609375, 22.508113861083984, 23.505090713500977, 22.81930923461914, 21.38893699645996, 21.436189651489258, 20.860618591308594, 19.598175048828125, 20.131229400634766, 20.705516815185547, 21.886770248413086, 22.04373550415039, 20.243974685668945, 24.9473934173584, 22.948331832885742, 22.10042953491211, 21.150272369384766, 22.230541229248047, 21.893383026123047, 21.920042037963867, 21.74776840209961, 20.26251792907715, 20.891084671020508, 24.854005813598633, 22.711515426635742, 18.894123077392578, 19.455848693847656, 20.154024124145508, 20.182605743408203, 19.221323013305664, 20.355342864990234, 20.319332122802734, 23.269493103027344, 20.050579071044922, 21.78375244140625, 20.82137107849121, 21.823251724243164, 21.330047607421875, 21.529268264770508, 21.799509048461914, 21.01792335510254, 21.451061248779297, 21.56375503540039, 20.0270938873291, 18.944791793823242, 22.23908805847168, 20.679019927978516, 19.290904998779297, 19.87038803100586, 19.463430404663086, 18.27658462524414, 20.069828033447266, 20.8122615814209, 21.403963088989258, 20.49935531616211, 23.88591766357422, 21.307342529296875, 22.53143882751465, 21.170772552490234, 19.613201141357422, 19.66360092163086, 21.732873916625977, 17.368858337402344, 17.81093406677246, 19.335224151611328, 19.750507354736328, 20.532636642456055, 19.831932067871094, 20.272905349731445, 21.1881160736084, 20.68914031982422, 18.799165725708008, 20.90801239013672, 22.835798263549805, 22.522247314453125, 21.696208953857422, 19.715721130371094, 20.39200782775879, 21.67795753479004, 22.626672744750977, 22.59113883972168, 20.86008071899414, 22.01934242248535, 23.362844467163086, 19.531206130981445, 19.581035614013672, 19.791563034057617, 21.717891693115234, 19.552122116088867, 21.44120216369629, 21.50213050842285, 19.81983184814453, 19.457841873168945, 19.758655548095703, 20.638071060180664, 19.826906204223633, 20.614620208740234, 20.211631774902344, 21.71365737915039, 19.30646514892578, 18.344003677368164, 20.168275833129883, 18.16754150390625, 21.62095832824707, 20.908348083496094, 18.74090576171875, 20.742843627929688, 18.406387329101562, 18.2420711517334, 19.864421844482422, 18.649219512939453, 20.388883590698242, 21.928955078125, 20.244966506958008, 19.421995162963867, 19.250213623046875, 20.2117919921875, 20.53893280029297, 20.819581985473633, 20.508533477783203, 19.482839584350586, 19.23233985900879, 18.28040313720703, 21.496475219726562, 19.830219268798828, 18.043079376220703, 19.92194175720215, 17.665573120117188, 21.190019607543945, 19.250200271606445, 19.296377182006836, 19.508922576904297, 19.590373992919922, 18.915557861328125, 18.045352935791016, 20.629100799560547, 21.105295181274414, 19.336986541748047, 19.91360092163086, 20.524978637695312, 19.652647018432617, 19.102294921875, 18.636802673339844, 18.650733947753906, 19.540435791015625, 19.799463272094727, 19.999675750732422, 19.062908172607422, 20.362674713134766, 20.558326721191406, 19.550537109375, 18.072158813476562, 20.67819595336914, 19.39605712890625, 19.151622772216797, 18.107532501220703, 17.641712188720703, 18.41122055053711, 20.964338302612305, 19.18039321899414, 18.318851470947266, 17.453292846679688, 18.33271026611328, 18.42159080505371, 18.57648468017578, 18.75014877319336, 18.783462524414062, 19.02986717224121, 17.059494018554688, 18.345823287963867, 19.262357711791992, 17.85068130493164, 19.300443649291992, 18.953723907470703, 17.742027282714844, 18.41332244873047, 20.129085540771484, 18.604351043701172, 20.454133987426758, 18.377450942993164, 18.51468849182129, 18.511920928955078, 18.54663848876953, 19.331233978271484, 20.38292694091797, 20.311086654663086, 20.25066375732422, 19.705516815185547, 19.128536224365234, 19.15313148498535, 19.06846809387207, 20.098142623901367, 19.03624153137207, 17.17746353149414, 18.2086238861084, 18.492536544799805, 18.482933044433594, 18.267194747924805, 18.60129737854004, 18.46657943725586, 19.73747444152832, 17.885236740112305, 17.184722900390625, 17.543472290039062, 18.238239288330078, 21.086341857910156, 20.10398292541504, 18.159761428833008, 20.33505630493164, 20.92381477355957, 16.999011993408203, 18.697708129882812, 17.842111587524414, 18.72186279296875, 18.138952255249023, 18.652647018432617, 20.372339248657227, 18.244285583496094, 18.16115379333496, 18.208450317382812, 19.857908248901367, 17.312788009643555, 16.748184204101562, 18.585824966430664, 18.857662200927734, 20.077688217163086, 19.344877243041992, 19.06728172302246, 17.732900619506836, 18.743593215942383, 18.660808563232422, 18.53179359436035, 18.507526397705078, 18.084901809692383, 20.03248405456543, 19.7778263092041, 19.364429473876953, 19.603227615356445, 19.621665954589844, 17.4901180267334, 18.1200008392334, 17.465539932250977, 17.483762741088867, 20.025867462158203, 19.04993438720703, 17.788644790649414, 18.290924072265625, 18.528274536132812, 17.010467529296875, 17.496673583984375, 19.27248191833496, 17.236942291259766, 17.383270263671875, 19.179718017578125, 17.382938385009766, 18.726747512817383, 17.88982582092285, 19.0155086517334, 16.935842514038086, 17.451065063476562, 18.8459415435791, 19.20111846923828, 19.40441131591797, 18.763216018676758, 19.69257164001465, 18.168930053710938, 16.584815979003906, 17.021549224853516, 17.899023056030273, 17.450197219848633, 16.144948959350586, 17.803808212280273, 18.545793533325195, 19.100536346435547, 16.578819274902344, 19.43090057373047, 19.568437576293945, 17.9251766204834, 18.39107322692871, 19.082172393798828, 18.637020111083984]\n"
     ]
    }
   ],
   "source": [
    "def plot_MAPE(train_losses, val_losses, num_epochs=5, log_scale=False):\n",
    "    \"\"\" Plot training and validation MAPE per epoch.\"\"\"\t\n",
    "    fig, ax = plt.subplots(figsize=(10, 5))\n",
    "\n",
    "    # Get the lengths of the training and validation losses\n",
    "    len_val_losses = len(val_losses)\n",
    "    len_train_losess = len(train_losses)\n",
    "    range_train_loses = range(len_train_losess)\n",
    "\n",
    "    # Get the range of validation losses\n",
    "    range_val_loses = [x *len_train_losess // len_val_losses for x in range(len_val_losses) ]\n",
    "\n",
    "    # Set the x-ticks\n",
    "    tick_positions  = [(i + 1) * len_train_losess//5 for i in range(5)]\n",
    "    tick_labels =  [str(i + 1) for i in range(num_epochs)]\n",
    "    ax.set_xticks(tick_positions)\n",
    "    ax.set_xticklabels(tick_labels)\n",
    "\n",
    "    ax.plot(range_train_loses,train_losses, label='Training MAPE', color='b')\n",
    "    ax.plot(range_val_loses, val_losses, label='Validation MAPE', color='r')\n",
    "    ax.axhline(y=0, color='g', linestyle='--', label='Perfect MAPE')\n",
    "    ax.set_xlabel('Epochs')\n",
    "    ax.set_ylabel('MAPE score')\n",
    "    ax.set_title('Training and Validation MAPE Per Epoch')\n",
    "    ax.legend()\n",
    "\n",
    "    \n",
    "    if log_scale:\n",
    "        ax.set_yscale('log')\n",
    "\n",
    "    plt.tight_layout()\n",
    "    plt.show()\n",
    "\n",
    "plot_MAPE(train_module.train_mape, train_module.val_mape)\n"
   ]
  },
  {
   "cell_type": "markdown",
   "metadata": {},
   "source": [
    "#### Launch tensorboard for advanced training insights"
   ]
  },
  {
   "cell_type": "code",
   "execution_count": 257,
   "metadata": {},
   "outputs": [],
   "source": [
    "# #Launch tensorboard for advanced training insights.\n",
    "# os.system(f\"taskkill /pid 19988 /F\")\n",
    "\n",
    "# # Reload the TensorBoard extension to avoid errors about it being already loaded\n",
    "# %reload_ext tensorboard\n",
    "\n",
    "# # Start TensorBoard\n",
    "# % --logdir tb_logs/my_model\n",
    "\n",
    "\"\"\"use code below in terminal to run tensorboard logger\"\"\"\n",
    "#tensorboard--logdir tb_logs/my_model\n"
   ]
  },
  {
   "cell_type": "markdown",
   "metadata": {},
   "source": [
    "## Test model"
   ]
  },
  {
   "cell_type": "code",
   "execution_count": 258,
   "metadata": {},
   "outputs": [
    {
     "name": "stderr",
     "output_type": "stream",
     "text": [
      "c:\\Users\\denni\\anaconda3\\envs\\5ARIP\\Lib\\site-packages\\pytorch_lightning\\trainer\\connectors\\data_connector.py:441: The 'test_dataloader' does not have many workers which may be a bottleneck. Consider increasing the value of the `num_workers` argument` to `num_workers=15` in the `DataLoader` to improve performance.\n"
     ]
    },
    {
     "data": {
      "application/vnd.jupyter.widget-view+json": {
       "model_id": "aa972940e6aa469597c88b1b0d30ab6b",
       "version_major": 2,
       "version_minor": 0
      },
      "text/plain": [
       "Testing: |          | 0/? [00:00<?, ?it/s]"
      ]
     },
     "metadata": {},
     "output_type": "display_data"
    },
    {
     "data": {
      "text/html": [
       "<pre style=\"white-space:pre;overflow-x:auto;line-height:normal;font-family:Menlo,'DejaVu Sans Mono',consolas,'Courier New',monospace\">┏━━━━━━━━━━━━━━━━━━━━━━━━━━━┳━━━━━━━━━━━━━━━━━━━━━━━━━━━┳━━━━━━━━━━━━━━━━━━━━━━━━━━━┓\n",
       "┃<span style=\"font-weight: bold\">        Test metric        </span>┃<span style=\"font-weight: bold\">       DataLoader 0        </span>┃<span style=\"font-weight: bold\">       DataLoader 1        </span>┃\n",
       "┡━━━━━━━━━━━━━━━━━━━━━━━━━━━╇━━━━━━━━━━━━━━━━━━━━━━━━━━━╇━━━━━━━━━━━━━━━━━━━━━━━━━━━┩\n",
       "│<span style=\"color: #008080; text-decoration-color: #008080\">       Total L1 loss       </span>│<span style=\"color: #800080; text-decoration-color: #800080\">     55.08048629760742     </span>│<span style=\"color: #800080; text-decoration-color: #800080\">     89.70096588134766     </span>│\n",
       "│<span style=\"color: #008080; text-decoration-color: #008080\">      Total auc_ratio      </span>│<span style=\"color: #800080; text-decoration-color: #800080\">    0.9849075675010681     </span>│<span style=\"color: #800080; text-decoration-color: #800080\">    1.0553433895111084     </span>│\n",
       "│<span style=\"color: #008080; text-decoration-color: #008080\">      Total test_loss      </span>│<span style=\"color: #800080; text-decoration-color: #800080\">     2.911190986633301     </span>│<span style=\"color: #800080; text-decoration-color: #800080\">     7.809418678283691     </span>│\n",
       "│<span style=\"color: #008080; text-decoration-color: #008080\">      test_mape_score      </span>│<span style=\"color: #800080; text-decoration-color: #800080\">    15.540801048278809     </span>│<span style=\"color: #800080; text-decoration-color: #800080\">    27.717927932739258     </span>│\n",
       "└───────────────────────────┴───────────────────────────┴───────────────────────────┘\n",
       "</pre>\n"
      ],
      "text/plain": [
       "┏━━━━━━━━━━━━━━━━━━━━━━━━━━━┳━━━━━━━━━━━━━━━━━━━━━━━━━━━┳━━━━━━━━━━━━━━━━━━━━━━━━━━━┓\n",
       "┃\u001b[1m \u001b[0m\u001b[1m       Test metric       \u001b[0m\u001b[1m \u001b[0m┃\u001b[1m \u001b[0m\u001b[1m      DataLoader 0       \u001b[0m\u001b[1m \u001b[0m┃\u001b[1m \u001b[0m\u001b[1m      DataLoader 1       \u001b[0m\u001b[1m \u001b[0m┃\n",
       "┡━━━━━━━━━━━━━━━━━━━━━━━━━━━╇━━━━━━━━━━━━━━━━━━━━━━━━━━━╇━━━━━━━━━━━━━━━━━━━━━━━━━━━┩\n",
       "│\u001b[36m \u001b[0m\u001b[36m      Total L1 loss      \u001b[0m\u001b[36m \u001b[0m│\u001b[35m \u001b[0m\u001b[35m    55.08048629760742    \u001b[0m\u001b[35m \u001b[0m│\u001b[35m \u001b[0m\u001b[35m    89.70096588134766    \u001b[0m\u001b[35m \u001b[0m│\n",
       "│\u001b[36m \u001b[0m\u001b[36m     Total auc_ratio     \u001b[0m\u001b[36m \u001b[0m│\u001b[35m \u001b[0m\u001b[35m   0.9849075675010681    \u001b[0m\u001b[35m \u001b[0m│\u001b[35m \u001b[0m\u001b[35m   1.0553433895111084    \u001b[0m\u001b[35m \u001b[0m│\n",
       "│\u001b[36m \u001b[0m\u001b[36m     Total test_loss     \u001b[0m\u001b[36m \u001b[0m│\u001b[35m \u001b[0m\u001b[35m    2.911190986633301    \u001b[0m\u001b[35m \u001b[0m│\u001b[35m \u001b[0m\u001b[35m    7.809418678283691    \u001b[0m\u001b[35m \u001b[0m│\n",
       "│\u001b[36m \u001b[0m\u001b[36m     test_mape_score     \u001b[0m\u001b[36m \u001b[0m│\u001b[35m \u001b[0m\u001b[35m   15.540801048278809    \u001b[0m\u001b[35m \u001b[0m│\u001b[35m \u001b[0m\u001b[35m   27.717927932739258    \u001b[0m\u001b[35m \u001b[0m│\n",
       "└───────────────────────────┴───────────────────────────┴───────────────────────────┘\n"
      ]
     },
     "metadata": {},
     "output_type": "display_data"
    },
    {
     "data": {
      "text/plain": [
       "[{'Total test_loss/dataloader_idx_0': 2.911190986633301,\n",
       "  'Total L1 loss/dataloader_idx_0': 55.08048629760742,\n",
       "  'Total auc_ratio/dataloader_idx_0': 0.9849075675010681,\n",
       "  'test_mape_score/dataloader_idx_0': 15.540801048278809},\n",
       " {'Total test_loss/dataloader_idx_1': 7.809418678283691,\n",
       "  'Total L1 loss/dataloader_idx_1': 89.70096588134766,\n",
       "  'Total auc_ratio/dataloader_idx_1': 1.0553433895111084,\n",
       "  'test_mape_score/dataloader_idx_1': 27.717927932739258}]"
      ]
     },
     "execution_count": 258,
     "metadata": {},
     "output_type": "execute_result"
    }
   ],
   "source": [
    "\"\"\"use code below to test model on testloaders\"\"\"\n",
    "dataloaders = [test_synthetic_loader, test_measurement_loader]\n",
    "trainer.test(train_module, dataloaders=dataloaders)"
   ]
  },
  {
   "cell_type": "markdown",
   "metadata": {},
   "source": [
    "#### Test on Measurement data"
   ]
  },
  {
   "cell_type": "code",
   "execution_count": 3,
   "metadata": {},
   "outputs": [],
   "source": [
    "\n",
    "trained_model = train_module\n",
    "trained_model.eval()\n",
    "\n",
    "# Denormalize function using the dataset's method\n",
    "def denormalize(data, dataset):\n",
    "    data = data.numpy()\n",
    "    denormalized_data = data * (dataset.output_maxs - dataset.output_mins) + dataset.output_mins\n",
    "    return denormalized_data\n",
    "\n",
    "# Function to plot 24-hour energy data for multiple samples\n",
    "def plot_energy_data(samples, predictions, ground_truth, labels, rows, cols, dataset):\n",
    "    fig, axes = plt.subplots(rows, cols, figsize=(40, 20))\n",
    "    axes = axes.flatten()\n",
    "    \n",
    "    for i in range(samples):\n",
    "        ax = axes[i]\n",
    "        \n",
    "        # Denormalize predictions and ground truth\n",
    "        pred_y = denormalize(predictions[i], dataset)\n",
    "        gt_y = denormalize(ground_truth[i], dataset)\n",
    "        \n",
    "        # Plot energy data\n",
    "        ax.plot(pred_y, label='Prediction', color='blue', linestyle='-', marker='o', markersize=5)\n",
    "        ax.plot(gt_y, label='Ground Truth', color='red', linestyle='-', marker='x', markersize=5)\n",
    "        ax.set_title(f'Measured Sample {i+1}', fontsize=14)\n",
    "        ax.set_xlabel('Hour of Day', fontsize=12)\n",
    "        ax.set_ylabel('Energy Value', fontsize=12)\n",
    "        ax.grid(True, which='both', linestyle='--', linewidth=0.5)\n",
    "        ax.legend(loc='upper right', fontsize=10)\n",
    "    \n",
    "    plt.tight_layout()\n",
    "    plt.show()\n",
    "\n",
    "# Number of samples to plot and subplots configuration\n",
    "num_samples = 16\n",
    "rows = 4\n",
    "cols = 4\n",
    "\n",
    "# Get multiple samples from the data loader\n",
    "samples_dynamic, samples_static, ground_truth = next(iter(test_measurement_loader))\n",
    "samples_dynamic = samples_dynamic[:num_samples]\n",
    "samples_static = samples_static[:num_samples]\n",
    "ground_truth = ground_truth[:num_samples]\n",
    "\n",
    "# Predict using the samples\n",
    "with torch.no_grad():\n",
    "    predictions = trained_model(samples_dynamic, samples_static)\n",
    "\n",
    "# Plot the 24-hour energy data for the predicted values and ground truth\n",
    "plot_energy_data(num_samples, predictions, ground_truth, labels=[\"Prediction\"], rows=rows, cols=cols, dataset=dataset)"
   ]
  },
  {
   "cell_type": "markdown",
   "metadata": {},
   "source": [
    "## test on synthetic data"
   ]
  },
  {
   "cell_type": "code",
   "execution_count": 4,
   "metadata": {},
   "outputs": [],
   "source": [
    "# Load the trained model\n",
    "trained_model = train_module\n",
    "trained_model.eval()\n",
    "\n",
    "# Denormalize function using the dataset's method\n",
    "def denormalize(data, dataset):\n",
    "    data = data.numpy()\n",
    "    denormalized_data = data * (dataset.output_maxs - dataset.output_mins) + dataset.output_mins\n",
    "    return denormalized_data\n",
    "\n",
    "# Function to plot 24-hour energy data for multiple samples\n",
    "def plot_energy_data(samples, predictions, ground_truth, labels, rows, cols, dataset):\n",
    "    fig, axes = plt.subplots(rows, cols, figsize=(40, 20))\n",
    "    axes = axes.flatten()\n",
    "    \n",
    "    for i in range(samples):\n",
    "        ax = axes[i]\n",
    "        \n",
    "        # Denormalize predictions and ground truth\n",
    "        pred_y = denormalize(predictions[i], dataset)\n",
    "        gt_y = denormalize(ground_truth[i], dataset)\n",
    "        \n",
    "        # Plot energy data\n",
    "        ax.plot(pred_y, label='Prediction', color='blue', linestyle='-', marker='o', markersize=5)\n",
    "        ax.plot(gt_y, label='Ground Truth', color='red', linestyle='-', marker='x', markersize=5)\n",
    "        ax.set_title(f'Synthetic Sample {i+1}', fontsize=14)\n",
    "        ax.set_xlabel('Hour of Day', fontsize=12)\n",
    "        ax.set_ylabel('Energy Value', fontsize=12)\n",
    "        ax.grid(True, which='both', linestyle='--', linewidth=0.5)\n",
    "        ax.legend(loc='upper right', fontsize=10)\n",
    "    \n",
    "    plt.tight_layout()\n",
    "    plt.show()\n",
    "\n",
    "# Number of samples to plot and subplots configuration\n",
    "num_samples = 16\n",
    "rows = 4\n",
    "cols = 4\n",
    "\n",
    "# Get multiple samples from the data loader\n",
    "samples_dynamic, samples_static, ground_truth = next(iter(test_synthetic_loader))\n",
    "samples_dynamic = samples_dynamic[:num_samples]\n",
    "samples_static = samples_static[:num_samples]\n",
    "ground_truth = ground_truth[:num_samples]\n",
    "\n",
    "# Predict using the samples\n",
    "with torch.no_grad():\n",
    "    predictions = trained_model(samples_dynamic, samples_static)\n",
    "\n",
    "# Plot the 24-hour energy data for the predicted values and ground truth\n",
    "plot_energy_data(num_samples, predictions, ground_truth, labels=[\"Prediction\"], rows=rows, cols=cols, dataset=dataset)"
   ]
  },
  {
   "cell_type": "markdown",
   "metadata": {},
   "source": [
    "### Test on mixed data"
   ]
  },
  {
   "cell_type": "code",
   "execution_count": 262,
   "metadata": {},
   "outputs": [
    {
     "data": {
      "image/png": "[encoded data removed]",
      "text/plain": [
       "<Figure size 2000x1000 with 16 Axes>"
      ]
     },
     "metadata": {},
     "output_type": "display_data"
    }
   ],
   "source": [
    "# Load the trained model\n",
    "trained_model = train_module\n",
    "trained_model.eval()\n",
    "\n",
    "# Denormalize function using the dataset's method\n",
    "def denormalize(data, dataset):\n",
    "    data = data.numpy()\n",
    "    denormalized_data = data * (dataset.output_maxs - dataset.output_mins) + dataset.output_mins\n",
    "    return denormalized_data\n",
    "\n",
    "# Function to plot 24-hour energy data for multiple samples\n",
    "def plot_energy_data(samples, predictions, ground_truth, labels, rows, cols, dataset):\n",
    "    fig, axes = plt.subplots(rows, cols, figsize=(20, 10))\n",
    "    axes = axes.flatten()\n",
    "    \n",
    "    for i, ax in enumerate(axes):\n",
    "        # Determine if the plot is for synthetic or measurement data\n",
    "        if i < cols * 2:  # First two rows for synthetic data\n",
    "            title_prefix = \"Synthetic Sample\"\n",
    "        else:  # Last two rows for measurement data\n",
    "            title_prefix = \"Measurement Sample\"\n",
    "\n",
    "        # Denormalize predictions and ground truth\n",
    "        pred_y = denormalize(predictions[i], dataset)\n",
    "        gt_y = denormalize(ground_truth[i], dataset)\n",
    "        \n",
    "        # Plot energy data\n",
    "        ax.plot(pred_y, label='Prediction', color='blue', linestyle='-', marker='o', markersize=5)\n",
    "        ax.plot(gt_y, label='Ground Truth', color='red', linestyle='-', marker='x', markersize=5)\n",
    "        ax.set_title(f'{title_prefix} {i % cols + 1}', fontsize=14)\n",
    "        ax.set_xlabel('Hour of Day', fontsize=12)\n",
    "        ax.set_ylabel('Energy Value', fontsize=12)\n",
    "        ax.grid(True, which='both', linestyle='--', linewidth=0.5)\n",
    "        ax.legend(loc='upper right', fontsize=10)\n",
    "    \n",
    "    plt.tight_layout()\n",
    "    plt.show()\n",
    "\n",
    "# Number of samples to plot per category and subplots configuration\n",
    "num_samples = 8  # Each category (synthetic, measurement) will have 4 samples\n",
    "rows = 4\n",
    "cols = 4\n",
    "\n",
    "# Fetch samples from synthetic data loader\n",
    "synthetic_dynamic, synthetic_static, synthetic_ground_truth = next(iter(test_synthetic_loader))\n",
    "synthetic_dynamic = synthetic_dynamic[num_samples:]\n",
    "synthetic_static = synthetic_static[num_samples:]\n",
    "synthetic_ground_truth = synthetic_ground_truth[num_samples:]\n",
    "\n",
    "# Fetch samples from measurement data loader\n",
    "measurement_dynamic, measurement_static, measurement_ground_truth = next(iter(test_measurement_loader))\n",
    "measurement_dynamic = measurement_dynamic[:num_samples]\n",
    "measurement_static = measurement_static[:num_samples]\n",
    "measurement_ground_truth = measurement_ground_truth[:num_samples]\n",
    "\n",
    "# Predict using the synthetic samples\n",
    "with torch.no_grad():\n",
    "    synthetic_predictions = trained_model(synthetic_dynamic, synthetic_static)\n",
    "\n",
    "# Predict using the measurement samples\n",
    "with torch.no_grad():\n",
    "    measurement_predictions = trained_model(measurement_dynamic, measurement_static)\n",
    "\n",
    "# Combine predictions and ground truths\n",
    "combined_predictions = torch.cat((synthetic_predictions, measurement_predictions))\n",
    "combined_ground_truth = torch.cat((synthetic_ground_truth, measurement_ground_truth))\n",
    "\n",
    "# Plot the 24-hour energy data for the predicted values and ground truth\n",
    "plot_energy_data(num_samples * 2, combined_predictions, combined_ground_truth, labels=[\"Prediction\"], rows=rows, cols=cols, dataset=dataset)"
   ]
  },
  {
   "cell_type": "markdown",
   "metadata": {},
   "source": [
    "## inference for Final model \n",
    "\n",
    "This seems more complex then it is. all data is normalized, but it is easier for the model to automatically process unnormalized data. Therefore this code first unnormalizes the data before passing it into the model. "
   ]
  },
  {
   "cell_type": "code",
   "execution_count": 263,
   "metadata": {},
   "outputs": [],
   "source": [
    "#save the model\n",
    "torch.save(trained_model.model.state_dict(), 'final_models/energy_prediction_model.pth')\n",
    "\n",
    "# Save the dataset values for inference\n",
    "with open('final_models/dataset_values.pkl', 'wb') as f:\n",
    "    pickle.dump(dataset_values, f)"
   ]
  },
  {
   "cell_type": "code",
   "execution_count": 264,
   "metadata": {},
   "outputs": [
    {
     "name": "stdout",
     "output_type": "stream",
     "text": [
      "2\n",
      "input torch.Size([5, 24, 5]) torch.Size([5, 3])\n",
      "dynamic cols value 5\n",
      "shape x_static, x_dynamic torch.Size([5, 3]) torch.Size([5, 24, 5])\n",
      "x_static_norm torch.Size([5, 3]) tensor([[-2.6222, -1.6580, -0.5209],\n",
      "        [-2.7793, -1.6601, -0.5209],\n",
      "        [-2.6783, -1.6944, -0.5209],\n",
      "        [-2.6510, -1.6817, -0.5209],\n",
      "        [-2.6060, -1.6676, -0.5209]])\n"
     ]
    },
    {
     "name": "stderr",
     "output_type": "stream",
     "text": [
      "C:\\Users\\denni\\AppData\\Local\\Temp\\ipykernel_24784\\2900650543.py:61: UserWarning: To copy construct from a tensor, it is recommended to use sourceTensor.clone().detach() or sourceTensor.clone().detach().requires_grad_(True), rather than torch.tensor(sourceTensor).\n",
      "  x_static = torch.tensor(x_static, dtype=torch.float32)\n",
      "C:\\Users\\denni\\AppData\\Local\\Temp\\ipykernel_24784\\2900650543.py:62: UserWarning: To copy construct from a tensor, it is recommended to use sourceTensor.clone().detach() or sourceTensor.clone().detach().requires_grad_(True), rather than torch.tensor(sourceTensor).\n",
      "  x_dynamic = torch.tensor(x_dynamic, dtype=torch.float32)\n"
     ]
    },
    {
     "ename": "RuntimeError",
     "evalue": "The size of tensor a (5) must match the size of tensor b (6) at non-singleton dimension 2",
     "output_type": "error",
     "traceback": [
      "\u001b[1;31m---------------------------------------------------------------------------\u001b[0m",
      "\u001b[1;31mRuntimeError\u001b[0m                              Traceback (most recent call last)",
      "Cell \u001b[1;32mIn[264], line 10\u001b[0m\n\u001b[0;32m      7\u001b[0m model\u001b[38;5;241m.\u001b[39mload_state_dict(torch\u001b[38;5;241m.\u001b[39mload(\u001b[38;5;124m'\u001b[39m\u001b[38;5;124mfinal_models/energy_prediction_model.pth\u001b[39m\u001b[38;5;124m'\u001b[39m))\n\u001b[0;32m      8\u001b[0m model\u001b[38;5;241m.\u001b[39meval()\n\u001b[1;32m---> 10\u001b[0m predictions \u001b[38;5;241m=\u001b[39m \u001b[43mmodel\u001b[49m\u001b[38;5;241;43m.\u001b[39;49m\u001b[43mpredict\u001b[49m\u001b[43m(\u001b[49m\u001b[43msample_dynamic\u001b[49m\u001b[43m,\u001b[49m\u001b[43m \u001b[49m\u001b[43msample_static\u001b[49m\u001b[43m)\u001b[49m\n\u001b[0;32m     12\u001b[0m \u001b[38;5;66;03m# Load sample data\u001b[39;00m\n\u001b[0;32m     13\u001b[0m num_samples \u001b[38;5;241m=\u001b[39m \u001b[38;5;241m5\u001b[39m\n",
      "Cell \u001b[1;32mIn[246], line 78\u001b[0m, in \u001b[0;36mEnergyPredictionModel.predict\u001b[1;34m(self, x_dynamic, x_static)\u001b[0m\n\u001b[0;32m     76\u001b[0m dynamic_mean \u001b[38;5;241m=\u001b[39m torch\u001b[38;5;241m.\u001b[39mtensor(\u001b[38;5;28mself\u001b[39m\u001b[38;5;241m.\u001b[39mmean[static_dim:], dtype\u001b[38;5;241m=\u001b[39mtorch\u001b[38;5;241m.\u001b[39mfloat32)\u001b[38;5;241m.\u001b[39mreshape(\u001b[38;5;241m1\u001b[39m, \u001b[38;5;241m-\u001b[39m\u001b[38;5;241m1\u001b[39m)\n\u001b[0;32m     77\u001b[0m dynamic_std \u001b[38;5;241m=\u001b[39m torch\u001b[38;5;241m.\u001b[39mtensor(\u001b[38;5;28mself\u001b[39m\u001b[38;5;241m.\u001b[39mstd[static_dim:], dtype\u001b[38;5;241m=\u001b[39mtorch\u001b[38;5;241m.\u001b[39mfloat32)\u001b[38;5;241m.\u001b[39mreshape(\u001b[38;5;241m1\u001b[39m, \u001b[38;5;241m-\u001b[39m\u001b[38;5;241m1\u001b[39m)\n\u001b[1;32m---> 78\u001b[0m x_dynamic_norm \u001b[38;5;241m=\u001b[39m (\u001b[43mx_dynamic\u001b[49m\u001b[43m \u001b[49m\u001b[38;5;241;43m-\u001b[39;49m\u001b[43m \u001b[49m\u001b[43mdynamic_mean\u001b[49m) \u001b[38;5;241m/\u001b[39m dynamic_std\n\u001b[0;32m     80\u001b[0m \u001b[38;5;66;03m# Print normalized dynamic features\u001b[39;00m\n\u001b[0;32m     81\u001b[0m \u001b[38;5;28mprint\u001b[39m(\u001b[38;5;124m'\u001b[39m\u001b[38;5;124mx_dynamic_norm\u001b[39m\u001b[38;5;124m'\u001b[39m, x_dynamic_norm\u001b[38;5;241m.\u001b[39mshape, x_dynamic_norm)\n",
      "\u001b[1;31mRuntimeError\u001b[0m: The size of tensor a (5) must match the size of tensor b (6) at non-singleton dimension 2"
     ]
    }
   ],
   "source": [
    "# Load the dataset values\n",
    "with open('final_models/dataset_values.pkl', 'rb') as f:\n",
    "    dataset_values = pickle.load(f)\n",
    "\n",
    "# Load the trained model\n",
    "model = EnergyPredictionModel(dynamic_feature_size, static_feature_size, hidden_size,fc_size, dropout_rate=0.1,dataset_values=dataset_values)\n",
    "model.load_state_dict(torch.load('final_models/energy_prediction_model.pth'))\n",
    "model.eval()\n",
    "\n",
    "# Predict using the sample data\n",
    "predictions = model.predict(sample_dynamic, sample_static)\n",
    "\n",
    "# Load sample data\n",
    "num_samples = 5\n",
    "samples_dynamic, samples_static, ground_truth = next(iter(test_measurement_loader))\n",
    "samples_dynamic = samples_dynamic[:num_samples]\n",
    "samples_static = samples_static[:num_samples]\n",
    "ground_truth = ground_truth[:num_samples]\n",
    "\n",
    "# Ensure normalization and computation are done with tensors\n",
    "mean_static = torch.tensor(dataset_values['mean'][:2] + [0], dtype=torch.float32) \n",
    "std_static = torch.tensor(dataset_values['std'][:2] + [1], dtype=torch.float32)    \n",
    "mean_dynamic = torch.tensor(dataset_values['mean'][2:], dtype=torch.float32)\n",
    "std_dynamic = torch.tensor(dataset_values['std'][2:], dtype=torch.float32)\n",
    "\n",
    "# Apply normalization\n",
    "samples_static = (samples_static * std_static ) + mean_static\n",
    "samples_dynamic = (samples_dynamic * std_dynamic) + mean_dynamic\n",
    "\n",
    "\n",
    "\n",
    "# Denormalize function using the dataset's method\n",
    "def denormalize(data, dataset):\n",
    "    denormalized_data = data * (dataset.output_maxs - dataset.output_mins) + dataset.output_mins\n",
    "    return denormalized_data\n",
    "\n",
    "# Denormalize predictions and ground truth\n",
    "predictions_denorm = predictions\n",
    "ground_truth_denorm = denormalize(ground_truth.numpy(), dataset)\n",
    "\n",
    "# Function to plot energy data\n",
    "def plot_energy_data(predictions, ground_truth, num_samples=5):\n",
    "    fig, axes = plt.subplots(1,AMOUNT_OF_SAMPLES, figsize=(num_samples * 5,5))\n",
    "    \n",
    "    if num_samples == 1:\n",
    "        axes = [axes]\n",
    "    \n",
    "    for i in range(num_samples):\n",
    "        axes[i].plot(predictions[i], label='Prediction', color='blue', linestyle='-', marker='o', markersize=5)\n",
    "        axes[i].plot(ground_truth[i], label='Ground Truth', color='red', linestyle='-', marker='x', markersize=5)\n",
    "        axes[i].set_title(f'Sample {i+1}', fontsize=14)\n",
    "        axes[i].set_xlabel('Hour of Day', fontsize=12)\n",
    "        axes[i].set_ylabel('Energy Value', fontsize=12)\n",
    "        axes[i].legend()\n",
    "        axes[i].grid(True, which='both', linestyle='--', linewidth=0.5)\n",
    "\n",
    "    plt.grid(True)\n",
    "    plt.tight_layout()\n",
    "    plt.show()\n",
    "\n",
    "# Plot the energy data for the specified number of samples\n",
    "plot_energy_data(predictions_denorm, ground_truth_denorm, num_samples=AMOUNT_OF_SAMPLES)"
   ]
  },
  {
   "cell_type": "markdown",
   "metadata": {},
   "source": [
    "### Hyperparameter optimization "
   ]
  },
  {
   "cell_type": "code",
   "execution_count": null,
   "metadata": {},
   "outputs": [
    {
     "name": "stderr",
     "output_type": "stream",
     "text": [
      "[I 2024-06-10 15:14:09,727] A new study created in memory with name: no-name-08d0be70-b595-4476-a8ba-40aeccf64a60\n",
      "GPU available: False, used: False\n",
      "TPU available: False, using: 0 TPU cores\n",
      "IPU available: False, using: 0 IPUs\n",
      "HPU available: False, using: 0 HPUs\n",
      "c:\\Users\\denni\\anaconda3\\envs\\5ARIP\\Lib\\site-packages\\pytorch_lightning\\callbacks\\model_checkpoint.py:653: Checkpoint directory C:\\Users\\denni\\Documents\\5ARIP10 - Interdisciplinary team project\\InterdisciplinaryProject\\energy_prediction\\models2 exists and is not empty.\n",
      "\n",
      "  | Name    | Type                  | Params\n",
      "--------------------------------------------------\n",
      "0 | model   | EnergyPredictionModel | 543 K \n",
      "1 | loss_fn | MSELoss               | 0     \n",
      "--------------------------------------------------\n",
      "543 K     Trainable params\n",
      "0         Non-trainable params\n",
      "543 K     Total params\n",
      "2.173     Total estimated model params size (MB)\n"
     ]
    },
    {
     "name": "stdout",
     "output_type": "stream",
     "text": [
      "size of the total dataset: 13839 \n",
      "size of synthetic data: 12497 = 0.90\n",
      "size of the measured data: 1342 = 0.10\n",
      "\n",
      "size of the total dataset after subsampling: 13839 \n",
      " Size of synthetic data: 12497 = 0.90 \n",
      " Size of the measured data: 1342 = 0.10 \n",
      " ________________________________________________________\n",
      "\n",
      "Training set size (synthetic): 6998 = 0.56 of synthetic data\n",
      "Training set size (measured): 644 = 0.48 of measured data \n",
      "\n",
      "Validation set size (synthetic): 1749 = 0.14 of synthetic data\n",
      "Validation set size (measured): 161 = 0.12 of measured data \n",
      "\n",
      "Test set size (synthetic): 3750 = 0.30 of synthetic data\n",
      "Test set size (measured): 537 = 0.40 of measured data \n",
      "\n"
     ]
    },
    {
     "data": {
      "application/vnd.jupyter.widget-view+json": {
       "model_id": "888e936174d2411d997b9fb125947fac",
       "version_major": 2,
       "version_minor": 0
      },
      "text/plain": [
       "Sanity Checking: |          | 0/? [00:00<?, ?it/s]"
      ]
     },
     "metadata": {},
     "output_type": "display_data"
    },
    {
     "name": "stderr",
     "output_type": "stream",
     "text": [
      "c:\\Users\\denni\\anaconda3\\envs\\5ARIP\\Lib\\site-packages\\pytorch_lightning\\trainer\\connectors\\data_connector.py:441: The 'val_dataloader' does not have many workers which may be a bottleneck. Consider increasing the value of the `num_workers` argument` to `num_workers=15` in the `DataLoader` to improve performance.\n",
      "c:\\Users\\denni\\anaconda3\\envs\\5ARIP\\Lib\\site-packages\\pytorch_lightning\\trainer\\connectors\\data_connector.py:441: The 'train_dataloader' does not have many workers which may be a bottleneck. Consider increasing the value of the `num_workers` argument` to `num_workers=15` in the `DataLoader` to improve performance.\n"
     ]
    },
    {
     "data": {
      "application/vnd.jupyter.widget-view+json": {
       "model_id": "227d259024404c42a3588c543ba8e636",
       "version_major": 2,
       "version_minor": 0
      },
      "text/plain": [
       "Training: |          | 0/? [00:00<?, ?it/s]"
      ]
     },
     "metadata": {},
     "output_type": "display_data"
    },
    {
     "data": {
      "application/vnd.jupyter.widget-view+json": {
       "model_id": "1474078348e64ba4b341bf360a93449f",
       "version_major": 2,
       "version_minor": 0
      },
      "text/plain": [
       "Validation: |          | 0/? [00:00<?, ?it/s]"
      ]
     },
     "metadata": {},
     "output_type": "display_data"
    },
    {
     "name": "stderr",
     "output_type": "stream",
     "text": [
      "Epoch 0, global step 120: 'val_evaluation_metric' reached 0.05725 (best 0.05725), saving model to 'C:\\\\Users\\\\denni\\\\Documents\\\\5ARIP10 - Interdisciplinary team project\\\\InterdisciplinaryProject\\\\energy_prediction\\\\models2\\\\best-model-epoch=00-val_evaluation_metric=0.06.ckpt' as top 1\n",
      "c:\\Users\\denni\\anaconda3\\envs\\5ARIP\\Lib\\site-packages\\pytorch_lightning\\trainer\\call.py:54: Detected KeyboardInterrupt, attempting graceful shutdown...\n",
      "[I 2024-06-10 15:14:22,828] Trial 0 finished with value: 0.057249147444963455 and parameters: {'learning_rate': 0.002767493830834293, 'hidden_size': 2, 'fc_size': 512, 'loss_type': 'mse'}. Best is trial 0 with value: 0.057249147444963455.\n",
      "GPU available: False, used: False\n",
      "TPU available: False, using: 0 TPU cores\n",
      "IPU available: False, using: 0 IPUs\n",
      "HPU available: False, using: 0 HPUs\n",
      "c:\\Users\\denni\\anaconda3\\envs\\5ARIP\\Lib\\site-packages\\pytorch_lightning\\callbacks\\model_checkpoint.py:653: Checkpoint directory C:\\Users\\denni\\Documents\\5ARIP10 - Interdisciplinary team project\\InterdisciplinaryProject\\energy_prediction\\models2 exists and is not empty.\n",
      "\n",
      "  | Name    | Type                  | Params\n",
      "--------------------------------------------------\n",
      "0 | model   | EnergyPredictionModel | 10.2 K\n",
      "1 | loss_fn | MSELoss               | 0     \n",
      "--------------------------------------------------\n",
      "10.2 K    Trainable params\n",
      "0         Non-trainable params\n",
      "10.2 K    Total params\n",
      "0.041     Total estimated model params size (MB)\n"
     ]
    },
    {
     "data": {
      "application/vnd.jupyter.widget-view+json": {
       "model_id": "6c4d280c806c4cec8a7c5841dd7054fe",
       "version_major": 2,
       "version_minor": 0
      },
      "text/plain": [
       "Sanity Checking: |          | 0/? [00:00<?, ?it/s]"
      ]
     },
     "metadata": {},
     "output_type": "display_data"
    },
    {
     "name": "stderr",
     "output_type": "stream",
     "text": [
      "c:\\Users\\denni\\anaconda3\\envs\\5ARIP\\Lib\\site-packages\\pytorch_lightning\\trainer\\connectors\\data_connector.py:441: The 'val_dataloader' does not have many workers which may be a bottleneck. Consider increasing the value of the `num_workers` argument` to `num_workers=15` in the `DataLoader` to improve performance.\n",
      "c:\\Users\\denni\\anaconda3\\envs\\5ARIP\\Lib\\site-packages\\pytorch_lightning\\trainer\\connectors\\data_connector.py:441: The 'train_dataloader' does not have many workers which may be a bottleneck. Consider increasing the value of the `num_workers` argument` to `num_workers=15` in the `DataLoader` to improve performance.\n"
     ]
    },
    {
     "data": {
      "application/vnd.jupyter.widget-view+json": {
       "model_id": "175adbd5416e4053ab1b3cd80b2485be",
       "version_major": 2,
       "version_minor": 0
      },
      "text/plain": [
       "Training: |          | 0/? [00:00<?, ?it/s]"
      ]
     },
     "metadata": {},
     "output_type": "display_data"
    },
    {
     "data": {
      "application/vnd.jupyter.widget-view+json": {
       "model_id": "a68e3b6e58cd47fca78e34da3003f4c6",
       "version_major": 2,
       "version_minor": 0
      },
      "text/plain": [
       "Validation: |          | 0/? [00:00<?, ?it/s]"
      ]
     },
     "metadata": {},
     "output_type": "display_data"
    },
    {
     "name": "stderr",
     "output_type": "stream",
     "text": [
      "Epoch 0, global step 120: 'val_evaluation_metric' reached 0.07698 (best 0.07698), saving model to 'C:\\\\Users\\\\denni\\\\Documents\\\\5ARIP10 - Interdisciplinary team project\\\\InterdisciplinaryProject\\\\energy_prediction\\\\models2\\\\best-model-epoch=00-val_evaluation_metric=0.08.ckpt' as top 1\n"
     ]
    },
    {
     "data": {
      "application/vnd.jupyter.widget-view+json": {
       "model_id": "ca7ff8e8f5ba49a9909380a7774c95d8",
       "version_major": 2,
       "version_minor": 0
      },
      "text/plain": [
       "Validation: |          | 0/? [00:00<?, ?it/s]"
      ]
     },
     "metadata": {},
     "output_type": "display_data"
    },
    {
     "name": "stderr",
     "output_type": "stream",
     "text": [
      "Epoch 1, global step 240: 'val_evaluation_metric' reached 0.06574 (best 0.06574), saving model to 'C:\\\\Users\\\\denni\\\\Documents\\\\5ARIP10 - Interdisciplinary team project\\\\InterdisciplinaryProject\\\\energy_prediction\\\\models2\\\\best-model-epoch=01-val_evaluation_metric=0.07.ckpt' as top 1\n"
     ]
    },
    {
     "data": {
      "application/vnd.jupyter.widget-view+json": {
       "model_id": "d3c314a1802449789795d4739996263e",
       "version_major": 2,
       "version_minor": 0
      },
      "text/plain": [
       "Validation: |          | 0/? [00:00<?, ?it/s]"
      ]
     },
     "metadata": {},
     "output_type": "display_data"
    },
    {
     "name": "stderr",
     "output_type": "stream",
     "text": [
      "Epoch 2, global step 360: 'val_evaluation_metric' reached 0.06024 (best 0.06024), saving model to 'C:\\\\Users\\\\denni\\\\Documents\\\\5ARIP10 - Interdisciplinary team project\\\\InterdisciplinaryProject\\\\energy_prediction\\\\models2\\\\best-model-epoch=02-val_evaluation_metric=0.06.ckpt' as top 1\n"
     ]
    },
    {
     "data": {
      "application/vnd.jupyter.widget-view+json": {
       "model_id": "14abbb8a2d7743d79fb4180b46bae1ca",
       "version_major": 2,
       "version_minor": 0
      },
      "text/plain": [
       "Validation: |          | 0/? [00:00<?, ?it/s]"
      ]
     },
     "metadata": {},
     "output_type": "display_data"
    },
    {
     "name": "stderr",
     "output_type": "stream",
     "text": [
      "Epoch 3, global step 480: 'val_evaluation_metric' reached 0.05687 (best 0.05687), saving model to 'C:\\\\Users\\\\denni\\\\Documents\\\\5ARIP10 - Interdisciplinary team project\\\\InterdisciplinaryProject\\\\energy_prediction\\\\models2\\\\best-model-epoch=03-val_evaluation_metric=0.06.ckpt' as top 1\n"
     ]
    },
    {
     "data": {
      "application/vnd.jupyter.widget-view+json": {
       "model_id": "71a9b74f5d7c44f2987c2e9f15249a36",
       "version_major": 2,
       "version_minor": 0
      },
      "text/plain": [
       "Validation: |          | 0/? [00:00<?, ?it/s]"
      ]
     },
     "metadata": {},
     "output_type": "display_data"
    },
    {
     "name": "stderr",
     "output_type": "stream",
     "text": [
      "Epoch 4, global step 600: 'val_evaluation_metric' reached 0.05391 (best 0.05391), saving model to 'C:\\\\Users\\\\denni\\\\Documents\\\\5ARIP10 - Interdisciplinary team project\\\\InterdisciplinaryProject\\\\energy_prediction\\\\models2\\\\best-model-epoch=04-val_evaluation_metric=0.05-v7.ckpt' as top 1\n",
      "`Trainer.fit` stopped: `max_epochs=5` reached.\n",
      "[I 2024-06-10 15:15:16,434] Trial 1 finished with value: 0.05390807241201401 and parameters: {'learning_rate': 0.0004919166596322929, 'hidden_size': 32, 'fc_size': 32, 'loss_type': 'mse'}. Best is trial 1 with value: 0.05390807241201401.\n",
      "GPU available: False, used: False\n",
      "TPU available: False, using: 0 TPU cores\n",
      "IPU available: False, using: 0 IPUs\n",
      "HPU available: False, using: 0 HPUs\n",
      "c:\\Users\\denni\\anaconda3\\envs\\5ARIP\\Lib\\site-packages\\pytorch_lightning\\callbacks\\model_checkpoint.py:653: Checkpoint directory C:\\Users\\denni\\Documents\\5ARIP10 - Interdisciplinary team project\\InterdisciplinaryProject\\energy_prediction\\models2 exists and is not empty.\n",
      "\n",
      "  | Name    | Type                  | Params\n",
      "--------------------------------------------------\n",
      "0 | model   | EnergyPredictionModel | 5.6 K \n",
      "1 | loss_fn | HuberLoss             | 0     \n",
      "--------------------------------------------------\n",
      "5.6 K     Trainable params\n",
      "0         Non-trainable params\n",
      "5.6 K     Total params\n",
      "0.022     Total estimated model params size (MB)\n"
     ]
    },
    {
     "data": {
      "application/vnd.jupyter.widget-view+json": {
       "model_id": "45929603abf6421d84f9858651436ecd",
       "version_major": 2,
       "version_minor": 0
      },
      "text/plain": [
       "Sanity Checking: |          | 0/? [00:00<?, ?it/s]"
      ]
     },
     "metadata": {},
     "output_type": "display_data"
    },
    {
     "name": "stderr",
     "output_type": "stream",
     "text": [
      "c:\\Users\\denni\\anaconda3\\envs\\5ARIP\\Lib\\site-packages\\pytorch_lightning\\trainer\\connectors\\data_connector.py:441: The 'val_dataloader' does not have many workers which may be a bottleneck. Consider increasing the value of the `num_workers` argument` to `num_workers=15` in the `DataLoader` to improve performance.\n",
      "c:\\Users\\denni\\anaconda3\\envs\\5ARIP\\Lib\\site-packages\\pytorch_lightning\\trainer\\connectors\\data_connector.py:441: The 'train_dataloader' does not have many workers which may be a bottleneck. Consider increasing the value of the `num_workers` argument` to `num_workers=15` in the `DataLoader` to improve performance.\n"
     ]
    },
    {
     "data": {
      "application/vnd.jupyter.widget-view+json": {
       "model_id": "b09c6b7ebb66412eb7cc5d4c707ed531",
       "version_major": 2,
       "version_minor": 0
      },
      "text/plain": [
       "Training: |          | 0/? [00:00<?, ?it/s]"
      ]
     },
     "metadata": {},
     "output_type": "display_data"
    },
    {
     "data": {
      "application/vnd.jupyter.widget-view+json": {
       "model_id": "8b5c3b395c9b4f6eb70c72ef0a404c4c",
       "version_major": 2,
       "version_minor": 0
      },
      "text/plain": [
       "Validation: |          | 0/? [00:00<?, ?it/s]"
      ]
     },
     "metadata": {},
     "output_type": "display_data"
    },
    {
     "name": "stderr",
     "output_type": "stream",
     "text": [
      "Epoch 0, global step 120: 'val_evaluation_metric' reached 0.04582 (best 0.04582), saving model to 'C:\\\\Users\\\\denni\\\\Documents\\\\5ARIP10 - Interdisciplinary team project\\\\InterdisciplinaryProject\\\\energy_prediction\\\\models2\\\\best-model-epoch=00-val_evaluation_metric=0.05.ckpt' as top 1\n"
     ]
    },
    {
     "data": {
      "application/vnd.jupyter.widget-view+json": {
       "model_id": "112e81c645d0420798d38bf06ec76cde",
       "version_major": 2,
       "version_minor": 0
      },
      "text/plain": [
       "Validation: |          | 0/? [00:00<?, ?it/s]"
      ]
     },
     "metadata": {},
     "output_type": "display_data"
    },
    {
     "name": "stderr",
     "output_type": "stream",
     "text": [
      "Epoch 1, global step 240: 'val_evaluation_metric' reached 0.04035 (best 0.04035), saving model to 'C:\\\\Users\\\\denni\\\\Documents\\\\5ARIP10 - Interdisciplinary team project\\\\InterdisciplinaryProject\\\\energy_prediction\\\\models2\\\\best-model-epoch=01-val_evaluation_metric=0.04.ckpt' as top 1\n"
     ]
    },
    {
     "data": {
      "application/vnd.jupyter.widget-view+json": {
       "model_id": "345336d65b2743aca87e163d67c4dab2",
       "version_major": 2,
       "version_minor": 0
      },
      "text/plain": [
       "Validation: |          | 0/? [00:00<?, ?it/s]"
      ]
     },
     "metadata": {},
     "output_type": "display_data"
    },
    {
     "name": "stderr",
     "output_type": "stream",
     "text": [
      "Epoch 2, global step 360: 'val_evaluation_metric' reached 0.03854 (best 0.03854), saving model to 'C:\\\\Users\\\\denni\\\\Documents\\\\5ARIP10 - Interdisciplinary team project\\\\InterdisciplinaryProject\\\\energy_prediction\\\\models2\\\\best-model-epoch=02-val_evaluation_metric=0.04-v1.ckpt' as top 1\n"
     ]
    },
    {
     "data": {
      "application/vnd.jupyter.widget-view+json": {
       "model_id": "83b5bdcf866f4426bb281199abddbd1b",
       "version_major": 2,
       "version_minor": 0
      },
      "text/plain": [
       "Validation: |          | 0/? [00:00<?, ?it/s]"
      ]
     },
     "metadata": {},
     "output_type": "display_data"
    },
    {
     "name": "stderr",
     "output_type": "stream",
     "text": [
      "Epoch 3, global step 480: 'val_evaluation_metric' reached 0.03758 (best 0.03758), saving model to 'C:\\\\Users\\\\denni\\\\Documents\\\\5ARIP10 - Interdisciplinary team project\\\\InterdisciplinaryProject\\\\energy_prediction\\\\models2\\\\best-model-epoch=03-val_evaluation_metric=0.04-v4.ckpt' as top 1\n"
     ]
    },
    {
     "data": {
      "application/vnd.jupyter.widget-view+json": {
       "model_id": "d6bb36fcc50f43f880e9e831ca048a15",
       "version_major": 2,
       "version_minor": 0
      },
      "text/plain": [
       "Validation: |          | 0/? [00:00<?, ?it/s]"
      ]
     },
     "metadata": {},
     "output_type": "display_data"
    },
    {
     "name": "stderr",
     "output_type": "stream",
     "text": [
      "Epoch 4, global step 600: 'val_evaluation_metric' reached 0.03741 (best 0.03741), saving model to 'C:\\\\Users\\\\denni\\\\Documents\\\\5ARIP10 - Interdisciplinary team project\\\\InterdisciplinaryProject\\\\energy_prediction\\\\models2\\\\best-model-epoch=04-val_evaluation_metric=0.04-v6.ckpt' as top 1\n",
      "`Trainer.fit` stopped: `max_epochs=5` reached.\n",
      "[I 2024-06-10 15:16:10,288] Trial 2 finished with value: 0.03740621358156204 and parameters: {'learning_rate': 0.03340913070340877, 'hidden_size': 16, 'fc_size': 32, 'loss_type': 'huber'}. Best is trial 2 with value: 0.03740621358156204.\n",
      "GPU available: False, used: False\n",
      "TPU available: False, using: 0 TPU cores\n",
      "IPU available: False, using: 0 IPUs\n",
      "HPU available: False, using: 0 HPUs\n",
      "c:\\Users\\denni\\anaconda3\\envs\\5ARIP\\Lib\\site-packages\\pytorch_lightning\\callbacks\\model_checkpoint.py:653: Checkpoint directory C:\\Users\\denni\\Documents\\5ARIP10 - Interdisciplinary team project\\InterdisciplinaryProject\\energy_prediction\\models2 exists and is not empty.\n",
      "\n",
      "  | Name    | Type                  | Params\n",
      "--------------------------------------------------\n",
      "0 | model   | EnergyPredictionModel | 10.7 K\n",
      "1 | loss_fn | MSELoss               | 0     \n",
      "--------------------------------------------------\n",
      "10.7 K    Trainable params\n",
      "0         Non-trainable params\n",
      "10.7 K    Total params\n",
      "0.043     Total estimated model params size (MB)\n"
     ]
    },
    {
     "data": {
      "application/vnd.jupyter.widget-view+json": {
       "model_id": "c560b09729914ddbb1eff85312f87242",
       "version_major": 2,
       "version_minor": 0
      },
      "text/plain": [
       "Sanity Checking: |          | 0/? [00:00<?, ?it/s]"
      ]
     },
     "metadata": {},
     "output_type": "display_data"
    },
    {
     "name": "stderr",
     "output_type": "stream",
     "text": [
      "c:\\Users\\denni\\anaconda3\\envs\\5ARIP\\Lib\\site-packages\\pytorch_lightning\\trainer\\connectors\\data_connector.py:441: The 'val_dataloader' does not have many workers which may be a bottleneck. Consider increasing the value of the `num_workers` argument` to `num_workers=15` in the `DataLoader` to improve performance.\n",
      "c:\\Users\\denni\\anaconda3\\envs\\5ARIP\\Lib\\site-packages\\pytorch_lightning\\trainer\\connectors\\data_connector.py:441: The 'train_dataloader' does not have many workers which may be a bottleneck. Consider increasing the value of the `num_workers` argument` to `num_workers=15` in the `DataLoader` to improve performance.\n"
     ]
    },
    {
     "data": {
      "application/vnd.jupyter.widget-view+json": {
       "model_id": "2f49a75f157842299a2df35d900bf21b",
       "version_major": 2,
       "version_minor": 0
      },
      "text/plain": [
       "Training: |          | 0/? [00:00<?, ?it/s]"
      ]
     },
     "metadata": {},
     "output_type": "display_data"
    },
    {
     "data": {
      "application/vnd.jupyter.widget-view+json": {
       "model_id": "998d3e8902d848e4b3cdde90b5d91ce6",
       "version_major": 2,
       "version_minor": 0
      },
      "text/plain": [
       "Validation: |          | 0/? [00:00<?, ?it/s]"
      ]
     },
     "metadata": {},
     "output_type": "display_data"
    },
    {
     "name": "stderr",
     "output_type": "stream",
     "text": [
      "Epoch 0, global step 120: 'val_evaluation_metric' reached 0.36690 (best 0.36690), saving model to 'C:\\\\Users\\\\denni\\\\Documents\\\\5ARIP10 - Interdisciplinary team project\\\\InterdisciplinaryProject\\\\energy_prediction\\\\models2\\\\best-model-epoch=00-val_evaluation_metric=0.37.ckpt' as top 1\n"
     ]
    },
    {
     "data": {
      "application/vnd.jupyter.widget-view+json": {
       "model_id": "2d861be70e9a4d1183ff1681fd16f0e4",
       "version_major": 2,
       "version_minor": 0
      },
      "text/plain": [
       "Validation: |          | 0/? [00:00<?, ?it/s]"
      ]
     },
     "metadata": {},
     "output_type": "display_data"
    },
    {
     "name": "stderr",
     "output_type": "stream",
     "text": [
      "Epoch 1, global step 240: 'val_evaluation_metric' reached 0.36071 (best 0.36071), saving model to 'C:\\\\Users\\\\denni\\\\Documents\\\\5ARIP10 - Interdisciplinary team project\\\\InterdisciplinaryProject\\\\energy_prediction\\\\models2\\\\best-model-epoch=01-val_evaluation_metric=0.36.ckpt' as top 1\n"
     ]
    },
    {
     "data": {
      "application/vnd.jupyter.widget-view+json": {
       "model_id": "f9a253f55dcc422c90f73e00a5b61d56",
       "version_major": 2,
       "version_minor": 0
      },
      "text/plain": [
       "Validation: |          | 0/? [00:00<?, ?it/s]"
      ]
     },
     "metadata": {},
     "output_type": "display_data"
    },
    {
     "name": "stderr",
     "output_type": "stream",
     "text": [
      "Epoch 2, global step 360: 'val_evaluation_metric' reached 0.35405 (best 0.35405), saving model to 'C:\\\\Users\\\\denni\\\\Documents\\\\5ARIP10 - Interdisciplinary team project\\\\InterdisciplinaryProject\\\\energy_prediction\\\\models2\\\\best-model-epoch=02-val_evaluation_metric=0.35.ckpt' as top 1\n"
     ]
    },
    {
     "data": {
      "application/vnd.jupyter.widget-view+json": {
       "model_id": "71db7b33cc4b4a9287501f336db25cc5",
       "version_major": 2,
       "version_minor": 0
      },
      "text/plain": [
       "Validation: |          | 0/? [00:00<?, ?it/s]"
      ]
     },
     "metadata": {},
     "output_type": "display_data"
    },
    {
     "name": "stderr",
     "output_type": "stream",
     "text": [
      "Epoch 3, global step 480: 'val_evaluation_metric' reached 0.34629 (best 0.34629), saving model to 'C:\\\\Users\\\\denni\\\\Documents\\\\5ARIP10 - Interdisciplinary team project\\\\InterdisciplinaryProject\\\\energy_prediction\\\\models2\\\\best-model-epoch=03-val_evaluation_metric=0.35.ckpt' as top 1\n"
     ]
    },
    {
     "data": {
      "application/vnd.jupyter.widget-view+json": {
       "model_id": "ab620c035955476fa06128c02f8dc3d4",
       "version_major": 2,
       "version_minor": 0
      },
      "text/plain": [
       "Validation: |          | 0/? [00:00<?, ?it/s]"
      ]
     },
     "metadata": {},
     "output_type": "display_data"
    },
    {
     "name": "stderr",
     "output_type": "stream",
     "text": [
      "Epoch 4, global step 600: 'val_evaluation_metric' reached 0.33698 (best 0.33698), saving model to 'C:\\\\Users\\\\denni\\\\Documents\\\\5ARIP10 - Interdisciplinary team project\\\\InterdisciplinaryProject\\\\energy_prediction\\\\models2\\\\best-model-epoch=04-val_evaluation_metric=0.34.ckpt' as top 1\n",
      "`Trainer.fit` stopped: `max_epochs=5` reached.\n",
      "[I 2024-06-10 15:17:49,698] Trial 3 finished with value: 0.33698123693466187 and parameters: {'learning_rate': 1.6610869571231937e-05, 'hidden_size': 2, 'fc_size': 64, 'loss_type': 'mse'}. Best is trial 2 with value: 0.03740621358156204.\n",
      "GPU available: False, used: False\n",
      "TPU available: False, using: 0 TPU cores\n",
      "IPU available: False, using: 0 IPUs\n",
      "HPU available: False, using: 0 HPUs\n",
      "c:\\Users\\denni\\anaconda3\\envs\\5ARIP\\Lib\\site-packages\\pytorch_lightning\\callbacks\\model_checkpoint.py:653: Checkpoint directory C:\\Users\\denni\\Documents\\5ARIP10 - Interdisciplinary team project\\InterdisciplinaryProject\\energy_prediction\\models2 exists and is not empty.\n",
      "\n",
      "  | Name    | Type                  | Params\n",
      "--------------------------------------------------\n",
      "0 | model   | EnergyPredictionModel | 549 K \n",
      "1 | loss_fn | MSELoss               | 0     \n",
      "--------------------------------------------------\n",
      "549 K     Trainable params\n",
      "0         Non-trainable params\n",
      "549 K     Total params\n",
      "2.200     Total estimated model params size (MB)\n"
     ]
    },
    {
     "data": {
      "application/vnd.jupyter.widget-view+json": {
       "model_id": "3131dd7cb49742a48a54ccce1adfc77b",
       "version_major": 2,
       "version_minor": 0
      },
      "text/plain": [
       "Sanity Checking: |          | 0/? [00:00<?, ?it/s]"
      ]
     },
     "metadata": {},
     "output_type": "display_data"
    },
    {
     "name": "stderr",
     "output_type": "stream",
     "text": [
      "c:\\Users\\denni\\anaconda3\\envs\\5ARIP\\Lib\\site-packages\\pytorch_lightning\\trainer\\connectors\\data_connector.py:441: The 'val_dataloader' does not have many workers which may be a bottleneck. Consider increasing the value of the `num_workers` argument` to `num_workers=15` in the `DataLoader` to improve performance.\n",
      "c:\\Users\\denni\\anaconda3\\envs\\5ARIP\\Lib\\site-packages\\pytorch_lightning\\trainer\\connectors\\data_connector.py:441: The 'train_dataloader' does not have many workers which may be a bottleneck. Consider increasing the value of the `num_workers` argument` to `num_workers=15` in the `DataLoader` to improve performance.\n"
     ]
    },
    {
     "data": {
      "application/vnd.jupyter.widget-view+json": {
       "model_id": "17ad1c584358407ba5a74178c42c0f4e",
       "version_major": 2,
       "version_minor": 0
      },
      "text/plain": [
       "Training: |          | 0/? [00:00<?, ?it/s]"
      ]
     },
     "metadata": {},
     "output_type": "display_data"
    },
    {
     "data": {
      "application/vnd.jupyter.widget-view+json": {
       "model_id": "7ebcfce2f0194199b9e3a1bddf4544d2",
       "version_major": 2,
       "version_minor": 0
      },
      "text/plain": [
       "Validation: |          | 0/? [00:00<?, ?it/s]"
      ]
     },
     "metadata": {},
     "output_type": "display_data"
    },
    {
     "name": "stderr",
     "output_type": "stream",
     "text": [
      "Epoch 0, global step 120: 'val_evaluation_metric' reached 0.04853 (best 0.04853), saving model to 'C:\\\\Users\\\\denni\\\\Documents\\\\5ARIP10 - Interdisciplinary team project\\\\InterdisciplinaryProject\\\\energy_prediction\\\\models2\\\\best-model-epoch=00-val_evaluation_metric=0.05.ckpt' as top 1\n"
     ]
    },
    {
     "data": {
      "application/vnd.jupyter.widget-view+json": {
       "model_id": "b6da95f936cf4a5c80bb519b741efe6d",
       "version_major": 2,
       "version_minor": 0
      },
      "text/plain": [
       "Validation: |          | 0/? [00:00<?, ?it/s]"
      ]
     },
     "metadata": {},
     "output_type": "display_data"
    },
    {
     "name": "stderr",
     "output_type": "stream",
     "text": [
      "Epoch 1, global step 240: 'val_evaluation_metric' reached 0.03603 (best 0.03603), saving model to 'C:\\\\Users\\\\denni\\\\Documents\\\\5ARIP10 - Interdisciplinary team project\\\\InterdisciplinaryProject\\\\energy_prediction\\\\models2\\\\best-model-epoch=01-val_evaluation_metric=0.04.ckpt' as top 1\n"
     ]
    },
    {
     "data": {
      "application/vnd.jupyter.widget-view+json": {
       "model_id": "e2dc0f89238c4c79b8514f1e4064758e",
       "version_major": 2,
       "version_minor": 0
      },
      "text/plain": [
       "Validation: |          | 0/? [00:00<?, ?it/s]"
      ]
     },
     "metadata": {},
     "output_type": "display_data"
    },
    {
     "name": "stderr",
     "output_type": "stream",
     "text": [
      "Epoch 2, global step 360: 'val_evaluation_metric' reached 0.03447 (best 0.03447), saving model to 'C:\\\\Users\\\\denni\\\\Documents\\\\5ARIP10 - Interdisciplinary team project\\\\InterdisciplinaryProject\\\\energy_prediction\\\\models2\\\\best-model-epoch=02-val_evaluation_metric=0.03.ckpt' as top 1\n"
     ]
    },
    {
     "data": {
      "application/vnd.jupyter.widget-view+json": {
       "model_id": "22ffea4de6624392b9184445bfc0230e",
       "version_major": 2,
       "version_minor": 0
      },
      "text/plain": [
       "Validation: |          | 0/? [00:00<?, ?it/s]"
      ]
     },
     "metadata": {},
     "output_type": "display_data"
    },
    {
     "name": "stderr",
     "output_type": "stream",
     "text": [
      "Epoch 3, global step 480: 'val_evaluation_metric' reached 0.03415 (best 0.03415), saving model to 'C:\\\\Users\\\\denni\\\\Documents\\\\5ARIP10 - Interdisciplinary team project\\\\InterdisciplinaryProject\\\\energy_prediction\\\\models2\\\\best-model-epoch=03-val_evaluation_metric=0.03-v4.ckpt' as top 1\n"
     ]
    },
    {
     "data": {
      "application/vnd.jupyter.widget-view+json": {
       "model_id": "af8fc81c79304e9f88605fe6e5f2e3d6",
       "version_major": 2,
       "version_minor": 0
      },
      "text/plain": [
       "Validation: |          | 0/? [00:00<?, ?it/s]"
      ]
     },
     "metadata": {},
     "output_type": "display_data"
    },
    {
     "name": "stderr",
     "output_type": "stream",
     "text": [
      "Epoch 4, global step 600: 'val_evaluation_metric' reached 0.03251 (best 0.03251), saving model to 'C:\\\\Users\\\\denni\\\\Documents\\\\5ARIP10 - Interdisciplinary team project\\\\InterdisciplinaryProject\\\\energy_prediction\\\\models2\\\\best-model-epoch=04-val_evaluation_metric=0.03-v36.ckpt' as top 1\n",
      "`Trainer.fit` stopped: `max_epochs=5` reached.\n",
      "[I 2024-06-10 15:19:47,468] Trial 4 finished with value: 0.03251497447490692 and parameters: {'learning_rate': 0.015005897883653203, 'hidden_size': 8, 'fc_size': 512, 'loss_type': 'mse'}. Best is trial 4 with value: 0.03251497447490692.\n",
      "GPU available: False, used: False\n",
      "TPU available: False, using: 0 TPU cores\n",
      "IPU available: False, using: 0 IPUs\n",
      "HPU available: False, using: 0 HPUs\n",
      "c:\\Users\\denni\\anaconda3\\envs\\5ARIP\\Lib\\site-packages\\pytorch_lightning\\callbacks\\model_checkpoint.py:653: Checkpoint directory C:\\Users\\denni\\Documents\\5ARIP10 - Interdisciplinary team project\\InterdisciplinaryProject\\energy_prediction\\models2 exists and is not empty.\n",
      "\n",
      "  | Name    | Type                  | Params\n",
      "--------------------------------------------------\n",
      "0 | model   | EnergyPredictionModel | 141 K \n",
      "1 | loss_fn | HuberLoss             | 0     \n",
      "--------------------------------------------------\n",
      "141 K     Trainable params\n",
      "0         Non-trainable params\n",
      "141 K     Total params\n",
      "0.567     Total estimated model params size (MB)\n"
     ]
    },
    {
     "data": {
      "application/vnd.jupyter.widget-view+json": {
       "model_id": "1a5ba5ba41b34d3c9e7fb011c91afddf",
       "version_major": 2,
       "version_minor": 0
      },
      "text/plain": [
       "Sanity Checking: |          | 0/? [00:00<?, ?it/s]"
      ]
     },
     "metadata": {},
     "output_type": "display_data"
    },
    {
     "name": "stderr",
     "output_type": "stream",
     "text": [
      "c:\\Users\\denni\\anaconda3\\envs\\5ARIP\\Lib\\site-packages\\pytorch_lightning\\trainer\\connectors\\data_connector.py:441: The 'val_dataloader' does not have many workers which may be a bottleneck. Consider increasing the value of the `num_workers` argument` to `num_workers=15` in the `DataLoader` to improve performance.\n",
      "c:\\Users\\denni\\anaconda3\\envs\\5ARIP\\Lib\\site-packages\\pytorch_lightning\\trainer\\connectors\\data_connector.py:441: The 'train_dataloader' does not have many workers which may be a bottleneck. Consider increasing the value of the `num_workers` argument` to `num_workers=15` in the `DataLoader` to improve performance.\n"
     ]
    },
    {
     "data": {
      "application/vnd.jupyter.widget-view+json": {
       "model_id": "81184406826945bf8df52de03a8bc83f",
       "version_major": 2,
       "version_minor": 0
      },
      "text/plain": [
       "Training: |          | 0/? [00:00<?, ?it/s]"
      ]
     },
     "metadata": {},
     "output_type": "display_data"
    },
    {
     "data": {
      "application/vnd.jupyter.widget-view+json": {
       "model_id": "44162fa1a3b44d45a935e509cf7bc44d",
       "version_major": 2,
       "version_minor": 0
      },
      "text/plain": [
       "Validation: |          | 0/? [00:00<?, ?it/s]"
      ]
     },
     "metadata": {},
     "output_type": "display_data"
    },
    {
     "name": "stderr",
     "output_type": "stream",
     "text": [
      "Epoch 0, global step 120: 'val_evaluation_metric' reached 0.12106 (best 0.12106), saving model to 'C:\\\\Users\\\\denni\\\\Documents\\\\5ARIP10 - Interdisciplinary team project\\\\InterdisciplinaryProject\\\\energy_prediction\\\\models2\\\\best-model-epoch=00-val_evaluation_metric=0.12.ckpt' as top 1\n"
     ]
    },
    {
     "data": {
      "application/vnd.jupyter.widget-view+json": {
       "model_id": "bd59b23a29944caa920b6c950f032a38",
       "version_major": 2,
       "version_minor": 0
      },
      "text/plain": [
       "Validation: |          | 0/? [00:00<?, ?it/s]"
      ]
     },
     "metadata": {},
     "output_type": "display_data"
    },
    {
     "name": "stderr",
     "output_type": "stream",
     "text": [
      "Epoch 1, global step 240: 'val_evaluation_metric' reached 0.07612 (best 0.07612), saving model to 'C:\\\\Users\\\\denni\\\\Documents\\\\5ARIP10 - Interdisciplinary team project\\\\InterdisciplinaryProject\\\\energy_prediction\\\\models2\\\\best-model-epoch=01-val_evaluation_metric=0.08.ckpt' as top 1\n"
     ]
    },
    {
     "data": {
      "application/vnd.jupyter.widget-view+json": {
       "model_id": "86cf13ffb86c4e6bb1e5301bdce3af40",
       "version_major": 2,
       "version_minor": 0
      },
      "text/plain": [
       "Validation: |          | 0/? [00:00<?, ?it/s]"
      ]
     },
     "metadata": {},
     "output_type": "display_data"
    },
    {
     "name": "stderr",
     "output_type": "stream",
     "text": [
      "Epoch 2, global step 360: 'val_evaluation_metric' reached 0.06887 (best 0.06887), saving model to 'C:\\\\Users\\\\denni\\\\Documents\\\\5ARIP10 - Interdisciplinary team project\\\\InterdisciplinaryProject\\\\energy_prediction\\\\models2\\\\best-model-epoch=02-val_evaluation_metric=0.07.ckpt' as top 1\n"
     ]
    },
    {
     "data": {
      "application/vnd.jupyter.widget-view+json": {
       "model_id": "0dc59829d8f343b0999f1820c9387472",
       "version_major": 2,
       "version_minor": 0
      },
      "text/plain": [
       "Validation: |          | 0/? [00:00<?, ?it/s]"
      ]
     },
     "metadata": {},
     "output_type": "display_data"
    },
    {
     "name": "stderr",
     "output_type": "stream",
     "text": [
      "Epoch 3, global step 480: 'val_evaluation_metric' reached 0.06606 (best 0.06606), saving model to 'C:\\\\Users\\\\denni\\\\Documents\\\\5ARIP10 - Interdisciplinary team project\\\\InterdisciplinaryProject\\\\energy_prediction\\\\models2\\\\best-model-epoch=03-val_evaluation_metric=0.07.ckpt' as top 1\n"
     ]
    },
    {
     "data": {
      "application/vnd.jupyter.widget-view+json": {
       "model_id": "f3b740859d2f40c58418dd949a14d54f",
       "version_major": 2,
       "version_minor": 0
      },
      "text/plain": [
       "Validation: |          | 0/? [00:00<?, ?it/s]"
      ]
     },
     "metadata": {},
     "output_type": "display_data"
    },
    {
     "name": "stderr",
     "output_type": "stream",
     "text": [
      "Epoch 4, global step 600: 'val_evaluation_metric' reached 0.06397 (best 0.06397), saving model to 'C:\\\\Users\\\\denni\\\\Documents\\\\5ARIP10 - Interdisciplinary team project\\\\InterdisciplinaryProject\\\\energy_prediction\\\\models2\\\\best-model-epoch=04-val_evaluation_metric=0.06-v4.ckpt' as top 1\n",
      "`Trainer.fit` stopped: `max_epochs=5` reached.\n",
      "[I 2024-06-10 15:21:38,739] Trial 5 finished with value: 0.06397360563278198 and parameters: {'learning_rate': 0.000121200726790845, 'hidden_size': 4, 'fc_size': 256, 'loss_type': 'huber'}. Best is trial 4 with value: 0.03251497447490692.\n",
      "GPU available: False, used: False\n",
      "TPU available: False, using: 0 TPU cores\n",
      "IPU available: False, using: 0 IPUs\n",
      "HPU available: False, using: 0 HPUs\n",
      "c:\\Users\\denni\\anaconda3\\envs\\5ARIP\\Lib\\site-packages\\pytorch_lightning\\callbacks\\model_checkpoint.py:653: Checkpoint directory C:\\Users\\denni\\Documents\\5ARIP10 - Interdisciplinary team project\\InterdisciplinaryProject\\energy_prediction\\models2 exists and is not empty.\n",
      "\n",
      "  | Name    | Type                  | Params\n",
      "--------------------------------------------------\n",
      "0 | model   | EnergyPredictionModel | 3.6 K \n",
      "1 | loss_fn | MSELoss               | 0     \n",
      "--------------------------------------------------\n",
      "3.6 K     Trainable params\n",
      "0         Non-trainable params\n",
      "3.6 K     Total params\n",
      "0.014     Total estimated model params size (MB)\n"
     ]
    },
    {
     "data": {
      "application/vnd.jupyter.widget-view+json": {
       "model_id": "a019cbb524354805811d62e898a95ce4",
       "version_major": 2,
       "version_minor": 0
      },
      "text/plain": [
       "Sanity Checking: |          | 0/? [00:00<?, ?it/s]"
      ]
     },
     "metadata": {},
     "output_type": "display_data"
    },
    {
     "name": "stderr",
     "output_type": "stream",
     "text": [
      "c:\\Users\\denni\\anaconda3\\envs\\5ARIP\\Lib\\site-packages\\pytorch_lightning\\trainer\\connectors\\data_connector.py:441: The 'val_dataloader' does not have many workers which may be a bottleneck. Consider increasing the value of the `num_workers` argument` to `num_workers=15` in the `DataLoader` to improve performance.\n",
      "c:\\Users\\denni\\anaconda3\\envs\\5ARIP\\Lib\\site-packages\\pytorch_lightning\\trainer\\connectors\\data_connector.py:441: The 'train_dataloader' does not have many workers which may be a bottleneck. Consider increasing the value of the `num_workers` argument` to `num_workers=15` in the `DataLoader` to improve performance.\n"
     ]
    },
    {
     "data": {
      "application/vnd.jupyter.widget-view+json": {
       "model_id": "242b43cf39a24ed79a77bec1030a300f",
       "version_major": 2,
       "version_minor": 0
      },
      "text/plain": [
       "Training: |          | 0/? [00:00<?, ?it/s]"
      ]
     },
     "metadata": {},
     "output_type": "display_data"
    },
    {
     "data": {
      "application/vnd.jupyter.widget-view+json": {
       "model_id": "0acdf3bf0a0347338f4c21f5701cf74e",
       "version_major": 2,
       "version_minor": 0
      },
      "text/plain": [
       "Validation: |          | 0/? [00:00<?, ?it/s]"
      ]
     },
     "metadata": {},
     "output_type": "display_data"
    },
    {
     "name": "stderr",
     "output_type": "stream",
     "text": [
      "Epoch 0, global step 120: 'val_evaluation_metric' reached 0.08934 (best 0.08934), saving model to 'C:\\\\Users\\\\denni\\\\Documents\\\\5ARIP10 - Interdisciplinary team project\\\\InterdisciplinaryProject\\\\energy_prediction\\\\models2\\\\best-model-epoch=00-val_evaluation_metric=0.09.ckpt' as top 1\n"
     ]
    },
    {
     "data": {
      "application/vnd.jupyter.widget-view+json": {
       "model_id": "0619c62f8f2a4477b89b6c0b381df497",
       "version_major": 2,
       "version_minor": 0
      },
      "text/plain": [
       "Validation: |          | 0/? [00:00<?, ?it/s]"
      ]
     },
     "metadata": {},
     "output_type": "display_data"
    },
    {
     "name": "stderr",
     "output_type": "stream",
     "text": [
      "Epoch 1, global step 240: 'val_evaluation_metric' reached 0.07249 (best 0.07249), saving model to 'C:\\\\Users\\\\denni\\\\Documents\\\\5ARIP10 - Interdisciplinary team project\\\\InterdisciplinaryProject\\\\energy_prediction\\\\models2\\\\best-model-epoch=01-val_evaluation_metric=0.07.ckpt' as top 1\n"
     ]
    },
    {
     "data": {
      "application/vnd.jupyter.widget-view+json": {
       "model_id": "41f965d3c80d4caaaac69c648faa15cd",
       "version_major": 2,
       "version_minor": 0
      },
      "text/plain": [
       "Validation: |          | 0/? [00:00<?, ?it/s]"
      ]
     },
     "metadata": {},
     "output_type": "display_data"
    },
    {
     "name": "stderr",
     "output_type": "stream",
     "text": [
      "Epoch 2, global step 360: 'val_evaluation_metric' reached 0.06568 (best 0.06568), saving model to 'C:\\\\Users\\\\denni\\\\Documents\\\\5ARIP10 - Interdisciplinary team project\\\\InterdisciplinaryProject\\\\energy_prediction\\\\models2\\\\best-model-epoch=02-val_evaluation_metric=0.07.ckpt' as top 1\n"
     ]
    },
    {
     "data": {
      "application/vnd.jupyter.widget-view+json": {
       "model_id": "5d7730e7799a4eecb44661d6e73fddda",
       "version_major": 2,
       "version_minor": 0
      },
      "text/plain": [
       "Validation: |          | 0/? [00:00<?, ?it/s]"
      ]
     },
     "metadata": {},
     "output_type": "display_data"
    },
    {
     "name": "stderr",
     "output_type": "stream",
     "text": [
      "Epoch 3, global step 480: 'val_evaluation_metric' reached 0.06316 (best 0.06316), saving model to 'C:\\\\Users\\\\denni\\\\Documents\\\\5ARIP10 - Interdisciplinary team project\\\\InterdisciplinaryProject\\\\energy_prediction\\\\models2\\\\best-model-epoch=03-val_evaluation_metric=0.06.ckpt' as top 1\n"
     ]
    },
    {
     "data": {
      "application/vnd.jupyter.widget-view+json": {
       "model_id": "127c7aad1d004096ab54c4038a5023d0",
       "version_major": 2,
       "version_minor": 0
      },
      "text/plain": [
       "Validation: |          | 0/? [00:00<?, ?it/s]"
      ]
     },
     "metadata": {},
     "output_type": "display_data"
    },
    {
     "name": "stderr",
     "output_type": "stream",
     "text": [
      "Epoch 4, global step 600: 'val_evaluation_metric' reached 0.05610 (best 0.05610), saving model to 'C:\\\\Users\\\\denni\\\\Documents\\\\5ARIP10 - Interdisciplinary team project\\\\InterdisciplinaryProject\\\\energy_prediction\\\\models2\\\\best-model-epoch=04-val_evaluation_metric=0.06-v5.ckpt' as top 1\n",
      "`Trainer.fit` stopped: `max_epochs=5` reached.\n",
      "[I 2024-06-10 15:23:31,596] Trial 6 finished with value: 0.05609649792313576 and parameters: {'learning_rate': 0.0007413856420557118, 'hidden_size': 4, 'fc_size': 32, 'loss_type': 'mse'}. Best is trial 4 with value: 0.03251497447490692.\n",
      "GPU available: False, used: False\n",
      "TPU available: False, using: 0 TPU cores\n",
      "IPU available: False, using: 0 IPUs\n",
      "HPU available: False, using: 0 HPUs\n",
      "c:\\Users\\denni\\anaconda3\\envs\\5ARIP\\Lib\\site-packages\\pytorch_lightning\\callbacks\\model_checkpoint.py:653: Checkpoint directory C:\\Users\\denni\\Documents\\5ARIP10 - Interdisciplinary team project\\InterdisciplinaryProject\\energy_prediction\\models2 exists and is not empty.\n",
      "\n",
      "  | Name    | Type                  | Params\n",
      "--------------------------------------------------\n",
      "0 | model   | EnergyPredictionModel | 42.6 K\n",
      "1 | loss_fn | MSELoss               | 0     \n",
      "--------------------------------------------------\n",
      "42.6 K    Trainable params\n",
      "0         Non-trainable params\n",
      "42.6 K    Total params\n",
      "0.170     Total estimated model params size (MB)\n"
     ]
    },
    {
     "data": {
      "application/vnd.jupyter.widget-view+json": {
       "model_id": "95d622a0dca34df68744066548017dec",
       "version_major": 2,
       "version_minor": 0
      },
      "text/plain": [
       "Sanity Checking: |          | 0/? [00:00<?, ?it/s]"
      ]
     },
     "metadata": {},
     "output_type": "display_data"
    },
    {
     "name": "stderr",
     "output_type": "stream",
     "text": [
      "c:\\Users\\denni\\anaconda3\\envs\\5ARIP\\Lib\\site-packages\\pytorch_lightning\\trainer\\connectors\\data_connector.py:441: The 'val_dataloader' does not have many workers which may be a bottleneck. Consider increasing the value of the `num_workers` argument` to `num_workers=15` in the `DataLoader` to improve performance.\n",
      "c:\\Users\\denni\\anaconda3\\envs\\5ARIP\\Lib\\site-packages\\pytorch_lightning\\trainer\\connectors\\data_connector.py:441: The 'train_dataloader' does not have many workers which may be a bottleneck. Consider increasing the value of the `num_workers` argument` to `num_workers=15` in the `DataLoader` to improve performance.\n"
     ]
    },
    {
     "data": {
      "application/vnd.jupyter.widget-view+json": {
       "model_id": "b09230a18efa4859b3145ab941de0cd5",
       "version_major": 2,
       "version_minor": 0
      },
      "text/plain": [
       "Training: |          | 0/? [00:00<?, ?it/s]"
      ]
     },
     "metadata": {},
     "output_type": "display_data"
    },
    {
     "data": {
      "application/vnd.jupyter.widget-view+json": {
       "model_id": "91cb974d9a484fe9ba127611ebca6988",
       "version_major": 2,
       "version_minor": 0
      },
      "text/plain": [
       "Validation: |          | 0/? [00:00<?, ?it/s]"
      ]
     },
     "metadata": {},
     "output_type": "display_data"
    },
    {
     "name": "stderr",
     "output_type": "stream",
     "text": [
      "Epoch 0, global step 120: 'val_evaluation_metric' reached 0.06691 (best 0.06691), saving model to 'C:\\\\Users\\\\denni\\\\Documents\\\\5ARIP10 - Interdisciplinary team project\\\\InterdisciplinaryProject\\\\energy_prediction\\\\models2\\\\best-model-epoch=00-val_evaluation_metric=0.07.ckpt' as top 1\n"
     ]
    },
    {
     "data": {
      "application/vnd.jupyter.widget-view+json": {
       "model_id": "ab74c5f58fe041d28383df8cdf2c38c8",
       "version_major": 2,
       "version_minor": 0
      },
      "text/plain": [
       "Validation: |          | 0/? [00:00<?, ?it/s]"
      ]
     },
     "metadata": {},
     "output_type": "display_data"
    },
    {
     "name": "stderr",
     "output_type": "stream",
     "text": [
      "Epoch 1, global step 240: 'val_evaluation_metric' reached 0.05586 (best 0.05586), saving model to 'C:\\\\Users\\\\denni\\\\Documents\\\\5ARIP10 - Interdisciplinary team project\\\\InterdisciplinaryProject\\\\energy_prediction\\\\models2\\\\best-model-epoch=01-val_evaluation_metric=0.06.ckpt' as top 1\n"
     ]
    },
    {
     "data": {
      "application/vnd.jupyter.widget-view+json": {
       "model_id": "63c9f5192b094b8f89dba84f192a7dc3",
       "version_major": 2,
       "version_minor": 0
      },
      "text/plain": [
       "Validation: |          | 0/? [00:00<?, ?it/s]"
      ]
     },
     "metadata": {},
     "output_type": "display_data"
    },
    {
     "name": "stderr",
     "output_type": "stream",
     "text": [
      "Epoch 2, global step 360: 'val_evaluation_metric' reached 0.04725 (best 0.04725), saving model to 'C:\\\\Users\\\\denni\\\\Documents\\\\5ARIP10 - Interdisciplinary team project\\\\InterdisciplinaryProject\\\\energy_prediction\\\\models2\\\\best-model-epoch=02-val_evaluation_metric=0.05.ckpt' as top 1\n"
     ]
    },
    {
     "data": {
      "application/vnd.jupyter.widget-view+json": {
       "model_id": "a4077f09827c4a998001e309e0c8f184",
       "version_major": 2,
       "version_minor": 0
      },
      "text/plain": [
       "Validation: |          | 0/? [00:00<?, ?it/s]"
      ]
     },
     "metadata": {},
     "output_type": "display_data"
    },
    {
     "name": "stderr",
     "output_type": "stream",
     "text": [
      "Epoch 3, global step 480: 'val_evaluation_metric' reached 0.04345 (best 0.04345), saving model to 'C:\\\\Users\\\\denni\\\\Documents\\\\5ARIP10 - Interdisciplinary team project\\\\InterdisciplinaryProject\\\\energy_prediction\\\\models2\\\\best-model-epoch=03-val_evaluation_metric=0.04-v4.ckpt' as top 1\n"
     ]
    },
    {
     "data": {
      "application/vnd.jupyter.widget-view+json": {
       "model_id": "2d72a3237fda4fb1bfa4187f3a36bc2e",
       "version_major": 2,
       "version_minor": 0
      },
      "text/plain": [
       "Validation: |          | 0/? [00:00<?, ?it/s]"
      ]
     },
     "metadata": {},
     "output_type": "display_data"
    },
    {
     "name": "stderr",
     "output_type": "stream",
     "text": [
      "Epoch 4, global step 600: 'val_evaluation_metric' reached 0.04069 (best 0.04069), saving model to 'C:\\\\Users\\\\denni\\\\Documents\\\\5ARIP10 - Interdisciplinary team project\\\\InterdisciplinaryProject\\\\energy_prediction\\\\models2\\\\best-model-epoch=04-val_evaluation_metric=0.04-v7.ckpt' as top 1\n",
      "`Trainer.fit` stopped: `max_epochs=5` reached.\n",
      "[I 2024-06-10 15:25:26,652] Trial 7 finished with value: 0.04069497436285019 and parameters: {'learning_rate': 0.0005756296505079428, 'hidden_size': 16, 'fc_size': 128, 'loss_type': 'mse'}. Best is trial 4 with value: 0.03251497447490692.\n",
      "GPU available: False, used: False\n",
      "TPU available: False, using: 0 TPU cores\n",
      "IPU available: False, using: 0 IPUs\n",
      "HPU available: False, using: 0 HPUs\n",
      "c:\\Users\\denni\\anaconda3\\envs\\5ARIP\\Lib\\site-packages\\pytorch_lightning\\callbacks\\model_checkpoint.py:653: Checkpoint directory C:\\Users\\denni\\Documents\\5ARIP10 - Interdisciplinary team project\\InterdisciplinaryProject\\energy_prediction\\models2 exists and is not empty.\n",
      "\n",
      "  | Name    | Type                  | Params\n",
      "--------------------------------------------------\n",
      "0 | model   | EnergyPredictionModel | 21.3 K\n",
      "1 | loss_fn | L1Loss                | 0     \n",
      "--------------------------------------------------\n",
      "21.3 K    Trainable params\n",
      "0         Non-trainable params\n",
      "21.3 K    Total params\n",
      "0.085     Total estimated model params size (MB)\n"
     ]
    },
    {
     "data": {
      "application/vnd.jupyter.widget-view+json": {
       "model_id": "9cf301ef635a492ebde70368f40c8efa",
       "version_major": 2,
       "version_minor": 0
      },
      "text/plain": [
       "Sanity Checking: |          | 0/? [00:00<?, ?it/s]"
      ]
     },
     "metadata": {},
     "output_type": "display_data"
    },
    {
     "name": "stderr",
     "output_type": "stream",
     "text": [
      "c:\\Users\\denni\\anaconda3\\envs\\5ARIP\\Lib\\site-packages\\pytorch_lightning\\trainer\\connectors\\data_connector.py:441: The 'val_dataloader' does not have many workers which may be a bottleneck. Consider increasing the value of the `num_workers` argument` to `num_workers=15` in the `DataLoader` to improve performance.\n",
      "c:\\Users\\denni\\anaconda3\\envs\\5ARIP\\Lib\\site-packages\\pytorch_lightning\\trainer\\connectors\\data_connector.py:441: The 'train_dataloader' does not have many workers which may be a bottleneck. Consider increasing the value of the `num_workers` argument` to `num_workers=15` in the `DataLoader` to improve performance.\n"
     ]
    },
    {
     "data": {
      "application/vnd.jupyter.widget-view+json": {
       "model_id": "8227f482890e4845ae7a83133634088d",
       "version_major": 2,
       "version_minor": 0
      },
      "text/plain": [
       "Training: |          | 0/? [00:00<?, ?it/s]"
      ]
     },
     "metadata": {},
     "output_type": "display_data"
    },
    {
     "data": {
      "application/vnd.jupyter.widget-view+json": {
       "model_id": "7db80781fb5d4b2c92d0290b1f91a2f9",
       "version_major": 2,
       "version_minor": 0
      },
      "text/plain": [
       "Validation: |          | 0/? [00:00<?, ?it/s]"
      ]
     },
     "metadata": {},
     "output_type": "display_data"
    },
    {
     "name": "stderr",
     "output_type": "stream",
     "text": [
      "Epoch 0, global step 120: 'val_evaluation_metric' reached 0.06659 (best 0.06659), saving model to 'C:\\\\Users\\\\denni\\\\Documents\\\\5ARIP10 - Interdisciplinary team project\\\\InterdisciplinaryProject\\\\energy_prediction\\\\models2\\\\best-model-epoch=00-val_evaluation_metric=0.07.ckpt' as top 1\n"
     ]
    },
    {
     "data": {
      "application/vnd.jupyter.widget-view+json": {
       "model_id": "e4fb91f49acb483e999586343adce6dc",
       "version_major": 2,
       "version_minor": 0
      },
      "text/plain": [
       "Validation: |          | 0/? [00:00<?, ?it/s]"
      ]
     },
     "metadata": {},
     "output_type": "display_data"
    },
    {
     "name": "stderr",
     "output_type": "stream",
     "text": [
      "Epoch 1, global step 240: 'val_evaluation_metric' reached 0.05644 (best 0.05644), saving model to 'C:\\\\Users\\\\denni\\\\Documents\\\\5ARIP10 - Interdisciplinary team project\\\\InterdisciplinaryProject\\\\energy_prediction\\\\models2\\\\best-model-epoch=01-val_evaluation_metric=0.06.ckpt' as top 1\n"
     ]
    },
    {
     "data": {
      "application/vnd.jupyter.widget-view+json": {
       "model_id": "4046bc54b2a34358b9d7f8f54c07d78d",
       "version_major": 2,
       "version_minor": 0
      },
      "text/plain": [
       "Validation: |          | 0/? [00:00<?, ?it/s]"
      ]
     },
     "metadata": {},
     "output_type": "display_data"
    },
    {
     "name": "stderr",
     "output_type": "stream",
     "text": [
      "Epoch 2, global step 360: 'val_evaluation_metric' reached 0.04912 (best 0.04912), saving model to 'C:\\\\Users\\\\denni\\\\Documents\\\\5ARIP10 - Interdisciplinary team project\\\\InterdisciplinaryProject\\\\energy_prediction\\\\models2\\\\best-model-epoch=02-val_evaluation_metric=0.05.ckpt' as top 1\n"
     ]
    },
    {
     "data": {
      "application/vnd.jupyter.widget-view+json": {
       "model_id": "ce133c77f7874c5281023edbd76d50f1",
       "version_major": 2,
       "version_minor": 0
      },
      "text/plain": [
       "Validation: |          | 0/? [00:00<?, ?it/s]"
      ]
     },
     "metadata": {},
     "output_type": "display_data"
    },
    {
     "name": "stderr",
     "output_type": "stream",
     "text": [
      "Epoch 3, global step 480: 'val_evaluation_metric' reached 0.04508 (best 0.04508), saving model to 'C:\\\\Users\\\\denni\\\\Documents\\\\5ARIP10 - Interdisciplinary team project\\\\InterdisciplinaryProject\\\\energy_prediction\\\\models2\\\\best-model-epoch=03-val_evaluation_metric=0.05.ckpt' as top 1\n"
     ]
    },
    {
     "data": {
      "application/vnd.jupyter.widget-view+json": {
       "model_id": "8b9dab9755f74c40bc8e897e973639db",
       "version_major": 2,
       "version_minor": 0
      },
      "text/plain": [
       "Validation: |          | 0/? [00:00<?, ?it/s]"
      ]
     },
     "metadata": {},
     "output_type": "display_data"
    },
    {
     "name": "stderr",
     "output_type": "stream",
     "text": [
      "Epoch 4, global step 600: 'val_evaluation_metric' reached 0.04096 (best 0.04096), saving model to 'C:\\\\Users\\\\denni\\\\Documents\\\\5ARIP10 - Interdisciplinary team project\\\\InterdisciplinaryProject\\\\energy_prediction\\\\models2\\\\best-model-epoch=04-val_evaluation_metric=0.04-v8.ckpt' as top 1\n",
      "`Trainer.fit` stopped: `max_epochs=5` reached.\n",
      "[I 2024-06-10 15:40:12,629] Trial 8 finished with value: 0.040959328413009644 and parameters: {'learning_rate': 0.0010676715619389347, 'hidden_size': 64, 'fc_size': 16, 'loss_type': 'l1'}. Best is trial 4 with value: 0.03251497447490692.\n",
      "GPU available: False, used: False\n",
      "TPU available: False, using: 0 TPU cores\n",
      "IPU available: False, using: 0 IPUs\n",
      "HPU available: False, using: 0 HPUs\n",
      "c:\\Users\\denni\\anaconda3\\envs\\5ARIP\\Lib\\site-packages\\pytorch_lightning\\callbacks\\model_checkpoint.py:653: Checkpoint directory C:\\Users\\denni\\Documents\\5ARIP10 - Interdisciplinary team project\\InterdisciplinaryProject\\energy_prediction\\models2 exists and is not empty.\n",
      "\n",
      "  | Name    | Type                  | Params\n",
      "--------------------------------------------------\n",
      "0 | model   | EnergyPredictionModel | 141 K \n",
      "1 | loss_fn | MSELoss               | 0     \n",
      "--------------------------------------------------\n",
      "141 K     Trainable params\n",
      "0         Non-trainable params\n",
      "141 K     Total params\n",
      "0.567     Total estimated model params size (MB)\n"
     ]
    },
    {
     "data": {
      "application/vnd.jupyter.widget-view+json": {
       "model_id": "d3523c94ebf54dcfaa0ed2860ad1010c",
       "version_major": 2,
       "version_minor": 0
      },
      "text/plain": [
       "Sanity Checking: |          | 0/? [00:00<?, ?it/s]"
      ]
     },
     "metadata": {},
     "output_type": "display_data"
    },
    {
     "name": "stderr",
     "output_type": "stream",
     "text": [
      "c:\\Users\\denni\\anaconda3\\envs\\5ARIP\\Lib\\site-packages\\pytorch_lightning\\trainer\\connectors\\data_connector.py:441: The 'val_dataloader' does not have many workers which may be a bottleneck. Consider increasing the value of the `num_workers` argument` to `num_workers=15` in the `DataLoader` to improve performance.\n",
      "c:\\Users\\denni\\anaconda3\\envs\\5ARIP\\Lib\\site-packages\\pytorch_lightning\\trainer\\connectors\\data_connector.py:441: The 'train_dataloader' does not have many workers which may be a bottleneck. Consider increasing the value of the `num_workers` argument` to `num_workers=15` in the `DataLoader` to improve performance.\n"
     ]
    },
    {
     "data": {
      "application/vnd.jupyter.widget-view+json": {
       "model_id": "88c1f7259e4e4f5282318d43c0ea26e9",
       "version_major": 2,
       "version_minor": 0
      },
      "text/plain": [
       "Training: |          | 0/? [00:00<?, ?it/s]"
      ]
     },
     "metadata": {},
     "output_type": "display_data"
    },
    {
     "data": {
      "application/vnd.jupyter.widget-view+json": {
       "model_id": "b01cbb26371a411ca589c797b08686c4",
       "version_major": 2,
       "version_minor": 0
      },
      "text/plain": [
       "Validation: |          | 0/? [00:00<?, ?it/s]"
      ]
     },
     "metadata": {},
     "output_type": "display_data"
    },
    {
     "name": "stderr",
     "output_type": "stream",
     "text": [
      "Epoch 0, global step 120: 'val_evaluation_metric' reached 0.06575 (best 0.06575), saving model to 'C:\\\\Users\\\\denni\\\\Documents\\\\5ARIP10 - Interdisciplinary team project\\\\InterdisciplinaryProject\\\\energy_prediction\\\\models2\\\\best-model-epoch=00-val_evaluation_metric=0.07.ckpt' as top 1\n"
     ]
    },
    {
     "data": {
      "application/vnd.jupyter.widget-view+json": {
       "model_id": "e84f4d5ce6ba4c5fa92f58cee17bae6e",
       "version_major": 2,
       "version_minor": 0
      },
      "text/plain": [
       "Validation: |          | 0/? [00:00<?, ?it/s]"
      ]
     },
     "metadata": {},
     "output_type": "display_data"
    },
    {
     "name": "stderr",
     "output_type": "stream",
     "text": [
      "Epoch 1, global step 240: 'val_evaluation_metric' reached 0.05878 (best 0.05878), saving model to 'C:\\\\Users\\\\denni\\\\Documents\\\\5ARIP10 - Interdisciplinary team project\\\\InterdisciplinaryProject\\\\energy_prediction\\\\models2\\\\best-model-epoch=01-val_evaluation_metric=0.06.ckpt' as top 1\n"
     ]
    },
    {
     "data": {
      "application/vnd.jupyter.widget-view+json": {
       "model_id": "f56e487af633464ab1ea787361a47f63",
       "version_major": 2,
       "version_minor": 0
      },
      "text/plain": [
       "Validation: |          | 0/? [00:00<?, ?it/s]"
      ]
     },
     "metadata": {},
     "output_type": "display_data"
    },
    {
     "name": "stderr",
     "output_type": "stream",
     "text": [
      "Epoch 2, global step 360: 'val_evaluation_metric' reached 0.05681 (best 0.05681), saving model to 'C:\\\\Users\\\\denni\\\\Documents\\\\5ARIP10 - Interdisciplinary team project\\\\InterdisciplinaryProject\\\\energy_prediction\\\\models2\\\\best-model-epoch=02-val_evaluation_metric=0.06.ckpt' as top 1\n"
     ]
    },
    {
     "data": {
      "application/vnd.jupyter.widget-view+json": {
       "model_id": "b0b1fc5fbb554fce8d243798f3833d80",
       "version_major": 2,
       "version_minor": 0
      },
      "text/plain": [
       "Validation: |          | 0/? [00:00<?, ?it/s]"
      ]
     },
     "metadata": {},
     "output_type": "display_data"
    },
    {
     "name": "stderr",
     "output_type": "stream",
     "text": [
      "Epoch 3, global step 480: 'val_evaluation_metric' reached 0.05053 (best 0.05053), saving model to 'C:\\\\Users\\\\denni\\\\Documents\\\\5ARIP10 - Interdisciplinary team project\\\\InterdisciplinaryProject\\\\energy_prediction\\\\models2\\\\best-model-epoch=03-val_evaluation_metric=0.05.ckpt' as top 1\n"
     ]
    },
    {
     "data": {
      "application/vnd.jupyter.widget-view+json": {
       "model_id": "a4897a64bab84cfba74bb5adcf0f139f",
       "version_major": 2,
       "version_minor": 0
      },
      "text/plain": [
       "Validation: |          | 0/? [00:00<?, ?it/s]"
      ]
     },
     "metadata": {},
     "output_type": "display_data"
    },
    {
     "name": "stderr",
     "output_type": "stream",
     "text": [
      "Epoch 4, global step 600: 'val_evaluation_metric' reached 0.04429 (best 0.04429), saving model to 'C:\\\\Users\\\\denni\\\\Documents\\\\5ARIP10 - Interdisciplinary team project\\\\InterdisciplinaryProject\\\\energy_prediction\\\\models2\\\\best-model-epoch=04-val_evaluation_metric=0.04-v9.ckpt' as top 1\n",
      "`Trainer.fit` stopped: `max_epochs=5` reached.\n",
      "[I 2024-06-10 15:41:18,871] Trial 9 finished with value: 0.04429030790925026 and parameters: {'learning_rate': 0.0010850123149824063, 'hidden_size': 4, 'fc_size': 256, 'loss_type': 'mse'}. Best is trial 4 with value: 0.03251497447490692.\n",
      "GPU available: False, used: False\n",
      "TPU available: False, using: 0 TPU cores\n",
      "IPU available: False, using: 0 IPUs\n",
      "HPU available: False, using: 0 HPUs\n",
      "c:\\Users\\denni\\anaconda3\\envs\\5ARIP\\Lib\\site-packages\\pytorch_lightning\\callbacks\\model_checkpoint.py:653: Checkpoint directory C:\\Users\\denni\\Documents\\5ARIP10 - Interdisciplinary team project\\InterdisciplinaryProject\\energy_prediction\\models2 exists and is not empty.\n",
      "\n",
      "  | Name    | Type                  | Params\n",
      "--------------------------------------------------\n",
      "0 | model   | EnergyPredictionModel | 549 K \n",
      "1 | loss_fn | L1Loss                | 0     \n",
      "--------------------------------------------------\n",
      "549 K     Trainable params\n",
      "0         Non-trainable params\n",
      "549 K     Total params\n",
      "2.200     Total estimated model params size (MB)\n"
     ]
    },
    {
     "data": {
      "application/vnd.jupyter.widget-view+json": {
       "model_id": "c3b159f79b3147f3b6300301ee3a31ef",
       "version_major": 2,
       "version_minor": 0
      },
      "text/plain": [
       "Sanity Checking: |          | 0/? [00:00<?, ?it/s]"
      ]
     },
     "metadata": {},
     "output_type": "display_data"
    },
    {
     "name": "stderr",
     "output_type": "stream",
     "text": [
      "c:\\Users\\denni\\anaconda3\\envs\\5ARIP\\Lib\\site-packages\\pytorch_lightning\\trainer\\connectors\\data_connector.py:441: The 'val_dataloader' does not have many workers which may be a bottleneck. Consider increasing the value of the `num_workers` argument` to `num_workers=15` in the `DataLoader` to improve performance.\n",
      "c:\\Users\\denni\\anaconda3\\envs\\5ARIP\\Lib\\site-packages\\pytorch_lightning\\trainer\\connectors\\data_connector.py:441: The 'train_dataloader' does not have many workers which may be a bottleneck. Consider increasing the value of the `num_workers` argument` to `num_workers=15` in the `DataLoader` to improve performance.\n"
     ]
    },
    {
     "data": {
      "application/vnd.jupyter.widget-view+json": {
       "model_id": "4f06d3ae6eec454eacd9a6443605b9a6",
       "version_major": 2,
       "version_minor": 0
      },
      "text/plain": [
       "Training: |          | 0/? [00:00<?, ?it/s]"
      ]
     },
     "metadata": {},
     "output_type": "display_data"
    },
    {
     "data": {
      "application/vnd.jupyter.widget-view+json": {
       "model_id": "56539530b9d7400790183f94afff11af",
       "version_major": 2,
       "version_minor": 0
      },
      "text/plain": [
       "Validation: |          | 0/? [00:00<?, ?it/s]"
      ]
     },
     "metadata": {},
     "output_type": "display_data"
    },
    {
     "name": "stderr",
     "output_type": "stream",
     "text": [
      "Epoch 0, global step 120: 'val_evaluation_metric' reached 0.13978 (best 0.13978), saving model to 'C:\\\\Users\\\\denni\\\\Documents\\\\5ARIP10 - Interdisciplinary team project\\\\InterdisciplinaryProject\\\\energy_prediction\\\\models2\\\\best-model-epoch=00-val_evaluation_metric=0.14-v6.ckpt' as top 1\n"
     ]
    },
    {
     "data": {
      "application/vnd.jupyter.widget-view+json": {
       "model_id": "eadd81d9cf134629b99f2aca271734ba",
       "version_major": 2,
       "version_minor": 0
      },
      "text/plain": [
       "Validation: |          | 0/? [00:00<?, ?it/s]"
      ]
     },
     "metadata": {},
     "output_type": "display_data"
    },
    {
     "name": "stderr",
     "output_type": "stream",
     "text": [
      "Epoch 1, global step 240: 'val_evaluation_metric' was not in top 1\n"
     ]
    },
    {
     "data": {
      "application/vnd.jupyter.widget-view+json": {
       "model_id": "50d9b4934f734e7695f0067ed3f94607",
       "version_major": 2,
       "version_minor": 0
      },
      "text/plain": [
       "Validation: |          | 0/? [00:00<?, ?it/s]"
      ]
     },
     "metadata": {},
     "output_type": "display_data"
    },
    {
     "name": "stderr",
     "output_type": "stream",
     "text": [
      "Epoch 2, global step 360: 'val_evaluation_metric' was not in top 1\n"
     ]
    },
    {
     "data": {
      "application/vnd.jupyter.widget-view+json": {
       "model_id": "d7517c0a13de4b9b957d9eba6deb01d0",
       "version_major": 2,
       "version_minor": 0
      },
      "text/plain": [
       "Validation: |          | 0/? [00:00<?, ?it/s]"
      ]
     },
     "metadata": {},
     "output_type": "display_data"
    },
    {
     "name": "stderr",
     "output_type": "stream",
     "text": [
      "Epoch 3, global step 480: 'val_evaluation_metric' was not in top 1\n"
     ]
    },
    {
     "data": {
      "application/vnd.jupyter.widget-view+json": {
       "model_id": "6bccd6f579e249d587adfb28fdf0e6e8",
       "version_major": 2,
       "version_minor": 0
      },
      "text/plain": [
       "Validation: |          | 0/? [00:00<?, ?it/s]"
      ]
     },
     "metadata": {},
     "output_type": "display_data"
    },
    {
     "name": "stderr",
     "output_type": "stream",
     "text": [
      "Epoch 4, global step 600: 'val_evaluation_metric' was not in top 1\n",
      "`Trainer.fit` stopped: `max_epochs=5` reached.\n",
      "[I 2024-06-10 15:43:13,094] Trial 10 finished with value: 0.13978147506713867 and parameters: {'learning_rate': 0.07704942231114174, 'hidden_size': 8, 'fc_size': 512, 'loss_type': 'l1'}. Best is trial 4 with value: 0.03251497447490692.\n",
      "GPU available: False, used: False\n",
      "TPU available: False, using: 0 TPU cores\n",
      "IPU available: False, using: 0 IPUs\n",
      "HPU available: False, using: 0 HPUs\n",
      "c:\\Users\\denni\\anaconda3\\envs\\5ARIP\\Lib\\site-packages\\pytorch_lightning\\callbacks\\model_checkpoint.py:653: Checkpoint directory C:\\Users\\denni\\Documents\\5ARIP10 - Interdisciplinary team project\\InterdisciplinaryProject\\energy_prediction\\models2 exists and is not empty.\n",
      "\n",
      "  | Name    | Type                  | Params\n",
      "--------------------------------------------------\n",
      "0 | model   | EnergyPredictionModel | 4.1 K \n",
      "1 | loss_fn | HuberLoss             | 0     \n",
      "--------------------------------------------------\n",
      "4.1 K     Trainable params\n",
      "0         Non-trainable params\n",
      "4.1 K     Total params\n",
      "0.016     Total estimated model params size (MB)\n"
     ]
    },
    {
     "data": {
      "application/vnd.jupyter.widget-view+json": {
       "model_id": "2e2b2e3a8a534268bc70eaf67c8aecc9",
       "version_major": 2,
       "version_minor": 0
      },
      "text/plain": [
       "Sanity Checking: |          | 0/? [00:00<?, ?it/s]"
      ]
     },
     "metadata": {},
     "output_type": "display_data"
    },
    {
     "name": "stderr",
     "output_type": "stream",
     "text": [
      "c:\\Users\\denni\\anaconda3\\envs\\5ARIP\\Lib\\site-packages\\pytorch_lightning\\trainer\\connectors\\data_connector.py:441: The 'val_dataloader' does not have many workers which may be a bottleneck. Consider increasing the value of the `num_workers` argument` to `num_workers=15` in the `DataLoader` to improve performance.\n",
      "c:\\Users\\denni\\anaconda3\\envs\\5ARIP\\Lib\\site-packages\\pytorch_lightning\\trainer\\connectors\\data_connector.py:441: The 'train_dataloader' does not have many workers which may be a bottleneck. Consider increasing the value of the `num_workers` argument` to `num_workers=15` in the `DataLoader` to improve performance.\n"
     ]
    },
    {
     "data": {
      "application/vnd.jupyter.widget-view+json": {
       "model_id": "444c0a7b243c4b4c888a5de8534a007c",
       "version_major": 2,
       "version_minor": 0
      },
      "text/plain": [
       "Training: |          | 0/? [00:00<?, ?it/s]"
      ]
     },
     "metadata": {},
     "output_type": "display_data"
    },
    {
     "data": {
      "application/vnd.jupyter.widget-view+json": {
       "model_id": "73de915780b446ec9b47fc410bb694f4",
       "version_major": 2,
       "version_minor": 0
      },
      "text/plain": [
       "Validation: |          | 0/? [00:00<?, ?it/s]"
      ]
     },
     "metadata": {},
     "output_type": "display_data"
    },
    {
     "name": "stderr",
     "output_type": "stream",
     "text": [
      "Epoch 0, global step 120: 'val_evaluation_metric' reached 0.04982 (best 0.04982), saving model to 'C:\\\\Users\\\\denni\\\\Documents\\\\5ARIP10 - Interdisciplinary team project\\\\InterdisciplinaryProject\\\\energy_prediction\\\\models2\\\\best-model-epoch=00-val_evaluation_metric=0.05.ckpt' as top 1\n"
     ]
    },
    {
     "data": {
      "application/vnd.jupyter.widget-view+json": {
       "model_id": "45897e03770946059b907bd1c2216a9e",
       "version_major": 2,
       "version_minor": 0
      },
      "text/plain": [
       "Validation: |          | 0/? [00:00<?, ?it/s]"
      ]
     },
     "metadata": {},
     "output_type": "display_data"
    },
    {
     "name": "stderr",
     "output_type": "stream",
     "text": [
      "Epoch 1, global step 240: 'val_evaluation_metric' reached 0.04140 (best 0.04140), saving model to 'C:\\\\Users\\\\denni\\\\Documents\\\\5ARIP10 - Interdisciplinary team project\\\\InterdisciplinaryProject\\\\energy_prediction\\\\models2\\\\best-model-epoch=01-val_evaluation_metric=0.04.ckpt' as top 1\n"
     ]
    },
    {
     "data": {
      "application/vnd.jupyter.widget-view+json": {
       "model_id": "cbcf2bf26a5e48bc9e133fbaa79fbd4f",
       "version_major": 2,
       "version_minor": 0
      },
      "text/plain": [
       "Validation: |          | 0/? [00:00<?, ?it/s]"
      ]
     },
     "metadata": {},
     "output_type": "display_data"
    },
    {
     "name": "stderr",
     "output_type": "stream",
     "text": [
      "Epoch 2, global step 360: 'val_evaluation_metric' was not in top 1\n"
     ]
    },
    {
     "data": {
      "application/vnd.jupyter.widget-view+json": {
       "model_id": "d4566a45040948bda1bfd6ed3d9ad00c",
       "version_major": 2,
       "version_minor": 0
      },
      "text/plain": [
       "Validation: |          | 0/? [00:00<?, ?it/s]"
      ]
     },
     "metadata": {},
     "output_type": "display_data"
    },
    {
     "name": "stderr",
     "output_type": "stream",
     "text": [
      "Epoch 3, global step 480: 'val_evaluation_metric' reached 0.03927 (best 0.03927), saving model to 'C:\\\\Users\\\\denni\\\\Documents\\\\5ARIP10 - Interdisciplinary team project\\\\InterdisciplinaryProject\\\\energy_prediction\\\\models2\\\\best-model-epoch=03-val_evaluation_metric=0.04-v4.ckpt' as top 1\n"
     ]
    },
    {
     "data": {
      "application/vnd.jupyter.widget-view+json": {
       "model_id": "1bce5dd6df0e4607ac2192b433930d11",
       "version_major": 2,
       "version_minor": 0
      },
      "text/plain": [
       "Validation: |          | 0/? [00:00<?, ?it/s]"
      ]
     },
     "metadata": {},
     "output_type": "display_data"
    },
    {
     "name": "stderr",
     "output_type": "stream",
     "text": [
      "c:\\Users\\denni\\anaconda3\\envs\\5ARIP\\Lib\\site-packages\\pytorch_lightning\\trainer\\call.py:54: Detected KeyboardInterrupt, attempting graceful shutdown...\n",
      "[I 2024-06-10 15:45:02,974] Trial 11 finished with value: 0.03926924988627434 and parameters: {'learning_rate': 0.04379484814598522, 'hidden_size': 8, 'fc_size': 32, 'loss_type': 'huber'}. Best is trial 4 with value: 0.03251497447490692.\n",
      "GPU available: False, used: False\n",
      "TPU available: False, using: 0 TPU cores\n",
      "IPU available: False, using: 0 IPUs\n",
      "HPU available: False, using: 0 HPUs\n",
      "c:\\Users\\denni\\anaconda3\\envs\\5ARIP\\Lib\\site-packages\\pytorch_lightning\\callbacks\\model_checkpoint.py:653: Checkpoint directory C:\\Users\\denni\\Documents\\5ARIP10 - Interdisciplinary team project\\InterdisciplinaryProject\\energy_prediction\\models2 exists and is not empty.\n",
      "\n",
      "  | Name    | Type                  | Params\n",
      "--------------------------------------------------\n",
      "0 | model   | EnergyPredictionModel | 559 K \n",
      "1 | loss_fn | HuberLoss             | 0     \n",
      "--------------------------------------------------\n",
      "559 K     Trainable params\n",
      "0         Non-trainable params\n",
      "559 K     Total params\n",
      "2.236     Total estimated model params size (MB)\n"
     ]
    },
    {
     "data": {
      "application/vnd.jupyter.widget-view+json": {
       "model_id": "4cfc7a898b2b4928bcebd27bb5351b32",
       "version_major": 2,
       "version_minor": 0
      },
      "text/plain": [
       "Sanity Checking: |          | 0/? [00:00<?, ?it/s]"
      ]
     },
     "metadata": {},
     "output_type": "display_data"
    },
    {
     "name": "stderr",
     "output_type": "stream",
     "text": [
      "c:\\Users\\denni\\anaconda3\\envs\\5ARIP\\Lib\\site-packages\\pytorch_lightning\\trainer\\connectors\\data_connector.py:441: The 'val_dataloader' does not have many workers which may be a bottleneck. Consider increasing the value of the `num_workers` argument` to `num_workers=15` in the `DataLoader` to improve performance.\n",
      "c:\\Users\\denni\\anaconda3\\envs\\5ARIP\\Lib\\site-packages\\pytorch_lightning\\trainer\\connectors\\data_connector.py:441: The 'train_dataloader' does not have many workers which may be a bottleneck. Consider increasing the value of the `num_workers` argument` to `num_workers=15` in the `DataLoader` to improve performance.\n"
     ]
    },
    {
     "data": {
      "application/vnd.jupyter.widget-view+json": {
       "model_id": "9db14234bbe74d068060246500fece81",
       "version_major": 2,
       "version_minor": 0
      },
      "text/plain": [
       "Training: |          | 0/? [00:00<?, ?it/s]"
      ]
     },
     "metadata": {},
     "output_type": "display_data"
    },
    {
     "data": {
      "application/vnd.jupyter.widget-view+json": {
       "model_id": "58623084dc75476ebc82bf8e7be60321",
       "version_major": 2,
       "version_minor": 0
      },
      "text/plain": [
       "Validation: |          | 0/? [00:00<?, ?it/s]"
      ]
     },
     "metadata": {},
     "output_type": "display_data"
    },
    {
     "name": "stderr",
     "output_type": "stream",
     "text": [
      "Epoch 0, global step 120: 'val_evaluation_metric' reached 0.03979 (best 0.03979), saving model to 'C:\\\\Users\\\\denni\\\\Documents\\\\5ARIP10 - Interdisciplinary team project\\\\InterdisciplinaryProject\\\\energy_prediction\\\\models2\\\\best-model-epoch=00-val_evaluation_metric=0.04.ckpt' as top 1\n"
     ]
    },
    {
     "data": {
      "application/vnd.jupyter.widget-view+json": {
       "model_id": "1e17cf1e40da47d7b95a120f9ec6acc5",
       "version_major": 2,
       "version_minor": 0
      },
      "text/plain": [
       "Validation: |          | 0/? [00:00<?, ?it/s]"
      ]
     },
     "metadata": {},
     "output_type": "display_data"
    },
    {
     "name": "stderr",
     "output_type": "stream",
     "text": [
      "Epoch 1, global step 240: 'val_evaluation_metric' reached 0.03352 (best 0.03352), saving model to 'C:\\\\Users\\\\denni\\\\Documents\\\\5ARIP10 - Interdisciplinary team project\\\\InterdisciplinaryProject\\\\energy_prediction\\\\models2\\\\best-model-epoch=01-val_evaluation_metric=0.03.ckpt' as top 1\n"
     ]
    },
    {
     "data": {
      "application/vnd.jupyter.widget-view+json": {
       "model_id": "d6707c9c74124cc8a2faf8d1bc43ce13",
       "version_major": 2,
       "version_minor": 0
      },
      "text/plain": [
       "Validation: |          | 0/? [00:00<?, ?it/s]"
      ]
     },
     "metadata": {},
     "output_type": "display_data"
    },
    {
     "name": "stderr",
     "output_type": "stream",
     "text": [
      "Epoch 2, global step 360: 'val_evaluation_metric' reached 0.03205 (best 0.03205), saving model to 'C:\\\\Users\\\\denni\\\\Documents\\\\5ARIP10 - Interdisciplinary team project\\\\InterdisciplinaryProject\\\\energy_prediction\\\\models2\\\\best-model-epoch=02-val_evaluation_metric=0.03.ckpt' as top 1\n"
     ]
    },
    {
     "data": {
      "application/vnd.jupyter.widget-view+json": {
       "model_id": "f817f095f3c544e0b63fd63a6743ae10",
       "version_major": 2,
       "version_minor": 0
      },
      "text/plain": [
       "Validation: |          | 0/? [00:00<?, ?it/s]"
      ]
     },
     "metadata": {},
     "output_type": "display_data"
    },
    {
     "name": "stderr",
     "output_type": "stream",
     "text": [
      "Epoch 3, global step 480: 'val_evaluation_metric' reached 0.03069 (best 0.03069), saving model to 'C:\\\\Users\\\\denni\\\\Documents\\\\5ARIP10 - Interdisciplinary team project\\\\InterdisciplinaryProject\\\\energy_prediction\\\\models2\\\\best-model-epoch=03-val_evaluation_metric=0.03-v4.ckpt' as top 1\n"
     ]
    },
    {
     "data": {
      "application/vnd.jupyter.widget-view+json": {
       "model_id": "5a784641ba514494ac183896baa3c7ce",
       "version_major": 2,
       "version_minor": 0
      },
      "text/plain": [
       "Validation: |          | 0/? [00:00<?, ?it/s]"
      ]
     },
     "metadata": {},
     "output_type": "display_data"
    },
    {
     "name": "stderr",
     "output_type": "stream",
     "text": [
      "Epoch 4, global step 600: 'val_evaluation_metric' reached 0.03034 (best 0.03034), saving model to 'C:\\\\Users\\\\denni\\\\Documents\\\\5ARIP10 - Interdisciplinary team project\\\\InterdisciplinaryProject\\\\energy_prediction\\\\models2\\\\best-model-epoch=04-val_evaluation_metric=0.03-v37.ckpt' as top 1\n",
      "`Trainer.fit` stopped: `max_epochs=5` reached.\n",
      "[I 2024-06-10 15:46:55,560] Trial 12 finished with value: 0.030336281284689903 and parameters: {'learning_rate': 0.01470966307496129, 'hidden_size': 16, 'fc_size': 512, 'loss_type': 'huber'}. Best is trial 12 with value: 0.030336281284689903.\n",
      "GPU available: False, used: False\n",
      "TPU available: False, using: 0 TPU cores\n",
      "IPU available: False, using: 0 IPUs\n",
      "HPU available: False, using: 0 HPUs\n",
      "c:\\Users\\denni\\anaconda3\\envs\\5ARIP\\Lib\\site-packages\\pytorch_lightning\\callbacks\\model_checkpoint.py:653: Checkpoint directory C:\\Users\\denni\\Documents\\5ARIP10 - Interdisciplinary team project\\InterdisciplinaryProject\\energy_prediction\\models2 exists and is not empty.\n",
      "\n",
      "  | Name    | Type                  | Params\n",
      "--------------------------------------------------\n",
      "0 | model   | EnergyPredictionModel | 549 K \n",
      "1 | loss_fn | HuberLoss             | 0     \n",
      "--------------------------------------------------\n",
      "549 K     Trainable params\n",
      "0         Non-trainable params\n",
      "549 K     Total params\n",
      "2.200     Total estimated model params size (MB)\n"
     ]
    },
    {
     "data": {
      "application/vnd.jupyter.widget-view+json": {
       "model_id": "90fe45712d124e38b44eb5742bcdfc31",
       "version_major": 2,
       "version_minor": 0
      },
      "text/plain": [
       "Sanity Checking: |          | 0/? [00:00<?, ?it/s]"
      ]
     },
     "metadata": {},
     "output_type": "display_data"
    },
    {
     "name": "stderr",
     "output_type": "stream",
     "text": [
      "c:\\Users\\denni\\anaconda3\\envs\\5ARIP\\Lib\\site-packages\\pytorch_lightning\\trainer\\connectors\\data_connector.py:441: The 'val_dataloader' does not have many workers which may be a bottleneck. Consider increasing the value of the `num_workers` argument` to `num_workers=15` in the `DataLoader` to improve performance.\n",
      "c:\\Users\\denni\\anaconda3\\envs\\5ARIP\\Lib\\site-packages\\pytorch_lightning\\trainer\\connectors\\data_connector.py:441: The 'train_dataloader' does not have many workers which may be a bottleneck. Consider increasing the value of the `num_workers` argument` to `num_workers=15` in the `DataLoader` to improve performance.\n"
     ]
    },
    {
     "data": {
      "application/vnd.jupyter.widget-view+json": {
       "model_id": "6048a70c0f14494589c0f4d0ea95bdd1",
       "version_major": 2,
       "version_minor": 0
      },
      "text/plain": [
       "Training: |          | 0/? [00:00<?, ?it/s]"
      ]
     },
     "metadata": {},
     "output_type": "display_data"
    },
    {
     "data": {
      "application/vnd.jupyter.widget-view+json": {
       "model_id": "7f646a519254435ab1c2b2ac0ffbba50",
       "version_major": 2,
       "version_minor": 0
      },
      "text/plain": [
       "Validation: |          | 0/? [00:00<?, ?it/s]"
      ]
     },
     "metadata": {},
     "output_type": "display_data"
    },
    {
     "name": "stderr",
     "output_type": "stream",
     "text": [
      "Epoch 0, global step 120: 'val_evaluation_metric' reached 0.04222 (best 0.04222), saving model to 'C:\\\\Users\\\\denni\\\\Documents\\\\5ARIP10 - Interdisciplinary team project\\\\InterdisciplinaryProject\\\\energy_prediction\\\\models2\\\\best-model-epoch=00-val_evaluation_metric=0.04.ckpt' as top 1\n"
     ]
    },
    {
     "data": {
      "application/vnd.jupyter.widget-view+json": {
       "model_id": "0479a36aea074583a18a8d53bd477734",
       "version_major": 2,
       "version_minor": 0
      },
      "text/plain": [
       "Validation: |          | 0/? [00:00<?, ?it/s]"
      ]
     },
     "metadata": {},
     "output_type": "display_data"
    },
    {
     "name": "stderr",
     "output_type": "stream",
     "text": [
      "Epoch 1, global step 240: 'val_evaluation_metric' reached 0.03805 (best 0.03805), saving model to 'C:\\\\Users\\\\denni\\\\Documents\\\\5ARIP10 - Interdisciplinary team project\\\\InterdisciplinaryProject\\\\energy_prediction\\\\models2\\\\best-model-epoch=01-val_evaluation_metric=0.04.ckpt' as top 1\n"
     ]
    },
    {
     "data": {
      "application/vnd.jupyter.widget-view+json": {
       "model_id": "c8839ee48d4d4575b7cdbf1506f735ca",
       "version_major": 2,
       "version_minor": 0
      },
      "text/plain": [
       "Validation: |          | 0/? [00:00<?, ?it/s]"
      ]
     },
     "metadata": {},
     "output_type": "display_data"
    },
    {
     "name": "stderr",
     "output_type": "stream",
     "text": [
      "Epoch 2, global step 360: 'val_evaluation_metric' reached 0.03445 (best 0.03445), saving model to 'C:\\\\Users\\\\denni\\\\Documents\\\\5ARIP10 - Interdisciplinary team project\\\\InterdisciplinaryProject\\\\energy_prediction\\\\models2\\\\best-model-epoch=02-val_evaluation_metric=0.03.ckpt' as top 1\n"
     ]
    },
    {
     "data": {
      "application/vnd.jupyter.widget-view+json": {
       "model_id": "6318419c6ef748e69fe38f6fcf94d986",
       "version_major": 2,
       "version_minor": 0
      },
      "text/plain": [
       "Validation: |          | 0/? [00:00<?, ?it/s]"
      ]
     },
     "metadata": {},
     "output_type": "display_data"
    },
    {
     "name": "stderr",
     "output_type": "stream",
     "text": [
      "Epoch 3, global step 480: 'val_evaluation_metric' reached 0.03261 (best 0.03261), saving model to 'C:\\\\Users\\\\denni\\\\Documents\\\\5ARIP10 - Interdisciplinary team project\\\\InterdisciplinaryProject\\\\energy_prediction\\\\models2\\\\best-model-epoch=03-val_evaluation_metric=0.03-v4.ckpt' as top 1\n"
     ]
    },
    {
     "data": {
      "application/vnd.jupyter.widget-view+json": {
       "model_id": "01260117f9664bc99ddcf566edce6080",
       "version_major": 2,
       "version_minor": 0
      },
      "text/plain": [
       "Validation: |          | 0/? [00:00<?, ?it/s]"
      ]
     },
     "metadata": {},
     "output_type": "display_data"
    },
    {
     "name": "stderr",
     "output_type": "stream",
     "text": [
      "Epoch 4, global step 600: 'val_evaluation_metric' reached 0.03008 (best 0.03008), saving model to 'C:\\\\Users\\\\denni\\\\Documents\\\\5ARIP10 - Interdisciplinary team project\\\\InterdisciplinaryProject\\\\energy_prediction\\\\models2\\\\best-model-epoch=04-val_evaluation_metric=0.03-v38.ckpt' as top 1\n",
      "`Trainer.fit` stopped: `max_epochs=5` reached.\n",
      "[I 2024-06-10 15:48:47,019] Trial 13 finished with value: 0.030080202966928482 and parameters: {'learning_rate': 0.010099682923878054, 'hidden_size': 8, 'fc_size': 512, 'loss_type': 'huber'}. Best is trial 13 with value: 0.030080202966928482.\n",
      "GPU available: False, used: False\n",
      "TPU available: False, using: 0 TPU cores\n",
      "IPU available: False, using: 0 IPUs\n",
      "HPU available: False, using: 0 HPUs\n",
      "c:\\Users\\denni\\anaconda3\\envs\\5ARIP\\Lib\\site-packages\\pytorch_lightning\\callbacks\\model_checkpoint.py:653: Checkpoint directory C:\\Users\\denni\\Documents\\5ARIP10 - Interdisciplinary team project\\InterdisciplinaryProject\\energy_prediction\\models2 exists and is not empty.\n",
      "\n",
      "  | Name    | Type                  | Params\n",
      "--------------------------------------------------\n",
      "0 | model   | EnergyPredictionModel | 559 K \n",
      "1 | loss_fn | HuberLoss             | 0     \n",
      "--------------------------------------------------\n",
      "559 K     Trainable params\n",
      "0         Non-trainable params\n",
      "559 K     Total params\n",
      "2.236     Total estimated model params size (MB)\n"
     ]
    },
    {
     "data": {
      "application/vnd.jupyter.widget-view+json": {
       "model_id": "2443750eddec43c7aeeafdd5b9b64460",
       "version_major": 2,
       "version_minor": 0
      },
      "text/plain": [
       "Sanity Checking: |          | 0/? [00:00<?, ?it/s]"
      ]
     },
     "metadata": {},
     "output_type": "display_data"
    },
    {
     "name": "stderr",
     "output_type": "stream",
     "text": [
      "c:\\Users\\denni\\anaconda3\\envs\\5ARIP\\Lib\\site-packages\\pytorch_lightning\\trainer\\connectors\\data_connector.py:441: The 'val_dataloader' does not have many workers which may be a bottleneck. Consider increasing the value of the `num_workers` argument` to `num_workers=15` in the `DataLoader` to improve performance.\n",
      "c:\\Users\\denni\\anaconda3\\envs\\5ARIP\\Lib\\site-packages\\pytorch_lightning\\trainer\\connectors\\data_connector.py:441: The 'train_dataloader' does not have many workers which may be a bottleneck. Consider increasing the value of the `num_workers` argument` to `num_workers=15` in the `DataLoader` to improve performance.\n"
     ]
    },
    {
     "data": {
      "application/vnd.jupyter.widget-view+json": {
       "model_id": "5f4cf2d8767c4e28a9f9c9091d3c8d19",
       "version_major": 2,
       "version_minor": 0
      },
      "text/plain": [
       "Training: |          | 0/? [00:00<?, ?it/s]"
      ]
     },
     "metadata": {},
     "output_type": "display_data"
    },
    {
     "data": {
      "application/vnd.jupyter.widget-view+json": {
       "model_id": "a07133bc59cd4e558cde4df22666e527",
       "version_major": 2,
       "version_minor": 0
      },
      "text/plain": [
       "Validation: |          | 0/? [00:00<?, ?it/s]"
      ]
     },
     "metadata": {},
     "output_type": "display_data"
    },
    {
     "name": "stderr",
     "output_type": "stream",
     "text": [
      "Epoch 0, global step 120: 'val_evaluation_metric' reached 0.04157 (best 0.04157), saving model to 'C:\\\\Users\\\\denni\\\\Documents\\\\5ARIP10 - Interdisciplinary team project\\\\InterdisciplinaryProject\\\\energy_prediction\\\\models2\\\\best-model-epoch=00-val_evaluation_metric=0.04.ckpt' as top 1\n"
     ]
    },
    {
     "data": {
      "application/vnd.jupyter.widget-view+json": {
       "model_id": "98bdfdaf1c2f400bbad693f74707a65f",
       "version_major": 2,
       "version_minor": 0
      },
      "text/plain": [
       "Validation: |          | 0/? [00:00<?, ?it/s]"
      ]
     },
     "metadata": {},
     "output_type": "display_data"
    },
    {
     "name": "stderr",
     "output_type": "stream",
     "text": [
      "Epoch 1, global step 240: 'val_evaluation_metric' reached 0.03680 (best 0.03680), saving model to 'C:\\\\Users\\\\denni\\\\Documents\\\\5ARIP10 - Interdisciplinary team project\\\\InterdisciplinaryProject\\\\energy_prediction\\\\models2\\\\best-model-epoch=01-val_evaluation_metric=0.04.ckpt' as top 1\n"
     ]
    },
    {
     "data": {
      "application/vnd.jupyter.widget-view+json": {
       "model_id": "74678fd8418c4de79a89613d7d79f2f5",
       "version_major": 2,
       "version_minor": 0
      },
      "text/plain": [
       "Validation: |          | 0/? [00:00<?, ?it/s]"
      ]
     },
     "metadata": {},
     "output_type": "display_data"
    },
    {
     "name": "stderr",
     "output_type": "stream",
     "text": [
      "Epoch 2, global step 360: 'val_evaluation_metric' reached 0.03387 (best 0.03387), saving model to 'C:\\\\Users\\\\denni\\\\Documents\\\\5ARIP10 - Interdisciplinary team project\\\\InterdisciplinaryProject\\\\energy_prediction\\\\models2\\\\best-model-epoch=02-val_evaluation_metric=0.03.ckpt' as top 1\n"
     ]
    },
    {
     "data": {
      "application/vnd.jupyter.widget-view+json": {
       "model_id": "173ab0a86f514f5f98d48c867036e2f9",
       "version_major": 2,
       "version_minor": 0
      },
      "text/plain": [
       "Validation: |          | 0/? [00:00<?, ?it/s]"
      ]
     },
     "metadata": {},
     "output_type": "display_data"
    },
    {
     "name": "stderr",
     "output_type": "stream",
     "text": [
      "Epoch 3, global step 480: 'val_evaluation_metric' reached 0.03067 (best 0.03067), saving model to 'C:\\\\Users\\\\denni\\\\Documents\\\\5ARIP10 - Interdisciplinary team project\\\\InterdisciplinaryProject\\\\energy_prediction\\\\models2\\\\best-model-epoch=03-val_evaluation_metric=0.03-v4.ckpt' as top 1\n"
     ]
    },
    {
     "data": {
      "application/vnd.jupyter.widget-view+json": {
       "model_id": "1ac472f8c99f479eab68cbde35c8a59f",
       "version_major": 2,
       "version_minor": 0
      },
      "text/plain": [
       "Validation: |          | 0/? [00:00<?, ?it/s]"
      ]
     },
     "metadata": {},
     "output_type": "display_data"
    },
    {
     "name": "stderr",
     "output_type": "stream",
     "text": [
      "Epoch 4, global step 600: 'val_evaluation_metric' reached 0.02934 (best 0.02934), saving model to 'C:\\\\Users\\\\denni\\\\Documents\\\\5ARIP10 - Interdisciplinary team project\\\\InterdisciplinaryProject\\\\energy_prediction\\\\models2\\\\best-model-epoch=04-val_evaluation_metric=0.03-v39.ckpt' as top 1\n",
      "`Trainer.fit` stopped: `max_epochs=5` reached.\n",
      "[I 2024-06-10 15:50:39,881] Trial 14 finished with value: 0.029338985681533813 and parameters: {'learning_rate': 0.007621325902448184, 'hidden_size': 16, 'fc_size': 512, 'loss_type': 'huber'}. Best is trial 14 with value: 0.029338985681533813.\n",
      "GPU available: False, used: False\n",
      "TPU available: False, using: 0 TPU cores\n",
      "IPU available: False, using: 0 IPUs\n",
      "HPU available: False, using: 0 HPUs\n",
      "c:\\Users\\denni\\anaconda3\\envs\\5ARIP\\Lib\\site-packages\\pytorch_lightning\\callbacks\\model_checkpoint.py:653: Checkpoint directory C:\\Users\\denni\\Documents\\5ARIP10 - Interdisciplinary team project\\InterdisciplinaryProject\\energy_prediction\\models2 exists and is not empty.\n",
      "\n",
      "  | Name    | Type                  | Params\n",
      "--------------------------------------------------\n",
      "0 | model   | EnergyPredictionModel | 578 K \n",
      "1 | loss_fn | HuberLoss             | 0     \n",
      "--------------------------------------------------\n",
      "578 K     Trainable params\n",
      "0         Non-trainable params\n",
      "578 K     Total params\n",
      "2.316     Total estimated model params size (MB)\n"
     ]
    },
    {
     "data": {
      "application/vnd.jupyter.widget-view+json": {
       "model_id": "f42af4d829894e6ca0c04c44c6b6fade",
       "version_major": 2,
       "version_minor": 0
      },
      "text/plain": [
       "Sanity Checking: |          | 0/? [00:00<?, ?it/s]"
      ]
     },
     "metadata": {},
     "output_type": "display_data"
    },
    {
     "name": "stderr",
     "output_type": "stream",
     "text": [
      "c:\\Users\\denni\\anaconda3\\envs\\5ARIP\\Lib\\site-packages\\pytorch_lightning\\trainer\\connectors\\data_connector.py:441: The 'val_dataloader' does not have many workers which may be a bottleneck. Consider increasing the value of the `num_workers` argument` to `num_workers=15` in the `DataLoader` to improve performance.\n",
      "c:\\Users\\denni\\anaconda3\\envs\\5ARIP\\Lib\\site-packages\\pytorch_lightning\\trainer\\connectors\\data_connector.py:441: The 'train_dataloader' does not have many workers which may be a bottleneck. Consider increasing the value of the `num_workers` argument` to `num_workers=15` in the `DataLoader` to improve performance.\n"
     ]
    },
    {
     "data": {
      "application/vnd.jupyter.widget-view+json": {
       "model_id": "3dd755329b8345cb97352731e62845fb",
       "version_major": 2,
       "version_minor": 0
      },
      "text/plain": [
       "Training: |          | 0/? [00:00<?, ?it/s]"
      ]
     },
     "metadata": {},
     "output_type": "display_data"
    },
    {
     "data": {
      "application/vnd.jupyter.widget-view+json": {
       "model_id": "cd14bd2571bb416dad8bb1c7b48d34b0",
       "version_major": 2,
       "version_minor": 0
      },
      "text/plain": [
       "Validation: |          | 0/? [00:00<?, ?it/s]"
      ]
     },
     "metadata": {},
     "output_type": "display_data"
    },
    {
     "name": "stderr",
     "output_type": "stream",
     "text": [
      "Epoch 0, global step 120: 'val_evaluation_metric' reached 0.04054 (best 0.04054), saving model to 'C:\\\\Users\\\\denni\\\\Documents\\\\5ARIP10 - Interdisciplinary team project\\\\InterdisciplinaryProject\\\\energy_prediction\\\\models2\\\\best-model-epoch=00-val_evaluation_metric=0.04.ckpt' as top 1\n"
     ]
    },
    {
     "data": {
      "application/vnd.jupyter.widget-view+json": {
       "model_id": "d9a9056226774b2383312363ec007207",
       "version_major": 2,
       "version_minor": 0
      },
      "text/plain": [
       "Validation: |          | 0/? [00:00<?, ?it/s]"
      ]
     },
     "metadata": {},
     "output_type": "display_data"
    },
    {
     "name": "stderr",
     "output_type": "stream",
     "text": [
      "Epoch 1, global step 240: 'val_evaluation_metric' reached 0.03881 (best 0.03881), saving model to 'C:\\\\Users\\\\denni\\\\Documents\\\\5ARIP10 - Interdisciplinary team project\\\\InterdisciplinaryProject\\\\energy_prediction\\\\models2\\\\best-model-epoch=01-val_evaluation_metric=0.04.ckpt' as top 1\n"
     ]
    },
    {
     "data": {
      "application/vnd.jupyter.widget-view+json": {
       "model_id": "225f12de4c824776967de79abde4f1e4",
       "version_major": 2,
       "version_minor": 0
      },
      "text/plain": [
       "Validation: |          | 0/? [00:00<?, ?it/s]"
      ]
     },
     "metadata": {},
     "output_type": "display_data"
    },
    {
     "name": "stderr",
     "output_type": "stream",
     "text": [
      "Epoch 2, global step 360: 'val_evaluation_metric' reached 0.03468 (best 0.03468), saving model to 'C:\\\\Users\\\\denni\\\\Documents\\\\5ARIP10 - Interdisciplinary team project\\\\InterdisciplinaryProject\\\\energy_prediction\\\\models2\\\\best-model-epoch=02-val_evaluation_metric=0.03.ckpt' as top 1\n"
     ]
    },
    {
     "data": {
      "application/vnd.jupyter.widget-view+json": {
       "model_id": "903333f72e9c4b8bac8a57a793f70458",
       "version_major": 2,
       "version_minor": 0
      },
      "text/plain": [
       "Validation: |          | 0/? [00:00<?, ?it/s]"
      ]
     },
     "metadata": {},
     "output_type": "display_data"
    },
    {
     "name": "stderr",
     "output_type": "stream",
     "text": [
      "Epoch 3, global step 480: 'val_evaluation_metric' reached 0.03089 (best 0.03089), saving model to 'C:\\\\Users\\\\denni\\\\Documents\\\\5ARIP10 - Interdisciplinary team project\\\\InterdisciplinaryProject\\\\energy_prediction\\\\models2\\\\best-model-epoch=03-val_evaluation_metric=0.03-v4.ckpt' as top 1\n"
     ]
    },
    {
     "data": {
      "application/vnd.jupyter.widget-view+json": {
       "model_id": "54825f7b996744bb8ee7242a7ea2accf",
       "version_major": 2,
       "version_minor": 0
      },
      "text/plain": [
       "Validation: |          | 0/? [00:00<?, ?it/s]"
      ]
     },
     "metadata": {},
     "output_type": "display_data"
    },
    {
     "name": "stderr",
     "output_type": "stream",
     "text": [
      "Epoch 4, global step 600: 'val_evaluation_metric' reached 0.02964 (best 0.02964), saving model to 'C:\\\\Users\\\\denni\\\\Documents\\\\5ARIP10 - Interdisciplinary team project\\\\InterdisciplinaryProject\\\\energy_prediction\\\\models2\\\\best-model-epoch=04-val_evaluation_metric=0.03-v40.ckpt' as top 1\n",
      "`Trainer.fit` stopped: `max_epochs=5` reached.\n",
      "[I 2024-06-10 15:52:31,678] Trial 15 finished with value: 0.029635395854711533 and parameters: {'learning_rate': 0.00477305049123279, 'hidden_size': 32, 'fc_size': 512, 'loss_type': 'huber'}. Best is trial 14 with value: 0.029338985681533813.\n",
      "GPU available: False, used: False\n",
      "TPU available: False, using: 0 TPU cores\n",
      "IPU available: False, using: 0 IPUs\n",
      "HPU available: False, using: 0 HPUs\n",
      "c:\\Users\\denni\\anaconda3\\envs\\5ARIP\\Lib\\site-packages\\pytorch_lightning\\callbacks\\model_checkpoint.py:653: Checkpoint directory C:\\Users\\denni\\Documents\\5ARIP10 - Interdisciplinary team project\\InterdisciplinaryProject\\energy_prediction\\models2 exists and is not empty.\n",
      "\n",
      "  | Name    | Type                  | Params\n",
      "--------------------------------------------------\n",
      "0 | model   | EnergyPredictionModel | 7.1 K \n",
      "1 | loss_fn | HuberLoss             | 0     \n",
      "--------------------------------------------------\n",
      "7.1 K     Trainable params\n",
      "0         Non-trainable params\n",
      "7.1 K     Total params\n",
      "0.028     Total estimated model params size (MB)\n"
     ]
    },
    {
     "data": {
      "application/vnd.jupyter.widget-view+json": {
       "model_id": "2cffed3c5ed74a829fdf7eb2dbd12e27",
       "version_major": 2,
       "version_minor": 0
      },
      "text/plain": [
       "Sanity Checking: |          | 0/? [00:00<?, ?it/s]"
      ]
     },
     "metadata": {},
     "output_type": "display_data"
    },
    {
     "name": "stderr",
     "output_type": "stream",
     "text": [
      "c:\\Users\\denni\\anaconda3\\envs\\5ARIP\\Lib\\site-packages\\pytorch_lightning\\trainer\\connectors\\data_connector.py:441: The 'val_dataloader' does not have many workers which may be a bottleneck. Consider increasing the value of the `num_workers` argument` to `num_workers=15` in the `DataLoader` to improve performance.\n",
      "c:\\Users\\denni\\anaconda3\\envs\\5ARIP\\Lib\\site-packages\\pytorch_lightning\\trainer\\connectors\\data_connector.py:441: The 'train_dataloader' does not have many workers which may be a bottleneck. Consider increasing the value of the `num_workers` argument` to `num_workers=15` in the `DataLoader` to improve performance.\n"
     ]
    },
    {
     "data": {
      "application/vnd.jupyter.widget-view+json": {
       "model_id": "cbea68c5c355412abb1653150e85afdd",
       "version_major": 2,
       "version_minor": 0
      },
      "text/plain": [
       "Training: |          | 0/? [00:00<?, ?it/s]"
      ]
     },
     "metadata": {},
     "output_type": "display_data"
    },
    {
     "data": {
      "application/vnd.jupyter.widget-view+json": {
       "model_id": "628ab24bc5ef49a4b14409a27953a22a",
       "version_major": 2,
       "version_minor": 0
      },
      "text/plain": [
       "Validation: |          | 0/? [00:00<?, ?it/s]"
      ]
     },
     "metadata": {},
     "output_type": "display_data"
    },
    {
     "name": "stderr",
     "output_type": "stream",
     "text": [
      "Epoch 0, global step 120: 'val_evaluation_metric' reached 0.05171 (best 0.05171), saving model to 'C:\\\\Users\\\\denni\\\\Documents\\\\5ARIP10 - Interdisciplinary team project\\\\InterdisciplinaryProject\\\\energy_prediction\\\\models2\\\\best-model-epoch=00-val_evaluation_metric=0.05.ckpt' as top 1\n"
     ]
    },
    {
     "data": {
      "application/vnd.jupyter.widget-view+json": {
       "model_id": "c9c7ce1e067847ba9ccb93d9a69070b9",
       "version_major": 2,
       "version_minor": 0
      },
      "text/plain": [
       "Validation: |          | 0/? [00:00<?, ?it/s]"
      ]
     },
     "metadata": {},
     "output_type": "display_data"
    },
    {
     "name": "stderr",
     "output_type": "stream",
     "text": [
      "Epoch 1, global step 240: 'val_evaluation_metric' reached 0.04399 (best 0.04399), saving model to 'C:\\\\Users\\\\denni\\\\Documents\\\\5ARIP10 - Interdisciplinary team project\\\\InterdisciplinaryProject\\\\energy_prediction\\\\models2\\\\best-model-epoch=01-val_evaluation_metric=0.04.ckpt' as top 1\n",
      "c:\\Users\\denni\\anaconda3\\envs\\5ARIP\\Lib\\site-packages\\pytorch_lightning\\trainer\\call.py:54: Detected KeyboardInterrupt, attempting graceful shutdown...\n",
      "[I 2024-06-10 16:25:22,751] Trial 16 finished with value: 0.04398880898952484 and parameters: {'learning_rate': 0.004710937191443452, 'hidden_size': 32, 'fc_size': 16, 'loss_type': 'huber'}. Best is trial 14 with value: 0.029338985681533813.\n"
     ]
    },
    {
     "name": "stdout",
     "output_type": "stream",
     "text": [
      "Best trial:\n",
      "  Value:  0.029338985681533813\n",
      "  Params: \n",
      "    learning_rate: 0.007621325902448184\n",
      "    hidden_size: 16\n",
      "    fc_size: 512\n",
      "    loss_type: huber\n",
      "Best model saved to: C:\\Users\\denni\\Documents\\5ARIP10 - Interdisciplinary team project\\InterdisciplinaryProject\\energy_prediction\\models2\\best-model-epoch=04-val_evaluation_metric=0.03-v39.ckpt\n",
      "Best model saved to: C:\\Users\\denni\\Documents\\5ARIP10 - Interdisciplinary team project\\InterdisciplinaryProject\\energy_prediction\\models2\\best-model-epoch=04-val_evaluation_metric=0.03-v39.ckpt\n"
     ]
    }
   ],
   "source": [
    "# import sys \n",
    "# sys.exit(\"Stopping the notebook execution here.\")\n",
    "\n",
    "# Assuming the create_data_loaders function is defined elsewhere\n",
    "train_loader, val_loader, test_synthetic_loader, test_measurement_loader = create_data_loaders(\n",
    "    dataset,\n",
    "    synthetic_sampling_ratio=1,  # 100% of the synthetic dataset\n",
    "    measured_split_ratio=0.6,    # 60% of the measured dataset for training\n",
    "    synthetic_split_ratio=0.7,   # 70% of the synthetic dataset for training\n",
    "    val_ratio=0.2,               # 10% of the training data for validation\n",
    "    batch_size=64)  \n",
    "\n",
    "def objective(trial, train_loader, val_loader):\n",
    "    \"\"\" Objective function for the hyperparameter optimization.\"\"\"\n",
    "    # Define the hyperparameters search space\n",
    "    learning_rate = trial.suggest_float(\"learning_rate\", 1e-5, 1e-1, log=True)\n",
    "    hidden_size = trial.suggest_categorical(\"hidden_size\",[2,4,8,16,32,64])\n",
    "    fc_size = trial.suggest_categorical(\"fc_size\",[16,32,64,128,256,512])\n",
    "    loss_type = trial.suggest_categorical(\"loss_type\", ['mse', 'l1', 'huber'])\n",
    "\n",
    "    # Instantiate the model with the suggested hyperparameters\n",
    "    model = TrainEnergyPrediction(\n",
    "        dynamic_feature_size=5,  \n",
    "        static_feature_size=3,  \n",
    "        hidden_size=hidden_size,\n",
    "        fc_size = fc_size,\n",
    "        learning_rate=learning_rate,\n",
    "        loss_type=loss_type,\n",
    "        dataset_values=dataset_values\n",
    "    )\n",
    "    \n",
    "    # Set up the logger and checkpoint callback\n",
    "    logger = CSVLogger(\"optuna_logs\", name=\"energy_prediction\")\n",
    "    checkpoint_callback = ModelCheckpoint(\n",
    "        dirpath=\"models2/\",\n",
    "        filename=\"best-model-{epoch:02d}-{val_evaluation_metric:.2f}\",\n",
    "        save_top_k=1,\n",
    "        verbose=True,\n",
    "        monitor='val_evaluation_metric',\n",
    "        mode='min'\n",
    "    )\n",
    "    \n",
    "    # Initialize the trainer\n",
    "    trainer = Trainer(\n",
    "        logger=logger,\n",
    "        callbacks=[checkpoint_callback],\n",
    "        max_epochs=5,     \n",
    "    )\n",
    "    # Fit the model\n",
    "    trainer.fit(model, train_dataloaders=train_loader, val_dataloaders=val_loader)\n",
    "\n",
    "    # Use validation loss to determine the best model\n",
    "    val_loss = trainer.callback_metrics.get(\"val_evaluation_metric\", float('inf'))\n",
    "\n",
    "    # # Store the best model path in the trial's user attributes\n",
    "    best_model_path = checkpoint_callback.best_model_path\n",
    "\n",
    "    # Save the best model path in the trial's user attributes\n",
    "    if best_model_path: \n",
    "        trial.set_user_attr(\"best_model_path\", best_model_path)\n",
    "\n",
    "    else:\n",
    "        raise ValueError(\"Model checkpoint path is empty!\")\n",
    "    return val_loss\n",
    "\n",
    "study = optuna.create_study(direction=\"minimize\")\n",
    "study.optimize(lambda trial: objective(trial, train_loader, val_loader), n_trials=100, timeout=7200)  # Run for 100 trials or 2 hour\n",
    "\n",
    "\n",
    "print(\"Best trial:\")\n",
    "trial = study.best_trial\n",
    "print(\"  Value: \", trial.value)\n",
    "print(\"  Params: \")\n",
    "for key, value in trial.params.items():\n",
    "    print(f\"    {key}: {value}\")\n",
    "print(\"Best model saved to:\", trial.user_attrs.get('best_model_path', 'Not available'))\n",
    "    \n",
    "print(\"Best model saved to:\", trial.user_attrs['best_model_path'])"
   ]
  },
  {
   "cell_type": "markdown",
   "metadata": {},
   "source": [
    "Analyze the hyperparameter optimization and get the best available study. The code below allows to automatically plot results of the best model found"
   ]
  },
  {
   "cell_type": "code",
   "execution_count": null,
   "metadata": {},
   "outputs": [
    {
     "name": "stdout",
     "output_type": "stream",
     "text": [
      "Trial 0: Loss = 0.03403798118233681\n",
      "Trial 1: Loss = 0.05090358853340149\n",
      "Trial 2: Loss = 0.052484095096588135\n",
      "Trial 3: Loss = 0.053935013711452484\n",
      "Trial 4: Loss = 0.026293646544218063\n",
      "Trial 5: Loss = 0.05471372604370117\n",
      "Trial 6: Loss = 0.055354539304971695\n",
      "Trial 7: Loss = 0.03514223173260689\n",
      "Trial 8: Loss = 0.029653077945113182\n",
      "Trial 9: Loss = 0.05209791287779808\n",
      "Trial 10: Loss = 0.13924981653690338\n",
      "Trial 11: Loss = 0.028374018147587776\n",
      "Trial 12: Loss = 0.18188922107219696\n",
      "Trial 13: Loss = 0.03307473286986351\n",
      "Trial 14: Loss = 0.039569489657878876\n",
      "Trial 15: Loss = 0.03947662562131882\n",
      "Trial 16: Loss = 0.031904444098472595\n",
      "Trial 17: Loss = 0.03226937726140022\n",
      "Trial 18: Loss = 0.0356057770550251\n",
      "Trial 19: Loss = 0.13924981653690338\n",
      "Trial 20: Loss = 0.0326620452105999\n",
      "Trial 21: Loss = 0.03022455796599388\n",
      "Trial 22: Loss = 0.02991694025695324\n",
      "Trial 23: Loss = 0.13924981653690338\n",
      "Trial 24: Loss = 0.03533296659588814\n",
      "Trial 25: Loss = 0.031364716589450836\n",
      "Trial 26: Loss = 0.0420178547501564\n",
      "Trial 27: Loss = 0.04521459713578224\n",
      "Trial 28: Loss = 0.13924981653690338\n",
      "Trial 29: Loss = 0.03351800888776779\n",
      "Trial 30: Loss = 0.027215873822569847\n",
      "Trial 31: Loss = 0.027390170842409134\n",
      "Trial 32: Loss = 0.029336577281355858\n",
      "Trial 33: Loss = 0.028480568900704384\n",
      "Trial 34: Loss = 0.02889041043817997\n",
      "Trial 35: Loss = 0.02832469716668129\n",
      "Trial 36: Loss = 0.027789676561951637\n",
      "Trial 37: Loss = 0.02898874320089817\n",
      "Trial 38: Loss = 0.03117758221924305\n",
      "Trial 39: Loss = 0.04158320650458336\n",
      "Trial 40: Loss = 0.026280932128429413\n",
      "Trial 41: Loss = 0.026335416361689568\n",
      "Trial 42: Loss = 0.026628995314240456\n",
      "Trial 43: Loss = 0.02758115343749523\n",
      "Trial 44: Loss = 0.13924981653690338\n",
      "Trial 45: Loss = 0.029627971351146698\n",
      "Trial 46: Loss = 0.053946126252412796\n",
      "Trial 47: Loss = 0.03199590742588043\n",
      "Trial 48: Loss = 0.036874834448099136\n",
      "Trial 49: Loss = 0.030799146741628647\n",
      "Trial 50: Loss = 0.02927946299314499\n",
      "Trial 51: Loss = 0.02655438892543316\n",
      "Trial 52: Loss = 0.02637527510523796\n",
      "Trial 53: Loss = 0.028712473809719086\n",
      "Trial 54: Loss = 0.02916116826236248\n",
      "Trial 55: Loss = 0.027315231040120125\n",
      "Trial 56: Loss = 0.028485585004091263\n",
      "Trial 57: Loss = 0.0275890976190567\n",
      "Trial 58: Loss = 0.028081519529223442\n",
      "Trial 59: Loss = 0.13924981653690338\n",
      "Trial 60: Loss = 0.03060108982026577\n",
      "Trial 61: Loss = 0.03426235541701317\n",
      "FrozenTrial(number=40, state=1, values=[0.026280932128429413], datetime_start=datetime.datetime(2024, 6, 10, 14, 33, 23, 593175), datetime_complete=datetime.datetime(2024, 6, 10, 14, 34, 19, 769884), params={'learning_rate': 0.005387181130426583, 'hidden_size': 32, 'fc_size': 512, 'loss_type': 'l1'}, user_attrs={'best_model_path': 'C:\\\\Users\\\\denni\\\\Documents\\\\5ARIP10 - Interdisciplinary team project\\\\InterdisciplinaryProject\\\\energy_prediction\\\\models2\\\\best-model-epoch=04-val_evaluation_metric=0.03-v20.ckpt'}, system_attrs={}, intermediate_values={}, distributions={'learning_rate': FloatDistribution(high=0.1, log=True, low=1e-05, step=None), 'hidden_size': CategoricalDistribution(choices=(2, 4, 8, 16, 32, 64)), 'fc_size': CategoricalDistribution(choices=(16, 32, 64, 128, 256, 512)), 'loss_type': CategoricalDistribution(choices=('mse', 'l1', 'huber'))}, trial_id=40, value=None)\n",
      "{'learning_rate': 0.005387181130426583, 'hidden_size': 32, 'fc_size': 512, 'loss_type': 'l1'}\n"
     ]
    }
   ],
   "source": [
    "\n",
    "final_losses = [trial.value for trial in study.trials if trial.value is not None]\n",
    "\n",
    "# Print the losses\n",
    "for i, loss in enumerate(final_losses):\n",
    "    print(f\"Trial {i}: Loss = {loss}\")\n",
    "\n",
    "print(study.best_trial)\n",
    "print(study.best_params)"
   ]
  },
  {
   "cell_type": "code",
   "execution_count": null,
   "metadata": {},
   "outputs": [
    {
     "name": "stderr",
     "output_type": "stream",
     "text": [
      "GPU available: False, used: False\n",
      "TPU available: False, using: 0 TPU cores\n",
      "IPU available: False, using: 0 IPUs\n",
      "HPU available: False, using: 0 HPUs\n"
     ]
    },
    {
     "name": "stdout",
     "output_type": "stream",
     "text": [
      "FrozenTrial(number=40, state=1, values=[0.026280932128429413], datetime_start=datetime.datetime(2024, 6, 10, 14, 33, 23, 593175), datetime_complete=datetime.datetime(2024, 6, 10, 14, 34, 19, 769884), params={'learning_rate': 0.005387181130426583, 'hidden_size': 32, 'fc_size': 512, 'loss_type': 'l1'}, user_attrs={'best_model_path': 'C:\\\\Users\\\\denni\\\\Documents\\\\5ARIP10 - Interdisciplinary team project\\\\InterdisciplinaryProject\\\\energy_prediction\\\\models2\\\\best-model-epoch=04-val_evaluation_metric=0.03-v20.ckpt'}, system_attrs={}, intermediate_values={}, distributions={'learning_rate': FloatDistribution(high=0.1, log=True, low=1e-05, step=None), 'hidden_size': CategoricalDistribution(choices=(2, 4, 8, 16, 32, 64)), 'fc_size': CategoricalDistribution(choices=(16, 32, 64, 128, 256, 512)), 'loss_type': CategoricalDistribution(choices=('mse', 'l1', 'huber'))}, trial_id=40, value=None)\n",
      "User attributes of the best trial: {'best_model_path': 'C:\\\\Users\\\\denni\\\\Documents\\\\5ARIP10 - Interdisciplinary team project\\\\InterdisciplinaryProject\\\\energy_prediction\\\\models2\\\\best-model-epoch=04-val_evaluation_metric=0.03-v20.ckpt'}\n",
      "learning_rate: 0.005387181130426583\n",
      "hidden_size: 32\n",
      "fc_size: 512\n",
      "loss_type: l1\n",
      "Evaluating best model from trial 40\n"
     ]
    },
    {
     "name": "stderr",
     "output_type": "stream",
     "text": [
      "c:\\Users\\denni\\anaconda3\\envs\\5ARIP\\Lib\\site-packages\\pytorch_lightning\\trainer\\connectors\\data_connector.py:441: The 'test_dataloader' does not have many workers which may be a bottleneck. Consider increasing the value of the `num_workers` argument` to `num_workers=15` in the `DataLoader` to improve performance.\n"
     ]
    },
    {
     "data": {
      "application/vnd.jupyter.widget-view+json": {
       "model_id": "398111ad73994944a4afc3f18b199e40",
       "version_major": 2,
       "version_minor": 0
      },
      "text/plain": [
       "Testing: |          | 0/? [00:00<?, ?it/s]"
      ]
     },
     "metadata": {},
     "output_type": "display_data"
    },
    {
     "data": {
      "text/html": [
       "<pre style=\"white-space:pre;overflow-x:auto;line-height:normal;font-family:Menlo,'DejaVu Sans Mono',consolas,'Courier New',monospace\">┏━━━━━━━━━━━━━━━━━━━━━━━━━━━┳━━━━━━━━━━━━━━━━━━━━━━━━━━━┳━━━━━━━━━━━━━━━━━━━━━━━━━━━┓\n",
       "┃<span style=\"font-weight: bold\">        Test metric        </span>┃<span style=\"font-weight: bold\">       DataLoader 0        </span>┃<span style=\"font-weight: bold\">       DataLoader 1        </span>┃\n",
       "┡━━━━━━━━━━━━━━━━━━━━━━━━━━━╇━━━━━━━━━━━━━━━━━━━━━━━━━━━╇━━━━━━━━━━━━━━━━━━━━━━━━━━━┩\n",
       "│<span style=\"color: #008080; text-decoration-color: #008080\">       Total L1 loss       </span>│<span style=\"color: #800080; text-decoration-color: #800080\">     37.85572814941406     </span>│<span style=\"color: #800080; text-decoration-color: #800080\">     68.50373840332031     </span>│\n",
       "│<span style=\"color: #008080; text-decoration-color: #008080\">      Total auc_ratio      </span>│<span style=\"color: #800080; text-decoration-color: #800080\">    1.0041295289993286     </span>│<span style=\"color: #800080; text-decoration-color: #800080\">    0.8254183530807495     </span>│\n",
       "│<span style=\"color: #008080; text-decoration-color: #008080\">      Total test_loss      </span>│<span style=\"color: #800080; text-decoration-color: #800080\">     37.85572814941406     </span>│<span style=\"color: #800080; text-decoration-color: #800080\">     68.50373840332031     </span>│\n",
       "│<span style=\"color: #008080; text-decoration-color: #008080\">       test_r2_score       </span>│<span style=\"color: #800080; text-decoration-color: #800080\">    0.9128523468971252     </span>│<span style=\"color: #800080; text-decoration-color: #800080\">    0.6213898062705994     </span>│\n",
       "└───────────────────────────┴───────────────────────────┴───────────────────────────┘\n",
       "</pre>\n"
      ],
      "text/plain": [
       "┏━━━━━━━━━━━━━━━━━━━━━━━━━━━┳━━━━━━━━━━━━━━━━━━━━━━━━━━━┳━━━━━━━━━━━━━━━━━━━━━━━━━━━┓\n",
       "┃\u001b[1m \u001b[0m\u001b[1m       Test metric       \u001b[0m\u001b[1m \u001b[0m┃\u001b[1m \u001b[0m\u001b[1m      DataLoader 0       \u001b[0m\u001b[1m \u001b[0m┃\u001b[1m \u001b[0m\u001b[1m      DataLoader 1       \u001b[0m\u001b[1m \u001b[0m┃\n",
       "┡━━━━━━━━━━━━━━━━━━━━━━━━━━━╇━━━━━━━━━━━━━━━━━━━━━━━━━━━╇━━━━━━━━━━━━━━━━━━━━━━━━━━━┩\n",
       "│\u001b[36m \u001b[0m\u001b[36m      Total L1 loss      \u001b[0m\u001b[36m \u001b[0m│\u001b[35m \u001b[0m\u001b[35m    37.85572814941406    \u001b[0m\u001b[35m \u001b[0m│\u001b[35m \u001b[0m\u001b[35m    68.50373840332031    \u001b[0m\u001b[35m \u001b[0m│\n",
       "│\u001b[36m \u001b[0m\u001b[36m     Total auc_ratio     \u001b[0m\u001b[36m \u001b[0m│\u001b[35m \u001b[0m\u001b[35m   1.0041295289993286    \u001b[0m\u001b[35m \u001b[0m│\u001b[35m \u001b[0m\u001b[35m   0.8254183530807495    \u001b[0m\u001b[35m \u001b[0m│\n",
       "│\u001b[36m \u001b[0m\u001b[36m     Total test_loss     \u001b[0m\u001b[36m \u001b[0m│\u001b[35m \u001b[0m\u001b[35m    37.85572814941406    \u001b[0m\u001b[35m \u001b[0m│\u001b[35m \u001b[0m\u001b[35m    68.50373840332031    \u001b[0m\u001b[35m \u001b[0m│\n",
       "│\u001b[36m \u001b[0m\u001b[36m      test_r2_score      \u001b[0m\u001b[36m \u001b[0m│\u001b[35m \u001b[0m\u001b[35m   0.9128523468971252    \u001b[0m\u001b[35m \u001b[0m│\u001b[35m \u001b[0m\u001b[35m   0.6213898062705994    \u001b[0m\u001b[35m \u001b[0m│\n",
       "└───────────────────────────┴───────────────────────────┴───────────────────────────┘\n"
      ]
     },
     "metadata": {},
     "output_type": "display_data"
    },
    {
     "name": "stdout",
     "output_type": "stream",
     "text": [
      "Results for the best model:\n",
      "Synthetic Test Set: [{'Total test_loss/dataloader_idx_0': 37.85572814941406, 'Total L1 loss/dataloader_idx_0': 37.85572814941406, 'Total auc_ratio/dataloader_idx_0': 1.0041295289993286, 'test_r2_score/dataloader_idx_0': 0.9128523468971252}, {'Total test_loss/dataloader_idx_1': 68.50373840332031, 'Total L1 loss/dataloader_idx_1': 68.50373840332031, 'Total auc_ratio/dataloader_idx_1': 0.8254183530807495, 'test_r2_score/dataloader_idx_1': 0.6213898062705994}]\n"
     ]
    }
   ],
   "source": [
    "def save_hyperparameters(trial, filename=\"hyperparameters.txt\"):\n",
    "    \"\"\" Save the hyperparameters of the best trial to a file.\"\"\"\t\n",
    "    with open(filename, \"w\") as f:\n",
    "        for key, value in trial.params.items():\n",
    "            f.write(f\"{key}: {value}\\n\")\n",
    "            print(f\"{key}: {value}\")\n",
    "\n",
    "def load_model(checkpoint_path, trial):\n",
    "    \"\"\" Load the model from the checkpoint and return it.\"\"\"\n",
    "    # Extract hyperparameters from the trial\n",
    "    learning_rate = trial.params['learning_rate']\n",
    "    hidden_size = trial.params['hidden_size']\n",
    "    fc_size = trial.params['fc_size']\n",
    "    loss_type = trial.params['loss_type']    \n",
    "\n",
    "    # Instantiate the model with the trial's hyperparameters\n",
    "    model = TrainEnergyPrediction(\n",
    "        dynamic_feature_size=5,  \n",
    "        static_feature_size=3,  \n",
    "        hidden_size=hidden_size,\n",
    "        fc_size =fc_size,\n",
    "        learning_rate=learning_rate,\n",
    "        loss_type=loss_type,\n",
    "        dataset_values=dataset_values\n",
    "    )\n",
    "    \n",
    "    # Load the model's weights from the checkpoint\n",
    "    checkpoint = torch.load(checkpoint_path)\n",
    "    model.load_state_dict(checkpoint['state_dict'])\n",
    "    \n",
    "    return model\n",
    "\n",
    "def evaluate_model(model, test_loader):\n",
    "    \"\"\" Evaluate the model on the test set.\"\"\"\t\n",
    "    trainer = Trainer(logger=False)\n",
    "    results = trainer.test(model, dataloaders=test_loader)\n",
    "    return results\n",
    "\n",
    "# Retrieve the best trial\n",
    "best_trial = study.best_trial\n",
    "print(best_trial)\n",
    "\n",
    "# Print all user attributes to debug\n",
    "print(\"User attributes of the best trial:\", best_trial.user_attrs)\n",
    "\n",
    "# Check if 'best_model_path' is present\n",
    "if 'best_model_path' in best_trial.user_attrs:\n",
    "    checkpoint_path = best_trial.user_attrs['best_model_path']\n",
    "\n",
    "    # Load the best model\n",
    "    model = load_model(checkpoint_path, best_trial)\n",
    "    torch.save(model.state_dict(), f\"{checkpoint_path}.pth\")\n",
    "    save_hyperparameters(trial, filename=f\"{checkpoint_path}_hyperparams.txt\")\n",
    "\n",
    "    print(f\"Evaluating best model from trial {best_trial.number}\")\n",
    "\n",
    "    # Evaluate on both synthetic and measurement test loaders\n",
    "    model_results = evaluate_model(model, [test_synthetic_loader,test_measurement_loader])\n",
    "    print(\"Results for the best model:\")\n",
    "    print(\"Synthetic Test Set:\", model_results)\n",
    "    \n",
    "else:\n",
    "    print(\"Best model path not found in the best trial's user attributes.\")\n"
   ]
  },
  {
   "cell_type": "markdown",
   "metadata": {},
   "source": [
    "The function below can be used to visually inspect the results of the best hyperparameter optimalization."
   ]
  },
  {
   "cell_type": "code",
   "execution_count": null,
   "metadata": {},
   "outputs": [
    {
     "ename": "AttributeError",
     "evalue": "'TrainEnergyPrediction' object has no attribute 'predict'",
     "output_type": "error",
     "traceback": [
      "\u001b[1;31m---------------------------------------------------------------------------\u001b[0m",
      "\u001b[1;31mAttributeError\u001b[0m                            Traceback (most recent call last)",
      "Cell \u001b[1;32mIn[63], line 44\u001b[0m\n\u001b[0;32m     42\u001b[0m \u001b[38;5;66;03m# Predict using the samples\u001b[39;00m\n\u001b[0;32m     43\u001b[0m \u001b[38;5;28;01mwith\u001b[39;00m torch\u001b[38;5;241m.\u001b[39mno_grad():\n\u001b[1;32m---> 44\u001b[0m     predictions \u001b[38;5;241m=\u001b[39m \u001b[43mmodel\u001b[49m\u001b[38;5;241;43m.\u001b[39;49m\u001b[43mpredict\u001b[49m(samples_dynamic, samples_static)\n\u001b[0;32m     46\u001b[0m \u001b[38;5;66;03m# Plot the 24-hour energy data for the predicted values and ground truth\u001b[39;00m\n\u001b[0;32m     47\u001b[0m plot_energy_data(num_samples, predictions, ground_truth, labels\u001b[38;5;241m=\u001b[39m[\u001b[38;5;124m\"\u001b[39m\u001b[38;5;124mPrediction\u001b[39m\u001b[38;5;124m\"\u001b[39m], rows\u001b[38;5;241m=\u001b[39mrows, cols\u001b[38;5;241m=\u001b[39mcols, dataset\u001b[38;5;241m=\u001b[39mdataset)\n",
      "File \u001b[1;32mc:\\Users\\denni\\anaconda3\\envs\\5ARIP\\Lib\\site-packages\\torch\\nn\\modules\\module.py:1688\u001b[0m, in \u001b[0;36mModule.__getattr__\u001b[1;34m(self, name)\u001b[0m\n\u001b[0;32m   1686\u001b[0m     \u001b[38;5;28;01mif\u001b[39;00m name \u001b[38;5;129;01min\u001b[39;00m modules:\n\u001b[0;32m   1687\u001b[0m         \u001b[38;5;28;01mreturn\u001b[39;00m modules[name]\n\u001b[1;32m-> 1688\u001b[0m \u001b[38;5;28;01mraise\u001b[39;00m \u001b[38;5;167;01mAttributeError\u001b[39;00m(\u001b[38;5;124mf\u001b[39m\u001b[38;5;124m\"\u001b[39m\u001b[38;5;124m'\u001b[39m\u001b[38;5;132;01m{\u001b[39;00m\u001b[38;5;28mtype\u001b[39m(\u001b[38;5;28mself\u001b[39m)\u001b[38;5;241m.\u001b[39m\u001b[38;5;18m__name__\u001b[39m\u001b[38;5;132;01m}\u001b[39;00m\u001b[38;5;124m'\u001b[39m\u001b[38;5;124m object has no attribute \u001b[39m\u001b[38;5;124m'\u001b[39m\u001b[38;5;132;01m{\u001b[39;00mname\u001b[38;5;132;01m}\u001b[39;00m\u001b[38;5;124m'\u001b[39m\u001b[38;5;124m\"\u001b[39m)\n",
      "\u001b[1;31mAttributeError\u001b[0m: 'TrainEnergyPrediction' object has no attribute 'predict'"
     ]
    }
   ],
   "source": [
    "# Denormalize function using the dataset's method\n",
    "def denormalize(data, dataset):\n",
    "    data = data.numpy()\n",
    "    denormalized_data = data * (dataset.output_maxs - dataset.output_mins) + dataset.output_mins\n",
    "    return denormalized_data\n",
    "\n",
    "# Function to plot 24-hour energy data for multiple samples\n",
    "def plot_energy_data(samples, predictions, ground_truth, labels, rows, cols, dataset):\n",
    "    fig, axes = plt.subplots(rows, cols, figsize=(30, 10))\n",
    "    axes = axes.flatten()\n",
    "    \n",
    "    for i in range(samples):\n",
    "        ax = axes[i]\n",
    "        \n",
    "        # Denormalize predictions and ground truth\n",
    "        pred_y = denormalize(predictions[i], dataset)\n",
    "        gt_y = denormalize(ground_truth[i], dataset)\n",
    "        \n",
    "        # Plot energy data\n",
    "        ax.plot(pred_y, label='Prediction', color='blue', linestyle='-', marker='o', markersize=5)\n",
    "        ax.plot(gt_y, label='Ground Truth', color='red', linestyle='-', marker='x', markersize=5)\n",
    "        ax.set_title(f'Sample {i+1}', fontsize=14)\n",
    "        ax.set_xlabel('Hour of Day', fontsize=12)\n",
    "        ax.set_ylabel('Energy Value', fontsize=12)\n",
    "        ax.grid(True, which='both', linestyle='--', linewidth=0.5)\n",
    "        ax.legend(loc='upper right', fontsize=10)\n",
    "    \n",
    "    plt.tight_layout()\n",
    "    plt.show()\n",
    "\n",
    "# Number of samples to plot and subplots configuration\n",
    "num_samples = 16\n",
    "rows = 4\n",
    "cols = 4\n",
    "\n",
    "# Get multiple samples from the data loader\n",
    "samples_dynamic, samples_static, ground_truth = next(iter(test_synthetic_loader))\n",
    "samples_dynamic = samples_dynamic[:num_samples]\n",
    "samples_static = samples_static[:num_samples]\n",
    "ground_truth = ground_truth[:num_samples]\n",
    "\n",
    "# Predict using the samples\n",
    "with torch.no_grad():\n",
    "    predictions = model.predict(samples_dynamic, samples_static)\n",
    "\n",
    "# Plot the 24-hour energy data for the predicted values and ground truth\n",
    "plot_energy_data(num_samples, predictions, ground_truth, labels=[\"Prediction\"], rows=rows, cols=cols, dataset=dataset)"
   ]
  }
 ],
 "metadata": {
  "kernelspec": {
   "display_name": "5ARIP",
   "language": "python",
   "name": "python3"
  },
  "language_info": {
   "codemirror_mode": {
    "name": "ipython",
    "version": 3
   },
   "file_extension": ".py",
   "mimetype": "text/x-python",
   "name": "python",
   "nbconvert_exporter": "python",
   "pygments_lexer": "ipython3",
   "version": "3.12.1"
  }
 },
 "nbformat": 4,
 "nbformat_minor": 2
}
