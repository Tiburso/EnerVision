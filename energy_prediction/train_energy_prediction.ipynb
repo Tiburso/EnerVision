{
 "cells": [
  {
   "cell_type": "markdown",
   "metadata": {},
   "source": [
    "### 0. Import libraries"
   ]
  },
  {
   "cell_type": "code",
   "execution_count": 3,
   "metadata": {},
   "outputs": [],
   "source": [
    "# Torch and Torchlightning imports\n",
    "import torch\n",
    "import torch.nn as nn\n",
    "import torch.optim as optim\n",
    "from torch.utils.data import DataLoader\n",
    "import pytorch_lightning as pl\n",
    "import torch\n",
    "\n",
    "# Imports for SandiaPV\n",
    "from pvlib import irradiance, temperature, pvsystem\n",
    "import random\n",
    "\n",
    "# import utility modulues \n",
    "from model_energy_prediction import *\n",
    "from sandiapv_energy_prediction import *\n"
   ]
  },
  {
   "cell_type": "markdown",
   "metadata": {},
   "source": [
    "# 1. Define training class\n"
   ]
  },
  {
   "cell_type": "code",
   "execution_count": 4,
   "metadata": {},
   "outputs": [],
   "source": [
    "\n",
    "class TrainEnergyPrediction(pl.LightningModule):\n",
    "    def __init__(self,dynamic_feature_size, static_feature_size, hidden_size, learning_rate=1e-3):\n",
    "        super().__init__()\n",
    "        self.model = EnergyPredictionModel(dynamic_feature_size, static_feature_size, hidden_size)\n",
    "        self.loss_fn = nn.MSELoss(size_average=None, reduce=None, reduction='mean')\n",
    "        self.learning_rate = learning_rate\n",
    "    \n",
    "    def forward(self, x):\n",
    "        return self.model(x)\n",
    "    \n",
    "    def training_step(self, batch):\n",
    "        x_dynamic,x_static, y = batch\n",
    "        y_pred = self.model(x_dynamic,x_static)\n",
    "        loss = self.loss_fn(y_pred, y)\n",
    "        self.log('train_loss', loss)\n",
    "        return loss\n",
    "    \n",
    "    def configure_optimizers(self):\n",
    "        optimizer = optim.Adam(self.model.parameters(), lr=self.learning_rate)\n",
    "        return optimizer"
   ]
  },
  {
   "cell_type": "markdown",
   "metadata": {},
   "source": [
    "## 2. Prepare data"
   ]
  },
  {
   "cell_type": "code",
   "execution_count": null,
   "metadata": {},
   "outputs": [],
   "source": [
    "weather_data = load_weather_data('dataset/historical_weather.csv')\n",
    "weather_data.index = pd.to_datetime(weather_data['timestamp'])\n",
    "    \n",
    "# Define location\n",
    "site_location = location.Location(latitude=52.52, longitude=13.4050, altitude=34, tz='Europe/Berlin')\n",
    "\n",
    "# Generate random panels\n",
    "seed(0)\n",
    "panels = generate_random_panels(3)\n",
    "# - variables for random panels (ranges etc.)\n",
    "\n",
    "# Initialize the dataset\n",
    "dataset = EnergyDataset(weather_data, panels)\n",
    "    \n",
    "# Initialize the data loader\n",
    "data_loader = DataLoader(dataset, batch_size=32, shuffle=True)\n",
    "    \n"
   ]
  },
  {
   "cell_type": "markdown",
   "metadata": {},
   "source": [
    "#### 2.2 add real measurement data to the synthetic dataset"
   ]
  },
  {
   "cell_type": "markdown",
   "metadata": {},
   "source": [
    "## 3. Plot dataset"
   ]
  },
  {
   "cell_type": "code",
   "execution_count": null,
   "metadata": {},
   "outputs": [],
   "source": []
  },
  {
   "cell_type": "markdown",
   "metadata": {},
   "source": [
    "## 4. Intitialize model and start training"
   ]
  },
  {
   "cell_type": "code",
   "execution_count": null,
   "metadata": {},
   "outputs": [],
   "source": [
    "# Initialize the model\n",
    "dynamic_feature_size = 3\n",
    "static_feature_size = 5\n",
    "hidden_size = 64\n",
    "model = EnergyPredictionModel(dynamic_feature_size, static_feature_size, hidden_size)\n",
    "    \n",
    "# Initialize the Lightning module\n",
    "train_module = TrainEnergyPrediction(model)\n",
    "    \n",
    "# Initialize the Lightning Trainer\n",
    "trainer = pl.Trainer(max_epochs=10)\n",
    "    \n",
    "# Fit the model to the training data\n",
    "trainer.fit(train_module, data_loader)"
   ]
  },
  {
   "cell_type": "markdown",
   "metadata": {},
   "source": [
    "#### 4.2 work towrads probabalistic model"
   ]
  },
  {
   "cell_type": "markdown",
   "metadata": {},
   "source": [
    "## 5. Evaluate model"
   ]
  },
  {
   "cell_type": "code",
   "execution_count": null,
   "metadata": {},
   "outputs": [],
   "source": []
  }
 ],
 "metadata": {
  "kernelspec": {
   "display_name": "5ARIP",
   "language": "python",
   "name": "python3"
  },
  "language_info": {
   "codemirror_mode": {
    "name": "ipython",
    "version": 3
   },
   "file_extension": ".py",
   "mimetype": "text/x-python",
   "name": "python",
   "nbconvert_exporter": "python",
   "pygments_lexer": "ipython3",
   "version": "3.12.1"
  }
 },
 "nbformat": 4,
 "nbformat_minor": 2
}
