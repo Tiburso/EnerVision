{
 "cells": [
  {
   "cell_type": "code",
   "execution_count": null,
   "metadata": {},
   "outputs": [],
   "source": [
    "import pandas as pd\n",
    "import matplotlib.pyplot as plt\n",
    "import datetime\n",
    "import requests\n",
    "\n",
    "from pvlib import pvsystem, modelchain, location, irradiance\n",
    "from pvlib.solarposition import get_solarposition"
   ]
  },
  {
   "cell_type": "code",
   "execution_count": null,
   "metadata": {},
   "outputs": [],
   "source": [
    "def get_hourly_weather_data_for_pvlib(stations, start_date, end_date, timezone = 'UTC'):\n",
    "    '''\n",
    "    Function to get hourly weather variables T (temperature) and\n",
    "    Q (global radiation) from KNMI \n",
    "    \n",
    "    Args: \n",
    "        stations   (str): NMI-stations separated by ':' \n",
    "        start_date (str): start date, format yyyymmdd\n",
    "        end_date   (str): end date (included), format yyyymmdd\n",
    "        timezone   (str, optional): timezone\n",
    "\n",
    "    Returns:\n",
    "        df: DataFrame with DateTime-index, columns T (temp), Q (global radiation) \n",
    "    '''\n",
    "\n",
    "    url = 'https://www.daggegevens.knmi.nl/klimatologie/uurgegevens'\n",
    "\n",
    "    data = {\n",
    "        'start': start_date,\n",
    "        'end': end_date,\n",
    "        'vars': 'Q:P:T',\n",
    "        'stns': stations,\n",
    "        'fmt': 'json'\n",
    "        }\n",
    "\n",
    "    response = requests.post(url, data = data)    \n",
    "    weather_df = pd.DataFrame(response.json())\n",
    "\n",
    "    # correct units\n",
    "    weather_df['T'] = weather_df['T'] / 10          # is in 0.1 degrees C, to degrees C\n",
    "    weather_df['Q'] = weather_df['Q'] * (1 / 0.36)  # is in J/m2, to W / m2\n",
    "    weather_df['P'] = weather_df['P'] * 10          # is in 0.1 hPa, to Pa\n",
    "    \n",
    "    # create date_time index, convert timezone\n",
    "    weather_df['hour'] = weather_df['hour'] - 1     # is from 1-24, to 0-23\n",
    "    weather_df['date_time'] = pd.to_datetime(weather_df['date']) + pd.to_timedelta(weather_df['hour'].astype(int), unit='h')\n",
    "    weather_df.index = weather_df.date_time\n",
    "    weather_df = weather_df.drop(['date', 'hour', 'date_time'], axis = 1)\n",
    "    weather_df.index = weather_df.index.tz_convert(timezone)\n",
    "\n",
    "    # shift date_time by 30 minutes, 'average time' during that hour\n",
    "    weather_df.index = weather_df.index.shift(freq=\"30min\")\n",
    "\n",
    "    return weather_df"
   ]
  },
  {
   "cell_type": "code",
   "execution_count": null,
   "metadata": {},
   "outputs": [],
   "source": [
    "# Whole year of 2023\n",
    "start_date = '20230101'\n",
    "end_date = '20231231'\n",
    "\n",
    "timezone = 'Europe/Amsterdam'\n",
    "\n",
    "# Eindhoven KNMI STATION\n",
    "station = '370'\n",
    "lat = 51.449772459909\n",
    "lon = 5.3770039280214\n",
    "\n",
    "# Function get_hourly_weather_data_for_pvlib defined in full code overview below\n",
    "weather_df = get_hourly_weather_data_for_pvlib(station, start_date, end_date, timezone)"
   ]
  },
  {
   "cell_type": "code",
   "execution_count": null,
   "metadata": {},
   "outputs": [],
   "source": [
    "# Get solar position for the dates / times\n",
    "solpos_df = get_solarposition(\n",
    "    weather_df.index, latitude = lat,\n",
    "    longitude = lon, altitude = 0,\n",
    "    temperature = weather_df['T'])\n",
    "solpos_df.index = weather_df.index\n",
    "\n",
    "# Method 'Erbs' to go from GHI to DNI and DHI\n",
    "irradiance_df = irradiance.erbs(weather_df['Q'], solpos_df['zenith'], weather_df.index)\n",
    "irradiance_df['ghi'] = weather_df['Q']"
   ]
  },
  {
   "cell_type": "code",
   "execution_count": null,
   "metadata": {},
   "outputs": [],
   "source": [
    "with pd.option_context('display.max_rows', None,\n",
    "                       'display.max_columns', None,\n",
    "                       ):\n",
    "    print(irradiance_df)"
   ]
  },
  {
   "cell_type": "code",
   "execution_count": null,
   "metadata": {},
   "outputs": [],
   "source": [
    "from netCDF4 import Dataset\n",
    "\n",
    "# Open the NetCDF file\n",
    "nc_file = \"C:/Users/20193362/Desktop/STD___OPER_P___OBS_____L2.nc\"\n",
    "ds = Dataset(nc_file, mode='r')  # 'r' is for read-only mode\n",
    "\n",
    "\n",
    "names = ds.variables['name']\n",
    "station_names_list = [str(name) for name in names[:]]\n",
    "\n",
    "# Target station name\n",
    "target_name = \"EINDHOVEN AP\"\n",
    "\n",
    "# Find the index\n",
    "station_index = station_names_list.index(target_name)\n",
    "\n",
    "name = ds.variables['name'][station_index]\n",
    "latitude = ds.variables['lat'][station_index]\n",
    "longitude = ds.variables['lon'][station_index]\n",
    "print(f\"Coordinates for station {name}: Latitude {latitude}, Longitude {longitude}\")\n",
    "\n",
    "# Close the data"
   ]
  }
 ],
 "metadata": {
  "kernelspec": {
   "display_name": "base",
   "language": "python",
   "name": "python3"
  },
  "language_info": {
   "codemirror_mode": {
    "name": "ipython",
    "version": 3
   },
   "file_extension": ".py",
   "mimetype": "text/x-python",
   "name": "python",
   "nbconvert_exporter": "python",
   "pygments_lexer": "ipython3",
   "version": "3.11.7"
  }
 },
 "nbformat": 4,
 "nbformat_minor": 2
}
