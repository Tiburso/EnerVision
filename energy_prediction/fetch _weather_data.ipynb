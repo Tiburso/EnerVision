{
 "cells": [
  {
   "cell_type": "code",
   "execution_count": 4,
   "metadata": {},
   "outputs": [],
   "source": [
    "import pandas as pd\n",
    "import matplotlib.pyplot as plt\n",
    "import datetime\n",
    "import requests\n",
    "\n",
    "from pvlib import pvsystem, modelchain, location, irradiance\n",
    "from pvlib.solarposition import get_solarposition"
   ]
  },
  {
   "cell_type": "code",
   "execution_count": 5,
   "metadata": {},
   "outputs": [],
   "source": [
    "def get_hourly_weather_data_for_pvlib(stations, start_date, end_date, timezone = 'UTC'):\n",
    "    '''\n",
    "    Function to get hourly weather variables T (temperature) and\n",
    "    Q (global radiation) from KNMI \n",
    "    \n",
    "    Args: \n",
    "        stations   (str): NMI-stations separated by ':' \n",
    "        start_date (str): start date, format yyyymmdd\n",
    "        end_date   (str): end date (included), format yyyymmdd\n",
    "        timezone   (str, optional): timezone\n",
    "\n",
    "    Returns:\n",
    "        df: DataFrame with DateTime-index, columns T (temp), Q (global radiation) \n",
    "    '''\n",
    "\n",
    "    url = 'https://www.daggegevens.knmi.nl/klimatologie/uurgegevens'\n",
    "\n",
    "    data = {\n",
    "        'start': start_date,\n",
    "        'end': end_date,\n",
    "        'vars': 'Q:P:T',\n",
    "        'stns': stations,\n",
    "        'fmt': 'json'\n",
    "        }\n",
    "\n",
    "    response = requests.post(url, data = data)    \n",
    "    weather_df = pd.DataFrame(response.json())\n",
    "    print(weather_df)\n",
    "    # correct units\n",
    "    weather_df['T'] = weather_df['T'] / 10          # is in 0.1 degrees C, to degrees C\n",
    "    weather_df['Q'] = weather_df['Q'] * (1 / 0.36)  # is in J/m2, to W / m2\n",
    "    weather_df['P'] = weather_df['P'] * 10          # is in 0.1 hPa, to Pa\n",
    "    \n",
    "    # create date_time index, convert timezone\n",
    "    weather_df['hour'] = weather_df['hour'] - 1     # is from 1-24, to 0-23\n",
    "    weather_df['date_time'] = pd.to_datetime(weather_df['date']) + pd.to_timedelta(weather_df['hour'].astype(int), unit='h')\n",
    "    weather_df.index = weather_df.date_time\n",
    "    weather_df = weather_df.drop(['date', 'hour', 'date_time'], axis = 1)\n",
    "    weather_df.index = weather_df.index.tz_convert(timezone)\n",
    "\n",
    "    # shift date_time by 30 minutes, 'average time' during that hour\n",
    "    weather_df.index = weather_df.index.shift(freq=\"30min\")\n",
    "\n",
    "    return weather_df"
   ]
  },
  {
   "cell_type": "code",
   "execution_count": 11,
   "metadata": {},
   "outputs": [
    {
     "name": "stdout",
     "output_type": "stream",
     "text": [
      "Empty DataFrame\n",
      "Columns: []\n",
      "Index: []\n"
     ]
    },
    {
     "ename": "KeyError",
     "evalue": "'T'",
     "output_type": "error",
     "traceback": [
      "\u001b[1;31m---------------------------------------------------------------------------\u001b[0m",
      "\u001b[1;31mKeyError\u001b[0m                                  Traceback (most recent call last)",
      "Cell \u001b[1;32mIn[11], line 13\u001b[0m\n\u001b[0;32m     10\u001b[0m lon \u001b[38;5;241m=\u001b[39m \u001b[38;5;241m5.3770039280214\u001b[39m\n\u001b[0;32m     12\u001b[0m \u001b[38;5;66;03m# Function get_hourly_weather_data_for_pvlib defined in full code overview below\u001b[39;00m\n\u001b[1;32m---> 13\u001b[0m weather_df \u001b[38;5;241m=\u001b[39m \u001b[43mget_hourly_weather_data_for_pvlib\u001b[49m\u001b[43m(\u001b[49m\u001b[43mstation\u001b[49m\u001b[43m,\u001b[49m\u001b[43m \u001b[49m\u001b[43mstart_date\u001b[49m\u001b[43m,\u001b[49m\u001b[43m \u001b[49m\u001b[43mend_date\u001b[49m\u001b[43m,\u001b[49m\u001b[43m \u001b[49m\u001b[43mtimezone\u001b[49m\u001b[43m)\u001b[49m\n",
      "Cell \u001b[1;32mIn[5], line 30\u001b[0m, in \u001b[0;36mget_hourly_weather_data_for_pvlib\u001b[1;34m(stations, start_date, end_date, timezone)\u001b[0m\n\u001b[0;32m     28\u001b[0m \u001b[38;5;28mprint\u001b[39m(weather_df)\n\u001b[0;32m     29\u001b[0m \u001b[38;5;66;03m# correct units\u001b[39;00m\n\u001b[1;32m---> 30\u001b[0m weather_df[\u001b[38;5;124m'\u001b[39m\u001b[38;5;124mT\u001b[39m\u001b[38;5;124m'\u001b[39m] \u001b[38;5;241m=\u001b[39m \u001b[43mweather_df\u001b[49m\u001b[43m[\u001b[49m\u001b[38;5;124;43m'\u001b[39;49m\u001b[38;5;124;43mT\u001b[39;49m\u001b[38;5;124;43m'\u001b[39;49m\u001b[43m]\u001b[49m \u001b[38;5;241m/\u001b[39m \u001b[38;5;241m10\u001b[39m          \u001b[38;5;66;03m# is in 0.1 degrees C, to degrees C\u001b[39;00m\n\u001b[0;32m     31\u001b[0m weather_df[\u001b[38;5;124m'\u001b[39m\u001b[38;5;124mQ\u001b[39m\u001b[38;5;124m'\u001b[39m] \u001b[38;5;241m=\u001b[39m weather_df[\u001b[38;5;124m'\u001b[39m\u001b[38;5;124mQ\u001b[39m\u001b[38;5;124m'\u001b[39m] \u001b[38;5;241m*\u001b[39m (\u001b[38;5;241m1\u001b[39m \u001b[38;5;241m/\u001b[39m \u001b[38;5;241m0.36\u001b[39m)  \u001b[38;5;66;03m# is in J/m2, to W / m2\u001b[39;00m\n\u001b[0;32m     32\u001b[0m weather_df[\u001b[38;5;124m'\u001b[39m\u001b[38;5;124mP\u001b[39m\u001b[38;5;124m'\u001b[39m] \u001b[38;5;241m=\u001b[39m weather_df[\u001b[38;5;124m'\u001b[39m\u001b[38;5;124mP\u001b[39m\u001b[38;5;124m'\u001b[39m] \u001b[38;5;241m*\u001b[39m \u001b[38;5;241m10\u001b[39m          \u001b[38;5;66;03m# is in 0.1 hPa, to Pa\u001b[39;00m\n",
      "File \u001b[1;32mc:\\Users\\denni\\anaconda3\\envs\\5ARIP\\Lib\\site-packages\\pandas\\core\\frame.py:4090\u001b[0m, in \u001b[0;36mDataFrame.__getitem__\u001b[1;34m(self, key)\u001b[0m\n\u001b[0;32m   4088\u001b[0m \u001b[38;5;28;01mif\u001b[39;00m \u001b[38;5;28mself\u001b[39m\u001b[38;5;241m.\u001b[39mcolumns\u001b[38;5;241m.\u001b[39mnlevels \u001b[38;5;241m>\u001b[39m \u001b[38;5;241m1\u001b[39m:\n\u001b[0;32m   4089\u001b[0m     \u001b[38;5;28;01mreturn\u001b[39;00m \u001b[38;5;28mself\u001b[39m\u001b[38;5;241m.\u001b[39m_getitem_multilevel(key)\n\u001b[1;32m-> 4090\u001b[0m indexer \u001b[38;5;241m=\u001b[39m \u001b[38;5;28;43mself\u001b[39;49m\u001b[38;5;241;43m.\u001b[39;49m\u001b[43mcolumns\u001b[49m\u001b[38;5;241;43m.\u001b[39;49m\u001b[43mget_loc\u001b[49m\u001b[43m(\u001b[49m\u001b[43mkey\u001b[49m\u001b[43m)\u001b[49m\n\u001b[0;32m   4091\u001b[0m \u001b[38;5;28;01mif\u001b[39;00m is_integer(indexer):\n\u001b[0;32m   4092\u001b[0m     indexer \u001b[38;5;241m=\u001b[39m [indexer]\n",
      "File \u001b[1;32mc:\\Users\\denni\\anaconda3\\envs\\5ARIP\\Lib\\site-packages\\pandas\\core\\indexes\\range.py:417\u001b[0m, in \u001b[0;36mRangeIndex.get_loc\u001b[1;34m(self, key)\u001b[0m\n\u001b[0;32m    415\u001b[0m         \u001b[38;5;28;01mraise\u001b[39;00m \u001b[38;5;167;01mKeyError\u001b[39;00m(key) \u001b[38;5;28;01mfrom\u001b[39;00m \u001b[38;5;21;01merr\u001b[39;00m\n\u001b[0;32m    416\u001b[0m \u001b[38;5;28;01mif\u001b[39;00m \u001b[38;5;28misinstance\u001b[39m(key, Hashable):\n\u001b[1;32m--> 417\u001b[0m     \u001b[38;5;28;01mraise\u001b[39;00m \u001b[38;5;167;01mKeyError\u001b[39;00m(key)\n\u001b[0;32m    418\u001b[0m \u001b[38;5;28mself\u001b[39m\u001b[38;5;241m.\u001b[39m_check_indexing_error(key)\n\u001b[0;32m    419\u001b[0m \u001b[38;5;28;01mraise\u001b[39;00m \u001b[38;5;167;01mKeyError\u001b[39;00m(key)\n",
      "\u001b[1;31mKeyError\u001b[0m: 'T'"
     ]
    }
   ],
   "source": [
    "# Whole year of 2023\n",
    "start_date = '20240130'\n",
    "end_date = '20241230'\n",
    "\n",
    "timezone = 'Europe/Amsterdam'\n",
    "\n",
    "# Eindhoven KNMI STATION\n",
    "station = '370'\n",
    "lat = 51.449772459909\n",
    "lon = 5.3770039280214\n",
    "\n",
    "# Function get_hourly_weather_data_for_pvlib defined in full code overview below\n",
    "weather_df = get_hourly_weather_data_for_pvlib(station, start_date, end_date, timezone)"
   ]
  },
  {
   "cell_type": "code",
   "execution_count": null,
   "metadata": {},
   "outputs": [],
   "source": [
    "# Get solar position for the dates / times\n",
    "solpos_df = get_solarposition(\n",
    "    weather_df.index, latitude = lat,\n",
    "    longitude = lon, altitude = 0,\n",
    "    temperature = weather_df['T'])\n",
    "solpos_df.index = weather_df.index\n",
    "\n",
    "# Method 'Erbs' to go from GHI to DNI and DHI\n",
    "irradiance_df = irradiance.erbs(weather_df['Q'], solpos_df['zenith'], weather_df.index)\n",
    "irradiance_df['ghi'] = weather_df['Q']"
   ]
  },
  {
   "cell_type": "code",
   "execution_count": null,
   "metadata": {},
   "outputs": [],
   "source": [
    "with pd.option_context('display.max_rows', None,\n",
    "                       'display.max_columns', None,\n",
    "                       ):\n",
    "    print(irradiance_df)"
   ]
  },
  {
   "cell_type": "code",
   "execution_count": null,
   "metadata": {},
   "outputs": [],
   "source": [
    "from netCDF4 import Dataset\n",
    "\n",
    "# Open the NetCDF file\n",
    "nc_file = \"C:/Users/20193362/Desktop/STD___OPER_P___OBS_____L2.nc\"\n",
    "ds = Dataset(nc_file, mode='r')  # 'r' is for read-only mode\n",
    "\n",
    "\n",
    "names = ds.variables['name']\n",
    "station_names_list = [str(name) for name in names[:]]\n",
    "\n",
    "# Target station name\n",
    "target_name = \"EINDHOVEN AP\"\n",
    "\n",
    "# Find the index\n",
    "station_index = station_names_list.index(target_name)\n",
    "\n",
    "name = ds.variables['name'][station_index]\n",
    "latitude = ds.variables['lat'][station_index]\n",
    "longitude = ds.variables['lon'][station_index]\n",
    "print(f\"Coordinates for station {name}: Latitude {latitude}, Longitude {longitude}\")\n",
    "\n",
    "# Close the data\n",
    "ds.close()"
   ]
  }
 ],
 "metadata": {
  "kernelspec": {
   "display_name": "base",
   "language": "python",
   "name": "python3"
  },
  "language_info": {
   "codemirror_mode": {
    "name": "ipython",
    "version": 3
   },
   "file_extension": ".py",
   "mimetype": "text/x-python",
   "name": "python",
   "nbconvert_exporter": "python",
   "pygments_lexer": "ipython3",
   "version": "3.12.1"
  }
 },
 "nbformat": 4,
 "nbformat_minor": 2
}
