{
 "cells": [
  {
   "cell_type": "code",
   "execution_count": 1,
   "metadata": {},
   "outputs": [
    {
     "name": "stderr",
     "output_type": "stream",
     "text": [
      "C:\\Users\\denni\\AppData\\Local\\Temp\\ipykernel_14316\\3272212771.py:2: DeprecationWarning: \n",
      "Pyarrow will become a required dependency of pandas in the next major release of pandas (pandas 3.0),\n",
      "(to allow more performant data types, such as the Arrow string type, and better interoperability with other libraries)\n",
      "but was not found to be installed on your system.\n",
      "If this would cause problems for you,\n",
      "please provide us feedback at https://github.com/pandas-dev/pandas/issues/54466\n",
      "        \n",
      "  import pandas as pd\n"
     ]
    }
   ],
   "source": [
    "import requests\n",
    "import pandas as pd\n",
    "import matplotlib.pyplot as plt\n",
    "import random \n",
    "from scipy.optimize import curve_fit\n",
    "from scipy.integrate import trapezoid\n",
    "import numpy as np\n",
    "import ast\n",
    "from datetime import datetime, timedelta\n",
    "import math\n",
    "\n"
   ]
  },
  {
   "cell_type": "code",
   "execution_count": 2,
   "metadata": {},
   "outputs": [
    {
     "name": "stdout",
     "output_type": "stream",
     "text": [
      "20230531,06:05,0,0.000,0,NaN,NaN,NaN,NaN,23.5,223.3,NaN,NaN,NaN,NaN,NaN,NaN;20230531,06:10,3,0.001,36,36,0.012,NaN,NaN,24.0,223.0,NaN,NaN,NaN,NaN,NaN,NaN;20230531,06:15,7,0.002,48,48,0.015,NaN,NaN,25.4,223.1,NaN,NaN,NaN,NaN,NaN,NaN;20230531,06:20,13,0.004,72,72,0.023,NaN,NaN,26.4,223.4,NaN,NaN,NaN,NaN,NaN,NaN;20230531,06:25,19,0.006,72,72,0.023,NaN,NaN,27.0,223.7,NaN,NaN,NaN,NaN,NaN,NaN;20230531,06:30,28,0.009,108,108,0.035,NaN,NaN,27.5,224.2,NaN,NaN,NaN,NaN,NaN,NaN;20230531,06:35,37,0.012,108,108,0.035,NaN,NaN,27.8,223.2,NaN,NaN,NaN,NaN,NaN,NaN;20230531,06:40,49,0.016,144,144,0.046,NaN,NaN,28.1,222.7,NaN,NaN,NaN,NaN,NaN,NaN;20230531,06:45,62,0.020,156,156,0.050,NaN,NaN,28.4,223.3,NaN,NaN,NaN,NaN,NaN,NaN;20230531,06:50,78,0.025,192,192,0.062,NaN,NaN,28.5,223.8,NaN,NaN,NaN,NaN,NaN,NaN;20230531,06:55,94,0.030,192,192,0.062,NaN,NaN,28.8,223.5,NaN,NaN,NaN,NaN,NaN,NaN;20230531,07:00,114,0.037,240,240,0.077,NaN,NaN,29.0,223.4,NaN,NaN,NaN,NaN,NaN,NaN;20230531,07:05,136,0.044,264,264,0.085,NaN,NaN,29.2,224.8,NaN,NaN,NaN,NaN,NaN,NaN;20230531,07:10,160,0.051,288,288,0.092,NaN,NaN,29.4,225.0,NaN,NaN,NaN,NaN,NaN,NaN;20230531,07:15,186,0.060,312,312,0.100,NaN,NaN,29.6,226.8,NaN,NaN,NaN,NaN,NaN,NaN;20230531,07:20,215,0.069,348,348,0.112,NaN,NaN,29.8,224.5,NaN,NaN,NaN,NaN,NaN,NaN;20230531,07:25,246,0.079,372,372,0.119,NaN,NaN,30.0,226.5,NaN,NaN,NaN,NaN,NaN,NaN;20230531,07:30,279,0.089,396,396,0.127,NaN,NaN,30.2,226.3,NaN,NaN,NaN,NaN,NaN,NaN;20230531,07:35,315,0.101,432,432,0.138,NaN,NaN,30.4,226.7,NaN,NaN,NaN,NaN,NaN,NaN;20230531,07:40,353,0.113,456,456,0.146,NaN,NaN,30.5,227.8,NaN,NaN,NaN,NaN,NaN,NaN;20230531,07:45,394,0.126,492,492,0.158,NaN,NaN,30.7,226.7,NaN,NaN,NaN,NaN,NaN,NaN;20230531,07:50,438,0.140,528,528,0.169,NaN,NaN,30.9,225.8,NaN,NaN,NaN,NaN,NaN,NaN;20230531,07:55,483,0.155,540,540,0.173,NaN,NaN,31.1,231.0,NaN,NaN,NaN,NaN,NaN,NaN;20230531,08:00,532,0.171,588,588,0.188,NaN,NaN,31.4,231.1,NaN,NaN,NaN,NaN,NaN,NaN;20230531,08:05,582,0.187,600,600,0.192,NaN,NaN,31.5,230.6,NaN,NaN,NaN,NaN,NaN,NaN;20230531,08:10,636,0.204,648,648,0.208,NaN,NaN,31.8,230.1,NaN,NaN,NaN,NaN,NaN,NaN;20230531,08:15,692,0.222,672,672,0.215,NaN,NaN,32.1,231.9,NaN,NaN,NaN,NaN,NaN,NaN;20230531,08:20,750,0.240,696,696,0.223,NaN,NaN,32.5,232.7,NaN,NaN,NaN,NaN,NaN,NaN;20230531,08:25,811,0.260,732,732,0.235,NaN,NaN,32.9,232.6,NaN,NaN,NaN,NaN,NaN,NaN;20230531,08:30,874,0.280,756,756,0.242,NaN,NaN,33.4,232.4,NaN,NaN,NaN,NaN,NaN,NaN;20230531,08:35,939,0.301,780,780,0.250,NaN,NaN,33.8,232.2,NaN,NaN,NaN,NaN,NaN,NaN;20230531,08:40,1007,0.323,816,816,0.262,NaN,NaN,34.2,233.1,NaN,NaN,NaN,NaN,NaN,NaN;20230531,08:45,1076,0.345,828,828,0.265,NaN,NaN,34.6,234.6,NaN,NaN,NaN,NaN,NaN,NaN;20230531,08:50,1147,0.368,852,852,0.273,NaN,NaN,35.0,234.5,NaN,NaN,NaN,NaN,NaN,NaN;20230531,08:55,1228,0.394,972,972,0.312,NaN,NaN,35.4,236.1,NaN,NaN,NaN,NaN,NaN,NaN;20230531,09:00,1338,0.429,1320,1320,0.423,NaN,NaN,36.8,231.8,NaN,NaN,NaN,NaN,NaN,NaN;20230531,09:05,1455,0.466,1404,1404,0.450,NaN,NaN,39.7,233.2,NaN,NaN,NaN,NaN,NaN,NaN;20230531,09:10,1580,0.506,1500,1500,0.481,NaN,NaN,41.8,231.7,NaN,NaN,NaN,NaN,NaN,NaN;20230531,09:15,1714,0.549,1608,1608,0.515,NaN,NaN,43.7,232.0,NaN,NaN,NaN,NaN,NaN,NaN;20230531,09:20,1852,0.594,1656,1656,0.531,NaN,NaN,45.6,232.1,NaN,NaN,NaN,NaN,NaN,NaN;20230531,09:25,1997,0.640,1740,1740,0.558,NaN,NaN,47.5,235.5,NaN,NaN,NaN,NaN,NaN,NaN;20230531,09:30,2144,0.687,1764,1764,0.565,NaN,NaN,48.3,236.2,NaN,NaN,NaN,NaN,NaN,NaN;20230531,09:35,2294,0.735,1800,1800,0.577,NaN,NaN,48.9,235.8,NaN,NaN,NaN,NaN,NaN,NaN;20230531,09:40,2452,0.786,1896,1896,0.608,NaN,NaN,49.5,236.6,NaN,NaN,NaN,NaN,NaN,NaN;20230531,09:45,2611,0.837,1908,1908,0.612,NaN,NaN,50.3,237.5,NaN,NaN,NaN,NaN,NaN,NaN;20230531,09:50,2774,0.889,1956,1956,0.627,NaN,NaN,50.9,237.6,NaN,NaN,NaN,NaN,NaN,NaN;20230531,09:55,2938,0.942,1968,1968,0.631,NaN,NaN,51.5,237.5,NaN,NaN,NaN,NaN,NaN,NaN;20230531,10:00,3104,0.995,1992,1992,0.638,NaN,NaN,52.0,238.1,NaN,NaN,NaN,NaN,NaN,NaN;20230531,10:05,3273,1.049,2028,2028,0.650,NaN,NaN,52.5,237.9,NaN,NaN,NaN,NaN,NaN,NaN;20230531,10:10,3443,1.104,2040,2040,0.654,NaN,NaN,53.2,238.9,NaN,NaN,NaN,NaN,NaN,NaN;20230531,10:15,3616,1.159,2076,2076,0.665,NaN,NaN,53.6,239.3,NaN,NaN,NaN,NaN,NaN,NaN;20230531,10:20,3790,1.215,2088,2088,0.669,NaN,NaN,54.2,237.8,NaN,NaN,NaN,NaN,NaN,NaN;20230531,10:25,3967,1.271,2124,2124,0.681,NaN,NaN,54.7,238.9,NaN,NaN,NaN,NaN,NaN,NaN;20230531,10:30,4144,1.328,2124,2124,0.681,NaN,NaN,55.3,238.6,NaN,NaN,NaN,NaN,NaN,NaN;20230531,10:35,4323,1.386,2148,2148,0.688,NaN,NaN,55.7,238.4,NaN,NaN,NaN,NaN,NaN,NaN;20230531,10:40,4503,1.443,2160,2160,0.692,NaN,NaN,56.2,238.9,NaN,NaN,NaN,NaN,NaN,NaN;20230531,10:45,4685,1.502,2184,2184,0.700,NaN,NaN,56.6,237.1,NaN,NaN,NaN,NaN,NaN,NaN;20230531,10:50,4868,1.560,2196,2196,0.704,NaN,NaN,57.3,239.1,NaN,NaN,NaN,NaN,NaN,NaN;20230531,10:55,5054,1.620,2232,2232,0.715,NaN,NaN,57.6,240.2,NaN,NaN,NaN,NaN,NaN,NaN;20230531,11:00,5240,1.679,2232,2232,0.715,NaN,NaN,58.2,239.8,NaN,NaN,NaN,NaN,NaN,NaN;20230531,11:05,5427,1.739,2244,2244,0.719,NaN,NaN,58.6,239.9,NaN,NaN,NaN,NaN,NaN,NaN;20230531,11:10,5613,1.799,2232,2232,0.715,NaN,NaN,59.0,240.0,NaN,NaN,NaN,NaN,NaN,NaN;20230531,11:15,5800,1.859,2244,2244,0.719,NaN,NaN,59.3,238.6,NaN,NaN,NaN,NaN,NaN,NaN;20230531,11:20,5989,1.920,2268,2268,0.727,NaN,NaN,59.6,240.2,NaN,NaN,NaN,NaN,NaN,NaN;20230531,11:25,6177,1.980,2256,2256,0.723,NaN,NaN,60.0,240.5,NaN,NaN,NaN,NaN,NaN,NaN;20230531,11:30,6366,2.040,2268,2268,0.727,NaN,NaN,60.4,238.9,NaN,NaN,NaN,NaN,NaN,NaN;20230531,11:35,6555,2.101,2268,2268,0.727,NaN,NaN,60.6,238.0,NaN,NaN,NaN,NaN,NaN,NaN;20230531,11:40,6743,2.161,2256,2256,0.723,NaN,NaN,61.0,242.3,NaN,NaN,NaN,NaN,NaN,NaN;20230531,11:45,6932,2.222,2268,2268,0.727,NaN,NaN,61.1,240.9,NaN,NaN,NaN,NaN,NaN,NaN;20230531,11:50,7121,2.282,2268,2268,0.727,NaN,NaN,61.4,243.2,NaN,NaN,NaN,NaN,NaN,NaN;20230531,11:55,7312,2.344,2292,2292,0.735,NaN,NaN,61.5,242.8,NaN,NaN,NaN,NaN,NaN,NaN;20230531,12:00,7503,2.405,2292,2292,0.735,NaN,NaN,61.7,241.8,NaN,NaN,NaN,NaN,NaN,NaN;20230531,12:05,7694,2.466,2292,2292,0.735,NaN,NaN,62.1,242.7,NaN,NaN,NaN,NaN,NaN,NaN;20230531,12:10,7886,2.528,2304,2304,0.738,NaN,NaN,62.3,241.7,NaN,NaN,NaN,NaN,NaN,NaN;20230531,12:15,8076,2.588,2280,2280,0.731,NaN,NaN,62.5,241.4,NaN,NaN,NaN,NaN,NaN,NaN;20230531,12:20,8268,2.650,2304,2304,0.738,NaN,NaN,62.6,242.4,NaN,NaN,NaN,NaN,NaN,NaN;20230531,12:25,8461,2.712,2316,2316,0.742,NaN,NaN,62.8,242.9,NaN,NaN,NaN,NaN,NaN,NaN;20230531,12:30,8643,2.770,2184,2184,0.700,NaN,NaN,61.0,243.7,NaN,NaN,NaN,NaN,NaN,NaN;20230531,12:35,8837,2.832,2328,2328,0.746,NaN,NaN,61.7,242.1,NaN,NaN,NaN,NaN,NaN,NaN;20230531,12:40,9028,2.894,2292,2292,0.735,NaN,NaN,63.1,242.1,NaN,NaN,NaN,NaN,NaN,NaN;20230531,12:45,9218,2.954,2280,2280,0.731,NaN,NaN,63.3,239.4,NaN,NaN,NaN,NaN,NaN,NaN;20230531,12:50,9398,3.012,2160,2160,0.692,NaN,NaN,60.6,241.1,NaN,NaN,NaN,NaN,NaN,NaN;20230531,12:55,9588,3.073,2280,2280,0.731,NaN,NaN,63.1,241.1,NaN,NaN,NaN,NaN,NaN,NaN;20230531,13:00,9764,3.129,2112,2112,0.677,NaN,NaN,60.9,242.2,NaN,NaN,NaN,NaN,NaN,NaN;20230531,13:05,9953,3.190,2268,2268,0.727,NaN,NaN,63.0,239.8,NaN,NaN,NaN,NaN,NaN,NaN;20230531,13:10,10139,3.250,2232,2232,0.715,NaN,NaN,63.2,241.3,NaN,NaN,NaN,NaN,NaN,NaN;20230531,13:15,10324,3.309,2220,2220,0.712,NaN,NaN,63.2,240.4,NaN,NaN,NaN,NaN,NaN,NaN;20230531,13:20,10508,3.368,2208,2208,0.708,NaN,NaN,63.1,240.7,NaN,NaN,NaN,NaN,NaN,NaN;20230531,13:25,10691,3.427,2196,2196,0.704,NaN,NaN,63.0,241.2,NaN,NaN,NaN,NaN,NaN,NaN;20230531,13:30,10871,3.484,2160,2160,0.692,NaN,NaN,62.7,242.2,NaN,NaN,NaN,NaN,NaN,NaN;20230531,13:35,11053,3.543,2184,2184,0.700,NaN,NaN,62.7,240.9,NaN,NaN,NaN,NaN,NaN,NaN;20230531,13:40,11199,3.589,1752,1752,0.562,NaN,NaN,58.5,227.8,NaN,NaN,NaN,NaN,NaN,NaN;20230531,13:45,11348,3.637,1788,1788,0.573,NaN,NaN,57.5,240.7,NaN,NaN,NaN,NaN,NaN,NaN;20230531,13:50,11525,3.694,2124,2124,0.681,NaN,NaN,60.6,239.8,NaN,NaN,NaN,NaN,NaN,NaN;20230531,13:55,11693,3.748,2016,2016,0.646,NaN,NaN,60.0,240.4,NaN,NaN,NaN,NaN,NaN,NaN;20230531,14:00,11865,3.803,2064,2064,0.662,NaN,NaN,61.0,238.6,NaN,NaN,NaN,NaN,NaN,NaN;20230531,14:05,12036,3.858,2052,2052,0.658,NaN,NaN,61.0,239.5,NaN,NaN,NaN,NaN,NaN,NaN;20230531,14:10,12204,3.912,2016,2016,0.646,NaN,NaN,60.8,240.1,NaN,NaN,NaN,NaN,NaN,NaN;20230531,14:15,12371,3.965,2004,2004,0.642,NaN,NaN,60.6,239.5,NaN,NaN,NaN,NaN,NaN,NaN;20230531,14:20,12534,4.017,1956,1956,0.627,NaN,NaN,60.3,239.3,NaN,NaN,NaN,NaN,NaN,NaN;20230531,14:25,12696,4.069,1944,1944,0.623,NaN,NaN,60.0,240.2,NaN,NaN,NaN,NaN,NaN,NaN;20230531,14:30,12855,4.120,1908,1908,0.612,NaN,NaN,59.5,239.5,NaN,NaN,NaN,NaN,NaN,NaN;20230531,14:35,13011,4.170,1872,1872,0.600,NaN,NaN,59.2,240.5,NaN,NaN,NaN,NaN,NaN,NaN;20230531,14:40,13164,4.219,1836,1836,0.588,NaN,NaN,58.8,238.9,NaN,NaN,NaN,NaN,NaN,NaN;20230531,14:45,13315,4.268,1812,1812,0.581,NaN,NaN,58.5,239.2,NaN,NaN,NaN,NaN,NaN,NaN;20230531,14:50,13465,4.316,1800,1800,0.577,NaN,NaN,58.2,240.0,NaN,NaN,NaN,NaN,NaN,NaN;20230531,14:55,13610,4.362,1740,1740,0.558,NaN,NaN,57.7,239.8,NaN,NaN,NaN,NaN,NaN,NaN;20230531,15:00,13754,4.408,1728,1728,0.554,NaN,NaN,57.3,240.2,NaN,NaN,NaN,NaN,NaN,NaN;20230531,15:05,13891,4.452,1644,1644,0.527,NaN,NaN,56.7,240.2,NaN,NaN,NaN,NaN,NaN,NaN;20230531,15:10,14028,4.496,1644,1644,0.527,NaN,NaN,56.5,240.0,NaN,NaN,NaN,NaN,NaN,NaN;20230531,15:15,14165,4.540,1644,1644,0.527,NaN,NaN,56.2,241.7,NaN,NaN,NaN,NaN,NaN,NaN;20230531,15:20,14298,4.583,1596,1596,0.512,NaN,NaN,55.8,238.9,NaN,NaN,NaN,NaN,NaN,NaN;20230531,15:25,14428,4.624,1560,1560,0.500,NaN,NaN,55.4,238.0,NaN,NaN,NaN,NaN,NaN,NaN;20230531,15:30,14555,4.665,1524,1524,0.488,NaN,NaN,54.9,239.7,NaN,NaN,NaN,NaN,NaN,NaN;20230531,15:35,14677,4.704,1464,1464,0.469,NaN,NaN,54.4,239.9,NaN,NaN,NaN,NaN,NaN,NaN;20230531,15:40,14793,4.741,1392,1392,0.446,NaN,NaN,53.8,238.7,NaN,NaN,NaN,NaN,NaN,NaN;20230531,15:45,14902,4.776,1308,1308,0.419,NaN,NaN,53.3,238.6,NaN,NaN,NaN,NaN,NaN,NaN;20230531,15:50,15016,4.813,1368,1368,0.438,NaN,NaN,53.1,237.5,NaN,NaN,NaN,NaN,NaN,NaN;20230531,15:55,15126,4.848,1320,1320,0.423,NaN,NaN,52.7,237.0,NaN,NaN,NaN,NaN,NaN,NaN;20230531,16:00,15220,4.878,1128,1128,0.362,NaN,NaN,51.8,237.2,NaN,NaN,NaN,NaN,NaN,NaN;20230531,16:05,15320,4.910,1200,1200,0.385,NaN,NaN,51.6,237.6,NaN,NaN,NaN,NaN,NaN,NaN;20230531,16:10,15410,4.939,1080,1080,0.346,NaN,NaN,51.0,237.4,NaN,NaN,NaN,NaN,NaN,NaN;20230531,16:15,15493,4.966,996,996,0.319,NaN,NaN,50.3,233.9,NaN,NaN,NaN,NaN,NaN,NaN;20230531,16:20,15561,4.988,816,816,0.262,NaN,NaN,49.3,232.3,NaN,NaN,NaN,NaN,NaN,NaN;20230531,16:25,15628,5.009,804,804,0.258,NaN,NaN,49.1,233.7,NaN,NaN,NaN,NaN,NaN,NaN;20230531,16:30,15707,5.034,948,948,0.304,NaN,NaN,49.1,236.0,NaN,NaN,NaN,NaN,NaN,NaN;20230531,16:35,15779,5.057,864,864,0.277,NaN,NaN,48.8,233.4,NaN,NaN,NaN,NaN,NaN,NaN;20230531,16:40,15850,5.080,852,852,0.273,NaN,NaN,48.6,232.8,NaN,NaN,NaN,NaN,NaN,NaN;20230531,16:45,15912,5.100,744,744,0.238,NaN,NaN,48.1,231.1,NaN,NaN,NaN,NaN,NaN,NaN;20230531,16:50,15974,5.120,744,744,0.238,NaN,NaN,48.0,232.9,NaN,NaN,NaN,NaN,NaN,NaN;20230531,16:55,16036,5.140,744,744,0.238,NaN,NaN,47.7,231.3,NaN,NaN,NaN,NaN,NaN,NaN;20230531,17:00,16091,5.157,660,660,0.212,NaN,NaN,46.9,231.5,NaN,NaN,NaN,NaN,NaN,NaN;20230531,17:05,16144,5.174,636,636,0.204,NaN,NaN,46.2,231.6,NaN,NaN,NaN,NaN,NaN,NaN;20230531,17:10,16192,5.190,576,576,0.185,NaN,NaN,45.4,231.1,NaN,NaN,NaN,NaN,NaN,NaN;20230531,17:15,16237,5.204,540,540,0.173,NaN,NaN,44.8,229.6,NaN,NaN,NaN,NaN,NaN,NaN;20230531,17:20,16277,5.217,480,480,0.154,NaN,NaN,44.1,229.0,NaN,NaN,NaN,NaN,NaN,NaN;20230531,17:25,16313,5.229,432,432,0.138,NaN,NaN,43.3,227.9,NaN,NaN,NaN,NaN,NaN,NaN;20230531,17:30,16344,5.238,372,372,0.119,NaN,NaN,42.4,228.5,NaN,NaN,NaN,NaN,NaN,NaN;20230531,17:35,16372,5.247,336,336,0.108,NaN,NaN,41.7,227.6,NaN,NaN,NaN,NaN,NaN,NaN;20230531,17:40,16396,5.255,288,288,0.092,NaN,NaN,41.4,228.3,NaN,NaN,NaN,NaN,NaN,NaN;20230531,17:45,16419,5.262,276,276,0.088,NaN,NaN,41.1,228.6,NaN,NaN,NaN,NaN,NaN,NaN;20230531,17:50,16439,5.269,240,240,0.077,NaN,NaN,40.6,227.2,NaN,NaN,NaN,NaN,NaN,NaN;20230531,17:55,16458,5.275,228,228,0.073,NaN,NaN,40.3,229.9,NaN,NaN,NaN,NaN,NaN,NaN;20230531,18:00,16475,5.280,204,204,0.065,NaN,NaN,40.0,226.5,NaN,NaN,NaN,NaN,NaN,NaN;20230531,18:05,16491,5.286,192,192,0.062,NaN,NaN,39.8,227.6,NaN,NaN,NaN,NaN,NaN,NaN;20230531,18:10,16506,5.290,180,180,0.058,NaN,NaN,39.6,225.7,NaN,NaN,NaN,NaN,NaN,NaN;20230531,18:15,16521,5.295,180,180,0.058,NaN,NaN,39.5,226.3,NaN,NaN,NaN,NaN,NaN,NaN;20230531,18:20,16535,5.300,168,168,0.054,NaN,NaN,39.2,224.5,NaN,NaN,NaN,NaN,NaN,NaN;20230531,18:25,16550,5.304,180,180,0.058,NaN,NaN,39.1,224.3,NaN,NaN,NaN,NaN,NaN,NaN;20230531,18:30,16564,5.309,168,168,0.054,NaN,NaN,38.8,222.5,NaN,NaN,NaN,NaN,NaN,NaN;20230531,18:35,16577,5.313,156,156,0.050,NaN,NaN,38.7,221.2,NaN,NaN,NaN,NaN,NaN,NaN;20230531,18:40,16590,5.317,156,156,0.050,NaN,NaN,38.6,222.1,NaN,NaN,NaN,NaN,NaN,NaN;20230531,18:45,16603,5.321,156,156,0.050,NaN,NaN,38.5,223.4,NaN,NaN,NaN,NaN,NaN,NaN;20230531,18:50,16615,5.325,144,144,0.046,NaN,NaN,38.4,224.2,NaN,NaN,NaN,NaN,NaN,NaN;20230531,18:55,16627,5.329,144,144,0.046,NaN,NaN,38.3,223.8,NaN,NaN,NaN,NaN,NaN,NaN;20230531,19:00,16637,5.332,120,120,0.038,NaN,NaN,38.1,224.2,NaN,NaN,NaN,NaN,NaN,NaN;20230531,19:05,16648,5.336,132,132,0.042,NaN,NaN,38.0,222.6,NaN,NaN,NaN,NaN,NaN,NaN;20230531,19:10,16657,5.339,108,108,0.035,NaN,NaN,37.9,223.9,NaN,NaN,NaN,NaN,NaN,NaN;20230531,19:15,16667,5.342,120,120,0.038,NaN,NaN,37.8,223.7,NaN,NaN,NaN,NaN,NaN,NaN;20230531,19:20,16678,5.346,132,132,0.042,NaN,NaN,37.7,222.6,NaN,NaN,NaN,NaN,NaN,NaN;20230531,19:25,16688,5.349,120,120,0.038,NaN,NaN,37.7,223.4,NaN,NaN,NaN,NaN,NaN,NaN;20230531,19:30,16699,5.352,132,132,0.042,NaN,NaN,37.6,225.4,NaN,NaN,NaN,NaN,NaN,NaN;20230531,19:35,16709,5.355,120,120,0.038,NaN,NaN,37.5,224.6,NaN,NaN,NaN,NaN,NaN,NaN;20230531,19:40,16718,5.358,108,108,0.035,NaN,NaN,37.5,224.6,NaN,NaN,NaN,NaN,NaN,NaN;20230531,19:45,16728,5.362,120,120,0.038,NaN,NaN,37.5,225.1,NaN,NaN,NaN,NaN,NaN,NaN;20230531,19:50,16738,5.365,120,120,0.038,NaN,NaN,37.3,224.8,NaN,NaN,NaN,NaN,NaN,NaN;20230531,19:55,16748,5.368,120,120,0.038,NaN,NaN,37.3,223.9,NaN,NaN,NaN,NaN,NaN,NaN;20230531,20:00,16758,5.371,120,120,0.038,NaN,NaN,37.3,224.0,NaN,NaN,NaN,NaN,NaN,NaN;20230531,20:05,16767,5.374,108,108,0.035,NaN,NaN,37.2,221.6,NaN,NaN,NaN,NaN,NaN,NaN;20230531,20:10,16775,5.377,96,96,0.031,NaN,NaN,37.2,223.8,NaN,NaN,NaN,NaN,NaN,NaN;20230531,20:15,16783,5.379,96,96,0.031,NaN,NaN,37.1,223.6,NaN,NaN,NaN,NaN,NaN,NaN;20230531,20:20,16790,5.381,84,84,0.027,NaN,NaN,37.0,223.4,NaN,NaN,NaN,NaN,NaN,NaN;20230531,20:25,16797,5.384,84,84,0.027,NaN,NaN,37.0,222.5,NaN,NaN,NaN,NaN,NaN,NaN;20230531,20:30,16802,5.385,60,60,0.019,NaN,NaN,37.0,224.3,NaN,NaN,NaN,NaN,NaN,NaN;20230531,20:35,16807,5.387,60,60,0.019,NaN,NaN,36.9,223.9,NaN,NaN,NaN,NaN,NaN,NaN;20230531,20:40,16811,5.388,48,48,0.015,NaN,NaN,36.8,223.4,NaN,NaN,NaN,NaN,NaN,NaN;20230531,20:45,16815,5.389,48,48,0.015,NaN,NaN,36.8,225.3,NaN,NaN,NaN,NaN,NaN,NaN;20230531,20:50,16817,5.390,24,24,0.008,NaN,NaN,36.7,224.3,NaN,NaN,NaN,NaN,NaN,NaN;20230531,20:55,16819,5.391,24,24,0.008,NaN,NaN,36.6,224.3,NaN,NaN,NaN,NaN,NaN,NaN;20230531,21:00,16821,5.391,24,24,0.008,NaN,NaN,36.6,226.2,NaN,NaN,NaN,NaN,NaN,NaN;20230531,21:05,16823,5.392,24,24,0.008,NaN,NaN,36.5,226.5,NaN,NaN,NaN,NaN,NaN,NaN;20230531,21:10,16825,5.393,24,24,0.008,NaN,NaN,36.5,225.8,NaN,NaN,NaN,NaN,NaN,NaN;20230531,21:15,16827,5.393,24,24,0.008,NaN,NaN,36.4,224.9,NaN,NaN,NaN,NaN,NaN,NaN\n",
      "         Date   Time Energy generation (kWh) Efficiency Power generation (W)\n",
      "0    20230531  06:05                       0      0.000                    0\n",
      "1    20230531  06:10                       3      0.001                   36\n",
      "2    20230531  06:15                       7      0.002                   48\n",
      "3    20230531  06:20                      13      0.004                   72\n",
      "4    20230531  06:25                      19      0.006                   72\n",
      "..        ...    ...                     ...        ...                  ...\n",
      "178  20230531  20:55                   16819      5.391                   24\n",
      "179  20230531  21:00                   16821      5.391                   24\n",
      "180  20230531  21:05                   16823      5.392                   24\n",
      "181  20230531  21:10                   16825      5.393                   24\n",
      "182  20230531  21:15                   16827      5.393                   24\n",
      "\n",
      "[183 rows x 5 columns]\n"
     ]
    }
   ],
   "source": [
    "\n",
    "class PVOutputAPI:\n",
    "    BASE_URL = \"https://pvoutput.org/service/r2/getstatus.jsp\"\n",
    "    \n",
    "    def __init__(self, api_key, system_id):\n",
    "        self.api_key = api_key\n",
    "        self.system_id = system_id\n",
    "\n",
    "    def get_status(self, date=None, time=None, history=None, ascending=None, limit=None, time_from=None, time_to=None, extended_data=None, another_system_id=None, day_statistics=None):\n",
    "        params = {\n",
    "            'd': date,\n",
    "            't': time,\n",
    "            'h': history,\n",
    "            'asc': ascending,\n",
    "            'limit': limit,\n",
    "            'from': time_from,\n",
    "            'to': time_to,\n",
    "            'ext': extended_data,\n",
    "            'sid1': another_system_id,\n",
    "            'stats': day_statistics\n",
    "        }\n",
    "        \n",
    "        headers = {\n",
    "            'X-Pvoutput-Apikey': self.api_key,\n",
    "            'X-Pvoutput-SystemId': self.system_id\n",
    "        }\n",
    "\n",
    "        response = requests.get(self.BASE_URL, headers=headers, params=params)\n",
    "        \n",
    "        if response.status_code == 200:\n",
    "            return response.text  \n",
    "        else:\n",
    "            response.raise_for_status()\n",
    "\n",
    "# Example usage\n",
    "if __name__ == \"__main__\":\n",
    "    api_key = \"a6fde136a0f43555bfe0beff83520a1cb9a49c57\"\n",
    "    system_id = \"105034\"\n",
    "    \n",
    "    pv_output_api = PVOutputAPI(api_key, system_id)\n",
    "    \n",
    "    # Example: Get status with specific parameters\n",
    "    response = pv_output_api.get_status(date=\"20230531\", ascending=\"1\", history=\"1\", time_from=\"00:00\", limit=\"500\", time_to=\"23:55\", extended_data=\"1\", another_system_id=\"23471\")\n",
    "    print(response)\n",
    "\n",
    "def parse_response_to_dataframe(response):\n",
    "    # Split the response string into individual entries\n",
    "    entries = response.split(';')\n",
    "    \n",
    "    # Extract the first 4 fields from each entry\n",
    "    data = []\n",
    "    for entry in entries:\n",
    "        # Skip any empty strings\n",
    "        fields = entry.split(',')[:5]\n",
    "        data.append(fields)\n",
    "    \n",
    "    # Convert to DataFrame\n",
    "    df = pd.DataFrame(data, columns=['Date', 'Time', 'Energy generation (kWh)', 'Efficiency', 'Power generation (W)'])\n",
    "    return df\n",
    "\n",
    "# Parse the response and convert it to a DataFrame\n",
    "df = parse_response_to_dataframe(response)\n",
    "print(df)\n",
    "\n"
   ]
  },
  {
   "cell_type": "code",
   "execution_count": 3,
   "metadata": {},
   "outputs": [
    {
     "name": "stderr",
     "output_type": "stream",
     "text": [
      "C:\\Users\\denni\\AppData\\Local\\Temp\\ipykernel_14316\\1563371316.py:8: FutureWarning: 'T' is deprecated and will be removed in a future version, please use 'min' instead.\n",
      "  full_day = pd.date_range(start=df['Date'].iloc[0] + ' 00:00', end=df['Date'].iloc[0] + ' 23:55', freq='5T')\n"
     ]
    }
   ],
   "source": [
    "# Combine Date and Time into a single DateTime column\n",
    "df['DateTime'] = pd.to_datetime(df['Date'] + ' ' + df['Time'])\n",
    "\n",
    "# Set DateTime as the index\n",
    "df.set_index('DateTime', inplace=True)\n",
    "\n",
    "# Create a complete time range for the day at 5-minute intervals\n",
    "full_day = pd.date_range(start=df['Date'].iloc[0] + ' 00:00', end=df['Date'].iloc[0] + ' 23:55', freq='5T')\n",
    "\n",
    "# Create a complete DataFrame with zero values\n",
    "full_day_df = pd.DataFrame(index=full_day)\n",
    "full_day_df['Energy generation (kWh)'] = 0\n",
    "full_day_df['Efficiency'] = 0.000\n",
    "full_day_df['Power generation (W)'] = 0\n",
    "\n",
    "# Merge the complete DataFrame with the existing data\n",
    "merged_df = full_day_df.merge(df, how='left', left_index=True, right_index=True, suffixes=('', '_y'))\n",
    "\n",
    "# Fill missing values with zero\n",
    "merged_df['Energy generation (kWh)'] = merged_df['Energy generation (kWh)_y'].fillna(0)\n",
    "merged_df['Efficiency'] = merged_df['Efficiency_y'].fillna(0.000)\n",
    "merged_df['Power generation (W)'] = merged_df['Power generation (W)_y'].fillna(0)\n",
    "\n",
    "# Drop the duplicate columns\n",
    "merged_df = merged_df[['Energy generation (kWh)', 'Efficiency', 'Power generation (W)']]\n",
    "\n",
    "# Filter out rows that are not exact hour values\n",
    "merged_df = merged_df[merged_df.index.minute == 0]\n",
    "\n",
    "\n",
    "# Reset index to have DateTime as a column\n",
    "merged_df.reset_index(inplace=True)\n"
   ]
  },
  {
   "cell_type": "code",
   "execution_count": 4,
   "metadata": {},
   "outputs": [],
   "source": [
    "\n",
    "values = merged_df['Energy generation (kWh)'].tolist()\n"
   ]
  },
  {
   "cell_type": "code",
   "execution_count": 5,
   "metadata": {},
   "outputs": [
    {
     "data": {
      "image/png": "[encoded data removed]",
      "text/plain": [
       "<Figure size 1500x700 with 2 Axes>"
      ]
     },
     "metadata": {},
     "output_type": "display_data"
    }
   ],
   "source": [
    "df = merged_df.copy()\n",
    "# Convert 'index' column to datetime\n",
    "df['index'] = pd.to_datetime(df['index'])\n",
    "\n",
    "# Plotting\n",
    "fig, ax1 = plt.subplots(figsize=(15, 7))\n",
    "\n",
    "# Plot Power Generation\n",
    "ax1.plot(df['index'], df['Power generation (W)'], 'r-', label='Power Generation (W)')\n",
    "ax1.set_xlabel('Time')\n",
    "ax1.set_ylabel('Power (W)', color='r')\n",
    "ax1.tick_params(axis='y', labelcolor='r')\n",
    "#ax1.set_ylim(0, 5000)  # Scale y-axis to 5000W\n",
    "\n",
    "# Create a secondary y-axis for Energy Generation\n",
    "ax2 = ax1.twinx()\n",
    "ax2.plot(df['index'], df['Energy generation (kWh)'], 'g-', label='Energy Generation (kWh)')\n",
    "ax2.set_ylabel('Energy (kWh)', color='g')\n",
    "ax2.tick_params(axis='y', labelcolor='g')\n",
    "#ax2.set_ylim(0, 20)  # Scale y-axis to 20 kWh\n",
    "\n",
    "# Adding a legend\n",
    "fig.legend(loc=\"upper right\", bbox_to_anchor=(1,1), bbox_transform=ax1.transAxes)\n",
    "\n",
    "# Formatting the x-axis to show time only\n",
    "ax1.xaxis.set_major_formatter(plt.matplotlib.dates.DateFormatter('%H:%M'))\n",
    "\n",
    "# Adding a title\n",
    "plt.title('Power and Energy Generation Over Time')\n",
    "\n",
    "# Display the plot\n",
    "plt.show()"
   ]
  },
  {
   "cell_type": "code",
   "execution_count": 6,
   "metadata": {},
   "outputs": [
    {
     "name": "stderr",
     "output_type": "stream",
     "text": [
      "C:\\Users\\denni\\AppData\\Local\\Temp\\ipykernel_14316\\1144893452.py:51: FutureWarning: 'T' is deprecated and will be removed in a future version, please use 'min' instead.\n",
      "  full_day = pd.date_range(start=df['Date'].iloc[0] + ' 00:00', end=df['Date'].iloc[0] + ' 23:55', freq='5T')\n"
     ]
    },
    {
     "name": "stdout",
     "output_type": "stream",
     "text": [
      "Error processing date 20230718: invalid literal for int() with base 10: 'NaN'\n"
     ]
    },
    {
     "name": "stderr",
     "output_type": "stream",
     "text": [
      "C:\\Users\\denni\\AppData\\Local\\Temp\\ipykernel_14316\\1144893452.py:51: FutureWarning: 'T' is deprecated and will be removed in a future version, please use 'min' instead.\n",
      "  full_day = pd.date_range(start=df['Date'].iloc[0] + ' 00:00', end=df['Date'].iloc[0] + ' 23:55', freq='5T')\n"
     ]
    },
    {
     "name": "stdout",
     "output_type": "stream",
     "text": [
      "Error processing date 20230719: invalid literal for int() with base 10: 'NaN'\n"
     ]
    },
    {
     "name": "stderr",
     "output_type": "stream",
     "text": [
      "C:\\Users\\denni\\AppData\\Local\\Temp\\ipykernel_14316\\1144893452.py:51: FutureWarning: 'T' is deprecated and will be removed in a future version, please use 'min' instead.\n",
      "  full_day = pd.date_range(start=df['Date'].iloc[0] + ' 00:00', end=df['Date'].iloc[0] + ' 23:55', freq='5T')\n"
     ]
    },
    {
     "name": "stdout",
     "output_type": "stream",
     "text": [
      "Error processing date 20230720: invalid literal for int() with base 10: 'NaN'\n"
     ]
    },
    {
     "name": "stderr",
     "output_type": "stream",
     "text": [
      "C:\\Users\\denni\\AppData\\Local\\Temp\\ipykernel_14316\\1144893452.py:51: FutureWarning: 'T' is deprecated and will be removed in a future version, please use 'min' instead.\n",
      "  full_day = pd.date_range(start=df['Date'].iloc[0] + ' 00:00', end=df['Date'].iloc[0] + ' 23:55', freq='5T')\n"
     ]
    },
    {
     "name": "stdout",
     "output_type": "stream",
     "text": [
      "Error processing date 20230721: invalid literal for int() with base 10: 'NaN'\n"
     ]
    },
    {
     "name": "stderr",
     "output_type": "stream",
     "text": [
      "C:\\Users\\denni\\AppData\\Local\\Temp\\ipykernel_14316\\1144893452.py:51: FutureWarning: 'T' is deprecated and will be removed in a future version, please use 'min' instead.\n",
      "  full_day = pd.date_range(start=df['Date'].iloc[0] + ' 00:00', end=df['Date'].iloc[0] + ' 23:55', freq='5T')\n"
     ]
    },
    {
     "name": "stdout",
     "output_type": "stream",
     "text": [
      "Error processing date 20230722: invalid literal for int() with base 10: 'NaN'\n"
     ]
    },
    {
     "name": "stderr",
     "output_type": "stream",
     "text": [
      "C:\\Users\\denni\\AppData\\Local\\Temp\\ipykernel_14316\\1144893452.py:51: FutureWarning: 'T' is deprecated and will be removed in a future version, please use 'min' instead.\n",
      "  full_day = pd.date_range(start=df['Date'].iloc[0] + ' 00:00', end=df['Date'].iloc[0] + ' 23:55', freq='5T')\n"
     ]
    },
    {
     "name": "stdout",
     "output_type": "stream",
     "text": [
      "Error processing date 20230723: invalid literal for int() with base 10: 'NaN'\n"
     ]
    },
    {
     "name": "stderr",
     "output_type": "stream",
     "text": [
      "C:\\Users\\denni\\AppData\\Local\\Temp\\ipykernel_14316\\1144893452.py:51: FutureWarning: 'T' is deprecated and will be removed in a future version, please use 'min' instead.\n",
      "  full_day = pd.date_range(start=df['Date'].iloc[0] + ' 00:00', end=df['Date'].iloc[0] + ' 23:55', freq='5T')\n"
     ]
    },
    {
     "name": "stdout",
     "output_type": "stream",
     "text": [
      "Error processing date 20230724: invalid literal for int() with base 10: 'NaN'\n"
     ]
    },
    {
     "name": "stderr",
     "output_type": "stream",
     "text": [
      "C:\\Users\\denni\\AppData\\Local\\Temp\\ipykernel_14316\\1144893452.py:51: FutureWarning: 'T' is deprecated and will be removed in a future version, please use 'min' instead.\n",
      "  full_day = pd.date_range(start=df['Date'].iloc[0] + ' 00:00', end=df['Date'].iloc[0] + ' 23:55', freq='5T')\n"
     ]
    },
    {
     "name": "stdout",
     "output_type": "stream",
     "text": [
      "Error processing date 20230725: invalid literal for int() with base 10: 'NaN'\n"
     ]
    },
    {
     "name": "stderr",
     "output_type": "stream",
     "text": [
      "C:\\Users\\denni\\AppData\\Local\\Temp\\ipykernel_14316\\1144893452.py:51: FutureWarning: 'T' is deprecated and will be removed in a future version, please use 'min' instead.\n",
      "  full_day = pd.date_range(start=df['Date'].iloc[0] + ' 00:00', end=df['Date'].iloc[0] + ' 23:55', freq='5T')\n"
     ]
    },
    {
     "name": "stdout",
     "output_type": "stream",
     "text": [
      "Error processing date 20230726: invalid literal for int() with base 10: 'NaN'\n"
     ]
    },
    {
     "name": "stderr",
     "output_type": "stream",
     "text": [
      "C:\\Users\\denni\\AppData\\Local\\Temp\\ipykernel_14316\\1144893452.py:51: FutureWarning: 'T' is deprecated and will be removed in a future version, please use 'min' instead.\n",
      "  full_day = pd.date_range(start=df['Date'].iloc[0] + ' 00:00', end=df['Date'].iloc[0] + ' 23:55', freq='5T')\n"
     ]
    },
    {
     "name": "stdout",
     "output_type": "stream",
     "text": [
      "Error processing date 20230727: invalid literal for int() with base 10: 'NaN'\n"
     ]
    },
    {
     "name": "stderr",
     "output_type": "stream",
     "text": [
      "C:\\Users\\denni\\AppData\\Local\\Temp\\ipykernel_14316\\1144893452.py:51: FutureWarning: 'T' is deprecated and will be removed in a future version, please use 'min' instead.\n",
      "  full_day = pd.date_range(start=df['Date'].iloc[0] + ' 00:00', end=df['Date'].iloc[0] + ' 23:55', freq='5T')\n"
     ]
    },
    {
     "name": "stdout",
     "output_type": "stream",
     "text": [
      "Error processing date 20230810: invalid literal for int() with base 10: 'NaN'\n"
     ]
    },
    {
     "name": "stderr",
     "output_type": "stream",
     "text": [
      "C:\\Users\\denni\\AppData\\Local\\Temp\\ipykernel_14316\\1144893452.py:51: FutureWarning: 'T' is deprecated and will be removed in a future version, please use 'min' instead.\n",
      "  full_day = pd.date_range(start=df['Date'].iloc[0] + ' 00:00', end=df['Date'].iloc[0] + ' 23:55', freq='5T')\n"
     ]
    },
    {
     "name": "stdout",
     "output_type": "stream",
     "text": [
      "Error processing date 20230811: invalid literal for int() with base 10: 'NaN'\n"
     ]
    },
    {
     "name": "stderr",
     "output_type": "stream",
     "text": [
      "C:\\Users\\denni\\AppData\\Local\\Temp\\ipykernel_14316\\1144893452.py:51: FutureWarning: 'T' is deprecated and will be removed in a future version, please use 'min' instead.\n",
      "  full_day = pd.date_range(start=df['Date'].iloc[0] + ' 00:00', end=df['Date'].iloc[0] + ' 23:55', freq='5T')\n"
     ]
    },
    {
     "name": "stdout",
     "output_type": "stream",
     "text": [
      "Error processing date 20230812: invalid literal for int() with base 10: 'NaN'\n"
     ]
    },
    {
     "name": "stderr",
     "output_type": "stream",
     "text": [
      "C:\\Users\\denni\\AppData\\Local\\Temp\\ipykernel_14316\\1144893452.py:51: FutureWarning: 'T' is deprecated and will be removed in a future version, please use 'min' instead.\n",
      "  full_day = pd.date_range(start=df['Date'].iloc[0] + ' 00:00', end=df['Date'].iloc[0] + ' 23:55', freq='5T')\n"
     ]
    },
    {
     "name": "stdout",
     "output_type": "stream",
     "text": [
      "Error processing date 20230813: invalid literal for int() with base 10: 'NaN'\n"
     ]
    },
    {
     "name": "stderr",
     "output_type": "stream",
     "text": [
      "C:\\Users\\denni\\AppData\\Local\\Temp\\ipykernel_14316\\1144893452.py:51: FutureWarning: 'T' is deprecated and will be removed in a future version, please use 'min' instead.\n",
      "  full_day = pd.date_range(start=df['Date'].iloc[0] + ' 00:00', end=df['Date'].iloc[0] + ' 23:55', freq='5T')\n"
     ]
    },
    {
     "name": "stdout",
     "output_type": "stream",
     "text": [
      "Error processing date 20230814: invalid literal for int() with base 10: 'NaN'\n"
     ]
    },
    {
     "name": "stderr",
     "output_type": "stream",
     "text": [
      "C:\\Users\\denni\\AppData\\Local\\Temp\\ipykernel_14316\\1144893452.py:51: FutureWarning: 'T' is deprecated and will be removed in a future version, please use 'min' instead.\n",
      "  full_day = pd.date_range(start=df['Date'].iloc[0] + ' 00:00', end=df['Date'].iloc[0] + ' 23:55', freq='5T')\n"
     ]
    },
    {
     "name": "stdout",
     "output_type": "stream",
     "text": [
      "Error processing date 20230815: invalid literal for int() with base 10: 'NaN'\n"
     ]
    },
    {
     "name": "stderr",
     "output_type": "stream",
     "text": [
      "C:\\Users\\denni\\AppData\\Local\\Temp\\ipykernel_14316\\1144893452.py:51: FutureWarning: 'T' is deprecated and will be removed in a future version, please use 'min' instead.\n",
      "  full_day = pd.date_range(start=df['Date'].iloc[0] + ' 00:00', end=df['Date'].iloc[0] + ' 23:55', freq='5T')\n"
     ]
    },
    {
     "name": "stdout",
     "output_type": "stream",
     "text": [
      "Error processing date 20230816: invalid literal for int() with base 10: 'NaN'\n"
     ]
    },
    {
     "name": "stderr",
     "output_type": "stream",
     "text": [
      "C:\\Users\\denni\\AppData\\Local\\Temp\\ipykernel_14316\\1144893452.py:51: FutureWarning: 'T' is deprecated and will be removed in a future version, please use 'min' instead.\n",
      "  full_day = pd.date_range(start=df['Date'].iloc[0] + ' 00:00', end=df['Date'].iloc[0] + ' 23:55', freq='5T')\n"
     ]
    },
    {
     "name": "stdout",
     "output_type": "stream",
     "text": [
      "Error processing date 20230817: invalid literal for int() with base 10: 'NaN'\n"
     ]
    },
    {
     "name": "stderr",
     "output_type": "stream",
     "text": [
      "C:\\Users\\denni\\AppData\\Local\\Temp\\ipykernel_14316\\1144893452.py:51: FutureWarning: 'T' is deprecated and will be removed in a future version, please use 'min' instead.\n",
      "  full_day = pd.date_range(start=df['Date'].iloc[0] + ' 00:00', end=df['Date'].iloc[0] + ' 23:55', freq='5T')\n"
     ]
    },
    {
     "name": "stdout",
     "output_type": "stream",
     "text": [
      "Error processing date 20230818: invalid literal for int() with base 10: 'NaN'\n"
     ]
    },
    {
     "name": "stderr",
     "output_type": "stream",
     "text": [
      "C:\\Users\\denni\\AppData\\Local\\Temp\\ipykernel_14316\\1144893452.py:51: FutureWarning: 'T' is deprecated and will be removed in a future version, please use 'min' instead.\n",
      "  full_day = pd.date_range(start=df['Date'].iloc[0] + ' 00:00', end=df['Date'].iloc[0] + ' 23:55', freq='5T')\n"
     ]
    },
    {
     "name": "stdout",
     "output_type": "stream",
     "text": [
      "Error processing date 20230819: invalid literal for int() with base 10: 'NaN'\n"
     ]
    },
    {
     "name": "stderr",
     "output_type": "stream",
     "text": [
      "C:\\Users\\denni\\AppData\\Local\\Temp\\ipykernel_14316\\1144893452.py:51: FutureWarning: 'T' is deprecated and will be removed in a future version, please use 'min' instead.\n",
      "  full_day = pd.date_range(start=df['Date'].iloc[0] + ' 00:00', end=df['Date'].iloc[0] + ' 23:55', freq='5T')\n"
     ]
    },
    {
     "name": "stdout",
     "output_type": "stream",
     "text": [
      "Error processing date 20231122: invalid literal for int() with base 10: 'NaN'\n"
     ]
    },
    {
     "name": "stderr",
     "output_type": "stream",
     "text": [
      "C:\\Users\\denni\\AppData\\Local\\Temp\\ipykernel_14316\\1144893452.py:51: FutureWarning: 'T' is deprecated and will be removed in a future version, please use 'min' instead.\n",
      "  full_day = pd.date_range(start=df['Date'].iloc[0] + ' 00:00', end=df['Date'].iloc[0] + ' 23:55', freq='5T')\n"
     ]
    },
    {
     "name": "stdout",
     "output_type": "stream",
     "text": [
      "Error processing date 20231123: invalid literal for int() with base 10: 'NaN'\n"
     ]
    },
    {
     "name": "stderr",
     "output_type": "stream",
     "text": [
      "C:\\Users\\denni\\AppData\\Local\\Temp\\ipykernel_14316\\1144893452.py:51: FutureWarning: 'T' is deprecated and will be removed in a future version, please use 'min' instead.\n",
      "  full_day = pd.date_range(start=df['Date'].iloc[0] + ' 00:00', end=df['Date'].iloc[0] + ' 23:55', freq='5T')\n"
     ]
    },
    {
     "name": "stdout",
     "output_type": "stream",
     "text": [
      "Error processing date 20231124: invalid literal for int() with base 10: 'NaN'\n"
     ]
    },
    {
     "name": "stderr",
     "output_type": "stream",
     "text": [
      "C:\\Users\\denni\\AppData\\Local\\Temp\\ipykernel_14316\\1144893452.py:51: FutureWarning: 'T' is deprecated and will be removed in a future version, please use 'min' instead.\n",
      "  full_day = pd.date_range(start=df['Date'].iloc[0] + ' 00:00', end=df['Date'].iloc[0] + ' 23:55', freq='5T')\n"
     ]
    },
    {
     "name": "stdout",
     "output_type": "stream",
     "text": [
      "Error processing date 20231125: invalid literal for int() with base 10: 'NaN'\n"
     ]
    },
    {
     "name": "stderr",
     "output_type": "stream",
     "text": [
      "C:\\Users\\denni\\AppData\\Local\\Temp\\ipykernel_14316\\1144893452.py:51: FutureWarning: 'T' is deprecated and will be removed in a future version, please use 'min' instead.\n",
      "  full_day = pd.date_range(start=df['Date'].iloc[0] + ' 00:00', end=df['Date'].iloc[0] + ' 23:55', freq='5T')\n"
     ]
    },
    {
     "name": "stdout",
     "output_type": "stream",
     "text": [
      "Error processing date 20231126: invalid literal for int() with base 10: 'NaN'\n"
     ]
    },
    {
     "name": "stderr",
     "output_type": "stream",
     "text": [
      "C:\\Users\\denni\\AppData\\Local\\Temp\\ipykernel_14316\\1144893452.py:51: FutureWarning: 'T' is deprecated and will be removed in a future version, please use 'min' instead.\n",
      "  full_day = pd.date_range(start=df['Date'].iloc[0] + ' 00:00', end=df['Date'].iloc[0] + ' 23:55', freq='5T')\n"
     ]
    },
    {
     "name": "stdout",
     "output_type": "stream",
     "text": [
      "Error processing date 20231127: invalid literal for int() with base 10: 'NaN'\n"
     ]
    },
    {
     "name": "stderr",
     "output_type": "stream",
     "text": [
      "C:\\Users\\denni\\AppData\\Local\\Temp\\ipykernel_14316\\1144893452.py:51: FutureWarning: 'T' is deprecated and will be removed in a future version, please use 'min' instead.\n",
      "  full_day = pd.date_range(start=df['Date'].iloc[0] + ' 00:00', end=df['Date'].iloc[0] + ' 23:55', freq='5T')\n"
     ]
    },
    {
     "name": "stdout",
     "output_type": "stream",
     "text": [
      "Error processing date 20231128: invalid literal for int() with base 10: 'NaN'\n"
     ]
    },
    {
     "name": "stderr",
     "output_type": "stream",
     "text": [
      "C:\\Users\\denni\\AppData\\Local\\Temp\\ipykernel_14316\\1144893452.py:51: FutureWarning: 'T' is deprecated and will be removed in a future version, please use 'min' instead.\n",
      "  full_day = pd.date_range(start=df['Date'].iloc[0] + ' 00:00', end=df['Date'].iloc[0] + ' 23:55', freq='5T')\n"
     ]
    },
    {
     "name": "stdout",
     "output_type": "stream",
     "text": [
      "Error processing date 20231129: invalid literal for int() with base 10: 'NaN'\n"
     ]
    },
    {
     "name": "stderr",
     "output_type": "stream",
     "text": [
      "C:\\Users\\denni\\AppData\\Local\\Temp\\ipykernel_14316\\1144893452.py:51: FutureWarning: 'T' is deprecated and will be removed in a future version, please use 'min' instead.\n",
      "  full_day = pd.date_range(start=df['Date'].iloc[0] + ' 00:00', end=df['Date'].iloc[0] + ' 23:55', freq='5T')\n"
     ]
    },
    {
     "name": "stdout",
     "output_type": "stream",
     "text": [
      "Error processing date 20231130: invalid literal for int() with base 10: 'NaN'\n"
     ]
    },
    {
     "name": "stderr",
     "output_type": "stream",
     "text": [
      "C:\\Users\\denni\\AppData\\Local\\Temp\\ipykernel_14316\\1144893452.py:51: FutureWarning: 'T' is deprecated and will be removed in a future version, please use 'min' instead.\n",
      "  full_day = pd.date_range(start=df['Date'].iloc[0] + ' 00:00', end=df['Date'].iloc[0] + ' 23:55', freq='5T')\n"
     ]
    },
    {
     "name": "stdout",
     "output_type": "stream",
     "text": [
      "Error processing date 20231201: invalid literal for int() with base 10: 'NaN'\n"
     ]
    },
    {
     "name": "stderr",
     "output_type": "stream",
     "text": [
      "C:\\Users\\denni\\AppData\\Local\\Temp\\ipykernel_14316\\1144893452.py:51: FutureWarning: 'T' is deprecated and will be removed in a future version, please use 'min' instead.\n",
      "  full_day = pd.date_range(start=df['Date'].iloc[0] + ' 00:00', end=df['Date'].iloc[0] + ' 23:55', freq='5T')\n"
     ]
    },
    {
     "name": "stdout",
     "output_type": "stream",
     "text": [
      "Error processing date 20231003: invalid literal for int() with base 10: 'NaN'\n"
     ]
    },
    {
     "name": "stderr",
     "output_type": "stream",
     "text": [
      "C:\\Users\\denni\\AppData\\Local\\Temp\\ipykernel_14316\\1144893452.py:51: FutureWarning: 'T' is deprecated and will be removed in a future version, please use 'min' instead.\n",
      "  full_day = pd.date_range(start=df['Date'].iloc[0] + ' 00:00', end=df['Date'].iloc[0] + ' 23:55', freq='5T')\n"
     ]
    },
    {
     "name": "stdout",
     "output_type": "stream",
     "text": [
      "Error processing date 20231004: invalid literal for int() with base 10: 'NaN'\n"
     ]
    },
    {
     "name": "stderr",
     "output_type": "stream",
     "text": [
      "C:\\Users\\denni\\AppData\\Local\\Temp\\ipykernel_14316\\1144893452.py:51: FutureWarning: 'T' is deprecated and will be removed in a future version, please use 'min' instead.\n",
      "  full_day = pd.date_range(start=df['Date'].iloc[0] + ' 00:00', end=df['Date'].iloc[0] + ' 23:55', freq='5T')\n"
     ]
    },
    {
     "name": "stdout",
     "output_type": "stream",
     "text": [
      "Error processing date 20231005: invalid literal for int() with base 10: 'NaN'\n"
     ]
    },
    {
     "name": "stderr",
     "output_type": "stream",
     "text": [
      "C:\\Users\\denni\\AppData\\Local\\Temp\\ipykernel_14316\\1144893452.py:51: FutureWarning: 'T' is deprecated and will be removed in a future version, please use 'min' instead.\n",
      "  full_day = pd.date_range(start=df['Date'].iloc[0] + ' 00:00', end=df['Date'].iloc[0] + ' 23:55', freq='5T')\n"
     ]
    },
    {
     "name": "stdout",
     "output_type": "stream",
     "text": [
      "Error processing date 20231006: invalid literal for int() with base 10: 'NaN'\n"
     ]
    },
    {
     "name": "stderr",
     "output_type": "stream",
     "text": [
      "C:\\Users\\denni\\AppData\\Local\\Temp\\ipykernel_14316\\1144893452.py:51: FutureWarning: 'T' is deprecated and will be removed in a future version, please use 'min' instead.\n",
      "  full_day = pd.date_range(start=df['Date'].iloc[0] + ' 00:00', end=df['Date'].iloc[0] + ' 23:55', freq='5T')\n"
     ]
    },
    {
     "name": "stdout",
     "output_type": "stream",
     "text": [
      "Error processing date 20231007: invalid literal for int() with base 10: 'NaN'\n"
     ]
    },
    {
     "name": "stderr",
     "output_type": "stream",
     "text": [
      "C:\\Users\\denni\\AppData\\Local\\Temp\\ipykernel_14316\\1144893452.py:51: FutureWarning: 'T' is deprecated and will be removed in a future version, please use 'min' instead.\n",
      "  full_day = pd.date_range(start=df['Date'].iloc[0] + ' 00:00', end=df['Date'].iloc[0] + ' 23:55', freq='5T')\n"
     ]
    },
    {
     "name": "stdout",
     "output_type": "stream",
     "text": [
      "Error processing date 20231008: invalid literal for int() with base 10: 'NaN'\n"
     ]
    },
    {
     "name": "stderr",
     "output_type": "stream",
     "text": [
      "C:\\Users\\denni\\AppData\\Local\\Temp\\ipykernel_14316\\1144893452.py:51: FutureWarning: 'T' is deprecated and will be removed in a future version, please use 'min' instead.\n",
      "  full_day = pd.date_range(start=df['Date'].iloc[0] + ' 00:00', end=df['Date'].iloc[0] + ' 23:55', freq='5T')\n"
     ]
    },
    {
     "name": "stdout",
     "output_type": "stream",
     "text": [
      "Error processing date 20231009: invalid literal for int() with base 10: 'NaN'\n"
     ]
    },
    {
     "name": "stderr",
     "output_type": "stream",
     "text": [
      "C:\\Users\\denni\\AppData\\Local\\Temp\\ipykernel_14316\\1144893452.py:51: FutureWarning: 'T' is deprecated and will be removed in a future version, please use 'min' instead.\n",
      "  full_day = pd.date_range(start=df['Date'].iloc[0] + ' 00:00', end=df['Date'].iloc[0] + ' 23:55', freq='5T')\n"
     ]
    },
    {
     "name": "stdout",
     "output_type": "stream",
     "text": [
      "Error processing date 20231010: invalid literal for int() with base 10: 'NaN'\n"
     ]
    },
    {
     "name": "stderr",
     "output_type": "stream",
     "text": [
      "C:\\Users\\denni\\AppData\\Local\\Temp\\ipykernel_14316\\1144893452.py:51: FutureWarning: 'T' is deprecated and will be removed in a future version, please use 'min' instead.\n",
      "  full_day = pd.date_range(start=df['Date'].iloc[0] + ' 00:00', end=df['Date'].iloc[0] + ' 23:55', freq='5T')\n"
     ]
    },
    {
     "name": "stdout",
     "output_type": "stream",
     "text": [
      "Error processing date 20231011: invalid literal for int() with base 10: 'NaN'\n"
     ]
    },
    {
     "name": "stderr",
     "output_type": "stream",
     "text": [
      "C:\\Users\\denni\\AppData\\Local\\Temp\\ipykernel_14316\\1144893452.py:51: FutureWarning: 'T' is deprecated and will be removed in a future version, please use 'min' instead.\n",
      "  full_day = pd.date_range(start=df['Date'].iloc[0] + ' 00:00', end=df['Date'].iloc[0] + ' 23:55', freq='5T')\n"
     ]
    },
    {
     "name": "stdout",
     "output_type": "stream",
     "text": [
      "Error processing date 20231012: invalid literal for int() with base 10: 'NaN'\n"
     ]
    },
    {
     "name": "stderr",
     "output_type": "stream",
     "text": [
      "C:\\Users\\denni\\AppData\\Local\\Temp\\ipykernel_14316\\1144893452.py:51: FutureWarning: 'T' is deprecated and will be removed in a future version, please use 'min' instead.\n",
      "  full_day = pd.date_range(start=df['Date'].iloc[0] + ' 00:00', end=df['Date'].iloc[0] + ' 23:55', freq='5T')\n"
     ]
    },
    {
     "name": "stdout",
     "output_type": "stream",
     "text": [
      "Error processing date 20231102: invalid literal for int() with base 10: 'NaN'\n"
     ]
    },
    {
     "name": "stderr",
     "output_type": "stream",
     "text": [
      "C:\\Users\\denni\\AppData\\Local\\Temp\\ipykernel_14316\\1144893452.py:51: FutureWarning: 'T' is deprecated and will be removed in a future version, please use 'min' instead.\n",
      "  full_day = pd.date_range(start=df['Date'].iloc[0] + ' 00:00', end=df['Date'].iloc[0] + ' 23:55', freq='5T')\n"
     ]
    },
    {
     "name": "stdout",
     "output_type": "stream",
     "text": [
      "Error processing date 20231103: invalid literal for int() with base 10: 'NaN'\n"
     ]
    },
    {
     "name": "stderr",
     "output_type": "stream",
     "text": [
      "C:\\Users\\denni\\AppData\\Local\\Temp\\ipykernel_14316\\1144893452.py:51: FutureWarning: 'T' is deprecated and will be removed in a future version, please use 'min' instead.\n",
      "  full_day = pd.date_range(start=df['Date'].iloc[0] + ' 00:00', end=df['Date'].iloc[0] + ' 23:55', freq='5T')\n"
     ]
    },
    {
     "name": "stdout",
     "output_type": "stream",
     "text": [
      "Error processing date 20231104: invalid literal for int() with base 10: 'NaN'\n"
     ]
    },
    {
     "name": "stderr",
     "output_type": "stream",
     "text": [
      "C:\\Users\\denni\\AppData\\Local\\Temp\\ipykernel_14316\\1144893452.py:51: FutureWarning: 'T' is deprecated and will be removed in a future version, please use 'min' instead.\n",
      "  full_day = pd.date_range(start=df['Date'].iloc[0] + ' 00:00', end=df['Date'].iloc[0] + ' 23:55', freq='5T')\n"
     ]
    },
    {
     "name": "stdout",
     "output_type": "stream",
     "text": [
      "Error processing date 20231105: invalid literal for int() with base 10: 'NaN'\n"
     ]
    },
    {
     "name": "stderr",
     "output_type": "stream",
     "text": [
      "C:\\Users\\denni\\AppData\\Local\\Temp\\ipykernel_14316\\1144893452.py:51: FutureWarning: 'T' is deprecated and will be removed in a future version, please use 'min' instead.\n",
      "  full_day = pd.date_range(start=df['Date'].iloc[0] + ' 00:00', end=df['Date'].iloc[0] + ' 23:55', freq='5T')\n"
     ]
    },
    {
     "name": "stdout",
     "output_type": "stream",
     "text": [
      "Error processing date 20231106: invalid literal for int() with base 10: 'NaN'\n"
     ]
    },
    {
     "name": "stderr",
     "output_type": "stream",
     "text": [
      "C:\\Users\\denni\\AppData\\Local\\Temp\\ipykernel_14316\\1144893452.py:51: FutureWarning: 'T' is deprecated and will be removed in a future version, please use 'min' instead.\n",
      "  full_day = pd.date_range(start=df['Date'].iloc[0] + ' 00:00', end=df['Date'].iloc[0] + ' 23:55', freq='5T')\n"
     ]
    },
    {
     "name": "stdout",
     "output_type": "stream",
     "text": [
      "Error processing date 20231107: invalid literal for int() with base 10: 'NaN'\n"
     ]
    },
    {
     "name": "stderr",
     "output_type": "stream",
     "text": [
      "C:\\Users\\denni\\AppData\\Local\\Temp\\ipykernel_14316\\1144893452.py:51: FutureWarning: 'T' is deprecated and will be removed in a future version, please use 'min' instead.\n",
      "  full_day = pd.date_range(start=df['Date'].iloc[0] + ' 00:00', end=df['Date'].iloc[0] + ' 23:55', freq='5T')\n"
     ]
    },
    {
     "name": "stdout",
     "output_type": "stream",
     "text": [
      "Error processing date 20231108: invalid literal for int() with base 10: 'NaN'\n"
     ]
    },
    {
     "name": "stderr",
     "output_type": "stream",
     "text": [
      "C:\\Users\\denni\\AppData\\Local\\Temp\\ipykernel_14316\\1144893452.py:51: FutureWarning: 'T' is deprecated and will be removed in a future version, please use 'min' instead.\n",
      "  full_day = pd.date_range(start=df['Date'].iloc[0] + ' 00:00', end=df['Date'].iloc[0] + ' 23:55', freq='5T')\n"
     ]
    },
    {
     "name": "stdout",
     "output_type": "stream",
     "text": [
      "Error processing date 20231109: invalid literal for int() with base 10: 'NaN'\n"
     ]
    },
    {
     "name": "stderr",
     "output_type": "stream",
     "text": [
      "C:\\Users\\denni\\AppData\\Local\\Temp\\ipykernel_14316\\1144893452.py:51: FutureWarning: 'T' is deprecated and will be removed in a future version, please use 'min' instead.\n",
      "  full_day = pd.date_range(start=df['Date'].iloc[0] + ' 00:00', end=df['Date'].iloc[0] + ' 23:55', freq='5T')\n"
     ]
    },
    {
     "name": "stdout",
     "output_type": "stream",
     "text": [
      "Error processing date 20231110: invalid literal for int() with base 10: 'NaN'\n"
     ]
    },
    {
     "name": "stderr",
     "output_type": "stream",
     "text": [
      "C:\\Users\\denni\\AppData\\Local\\Temp\\ipykernel_14316\\1144893452.py:51: FutureWarning: 'T' is deprecated and will be removed in a future version, please use 'min' instead.\n",
      "  full_day = pd.date_range(start=df['Date'].iloc[0] + ' 00:00', end=df['Date'].iloc[0] + ' 23:55', freq='5T')\n"
     ]
    },
    {
     "name": "stdout",
     "output_type": "stream",
     "text": [
      "Error processing date 20231111: invalid literal for int() with base 10: 'NaN'\n"
     ]
    },
    {
     "name": "stderr",
     "output_type": "stream",
     "text": [
      "C:\\Users\\denni\\AppData\\Local\\Temp\\ipykernel_14316\\1144893452.py:51: FutureWarning: 'T' is deprecated and will be removed in a future version, please use 'min' instead.\n",
      "  full_day = pd.date_range(start=df['Date'].iloc[0] + ' 00:00', end=df['Date'].iloc[0] + ' 23:55', freq='5T')\n"
     ]
    },
    {
     "name": "stdout",
     "output_type": "stream",
     "text": [
      "Error processing date 20230325: invalid literal for int() with base 10: 'NaN'\n"
     ]
    },
    {
     "name": "stderr",
     "output_type": "stream",
     "text": [
      "C:\\Users\\denni\\AppData\\Local\\Temp\\ipykernel_14316\\1144893452.py:51: FutureWarning: 'T' is deprecated and will be removed in a future version, please use 'min' instead.\n",
      "  full_day = pd.date_range(start=df['Date'].iloc[0] + ' 00:00', end=df['Date'].iloc[0] + ' 23:55', freq='5T')\n"
     ]
    },
    {
     "name": "stdout",
     "output_type": "stream",
     "text": [
      "Error processing date 20230326: invalid literal for int() with base 10: 'NaN'\n"
     ]
    },
    {
     "name": "stderr",
     "output_type": "stream",
     "text": [
      "C:\\Users\\denni\\AppData\\Local\\Temp\\ipykernel_14316\\1144893452.py:51: FutureWarning: 'T' is deprecated and will be removed in a future version, please use 'min' instead.\n",
      "  full_day = pd.date_range(start=df['Date'].iloc[0] + ' 00:00', end=df['Date'].iloc[0] + ' 23:55', freq='5T')\n"
     ]
    },
    {
     "name": "stdout",
     "output_type": "stream",
     "text": [
      "Error processing date 20230327: invalid literal for int() with base 10: 'NaN'\n"
     ]
    },
    {
     "name": "stderr",
     "output_type": "stream",
     "text": [
      "C:\\Users\\denni\\AppData\\Local\\Temp\\ipykernel_14316\\1144893452.py:51: FutureWarning: 'T' is deprecated and will be removed in a future version, please use 'min' instead.\n",
      "  full_day = pd.date_range(start=df['Date'].iloc[0] + ' 00:00', end=df['Date'].iloc[0] + ' 23:55', freq='5T')\n"
     ]
    },
    {
     "name": "stdout",
     "output_type": "stream",
     "text": [
      "Error processing date 20230328: invalid literal for int() with base 10: 'NaN'\n"
     ]
    },
    {
     "name": "stderr",
     "output_type": "stream",
     "text": [
      "C:\\Users\\denni\\AppData\\Local\\Temp\\ipykernel_14316\\1144893452.py:51: FutureWarning: 'T' is deprecated and will be removed in a future version, please use 'min' instead.\n",
      "  full_day = pd.date_range(start=df['Date'].iloc[0] + ' 00:00', end=df['Date'].iloc[0] + ' 23:55', freq='5T')\n"
     ]
    },
    {
     "name": "stdout",
     "output_type": "stream",
     "text": [
      "Error processing date 20230329: invalid literal for int() with base 10: 'NaN'\n"
     ]
    },
    {
     "name": "stderr",
     "output_type": "stream",
     "text": [
      "C:\\Users\\denni\\AppData\\Local\\Temp\\ipykernel_14316\\1144893452.py:51: FutureWarning: 'T' is deprecated and will be removed in a future version, please use 'min' instead.\n",
      "  full_day = pd.date_range(start=df['Date'].iloc[0] + ' 00:00', end=df['Date'].iloc[0] + ' 23:55', freq='5T')\n"
     ]
    },
    {
     "name": "stdout",
     "output_type": "stream",
     "text": [
      "Error processing date 20230330: invalid literal for int() with base 10: 'NaN'\n"
     ]
    },
    {
     "name": "stderr",
     "output_type": "stream",
     "text": [
      "C:\\Users\\denni\\AppData\\Local\\Temp\\ipykernel_14316\\1144893452.py:51: FutureWarning: 'T' is deprecated and will be removed in a future version, please use 'min' instead.\n",
      "  full_day = pd.date_range(start=df['Date'].iloc[0] + ' 00:00', end=df['Date'].iloc[0] + ' 23:55', freq='5T')\n"
     ]
    },
    {
     "name": "stdout",
     "output_type": "stream",
     "text": [
      "Error processing date 20230331: invalid literal for int() with base 10: 'NaN'\n"
     ]
    },
    {
     "name": "stderr",
     "output_type": "stream",
     "text": [
      "C:\\Users\\denni\\AppData\\Local\\Temp\\ipykernel_14316\\1144893452.py:51: FutureWarning: 'T' is deprecated and will be removed in a future version, please use 'min' instead.\n",
      "  full_day = pd.date_range(start=df['Date'].iloc[0] + ' 00:00', end=df['Date'].iloc[0] + ' 23:55', freq='5T')\n"
     ]
    },
    {
     "name": "stdout",
     "output_type": "stream",
     "text": [
      "Error processing date 20230401: invalid literal for int() with base 10: 'NaN'\n"
     ]
    },
    {
     "name": "stderr",
     "output_type": "stream",
     "text": [
      "C:\\Users\\denni\\AppData\\Local\\Temp\\ipykernel_14316\\1144893452.py:51: FutureWarning: 'T' is deprecated and will be removed in a future version, please use 'min' instead.\n",
      "  full_day = pd.date_range(start=df['Date'].iloc[0] + ' 00:00', end=df['Date'].iloc[0] + ' 23:55', freq='5T')\n"
     ]
    },
    {
     "name": "stdout",
     "output_type": "stream",
     "text": [
      "Error processing date 20230402: invalid literal for int() with base 10: 'NaN'\n"
     ]
    },
    {
     "name": "stderr",
     "output_type": "stream",
     "text": [
      "C:\\Users\\denni\\AppData\\Local\\Temp\\ipykernel_14316\\1144893452.py:51: FutureWarning: 'T' is deprecated and will be removed in a future version, please use 'min' instead.\n",
      "  full_day = pd.date_range(start=df['Date'].iloc[0] + ' 00:00', end=df['Date'].iloc[0] + ' 23:55', freq='5T')\n"
     ]
    },
    {
     "name": "stdout",
     "output_type": "stream",
     "text": [
      "Error processing date 20230403: invalid literal for int() with base 10: 'NaN'\n"
     ]
    },
    {
     "name": "stderr",
     "output_type": "stream",
     "text": [
      "C:\\Users\\denni\\AppData\\Local\\Temp\\ipykernel_14316\\1144893452.py:51: FutureWarning: 'T' is deprecated and will be removed in a future version, please use 'min' instead.\n",
      "  full_day = pd.date_range(start=df['Date'].iloc[0] + ' 00:00', end=df['Date'].iloc[0] + ' 23:55', freq='5T')\n"
     ]
    },
    {
     "name": "stdout",
     "output_type": "stream",
     "text": [
      "Error processing date 20231129: invalid literal for int() with base 10: 'NaN'\n"
     ]
    },
    {
     "name": "stderr",
     "output_type": "stream",
     "text": [
      "C:\\Users\\denni\\AppData\\Local\\Temp\\ipykernel_14316\\1144893452.py:51: FutureWarning: 'T' is deprecated and will be removed in a future version, please use 'min' instead.\n",
      "  full_day = pd.date_range(start=df['Date'].iloc[0] + ' 00:00', end=df['Date'].iloc[0] + ' 23:55', freq='5T')\n"
     ]
    },
    {
     "name": "stdout",
     "output_type": "stream",
     "text": [
      "Error processing date 20231130: invalid literal for int() with base 10: 'NaN'\n"
     ]
    },
    {
     "name": "stderr",
     "output_type": "stream",
     "text": [
      "C:\\Users\\denni\\AppData\\Local\\Temp\\ipykernel_14316\\1144893452.py:51: FutureWarning: 'T' is deprecated and will be removed in a future version, please use 'min' instead.\n",
      "  full_day = pd.date_range(start=df['Date'].iloc[0] + ' 00:00', end=df['Date'].iloc[0] + ' 23:55', freq='5T')\n"
     ]
    },
    {
     "name": "stdout",
     "output_type": "stream",
     "text": [
      "Error processing date 20231201: invalid literal for int() with base 10: 'NaN'\n"
     ]
    },
    {
     "name": "stderr",
     "output_type": "stream",
     "text": [
      "C:\\Users\\denni\\AppData\\Local\\Temp\\ipykernel_14316\\1144893452.py:51: FutureWarning: 'T' is deprecated and will be removed in a future version, please use 'min' instead.\n",
      "  full_day = pd.date_range(start=df['Date'].iloc[0] + ' 00:00', end=df['Date'].iloc[0] + ' 23:55', freq='5T')\n"
     ]
    },
    {
     "name": "stdout",
     "output_type": "stream",
     "text": [
      "Error processing date 20231202: invalid literal for int() with base 10: 'NaN'\n"
     ]
    },
    {
     "name": "stderr",
     "output_type": "stream",
     "text": [
      "C:\\Users\\denni\\AppData\\Local\\Temp\\ipykernel_14316\\1144893452.py:51: FutureWarning: 'T' is deprecated and will be removed in a future version, please use 'min' instead.\n",
      "  full_day = pd.date_range(start=df['Date'].iloc[0] + ' 00:00', end=df['Date'].iloc[0] + ' 23:55', freq='5T')\n"
     ]
    },
    {
     "name": "stdout",
     "output_type": "stream",
     "text": [
      "Error processing date 20231203: invalid literal for int() with base 10: 'NaN'\n"
     ]
    },
    {
     "name": "stderr",
     "output_type": "stream",
     "text": [
      "C:\\Users\\denni\\AppData\\Local\\Temp\\ipykernel_14316\\1144893452.py:51: FutureWarning: 'T' is deprecated and will be removed in a future version, please use 'min' instead.\n",
      "  full_day = pd.date_range(start=df['Date'].iloc[0] + ' 00:00', end=df['Date'].iloc[0] + ' 23:55', freq='5T')\n"
     ]
    },
    {
     "name": "stdout",
     "output_type": "stream",
     "text": [
      "Error processing date 20231204: invalid literal for int() with base 10: 'NaN'\n"
     ]
    },
    {
     "name": "stderr",
     "output_type": "stream",
     "text": [
      "C:\\Users\\denni\\AppData\\Local\\Temp\\ipykernel_14316\\1144893452.py:51: FutureWarning: 'T' is deprecated and will be removed in a future version, please use 'min' instead.\n",
      "  full_day = pd.date_range(start=df['Date'].iloc[0] + ' 00:00', end=df['Date'].iloc[0] + ' 23:55', freq='5T')\n"
     ]
    },
    {
     "name": "stdout",
     "output_type": "stream",
     "text": [
      "Error processing date 20231205: invalid literal for int() with base 10: 'NaN'\n"
     ]
    },
    {
     "name": "stderr",
     "output_type": "stream",
     "text": [
      "C:\\Users\\denni\\AppData\\Local\\Temp\\ipykernel_14316\\1144893452.py:51: FutureWarning: 'T' is deprecated and will be removed in a future version, please use 'min' instead.\n",
      "  full_day = pd.date_range(start=df['Date'].iloc[0] + ' 00:00', end=df['Date'].iloc[0] + ' 23:55', freq='5T')\n"
     ]
    },
    {
     "name": "stdout",
     "output_type": "stream",
     "text": [
      "Error processing date 20231206: invalid literal for int() with base 10: 'NaN'\n"
     ]
    },
    {
     "name": "stderr",
     "output_type": "stream",
     "text": [
      "C:\\Users\\denni\\AppData\\Local\\Temp\\ipykernel_14316\\1144893452.py:51: FutureWarning: 'T' is deprecated and will be removed in a future version, please use 'min' instead.\n",
      "  full_day = pd.date_range(start=df['Date'].iloc[0] + ' 00:00', end=df['Date'].iloc[0] + ' 23:55', freq='5T')\n"
     ]
    },
    {
     "name": "stdout",
     "output_type": "stream",
     "text": [
      "Error processing date 20231207: invalid literal for int() with base 10: 'NaN'\n"
     ]
    },
    {
     "name": "stderr",
     "output_type": "stream",
     "text": [
      "C:\\Users\\denni\\AppData\\Local\\Temp\\ipykernel_14316\\1144893452.py:51: FutureWarning: 'T' is deprecated and will be removed in a future version, please use 'min' instead.\n",
      "  full_day = pd.date_range(start=df['Date'].iloc[0] + ' 00:00', end=df['Date'].iloc[0] + ' 23:55', freq='5T')\n"
     ]
    },
    {
     "name": "stdout",
     "output_type": "stream",
     "text": [
      "Error processing date 20231208: invalid literal for int() with base 10: 'NaN'\n"
     ]
    },
    {
     "name": "stderr",
     "output_type": "stream",
     "text": [
      "C:\\Users\\denni\\AppData\\Local\\Temp\\ipykernel_14316\\1144893452.py:51: FutureWarning: 'T' is deprecated and will be removed in a future version, please use 'min' instead.\n",
      "  full_day = pd.date_range(start=df['Date'].iloc[0] + ' 00:00', end=df['Date'].iloc[0] + ' 23:55', freq='5T')\n"
     ]
    },
    {
     "name": "stdout",
     "output_type": "stream",
     "text": [
      "Error processing date 20231110: invalid literal for int() with base 10: 'NaN'\n"
     ]
    },
    {
     "name": "stderr",
     "output_type": "stream",
     "text": [
      "C:\\Users\\denni\\AppData\\Local\\Temp\\ipykernel_14316\\1144893452.py:51: FutureWarning: 'T' is deprecated and will be removed in a future version, please use 'min' instead.\n",
      "  full_day = pd.date_range(start=df['Date'].iloc[0] + ' 00:00', end=df['Date'].iloc[0] + ' 23:55', freq='5T')\n"
     ]
    },
    {
     "name": "stdout",
     "output_type": "stream",
     "text": [
      "Error processing date 20231111: invalid literal for int() with base 10: 'NaN'\n"
     ]
    },
    {
     "name": "stderr",
     "output_type": "stream",
     "text": [
      "C:\\Users\\denni\\AppData\\Local\\Temp\\ipykernel_14316\\1144893452.py:51: FutureWarning: 'T' is deprecated and will be removed in a future version, please use 'min' instead.\n",
      "  full_day = pd.date_range(start=df['Date'].iloc[0] + ' 00:00', end=df['Date'].iloc[0] + ' 23:55', freq='5T')\n"
     ]
    },
    {
     "name": "stdout",
     "output_type": "stream",
     "text": [
      "Error processing date 20231112: invalid literal for int() with base 10: 'NaN'\n"
     ]
    },
    {
     "name": "stderr",
     "output_type": "stream",
     "text": [
      "C:\\Users\\denni\\AppData\\Local\\Temp\\ipykernel_14316\\1144893452.py:51: FutureWarning: 'T' is deprecated and will be removed in a future version, please use 'min' instead.\n",
      "  full_day = pd.date_range(start=df['Date'].iloc[0] + ' 00:00', end=df['Date'].iloc[0] + ' 23:55', freq='5T')\n"
     ]
    },
    {
     "name": "stdout",
     "output_type": "stream",
     "text": [
      "Error processing date 20231113: invalid literal for int() with base 10: 'NaN'\n"
     ]
    },
    {
     "name": "stderr",
     "output_type": "stream",
     "text": [
      "C:\\Users\\denni\\AppData\\Local\\Temp\\ipykernel_14316\\1144893452.py:51: FutureWarning: 'T' is deprecated and will be removed in a future version, please use 'min' instead.\n",
      "  full_day = pd.date_range(start=df['Date'].iloc[0] + ' 00:00', end=df['Date'].iloc[0] + ' 23:55', freq='5T')\n"
     ]
    },
    {
     "name": "stdout",
     "output_type": "stream",
     "text": [
      "Error processing date 20231114: invalid literal for int() with base 10: 'NaN'\n"
     ]
    },
    {
     "name": "stderr",
     "output_type": "stream",
     "text": [
      "C:\\Users\\denni\\AppData\\Local\\Temp\\ipykernel_14316\\1144893452.py:51: FutureWarning: 'T' is deprecated and will be removed in a future version, please use 'min' instead.\n",
      "  full_day = pd.date_range(start=df['Date'].iloc[0] + ' 00:00', end=df['Date'].iloc[0] + ' 23:55', freq='5T')\n"
     ]
    },
    {
     "name": "stdout",
     "output_type": "stream",
     "text": [
      "Error processing date 20231115: invalid literal for int() with base 10: 'NaN'\n"
     ]
    },
    {
     "name": "stderr",
     "output_type": "stream",
     "text": [
      "C:\\Users\\denni\\AppData\\Local\\Temp\\ipykernel_14316\\1144893452.py:51: FutureWarning: 'T' is deprecated and will be removed in a future version, please use 'min' instead.\n",
      "  full_day = pd.date_range(start=df['Date'].iloc[0] + ' 00:00', end=df['Date'].iloc[0] + ' 23:55', freq='5T')\n"
     ]
    },
    {
     "name": "stdout",
     "output_type": "stream",
     "text": [
      "Error processing date 20231116: invalid literal for int() with base 10: 'NaN'\n"
     ]
    },
    {
     "name": "stderr",
     "output_type": "stream",
     "text": [
      "C:\\Users\\denni\\AppData\\Local\\Temp\\ipykernel_14316\\1144893452.py:51: FutureWarning: 'T' is deprecated and will be removed in a future version, please use 'min' instead.\n",
      "  full_day = pd.date_range(start=df['Date'].iloc[0] + ' 00:00', end=df['Date'].iloc[0] + ' 23:55', freq='5T')\n"
     ]
    },
    {
     "name": "stdout",
     "output_type": "stream",
     "text": [
      "Error processing date 20231117: invalid literal for int() with base 10: 'NaN'\n"
     ]
    },
    {
     "name": "stderr",
     "output_type": "stream",
     "text": [
      "C:\\Users\\denni\\AppData\\Local\\Temp\\ipykernel_14316\\1144893452.py:51: FutureWarning: 'T' is deprecated and will be removed in a future version, please use 'min' instead.\n",
      "  full_day = pd.date_range(start=df['Date'].iloc[0] + ' 00:00', end=df['Date'].iloc[0] + ' 23:55', freq='5T')\n"
     ]
    },
    {
     "name": "stdout",
     "output_type": "stream",
     "text": [
      "Error processing date 20231118: invalid literal for int() with base 10: 'NaN'\n"
     ]
    },
    {
     "name": "stderr",
     "output_type": "stream",
     "text": [
      "C:\\Users\\denni\\AppData\\Local\\Temp\\ipykernel_14316\\1144893452.py:51: FutureWarning: 'T' is deprecated and will be removed in a future version, please use 'min' instead.\n",
      "  full_day = pd.date_range(start=df['Date'].iloc[0] + ' 00:00', end=df['Date'].iloc[0] + ' 23:55', freq='5T')\n"
     ]
    },
    {
     "name": "stdout",
     "output_type": "stream",
     "text": [
      "Error processing date 20231119: invalid literal for int() with base 10: 'NaN'\n"
     ]
    },
    {
     "name": "stderr",
     "output_type": "stream",
     "text": [
      "C:\\Users\\denni\\AppData\\Local\\Temp\\ipykernel_14316\\1144893452.py:51: FutureWarning: 'T' is deprecated and will be removed in a future version, please use 'min' instead.\n",
      "  full_day = pd.date_range(start=df['Date'].iloc[0] + ' 00:00', end=df['Date'].iloc[0] + ' 23:55', freq='5T')\n"
     ]
    },
    {
     "name": "stdout",
     "output_type": "stream",
     "text": [
      "Error processing date 20230920: invalid literal for int() with base 10: 'NaN'\n"
     ]
    },
    {
     "name": "stderr",
     "output_type": "stream",
     "text": [
      "C:\\Users\\denni\\AppData\\Local\\Temp\\ipykernel_14316\\1144893452.py:51: FutureWarning: 'T' is deprecated and will be removed in a future version, please use 'min' instead.\n",
      "  full_day = pd.date_range(start=df['Date'].iloc[0] + ' 00:00', end=df['Date'].iloc[0] + ' 23:55', freq='5T')\n"
     ]
    },
    {
     "name": "stdout",
     "output_type": "stream",
     "text": [
      "Error processing date 20230921: invalid literal for int() with base 10: 'NaN'\n"
     ]
    },
    {
     "name": "stderr",
     "output_type": "stream",
     "text": [
      "C:\\Users\\denni\\AppData\\Local\\Temp\\ipykernel_14316\\1144893452.py:51: FutureWarning: 'T' is deprecated and will be removed in a future version, please use 'min' instead.\n",
      "  full_day = pd.date_range(start=df['Date'].iloc[0] + ' 00:00', end=df['Date'].iloc[0] + ' 23:55', freq='5T')\n"
     ]
    },
    {
     "name": "stdout",
     "output_type": "stream",
     "text": [
      "Error processing date 20230922: invalid literal for int() with base 10: 'NaN'\n"
     ]
    },
    {
     "name": "stderr",
     "output_type": "stream",
     "text": [
      "C:\\Users\\denni\\AppData\\Local\\Temp\\ipykernel_14316\\1144893452.py:51: FutureWarning: 'T' is deprecated and will be removed in a future version, please use 'min' instead.\n",
      "  full_day = pd.date_range(start=df['Date'].iloc[0] + ' 00:00', end=df['Date'].iloc[0] + ' 23:55', freq='5T')\n"
     ]
    },
    {
     "name": "stdout",
     "output_type": "stream",
     "text": [
      "Error processing date 20230923: invalid literal for int() with base 10: 'NaN'\n"
     ]
    },
    {
     "name": "stderr",
     "output_type": "stream",
     "text": [
      "C:\\Users\\denni\\AppData\\Local\\Temp\\ipykernel_14316\\1144893452.py:51: FutureWarning: 'T' is deprecated and will be removed in a future version, please use 'min' instead.\n",
      "  full_day = pd.date_range(start=df['Date'].iloc[0] + ' 00:00', end=df['Date'].iloc[0] + ' 23:55', freq='5T')\n"
     ]
    },
    {
     "name": "stdout",
     "output_type": "stream",
     "text": [
      "Error processing date 20230924: invalid literal for int() with base 10: 'NaN'\n"
     ]
    },
    {
     "name": "stderr",
     "output_type": "stream",
     "text": [
      "C:\\Users\\denni\\AppData\\Local\\Temp\\ipykernel_14316\\1144893452.py:51: FutureWarning: 'T' is deprecated and will be removed in a future version, please use 'min' instead.\n",
      "  full_day = pd.date_range(start=df['Date'].iloc[0] + ' 00:00', end=df['Date'].iloc[0] + ' 23:55', freq='5T')\n"
     ]
    },
    {
     "name": "stdout",
     "output_type": "stream",
     "text": [
      "Error processing date 20230925: invalid literal for int() with base 10: 'NaN'\n"
     ]
    },
    {
     "name": "stderr",
     "output_type": "stream",
     "text": [
      "C:\\Users\\denni\\AppData\\Local\\Temp\\ipykernel_14316\\1144893452.py:51: FutureWarning: 'T' is deprecated and will be removed in a future version, please use 'min' instead.\n",
      "  full_day = pd.date_range(start=df['Date'].iloc[0] + ' 00:00', end=df['Date'].iloc[0] + ' 23:55', freq='5T')\n"
     ]
    },
    {
     "name": "stdout",
     "output_type": "stream",
     "text": [
      "Error processing date 20230926: invalid literal for int() with base 10: 'NaN'\n"
     ]
    },
    {
     "name": "stderr",
     "output_type": "stream",
     "text": [
      "C:\\Users\\denni\\AppData\\Local\\Temp\\ipykernel_14316\\1144893452.py:51: FutureWarning: 'T' is deprecated and will be removed in a future version, please use 'min' instead.\n",
      "  full_day = pd.date_range(start=df['Date'].iloc[0] + ' 00:00', end=df['Date'].iloc[0] + ' 23:55', freq='5T')\n"
     ]
    },
    {
     "name": "stdout",
     "output_type": "stream",
     "text": [
      "Error processing date 20230927: invalid literal for int() with base 10: 'NaN'\n"
     ]
    },
    {
     "name": "stderr",
     "output_type": "stream",
     "text": [
      "C:\\Users\\denni\\AppData\\Local\\Temp\\ipykernel_14316\\1144893452.py:51: FutureWarning: 'T' is deprecated and will be removed in a future version, please use 'min' instead.\n",
      "  full_day = pd.date_range(start=df['Date'].iloc[0] + ' 00:00', end=df['Date'].iloc[0] + ' 23:55', freq='5T')\n"
     ]
    },
    {
     "name": "stdout",
     "output_type": "stream",
     "text": [
      "Error processing date 20230928: invalid literal for int() with base 10: 'NaN'\n"
     ]
    },
    {
     "name": "stderr",
     "output_type": "stream",
     "text": [
      "C:\\Users\\denni\\AppData\\Local\\Temp\\ipykernel_14316\\1144893452.py:51: FutureWarning: 'T' is deprecated and will be removed in a future version, please use 'min' instead.\n",
      "  full_day = pd.date_range(start=df['Date'].iloc[0] + ' 00:00', end=df['Date'].iloc[0] + ' 23:55', freq='5T')\n"
     ]
    },
    {
     "name": "stdout",
     "output_type": "stream",
     "text": [
      "Error processing date 20230929: invalid literal for int() with base 10: 'NaN'\n"
     ]
    },
    {
     "name": "stderr",
     "output_type": "stream",
     "text": [
      "C:\\Users\\denni\\AppData\\Local\\Temp\\ipykernel_14316\\1144893452.py:51: FutureWarning: 'T' is deprecated and will be removed in a future version, please use 'min' instead.\n",
      "  full_day = pd.date_range(start=df['Date'].iloc[0] + ' 00:00', end=df['Date'].iloc[0] + ' 23:55', freq='5T')\n"
     ]
    },
    {
     "name": "stdout",
     "output_type": "stream",
     "text": [
      "Error processing date 20230201: invalid literal for int() with base 10: 'NaN'\n"
     ]
    },
    {
     "name": "stderr",
     "output_type": "stream",
     "text": [
      "C:\\Users\\denni\\AppData\\Local\\Temp\\ipykernel_14316\\1144893452.py:51: FutureWarning: 'T' is deprecated and will be removed in a future version, please use 'min' instead.\n",
      "  full_day = pd.date_range(start=df['Date'].iloc[0] + ' 00:00', end=df['Date'].iloc[0] + ' 23:55', freq='5T')\n"
     ]
    },
    {
     "name": "stdout",
     "output_type": "stream",
     "text": [
      "Error processing date 20230202: invalid literal for int() with base 10: 'NaN'\n"
     ]
    },
    {
     "name": "stderr",
     "output_type": "stream",
     "text": [
      "C:\\Users\\denni\\AppData\\Local\\Temp\\ipykernel_14316\\1144893452.py:51: FutureWarning: 'T' is deprecated and will be removed in a future version, please use 'min' instead.\n",
      "  full_day = pd.date_range(start=df['Date'].iloc[0] + ' 00:00', end=df['Date'].iloc[0] + ' 23:55', freq='5T')\n"
     ]
    },
    {
     "name": "stdout",
     "output_type": "stream",
     "text": [
      "Error processing date 20230203: invalid literal for int() with base 10: 'NaN'\n"
     ]
    },
    {
     "name": "stderr",
     "output_type": "stream",
     "text": [
      "C:\\Users\\denni\\AppData\\Local\\Temp\\ipykernel_14316\\1144893452.py:51: FutureWarning: 'T' is deprecated and will be removed in a future version, please use 'min' instead.\n",
      "  full_day = pd.date_range(start=df['Date'].iloc[0] + ' 00:00', end=df['Date'].iloc[0] + ' 23:55', freq='5T')\n"
     ]
    },
    {
     "name": "stdout",
     "output_type": "stream",
     "text": [
      "Error processing date 20230204: invalid literal for int() with base 10: 'NaN'\n"
     ]
    },
    {
     "name": "stderr",
     "output_type": "stream",
     "text": [
      "C:\\Users\\denni\\AppData\\Local\\Temp\\ipykernel_14316\\1144893452.py:51: FutureWarning: 'T' is deprecated and will be removed in a future version, please use 'min' instead.\n",
      "  full_day = pd.date_range(start=df['Date'].iloc[0] + ' 00:00', end=df['Date'].iloc[0] + ' 23:55', freq='5T')\n"
     ]
    },
    {
     "name": "stdout",
     "output_type": "stream",
     "text": [
      "Error processing date 20230205: invalid literal for int() with base 10: 'NaN'\n"
     ]
    },
    {
     "name": "stderr",
     "output_type": "stream",
     "text": [
      "C:\\Users\\denni\\AppData\\Local\\Temp\\ipykernel_14316\\1144893452.py:51: FutureWarning: 'T' is deprecated and will be removed in a future version, please use 'min' instead.\n",
      "  full_day = pd.date_range(start=df['Date'].iloc[0] + ' 00:00', end=df['Date'].iloc[0] + ' 23:55', freq='5T')\n"
     ]
    },
    {
     "name": "stdout",
     "output_type": "stream",
     "text": [
      "Error processing date 20230206: invalid literal for int() with base 10: 'NaN'\n"
     ]
    },
    {
     "name": "stderr",
     "output_type": "stream",
     "text": [
      "C:\\Users\\denni\\AppData\\Local\\Temp\\ipykernel_14316\\1144893452.py:51: FutureWarning: 'T' is deprecated and will be removed in a future version, please use 'min' instead.\n",
      "  full_day = pd.date_range(start=df['Date'].iloc[0] + ' 00:00', end=df['Date'].iloc[0] + ' 23:55', freq='5T')\n"
     ]
    },
    {
     "name": "stdout",
     "output_type": "stream",
     "text": [
      "Error processing date 20230207: invalid literal for int() with base 10: 'NaN'\n"
     ]
    },
    {
     "name": "stderr",
     "output_type": "stream",
     "text": [
      "C:\\Users\\denni\\AppData\\Local\\Temp\\ipykernel_14316\\1144893452.py:51: FutureWarning: 'T' is deprecated and will be removed in a future version, please use 'min' instead.\n",
      "  full_day = pd.date_range(start=df['Date'].iloc[0] + ' 00:00', end=df['Date'].iloc[0] + ' 23:55', freq='5T')\n"
     ]
    },
    {
     "name": "stdout",
     "output_type": "stream",
     "text": [
      "Error processing date 20230208: invalid literal for int() with base 10: 'NaN'\n"
     ]
    },
    {
     "name": "stderr",
     "output_type": "stream",
     "text": [
      "C:\\Users\\denni\\AppData\\Local\\Temp\\ipykernel_14316\\1144893452.py:51: FutureWarning: 'T' is deprecated and will be removed in a future version, please use 'min' instead.\n",
      "  full_day = pd.date_range(start=df['Date'].iloc[0] + ' 00:00', end=df['Date'].iloc[0] + ' 23:55', freq='5T')\n"
     ]
    },
    {
     "name": "stdout",
     "output_type": "stream",
     "text": [
      "Error processing date 20230209: invalid literal for int() with base 10: 'NaN'\n",
      "Error processing date 20230210: invalid literal for int() with base 10: 'NaN'\n",
      "Empty DataFrame\n",
      "Columns: []\n",
      "Index: []\n"
     ]
    },
    {
     "name": "stderr",
     "output_type": "stream",
     "text": [
      "C:\\Users\\denni\\AppData\\Local\\Temp\\ipykernel_14316\\1144893452.py:51: FutureWarning: 'T' is deprecated and will be removed in a future version, please use 'min' instead.\n",
      "  full_day = pd.date_range(start=df['Date'].iloc[0] + ' 00:00', end=df['Date'].iloc[0] + ' 23:55', freq='5T')\n"
     ]
    }
   ],
   "source": [
    "class PVOutputAPI:\n",
    "    BASE_URL = \"https://pvoutput.org/service/r2/getstatus.jsp\"\n",
    "    \n",
    "    def __init__(self, api_key, system_id):\n",
    "        self.api_key = api_key\n",
    "        self.system_id = system_id\n",
    "\n",
    "    def get_status(self, date=None, time=None, history=None, ascending=None, limit=None, time_from=None, time_to=None, extended_data=None, another_system_id=None, day_statistics=None):\n",
    "        params = {\n",
    "            'd': date,\n",
    "            't': time,\n",
    "            'h': history,\n",
    "            'asc': ascending,\n",
    "            'limit': limit,\n",
    "            'from': time_from,\n",
    "            'to': time_to,\n",
    "            'ext': extended_data,\n",
    "            'sid1': another_system_id,\n",
    "            'stats': day_statistics\n",
    "        }\n",
    "        \n",
    "        headers = {\n",
    "            'X-Pvoutput-Apikey': self.api_key,\n",
    "            'X-Pvoutput-SystemId': self.system_id\n",
    "        }\n",
    "\n",
    "        response = requests.get(self.BASE_URL, headers=headers, params=params)\n",
    "        \n",
    "        if response.status_code == 200:\n",
    "            return response.text\n",
    "        else:\n",
    "            response.raise_for_status()\n",
    "\n",
    "def parse_response_to_dataframe(response):\n",
    "    entries = response.split(';')\n",
    "    data = []\n",
    "    for entry in entries:\n",
    "        fields = entry.split(',')[:5]\n",
    "        data.append(fields)\n",
    "    \n",
    "    df = pd.DataFrame(data, columns=['Date', 'Time', 'Energy generation (kWh)', 'Efficiency', 'Power generation (W)'])\n",
    "    return df\n",
    "\n",
    "def process_data_for_date(api, date,another_system_id):\n",
    "    response = api.get_status(date=date, ascending=\"1\", history=\"1\", time_from=\"00:00\", limit=\"500\", time_to=\"23:55\", extended_data=\"1\", another_system_id=another_system_id)\n",
    "    df = parse_response_to_dataframe(response)\n",
    "    \n",
    "    df['DateTime'] = pd.to_datetime(df['Date'] + ' ' + df['Time'])\n",
    "    df.set_index('DateTime', inplace=True)\n",
    "    \n",
    "    full_day = pd.date_range(start=df['Date'].iloc[0] + ' 00:00', end=df['Date'].iloc[0] + ' 23:55', freq='5T')\n",
    "    full_day_df = pd.DataFrame(index=full_day)\n",
    "    full_day_df['Energy generation (kWh)'] = 0\n",
    "    full_day_df['Efficiency'] = 0.000\n",
    "    full_day_df['Power generation (W)'] = 0\n",
    "    \n",
    "    merged_df = full_day_df.merge(df, how='left', left_index=True, right_index=True, suffixes=('', '_y'))\n",
    "    \n",
    "    merged_df['Energy generation (kWh)'] = merged_df['Energy generation (kWh)_y'].fillna(0)\n",
    "    merged_df['Efficiency'] = merged_df['Efficiency_y'].fillna(0.000)\n",
    "    merged_df['Power generation (W)'] = merged_df['Power generation (W)_y'].fillna(0)\n",
    "    \n",
    "    merged_df = merged_df[['Energy generation (kWh)', 'Efficiency', 'Power generation (W)']]\n",
    "    merged_df = merged_df[merged_df.index.minute == 0]\n",
    "    merged_df.reset_index(inplace=True)\n",
    "    \n",
    "    return merged_df\n",
    "\n",
    "api_key = \"a6fde136a0f43555bfe0beff83520a1cb9a49c57\"\n",
    "system_id = \"105034\"\n",
    "another_system_id = \"83018\"\n",
    "pv_output_api = PVOutputAPI(api_key, system_id)\n",
    "\n",
    "# Generate 10 random start dates\n",
    "start_date = datetime(2023, 1, 1)\n",
    "end_date = datetime(2023, 12, 21)\n",
    "random_dates = [start_date + timedelta(days=random.randint(0, (end_date - start_date).days)) for _ in range(10)]\n",
    "\n",
    "all_data = []\n",
    "\n",
    "# Collect data for each randomly selected start date and the subsequent 9 days\n",
    "for start in random_dates:\n",
    "    for offset in range(10):\n",
    "        current_date = start + timedelta(days=offset)\n",
    "        date_str = current_date.strftime(\"%Y%m%d\")\n",
    "        try:\n",
    "            daily_data = process_data_for_date(pv_output_api, date_str,another_system_id)\n",
    "            values = daily_data['Power generation (W)'].tolist()\n",
    "            # Replace NaN values with 0 in the values list\n",
    "            values = [0 if math.isnan(int(x)) else int(x) for x in values]\n",
    "            \n",
    "            all_data.append({'Date': date_str, 'Values': values,'system_id':system_id})\n",
    "        except Exception as e:\n",
    "            print(f\"Error processing date {date_str}: {e}\")\n",
    "\n",
    "final_df = pd.DataFrame(all_data)\n",
    "print(final_df)\n",
    "final_df.to_csv(f'measurement_data/energy_measurement_data_{another_system_id}.csv', index=False)\n",
    "\n"
   ]
  },
  {
   "cell_type": "code",
   "execution_count": 8,
   "metadata": {},
   "outputs": [
    {
     "ename": "EmptyDataError",
     "evalue": "No columns to parse from file",
     "output_type": "error",
     "traceback": [
      "\u001b[1;31m---------------------------------------------------------------------------\u001b[0m",
      "\u001b[1;31mEmptyDataError\u001b[0m                            Traceback (most recent call last)",
      "Cell \u001b[1;32mIn[8], line 75\u001b[0m\n\u001b[0;32m     68\u001b[0m \u001b[38;5;66;03m#print(system_id)\u001b[39;00m\n\u001b[0;32m     69\u001b[0m \u001b[38;5;66;03m#solarpanels = pd.read_csv('solarpanels.csv',sep=';')\u001b[39;00m\n\u001b[0;32m     70\u001b[0m \u001b[38;5;66;03m#solarpanels.head()\u001b[39;00m\n\u001b[0;32m     71\u001b[0m \u001b[38;5;66;03m#solarpanels = solarpanels[solarpanels['sid'] == int(another_system_id)]\u001b[39;00m\n\u001b[0;32m     72\u001b[0m \u001b[38;5;66;03m#print(solarpanels)\u001b[39;00m\n\u001b[0;32m     73\u001b[0m \u001b[38;5;66;03m#Assuming the CSV file is in the current directory\u001b[39;00m\n\u001b[0;32m     74\u001b[0m filename \u001b[38;5;241m=\u001b[39m \u001b[38;5;124mf\u001b[39m\u001b[38;5;124m'\u001b[39m\u001b[38;5;124mmeasurement_data/energy_measurement_data_\u001b[39m\u001b[38;5;132;01m{\u001b[39;00manother_system_id\u001b[38;5;132;01m}\u001b[39;00m\u001b[38;5;124m.csv\u001b[39m\u001b[38;5;124m'\u001b[39m\n\u001b[1;32m---> 75\u001b[0m fitted_results \u001b[38;5;241m=\u001b[39m \u001b[43mload_and_process_data\u001b[49m\u001b[43m(\u001b[49m\u001b[43mfilename\u001b[49m\u001b[43m)\u001b[49m\n\u001b[0;32m     76\u001b[0m fitted_results\u001b[38;5;241m.\u001b[39mto_csv(\u001b[38;5;124mf\u001b[39m\u001b[38;5;124m'\u001b[39m\u001b[38;5;124mmeasurement_data/fitted_gaussian_results_\u001b[39m\u001b[38;5;132;01m{\u001b[39;00manother_system_id\u001b[38;5;132;01m}\u001b[39;00m\u001b[38;5;124m.csv\u001b[39m\u001b[38;5;124m'\u001b[39m, index\u001b[38;5;241m=\u001b[39m\u001b[38;5;28;01mFalse\u001b[39;00m)\n\u001b[0;32m     77\u001b[0m fitted_results\u001b[38;5;241m.\u001b[39mhead()\n",
      "Cell \u001b[1;32mIn[8], line 24\u001b[0m, in \u001b[0;36mload_and_process_data\u001b[1;34m(filename)\u001b[0m\n\u001b[0;32m     23\u001b[0m \u001b[38;5;28;01mdef\u001b[39;00m \u001b[38;5;21mload_and_process_data\u001b[39m(filename):\n\u001b[1;32m---> 24\u001b[0m     df \u001b[38;5;241m=\u001b[39m \u001b[43mpd\u001b[49m\u001b[38;5;241;43m.\u001b[39;49m\u001b[43mread_csv\u001b[49m\u001b[43m(\u001b[49m\u001b[43mfilename\u001b[49m\u001b[43m)\u001b[49m\n\u001b[0;32m     25\u001b[0m     results \u001b[38;5;241m=\u001b[39m []\n\u001b[0;32m     26\u001b[0m     df_solar_panels \u001b[38;5;241m=\u001b[39m pd\u001b[38;5;241m.\u001b[39mread_csv(\u001b[38;5;124m'\u001b[39m\u001b[38;5;124msolarpanels.csv\u001b[39m\u001b[38;5;124m'\u001b[39m,sep\u001b[38;5;241m=\u001b[39m\u001b[38;5;124m'\u001b[39m\u001b[38;5;124m;\u001b[39m\u001b[38;5;124m'\u001b[39m)\n",
      "File \u001b[1;32mc:\\Users\\denni\\anaconda3\\envs\\5ARIP\\Lib\\site-packages\\pandas\\io\\parsers\\readers.py:1024\u001b[0m, in \u001b[0;36mread_csv\u001b[1;34m(filepath_or_buffer, sep, delimiter, header, names, index_col, usecols, dtype, engine, converters, true_values, false_values, skipinitialspace, skiprows, skipfooter, nrows, na_values, keep_default_na, na_filter, verbose, skip_blank_lines, parse_dates, infer_datetime_format, keep_date_col, date_parser, date_format, dayfirst, cache_dates, iterator, chunksize, compression, thousands, decimal, lineterminator, quotechar, quoting, doublequote, escapechar, comment, encoding, encoding_errors, dialect, on_bad_lines, delim_whitespace, low_memory, memory_map, float_precision, storage_options, dtype_backend)\u001b[0m\n\u001b[0;32m   1011\u001b[0m kwds_defaults \u001b[38;5;241m=\u001b[39m _refine_defaults_read(\n\u001b[0;32m   1012\u001b[0m     dialect,\n\u001b[0;32m   1013\u001b[0m     delimiter,\n\u001b[1;32m   (...)\u001b[0m\n\u001b[0;32m   1020\u001b[0m     dtype_backend\u001b[38;5;241m=\u001b[39mdtype_backend,\n\u001b[0;32m   1021\u001b[0m )\n\u001b[0;32m   1022\u001b[0m kwds\u001b[38;5;241m.\u001b[39mupdate(kwds_defaults)\n\u001b[1;32m-> 1024\u001b[0m \u001b[38;5;28;01mreturn\u001b[39;00m \u001b[43m_read\u001b[49m\u001b[43m(\u001b[49m\u001b[43mfilepath_or_buffer\u001b[49m\u001b[43m,\u001b[49m\u001b[43m \u001b[49m\u001b[43mkwds\u001b[49m\u001b[43m)\u001b[49m\n",
      "File \u001b[1;32mc:\\Users\\denni\\anaconda3\\envs\\5ARIP\\Lib\\site-packages\\pandas\\io\\parsers\\readers.py:618\u001b[0m, in \u001b[0;36m_read\u001b[1;34m(filepath_or_buffer, kwds)\u001b[0m\n\u001b[0;32m    615\u001b[0m _validate_names(kwds\u001b[38;5;241m.\u001b[39mget(\u001b[38;5;124m\"\u001b[39m\u001b[38;5;124mnames\u001b[39m\u001b[38;5;124m\"\u001b[39m, \u001b[38;5;28;01mNone\u001b[39;00m))\n\u001b[0;32m    617\u001b[0m \u001b[38;5;66;03m# Create the parser.\u001b[39;00m\n\u001b[1;32m--> 618\u001b[0m parser \u001b[38;5;241m=\u001b[39m \u001b[43mTextFileReader\u001b[49m\u001b[43m(\u001b[49m\u001b[43mfilepath_or_buffer\u001b[49m\u001b[43m,\u001b[49m\u001b[43m \u001b[49m\u001b[38;5;241;43m*\u001b[39;49m\u001b[38;5;241;43m*\u001b[39;49m\u001b[43mkwds\u001b[49m\u001b[43m)\u001b[49m\n\u001b[0;32m    620\u001b[0m \u001b[38;5;28;01mif\u001b[39;00m chunksize \u001b[38;5;129;01mor\u001b[39;00m iterator:\n\u001b[0;32m    621\u001b[0m     \u001b[38;5;28;01mreturn\u001b[39;00m parser\n",
      "File \u001b[1;32mc:\\Users\\denni\\anaconda3\\envs\\5ARIP\\Lib\\site-packages\\pandas\\io\\parsers\\readers.py:1618\u001b[0m, in \u001b[0;36mTextFileReader.__init__\u001b[1;34m(self, f, engine, **kwds)\u001b[0m\n\u001b[0;32m   1615\u001b[0m     \u001b[38;5;28mself\u001b[39m\u001b[38;5;241m.\u001b[39moptions[\u001b[38;5;124m\"\u001b[39m\u001b[38;5;124mhas_index_names\u001b[39m\u001b[38;5;124m\"\u001b[39m] \u001b[38;5;241m=\u001b[39m kwds[\u001b[38;5;124m\"\u001b[39m\u001b[38;5;124mhas_index_names\u001b[39m\u001b[38;5;124m\"\u001b[39m]\n\u001b[0;32m   1617\u001b[0m \u001b[38;5;28mself\u001b[39m\u001b[38;5;241m.\u001b[39mhandles: IOHandles \u001b[38;5;241m|\u001b[39m \u001b[38;5;28;01mNone\u001b[39;00m \u001b[38;5;241m=\u001b[39m \u001b[38;5;28;01mNone\u001b[39;00m\n\u001b[1;32m-> 1618\u001b[0m \u001b[38;5;28mself\u001b[39m\u001b[38;5;241m.\u001b[39m_engine \u001b[38;5;241m=\u001b[39m \u001b[38;5;28;43mself\u001b[39;49m\u001b[38;5;241;43m.\u001b[39;49m\u001b[43m_make_engine\u001b[49m\u001b[43m(\u001b[49m\u001b[43mf\u001b[49m\u001b[43m,\u001b[49m\u001b[43m \u001b[49m\u001b[38;5;28;43mself\u001b[39;49m\u001b[38;5;241;43m.\u001b[39;49m\u001b[43mengine\u001b[49m\u001b[43m)\u001b[49m\n",
      "File \u001b[1;32mc:\\Users\\denni\\anaconda3\\envs\\5ARIP\\Lib\\site-packages\\pandas\\io\\parsers\\readers.py:1896\u001b[0m, in \u001b[0;36mTextFileReader._make_engine\u001b[1;34m(self, f, engine)\u001b[0m\n\u001b[0;32m   1893\u001b[0m     \u001b[38;5;28;01mraise\u001b[39;00m \u001b[38;5;167;01mValueError\u001b[39;00m(msg)\n\u001b[0;32m   1895\u001b[0m \u001b[38;5;28;01mtry\u001b[39;00m:\n\u001b[1;32m-> 1896\u001b[0m     \u001b[38;5;28;01mreturn\u001b[39;00m \u001b[43mmapping\u001b[49m\u001b[43m[\u001b[49m\u001b[43mengine\u001b[49m\u001b[43m]\u001b[49m\u001b[43m(\u001b[49m\u001b[43mf\u001b[49m\u001b[43m,\u001b[49m\u001b[43m \u001b[49m\u001b[38;5;241;43m*\u001b[39;49m\u001b[38;5;241;43m*\u001b[39;49m\u001b[38;5;28;43mself\u001b[39;49m\u001b[38;5;241;43m.\u001b[39;49m\u001b[43moptions\u001b[49m\u001b[43m)\u001b[49m\n\u001b[0;32m   1897\u001b[0m \u001b[38;5;28;01mexcept\u001b[39;00m \u001b[38;5;167;01mException\u001b[39;00m:\n\u001b[0;32m   1898\u001b[0m     \u001b[38;5;28;01mif\u001b[39;00m \u001b[38;5;28mself\u001b[39m\u001b[38;5;241m.\u001b[39mhandles \u001b[38;5;129;01mis\u001b[39;00m \u001b[38;5;129;01mnot\u001b[39;00m \u001b[38;5;28;01mNone\u001b[39;00m:\n",
      "File \u001b[1;32mc:\\Users\\denni\\anaconda3\\envs\\5ARIP\\Lib\\site-packages\\pandas\\io\\parsers\\c_parser_wrapper.py:93\u001b[0m, in \u001b[0;36mCParserWrapper.__init__\u001b[1;34m(self, src, **kwds)\u001b[0m\n\u001b[0;32m     90\u001b[0m \u001b[38;5;28;01mif\u001b[39;00m kwds[\u001b[38;5;124m\"\u001b[39m\u001b[38;5;124mdtype_backend\u001b[39m\u001b[38;5;124m\"\u001b[39m] \u001b[38;5;241m==\u001b[39m \u001b[38;5;124m\"\u001b[39m\u001b[38;5;124mpyarrow\u001b[39m\u001b[38;5;124m\"\u001b[39m:\n\u001b[0;32m     91\u001b[0m     \u001b[38;5;66;03m# Fail here loudly instead of in cython after reading\u001b[39;00m\n\u001b[0;32m     92\u001b[0m     import_optional_dependency(\u001b[38;5;124m\"\u001b[39m\u001b[38;5;124mpyarrow\u001b[39m\u001b[38;5;124m\"\u001b[39m)\n\u001b[1;32m---> 93\u001b[0m \u001b[38;5;28mself\u001b[39m\u001b[38;5;241m.\u001b[39m_reader \u001b[38;5;241m=\u001b[39m \u001b[43mparsers\u001b[49m\u001b[38;5;241;43m.\u001b[39;49m\u001b[43mTextReader\u001b[49m\u001b[43m(\u001b[49m\u001b[43msrc\u001b[49m\u001b[43m,\u001b[49m\u001b[43m \u001b[49m\u001b[38;5;241;43m*\u001b[39;49m\u001b[38;5;241;43m*\u001b[39;49m\u001b[43mkwds\u001b[49m\u001b[43m)\u001b[49m\n\u001b[0;32m     95\u001b[0m \u001b[38;5;28mself\u001b[39m\u001b[38;5;241m.\u001b[39munnamed_cols \u001b[38;5;241m=\u001b[39m \u001b[38;5;28mself\u001b[39m\u001b[38;5;241m.\u001b[39m_reader\u001b[38;5;241m.\u001b[39munnamed_cols\n\u001b[0;32m     97\u001b[0m \u001b[38;5;66;03m# error: Cannot determine type of 'names'\u001b[39;00m\n",
      "File \u001b[1;32mparsers.pyx:581\u001b[0m, in \u001b[0;36mpandas._libs.parsers.TextReader.__cinit__\u001b[1;34m()\u001b[0m\n",
      "\u001b[1;31mEmptyDataError\u001b[0m: No columns to parse from file"
     ]
    }
   ],
   "source": [
    "# Define the Gaussian function\n",
    "def gaussian(x, a, b, c):\n",
    "    return a * np.exp(-((x - b) ** 2) / (2 * c ** 2))\n",
    "\n",
    "# Function to fit Gaussian to daily data\n",
    "def fit_gaussian_to_daily_data(hourly_data):\n",
    "    x_numeric = np.arange(len(hourly_data))\n",
    "    try:\n",
    "        # Initial guesses: amplitude, center, and width\n",
    "        p0 = [max(hourly_data), np.argmax(hourly_data), 10]\n",
    "        popt, _ = curve_fit(gaussian, x_numeric, hourly_data, p0=p0, maxfev=1000)\n",
    "        return popt\n",
    "    except Exception as e:\n",
    "        print(f\"Error in Gaussian fit: {e}\")\n",
    "        return None\n",
    "\n",
    "# Convert all elements in the list to integers\n",
    "def convert_to_integers(data_list):\n",
    "    return [int(x) if isinstance(x, str) else x for x in data_list]\n",
    "\n",
    "\n",
    "# Load energy data from CSV\n",
    "def load_and_process_data(filename):\n",
    "    df = pd.read_csv(filename)\n",
    "    results = []\n",
    "    df_solar_panels = pd.read_csv('solarpanels.csv',sep=';')\n",
    "\n",
    "    #print(df_system_id['sid'])\n",
    "    panel_details = df_solar_panels[df_solar_panels['sid'] == int(another_system_id)]\n",
    "    \n",
    "    #print(panel_details['orientation']) #.iloc[0]\n",
    "    print(panel_details)\n",
    "\n",
    "    # Iterate over each row in the DataFrame\n",
    "    for index, row in df.iterrows():\n",
    "        try:\n",
    "            # Safely convert string representation of list back to list\n",
    "            energy_data = ast.literal_eval(row['Values'])\n",
    "\n",
    "            # Convert all elements to integers\n",
    "            energy_data = convert_to_integers(energy_data)\n",
    "\n",
    "            #print(energy_data,type(energy_data[15]))\n",
    "            popt = fit_gaussian_to_daily_data(energy_data)\n",
    "            if popt is not None:\n",
    "                # Generate dense x values for plotting or further analysis\n",
    "                x_dense = np.linspace(0, 23, 500)\n",
    "                gaussian_curve = gaussian(x_dense, *popt)\n",
    "                area_gaussian = trapezoid(gaussian_curve, dx=x_dense[1] - x_dense[0])\n",
    "                area_original = trapezoid(energy_data, dx=1)\n",
    "                delta_auc = area_original / area_gaussian if area_gaussian != 0 else None\n",
    "                results.append({\n",
    "                    'Date': row['Date'],\n",
    "                    'system_id':another_system_id,\n",
    "                    'Orientation': panel_details['orientation'].values[0],\n",
    "                    'Tilt': panel_details['tilt'].values[0],\n",
    "                    'Panel Type': panel_details['type_panel'].values[0],\n",
    "                    'Gaussian Parameters': popt,\n",
    "                    'Delta AUC': delta_auc,\n",
    "                    'energy_data': energy_data/ (panel_details['npanels'].values[0] * (panel_details['width'].values[0] /1000 )* (panel_details['height'].values[0]/1000)),\n",
    "                    'energy_data_raw': energy_data,\n",
    "                })\n",
    "        except Exception as e:\n",
    "            print(f\"Error processing row {index}: {e}\")\n",
    "\n",
    "    return pd.DataFrame(results)\n",
    "\n",
    "#print(system_id)\n",
    "#solarpanels = pd.read_csv('solarpanels.csv',sep=';')\n",
    "#solarpanels.head()\n",
    "#solarpanels = solarpanels[solarpanels['sid'] == int(another_system_id)]\n",
    "#print(solarpanels)\n",
    "#Assuming the CSV file is in the current directory\n",
    "filename = f'measurement_data/energy_measurement_data_{another_system_id}.csv'\n",
    "fitted_results = load_and_process_data(filename)\n",
    "fitted_results.to_csv(f'measurement_data/fitted_gaussian_results_{another_system_id}.csv', index=False)\n",
    "fitted_results.head()\n",
    "\n"
   ]
  },
  {
   "cell_type": "code",
   "execution_count": 9,
   "metadata": {},
   "outputs": [
    {
     "name": "stdout",
     "output_type": "stream",
     "text": [
      "['fitted_gaussian_results_13000.csv', 'fitted_gaussian_results_23471.csv', 'fitted_gaussian_results_24499.csv', 'fitted_gaussian_results_28156.csv', 'fitted_gaussian_results_32174.csv', 'fitted_gaussian_results_36256.csv', 'fitted_gaussian_results_43872.csv', 'fitted_gaussian_results_56126.csv', 'fitted_gaussian_results_58815.csv', 'fitted_gaussian_results_67109.csv', 'fitted_gaussian_results_77899.csv', 'fitted_gaussian_results_84071.csv', 'fitted_gaussian_results_88330.csv', 'fitted_gaussian_results_96352.csv']\n"
     ]
    },
    {
     "data": {
      "text/html": [
       "<div>\n",
       "<style scoped>\n",
       "    .dataframe tbody tr th:only-of-type {\n",
       "        vertical-align: middle;\n",
       "    }\n",
       "\n",
       "    .dataframe tbody tr th {\n",
       "        vertical-align: top;\n",
       "    }\n",
       "\n",
       "    .dataframe thead th {\n",
       "        text-align: right;\n",
       "    }\n",
       "</style>\n",
       "<table border=\"1\" class=\"dataframe\">\n",
       "  <thead>\n",
       "    <tr style=\"text-align: right;\">\n",
       "      <th></th>\n",
       "      <th>Date</th>\n",
       "      <th>system_id</th>\n",
       "      <th>Orientation</th>\n",
       "      <th>Tilt</th>\n",
       "      <th>Panel Type</th>\n",
       "      <th>Gaussian Parameters</th>\n",
       "      <th>Delta AUC</th>\n",
       "      <th>energy_data</th>\n",
       "      <th>energy_data_raw</th>\n",
       "    </tr>\n",
       "  </thead>\n",
       "  <tbody>\n",
       "    <tr>\n",
       "      <th>0</th>\n",
       "      <td>20230122</td>\n",
       "      <td>13000</td>\n",
       "      <td>135</td>\n",
       "      <td>40</td>\n",
       "      <td>monocrystalline</td>\n",
       "      <td>[ 0.  0. 10.]</td>\n",
       "      <td>NaN</td>\n",
       "      <td>[0.0, 0.0, 0.0, 0.0, 0.0, 0.0, 0.0, 0.0, 0.0, ...</td>\n",
       "      <td>[0, 0, 0, 0, 0, 0, 0, 0, 0, 0, 0, 0, 0, 0, 0, ...</td>\n",
       "    </tr>\n",
       "    <tr>\n",
       "      <th>1</th>\n",
       "      <td>20230124</td>\n",
       "      <td>13000</td>\n",
       "      <td>135</td>\n",
       "      <td>40</td>\n",
       "      <td>monocrystalline</td>\n",
       "      <td>[162.60442768  13.85284896   1.36444051]</td>\n",
       "      <td>0.992572</td>\n",
       "      <td>[0.0, 0.0, 0.0, 0.0, 0.0, 0.0, 0.0, 0.0, 0.0, ...</td>\n",
       "      <td>[0, 0, 0, 0, 0, 0, 0, 0, 0, 0, 5, 27, 57, 140,...</td>\n",
       "    </tr>\n",
       "    <tr>\n",
       "      <th>2</th>\n",
       "      <td>20230125</td>\n",
       "      <td>13000</td>\n",
       "      <td>135</td>\n",
       "      <td>40</td>\n",
       "      <td>monocrystalline</td>\n",
       "      <td>[57.82577091 14.12112444  1.86139873]</td>\n",
       "      <td>0.982190</td>\n",
       "      <td>[0.0, 0.0, 0.0, 0.0, 0.0, 0.0, 0.0, 0.0, 0.0, ...</td>\n",
       "      <td>[0, 0, 0, 0, 0, 0, 0, 0, 0, 0, 11, 22, 38, 37,...</td>\n",
       "    </tr>\n",
       "    <tr>\n",
       "      <th>3</th>\n",
       "      <td>20230126</td>\n",
       "      <td>13000</td>\n",
       "      <td>135</td>\n",
       "      <td>40</td>\n",
       "      <td>monocrystalline</td>\n",
       "      <td>[344.81091461  13.6904891    1.70028957]</td>\n",
       "      <td>0.988036</td>\n",
       "      <td>[0.0, 0.0, 0.0, 0.0, 0.0, 0.0, 0.0, 0.0, 0.0, ...</td>\n",
       "      <td>[0, 0, 0, 0, 0, 0, 0, 0, 0, 0, 37, 118, 167, 3...</td>\n",
       "    </tr>\n",
       "    <tr>\n",
       "      <th>4</th>\n",
       "      <td>20230127</td>\n",
       "      <td>13000</td>\n",
       "      <td>135</td>\n",
       "      <td>40</td>\n",
       "      <td>monocrystalline</td>\n",
       "      <td>[362.09304571  12.74704606   1.79033874]</td>\n",
       "      <td>0.959402</td>\n",
       "      <td>[0.0, 0.0, 0.0, 0.0, 0.0, 0.0, 0.0, 0.0, 0.0, ...</td>\n",
       "      <td>[0, 0, 0, 0, 0, 0, 0, 0, 0, 6, 110, 306, 244, ...</td>\n",
       "    </tr>\n",
       "  </tbody>\n",
       "</table>\n",
       "</div>"
      ],
      "text/plain": [
       "       Date  system_id  Orientation  Tilt       Panel Type  \\\n",
       "0  20230122      13000          135    40  monocrystalline   \n",
       "1  20230124      13000          135    40  monocrystalline   \n",
       "2  20230125      13000          135    40  monocrystalline   \n",
       "3  20230126      13000          135    40  monocrystalline   \n",
       "4  20230127      13000          135    40  monocrystalline   \n",
       "\n",
       "                        Gaussian Parameters  Delta AUC  \\\n",
       "0                             [ 0.  0. 10.]        NaN   \n",
       "1  [162.60442768  13.85284896   1.36444051]   0.992572   \n",
       "2     [57.82577091 14.12112444  1.86139873]   0.982190   \n",
       "3  [344.81091461  13.6904891    1.70028957]   0.988036   \n",
       "4  [362.09304571  12.74704606   1.79033874]   0.959402   \n",
       "\n",
       "                                         energy_data  \\\n",
       "0  [0.0, 0.0, 0.0, 0.0, 0.0, 0.0, 0.0, 0.0, 0.0, ...   \n",
       "1  [0.0, 0.0, 0.0, 0.0, 0.0, 0.0, 0.0, 0.0, 0.0, ...   \n",
       "2  [0.0, 0.0, 0.0, 0.0, 0.0, 0.0, 0.0, 0.0, 0.0, ...   \n",
       "3  [0.0, 0.0, 0.0, 0.0, 0.0, 0.0, 0.0, 0.0, 0.0, ...   \n",
       "4  [0.0, 0.0, 0.0, 0.0, 0.0, 0.0, 0.0, 0.0, 0.0, ...   \n",
       "\n",
       "                                     energy_data_raw  \n",
       "0  [0, 0, 0, 0, 0, 0, 0, 0, 0, 0, 0, 0, 0, 0, 0, ...  \n",
       "1  [0, 0, 0, 0, 0, 0, 0, 0, 0, 0, 5, 27, 57, 140,...  \n",
       "2  [0, 0, 0, 0, 0, 0, 0, 0, 0, 0, 11, 22, 38, 37,...  \n",
       "3  [0, 0, 0, 0, 0, 0, 0, 0, 0, 0, 37, 118, 167, 3...  \n",
       "4  [0, 0, 0, 0, 0, 0, 0, 0, 0, 6, 110, 306, 244, ...  "
      ]
     },
     "execution_count": 9,
     "metadata": {},
     "output_type": "execute_result"
    }
   ],
   "source": [
    "import os \n",
    "import ast\n",
    "\n",
    "def convert_string_to_list(string):\n",
    "    return list(map(float, string.strip('[]').replace('\\n', '').split()))\n",
    "\n",
    "directory = 'measurement_data/'\n",
    "\n",
    "excel_files = [f for f in os.listdir(directory) if f.endswith('.csv') and f.startswith('fitted_gaussian_results_')]\n",
    "\n",
    "print(excel_files)\n",
    "\n",
    "dfs = []\n",
    "\n",
    "# Loop through the list of files\n",
    "for file in excel_files:\n",
    "    file_path = os.path.join(directory, file)\n",
    "    df = pd.read_csv(file_path) \n",
    "    dfs.append(df)\n",
    "\n",
    "# Concatenate all DataFrames\n",
    "final_df = pd.concat(dfs, ignore_index=True)\n",
    "\n",
    "# Apply the function to the 'energy_data' column\n",
    "final_df['energy_data'] = final_df['energy_data'].apply(convert_string_to_list)\n",
    "\n",
    "# Save the final DataFrame to a CSV file\n",
    "final_output_path = 'measurement_data/final_measurement_data2.csv'\n",
    "final_df.to_csv(final_output_path, index=False)\n",
    "\n",
    "# Display the head of the DataFrame and the first energy_data entry as a listf\n",
    "#print(final_df['energy_data'][0])\n",
    "final_df.head()"
   ]
  },
  {
   "cell_type": "code",
   "execution_count": 10,
   "metadata": {},
   "outputs": [
    {
     "data": {
      "image/png": "[encoded data removed]",
      "text/plain": [
       "<Figure size 1200x1000 with 4 Axes>"
      ]
     },
     "metadata": {},
     "output_type": "display_data"
    }
   ],
   "source": [
    "hist_columns = ['Orientation', 'Tilt', 'Panel Type',]\n",
    "\n",
    "# Create a figure with subplots\n",
    "fig, axes = plt.subplots(nrows=2, ncols=2, figsize=(12, 10))\n",
    "axes = axes.flatten() \n",
    "\n",
    "for i, col in enumerate(hist_columns):\n",
    "    if col in final_df.columns:\n",
    "        final_df[col].hist(ax=axes[i], bins=20, alpha=0.7)\n",
    "        axes[i].set_title(f'Histogram of {col}')\n",
    "        axes[i].set_xlabel(col)\n",
    "        axes[i].set_ylabel('Frequency')\n",
    "    else:\n",
    "        axes[i].text(0.5, 0.5, f'{col} not found in DataFrame', fontsize=12, ha='center')\n",
    "\n",
    "# Adjust layout to prevent overlap\n",
    "plt.tight_layout()\n",
    "plt.show()"
   ]
  },
  {
   "cell_type": "code",
   "execution_count": 11,
   "metadata": {},
   "outputs": [],
   "source": [
    "# Load the CSV files into DataFrames\n",
    "df_solar = pd.read_csv('measurement_data/final_measurement_data2.csv')\n",
    "df_weather = pd.read_csv('measurement_data/historicalweather2023.csv')\n",
    "\n",
    "# Convert date formats\n",
    "# Assuming the date in df_solar is an integer or string without separators\n",
    "df_solar['date'] = pd.to_datetime(df_solar['Date'].astype(str), format='%Y%m%d')\n",
    "\n",
    "# Ensure the weather DataFrame date is in datetime format\n",
    "df_weather['date'] = pd.to_datetime(df_weather['date'], format='%Y-%m-%d')\n",
    "\n",
    "# Merge the DataFrames on the date column\n",
    "merged_df = pd.merge(df_solar, df_weather, on='date', how='left')\n",
    "\n",
    "merged_df = merged_df.drop(['date'], axis=1)\n",
    "\n",
    "new_column_names = {\n",
    "    'Date': 'day',\n",
    "    'Orientation': 'azimuth',\n",
    "    'Tilt': 'tilt',\n",
    "    'Panel Type': 'module_type',\n",
    "    'Gaussian Parameters': 'gaussian_params',\n",
    "    'Delta AUC': 'delta_auc',  \n",
    "    'energy_data': 'energy_data',\n",
    "    'temperature_sequence': 'temperature_sequence',\n",
    "    'wind_speed_sequence': 'wind_speed_sequence',\n",
    "    'dni_sequence': 'dni_sequence',\n",
    "    'dhi_sequence': 'dhi_sequence',\n",
    "    'global_irradiance_sequence': 'global_irradiance_sequence'\n",
    "}\n",
    "\n",
    "df_renamed = merged_df.rename(columns=new_column_names)\n",
    "\n",
    "# Define the new order of the columns, placing 'delta_auc' last\n",
    "new_order = [\n",
    "    'day',\n",
    "    'system_id',\n",
    "    'delta_auc',\n",
    "    'module_type',\n",
    "    'tilt',\n",
    "    'azimuth',\n",
    "    'gaussian_params',\n",
    "    'energy_data',\n",
    "    'temperature_sequence',\n",
    "    'wind_speed_sequence',\n",
    "    'dni_sequence',\n",
    "    'dhi_sequence',\n",
    "    'global_irradiance_sequence',\n",
    "]\n",
    "\n",
    "# Reorder the columns\n",
    "df_final = df_renamed[new_order]\n",
    "\n",
    "\n",
    "# Save the merged DataFrame to a new CSV file\n",
    "df_final.to_csv('merged_solar_weather_data2.csv', index=False)"
   ]
  }
 ],
 "metadata": {
  "kernelspec": {
   "display_name": "base",
   "language": "python",
   "name": "python3"
  },
  "language_info": {
   "codemirror_mode": {
    "name": "ipython",
    "version": 3
   },
   "file_extension": ".py",
   "mimetype": "text/x-python",
   "name": "python",
   "nbconvert_exporter": "python",
   "pygments_lexer": "ipython3",
   "version": "3.12.1"
  }
 },
 "nbformat": 4,
 "nbformat_minor": 2
}
