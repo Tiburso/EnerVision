{
 "cells": [
  {
   "cell_type": "code",
   "execution_count": 1,
   "metadata": {},
   "outputs": [],
   "source": [
    "from weather_data_api import get_predicted_data\n",
    "from google_maps_api import fetch_roof_information, load_google_maps_api\n",
    "\n",
    "import torch"
   ]
  },
  {
   "cell_type": "code",
   "execution_count": 3,
   "metadata": {},
   "outputs": [
    {
     "name": "stderr",
     "output_type": "stream",
     "text": [
      "INFO:weather_data_api:Fetching data from the KNMI API\n",
      "INFO:weather_data_api:Fetching latest file of harmonie_arome_cy40_p1 version 0.2\n",
      "INFO:weather_data_api:Latest file is: harm40_v1_p1_2024061100.tar\n",
      "INFO:weather_data_api:Successfully downloaded dataset file to harm40_v1_p1_2024061100.tar\n",
      "INFO:weather_data_api:Unpacking harm40_v1_p1_2024061100.tar\n",
      "INFO:weather_data_api:Reading grib files and extracting data\n",
      "INFO:weather_data_api:Renaming the columns and caching it\n"
     ]
    },
    {
     "data": {
      "text/html": [
       "<div>\n",
       "<style scoped>\n",
       "    .dataframe tbody tr th:only-of-type {\n",
       "        vertical-align: middle;\n",
       "    }\n",
       "\n",
       "    .dataframe tbody tr th {\n",
       "        vertical-align: top;\n",
       "    }\n",
       "\n",
       "    .dataframe thead th {\n",
       "        text-align: right;\n",
       "    }\n",
       "</style>\n",
       "<table border=\"1\" class=\"dataframe\">\n",
       "  <thead>\n",
       "    <tr style=\"text-align: right;\">\n",
       "      <th></th>\n",
       "      <th>temperature_sequence</th>\n",
       "      <th>global_irradiance_sequence</th>\n",
       "      <th>wind_speed_sequence</th>\n",
       "      <th>Q</th>\n",
       "      <th>dni_sequence</th>\n",
       "      <th>dhi_sequence</th>\n",
       "    </tr>\n",
       "    <tr>\n",
       "      <th>datetime</th>\n",
       "      <th></th>\n",
       "      <th></th>\n",
       "      <th></th>\n",
       "      <th></th>\n",
       "      <th></th>\n",
       "      <th></th>\n",
       "    </tr>\n",
       "  </thead>\n",
       "  <tbody>\n",
       "    <tr>\n",
       "      <th>2024-06-11 00:00:00</th>\n",
       "      <td>10.196924</td>\n",
       "      <td>0.000000e+00</td>\n",
       "      <td>3.189144</td>\n",
       "      <td>-1987.476389</td>\n",
       "      <td>0.0</td>\n",
       "      <td>-1987.476389</td>\n",
       "    </tr>\n",
       "    <tr>\n",
       "      <th>2024-06-11 01:00:00</th>\n",
       "      <td>10.618799</td>\n",
       "      <td>5.228204e-11</td>\n",
       "      <td>3.340980</td>\n",
       "      <td>-9602.093333</td>\n",
       "      <td>0.0</td>\n",
       "      <td>-9602.093333</td>\n",
       "    </tr>\n",
       "    <tr>\n",
       "      <th>2024-06-11 02:00:00</th>\n",
       "      <td>10.822168</td>\n",
       "      <td>0.000000e+00</td>\n",
       "      <td>3.137340</td>\n",
       "      <td>-9458.431111</td>\n",
       "      <td>0.0</td>\n",
       "      <td>-9458.431111</td>\n",
       "    </tr>\n",
       "    <tr>\n",
       "      <th>2024-06-11 03:00:00</th>\n",
       "      <td>10.498926</td>\n",
       "      <td>0.000000e+00</td>\n",
       "      <td>3.050898</td>\n",
       "      <td>-5072.668889</td>\n",
       "      <td>0.0</td>\n",
       "      <td>-5072.668889</td>\n",
       "    </tr>\n",
       "    <tr>\n",
       "      <th>2024-06-11 04:00:00</th>\n",
       "      <td>9.864404</td>\n",
       "      <td>3.955200e+04</td>\n",
       "      <td>2.564199</td>\n",
       "      <td>-320.252406</td>\n",
       "      <td>0.0</td>\n",
       "      <td>-320.252406</td>\n",
       "    </tr>\n",
       "  </tbody>\n",
       "</table>\n",
       "</div>"
      ],
      "text/plain": [
       "                     temperature_sequence  global_irradiance_sequence  \\\n",
       "datetime                                                                \n",
       "2024-06-11 00:00:00             10.196924                0.000000e+00   \n",
       "2024-06-11 01:00:00             10.618799                5.228204e-11   \n",
       "2024-06-11 02:00:00             10.822168                0.000000e+00   \n",
       "2024-06-11 03:00:00             10.498926                0.000000e+00   \n",
       "2024-06-11 04:00:00              9.864404                3.955200e+04   \n",
       "\n",
       "                     wind_speed_sequence            Q  dni_sequence  \\\n",
       "datetime                                                              \n",
       "2024-06-11 00:00:00             3.189144 -1987.476389           0.0   \n",
       "2024-06-11 01:00:00             3.340980 -9602.093333           0.0   \n",
       "2024-06-11 02:00:00             3.137340 -9458.431111           0.0   \n",
       "2024-06-11 03:00:00             3.050898 -5072.668889           0.0   \n",
       "2024-06-11 04:00:00             2.564199  -320.252406           0.0   \n",
       "\n",
       "                     dhi_sequence  \n",
       "datetime                           \n",
       "2024-06-11 00:00:00  -1987.476389  \n",
       "2024-06-11 01:00:00  -9602.093333  \n",
       "2024-06-11 02:00:00  -9458.431111  \n",
       "2024-06-11 03:00:00  -5072.668889  \n",
       "2024-06-11 04:00:00   -320.252406  "
      ]
     },
     "execution_count": 3,
     "metadata": {},
     "output_type": "execute_result"
    }
   ],
   "source": [
    "df = get_predicted_data()\n",
    "df.head()"
   ]
  },
  {
   "cell_type": "code",
   "execution_count": 4,
   "metadata": {},
   "outputs": [
    {
     "data": {
      "text/plain": [
       "{'azimuth': 110.63372, 'tilt': 34.84574}"
      ]
     },
     "execution_count": 4,
     "metadata": {},
     "output_type": "execute_result"
    }
   ],
   "source": [
    "load_google_maps_api()\n",
    "roof_data = fetch_roof_information(\"51.425722,5.50894\")\n",
    "roof_data"
   ]
  },
  {
   "cell_type": "code",
   "execution_count": 5,
   "metadata": {},
   "outputs": [
    {
     "data": {
      "text/html": [
       "<div>\n",
       "<style scoped>\n",
       "    .dataframe tbody tr th:only-of-type {\n",
       "        vertical-align: middle;\n",
       "    }\n",
       "\n",
       "    .dataframe tbody tr th {\n",
       "        vertical-align: top;\n",
       "    }\n",
       "\n",
       "    .dataframe thead th {\n",
       "        text-align: right;\n",
       "    }\n",
       "</style>\n",
       "<table border=\"1\" class=\"dataframe\">\n",
       "  <thead>\n",
       "    <tr style=\"text-align: right;\">\n",
       "      <th></th>\n",
       "      <th>temperature_sequence</th>\n",
       "      <th>global_irradiance_sequence</th>\n",
       "      <th>wind_speed_sequence</th>\n",
       "      <th>Q</th>\n",
       "      <th>dni_sequence</th>\n",
       "      <th>dhi_sequence</th>\n",
       "      <th>azimuth</th>\n",
       "      <th>tilt</th>\n",
       "      <th>module_type</th>\n",
       "    </tr>\n",
       "    <tr>\n",
       "      <th>datetime</th>\n",
       "      <th></th>\n",
       "      <th></th>\n",
       "      <th></th>\n",
       "      <th></th>\n",
       "      <th></th>\n",
       "      <th></th>\n",
       "      <th></th>\n",
       "      <th></th>\n",
       "      <th></th>\n",
       "    </tr>\n",
       "  </thead>\n",
       "  <tbody>\n",
       "    <tr>\n",
       "      <th>2024-06-11 00:00:00</th>\n",
       "      <td>10.196924</td>\n",
       "      <td>0.000000e+00</td>\n",
       "      <td>3.189144</td>\n",
       "      <td>-1987.476389</td>\n",
       "      <td>0.0</td>\n",
       "      <td>-1987.476389</td>\n",
       "      <td>110.63372</td>\n",
       "      <td>34.84574</td>\n",
       "      <td>monocrystalline</td>\n",
       "    </tr>\n",
       "    <tr>\n",
       "      <th>2024-06-11 01:00:00</th>\n",
       "      <td>10.618799</td>\n",
       "      <td>5.228204e-11</td>\n",
       "      <td>3.340980</td>\n",
       "      <td>-9602.093333</td>\n",
       "      <td>0.0</td>\n",
       "      <td>-9602.093333</td>\n",
       "      <td>110.63372</td>\n",
       "      <td>34.84574</td>\n",
       "      <td>monocrystalline</td>\n",
       "    </tr>\n",
       "    <tr>\n",
       "      <th>2024-06-11 02:00:00</th>\n",
       "      <td>10.822168</td>\n",
       "      <td>0.000000e+00</td>\n",
       "      <td>3.137340</td>\n",
       "      <td>-9458.431111</td>\n",
       "      <td>0.0</td>\n",
       "      <td>-9458.431111</td>\n",
       "      <td>110.63372</td>\n",
       "      <td>34.84574</td>\n",
       "      <td>monocrystalline</td>\n",
       "    </tr>\n",
       "    <tr>\n",
       "      <th>2024-06-11 03:00:00</th>\n",
       "      <td>10.498926</td>\n",
       "      <td>0.000000e+00</td>\n",
       "      <td>3.050898</td>\n",
       "      <td>-5072.668889</td>\n",
       "      <td>0.0</td>\n",
       "      <td>-5072.668889</td>\n",
       "      <td>110.63372</td>\n",
       "      <td>34.84574</td>\n",
       "      <td>monocrystalline</td>\n",
       "    </tr>\n",
       "    <tr>\n",
       "      <th>2024-06-11 04:00:00</th>\n",
       "      <td>9.864404</td>\n",
       "      <td>3.955200e+04</td>\n",
       "      <td>2.564199</td>\n",
       "      <td>-320.252406</td>\n",
       "      <td>0.0</td>\n",
       "      <td>-320.252406</td>\n",
       "      <td>110.63372</td>\n",
       "      <td>34.84574</td>\n",
       "      <td>monocrystalline</td>\n",
       "    </tr>\n",
       "  </tbody>\n",
       "</table>\n",
       "</div>"
      ],
      "text/plain": [
       "                     temperature_sequence  global_irradiance_sequence  \\\n",
       "datetime                                                                \n",
       "2024-06-11 00:00:00             10.196924                0.000000e+00   \n",
       "2024-06-11 01:00:00             10.618799                5.228204e-11   \n",
       "2024-06-11 02:00:00             10.822168                0.000000e+00   \n",
       "2024-06-11 03:00:00             10.498926                0.000000e+00   \n",
       "2024-06-11 04:00:00              9.864404                3.955200e+04   \n",
       "\n",
       "                     wind_speed_sequence            Q  dni_sequence  \\\n",
       "datetime                                                              \n",
       "2024-06-11 00:00:00             3.189144 -1987.476389           0.0   \n",
       "2024-06-11 01:00:00             3.340980 -9602.093333           0.0   \n",
       "2024-06-11 02:00:00             3.137340 -9458.431111           0.0   \n",
       "2024-06-11 03:00:00             3.050898 -5072.668889           0.0   \n",
       "2024-06-11 04:00:00             2.564199  -320.252406           0.0   \n",
       "\n",
       "                     dhi_sequence    azimuth      tilt      module_type  \n",
       "datetime                                                                 \n",
       "2024-06-11 00:00:00  -1987.476389  110.63372  34.84574  monocrystalline  \n",
       "2024-06-11 01:00:00  -9602.093333  110.63372  34.84574  monocrystalline  \n",
       "2024-06-11 02:00:00  -9458.431111  110.63372  34.84574  monocrystalline  \n",
       "2024-06-11 03:00:00  -5072.668889  110.63372  34.84574  monocrystalline  \n",
       "2024-06-11 04:00:00   -320.252406  110.63372  34.84574  monocrystalline  "
      ]
     },
     "execution_count": 5,
     "metadata": {},
     "output_type": "execute_result"
    }
   ],
   "source": [
    "df[\"azimuth\"] = roof_data[\"azimuth\"]\n",
    "df[\"tilt\"] = roof_data[\"tilt\"]\n",
    "df[\"module_type\"] = \"monocrystalline\"\n",
    "\n",
    "df.head()"
   ]
  },
  {
   "cell_type": "code",
   "execution_count": 6,
   "metadata": {},
   "outputs": [],
   "source": [
    "dynamic_cols = [\n",
    "    \"temperature_sequence\",\n",
    "    \"wind_speed_sequence\",\n",
    "    \"dni_sequence\",\n",
    "    \"dhi_sequence\",\n",
    "    \"global_irradiance_sequence\",\n",
    "]\n",
    "static_cols = [\"tilt\", \"azimuth\", \"module_type\"]\n",
    "\n",
    "module_type_map = {\n",
    "    \"monocrystalline\": 0,\n",
    "    \"polycrystalline\": 1,\n",
    "}\n",
    "\n",
    "dynamic_sample = torch.tensor(df[dynamic_cols].values, dtype=torch.float32)"
   ]
  },
  {
   "cell_type": "code",
   "execution_count": 9,
   "metadata": {},
   "outputs": [
    {
     "data": {
      "text/plain": [
       "torch.Size([2, 24, 5])"
      ]
     },
     "execution_count": 9,
     "metadata": {},
     "output_type": "execute_result"
    }
   ],
   "source": [
    "# # Convert into two batches of size 24x5\n",
    "dynamic_sample_reshaped = dynamic_sample.view(-1, 24, 5)\n",
    "dynamic_sample_reshaped.shape"
   ]
  },
  {
   "cell_type": "code",
   "execution_count": 14,
   "metadata": {},
   "outputs": [
    {
     "data": {
      "text/plain": [
       "torch.Size([48, 3])"
      ]
     },
     "execution_count": 14,
     "metadata": {},
     "output_type": "execute_result"
    }
   ],
   "source": [
    "# static_sample must be in the format Bx3\n",
    "# the three is for the three static features: tilt, azimuth, module_type\n",
    "# module_type is a categorical feature, so it must be label encoded\n",
    "\n",
    "mapped_df = df.copy()\n",
    "mapped_df[\"module_type\"] = mapped_df[\"module_type\"].map(module_type_map)\n",
    "static_sample = torch.tensor(mapped_df[static_cols].values, dtype=torch.float32)\n",
    "\n",
    "# # Convert into two batches of size 1x3\n",
    "static_sample_reshaped = static_sample.view(-1, 3)[:2]\n",
    "\n",
    "static_sample_reshaped.shape"
   ]
  }
 ],
 "metadata": {
  "kernelspec": {
   "display_name": ".venv",
   "language": "python",
   "name": "python3"
  },
  "language_info": {
   "codemirror_mode": {
    "name": "ipython",
    "version": 3
   },
   "file_extension": ".py",
   "mimetype": "text/x-python",
   "name": "python",
   "nbconvert_exporter": "python",
   "pygments_lexer": "ipython3",
   "version": "3.12.3"
  }
 },
 "nbformat": 4,
 "nbformat_minor": 2
}
