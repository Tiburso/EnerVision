{
 "cells": [
  {
   "cell_type": "code",
   "execution_count": null,
   "metadata": {},
   "outputs": [],
   "source": [
    "import sys\n",
    "sys.path.append('../')\n",
    "import torch\n",
    "from PIL import Image\n",
    "from models.base import BaseModel\n",
    "from losses import LossCombined\n",
    "import torchvision.transforms.v2.functional as F\n",
    "import matplotlib.pyplot as plt\n",
    "import torchvision.utils as utils\n",
    "import torchvision"
   ]
  },
  {
   "cell_type": "code",
   "execution_count": null,
   "metadata": {},
   "outputs": [],
   "source": [
    "def load_model(checkpoint_path):\n",
    "    device = torch.device(\"cuda\" if torch.cuda.is_available() else \"cpu\")\n",
    "    print(device)\n",
    "    # Load the model checkpoint\n",
    "    model = BaseModel.load_from_checkpoint(checkpoint_path)\n",
    "    model.to(device)\n",
    "    return model\n",
    "\n",
    "def preprocess_image(image_path):\n",
    "    # Preprocess image\n",
    "    image = Image.open(image_path).convert(\"RGB\")\n",
    "    image = F.to_image(image)\n",
    "    image = F.to_dtype(image, dtype=torch.float32, scale=True)\n",
    "    image = F.resize(image, size=[640, 640])\n",
    "    image = F.normalize(image, mean=[0.485, 0.456, 0.406], std=[0.229, 0.224, 0.225])\n",
    "    return image.unsqueeze(0)\n",
    "\n",
    "def process_and_overlay_image(image_path, model):\n",
    "    # Load the model\n",
    "    model.eval()  # Set the model to evaluation mode\n",
    "\n",
    "    # Load and preprocess the image\n",
    "    original_image = torchvision.io.read_image(image_path, torchvision.io.ImageReadMode.RGB)\n",
    "    resized_original_image = F.resize(original_image, size=[640, 640])\n",
    "    processed_image = preprocess_image(image_path)\n",
    "\n",
    "    # Run the model\n",
    "    with torch.no_grad():\n",
    "        output = model(processed_image)\n",
    "\n",
    "    # Convert logits to classification\n",
    "    probs = torch.sigmoid(output)\n",
    "    mask = (probs > 0.5)\n",
    "\n",
    "    # Draw segmentation mask\n",
    "    drawing = utils.draw_segmentation_masks(image=resized_original_image, masks=mask.squeeze(0), alpha=0.5, colors=[(0, 255, 0)])\n",
    "    plt.imshow(drawing.permute(1, 2, 0))\n",
    "    plt.axis(\"off\")\n",
    "\n",
    "    return original_image, output\n"
   ]
  },
  {
   "cell_type": "code",
   "execution_count": null,
   "metadata": {},
   "outputs": [],
   "source": [
    "## LOAD MODEL\n",
    "checkpoint_path =  f\"16-0.84.ckpt\"\n",
    "model = load_model(checkpoint_path)\n"
   ]
  },
  {
   "cell_type": "code",
   "execution_count": null,
   "metadata": {},
   "outputs": [],
   "source": [
    "# Specify the paths\n",
    "image_path = \"../images/Capture4.PNG\"\n",
    "original_image, prob = process_and_overlay_image(image_path, model)\n"
   ]
  }
 ],
 "metadata": {
  "kernelspec": {
   "display_name": ".venv",
   "language": "python",
   "name": "python3"
  },
  "language_info": {
   "codemirror_mode": {
    "name": "ipython",
    "version": 3
   },
   "file_extension": ".py",
   "mimetype": "text/x-python",
   "name": "python",
   "nbconvert_exporter": "python",
   "pygments_lexer": "ipython3",
   "version": "3.10.4"
  }
 },
 "nbformat": 4,
 "nbformat_minor": 2
}
